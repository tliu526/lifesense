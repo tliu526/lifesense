{
 "cells": [
  {
   "cell_type": "markdown",
   "metadata": {},
   "source": [
    " # LifeSense EMA Missingness Wave 1"
   ]
  },
  {
   "cell_type": "code",
   "execution_count": 25,
   "metadata": {},
   "outputs": [],
   "source": [
    "# imports and constants\n",
    "%matplotlib inline\n",
    "import json\n",
    "import pickle\n",
    "\n",
    "import matplotlib.pyplot as plt\n",
    "import matplotlib.dates as mdates\n",
    "import numpy as np\n",
    "import pandas as pd\n",
    "import seaborn as sns\n",
    "\n",
    "from IPython.display import display, HTML\n",
    "import ipywidgets as widgets\n"
   ]
  },
  {
   "cell_type": "code",
   "execution_count": 2,
   "metadata": {},
   "outputs": [
    {
     "data": {
      "text/html": [
       "\n",
       "<script>\n",
       "  function code_toggle() {\n",
       "    if (code_shown){\n",
       "      $('div.input').hide('500');\n",
       "      $('#toggleButton').val('Show Code')\n",
       "    } else {\n",
       "      $('div.input').show('500');\n",
       "      $('#toggleButton').val('Hide Code')\n",
       "    }\n",
       "    code_shown = !code_shown\n",
       "  }\n",
       "\n",
       "  $( document ).ready(function(){\n",
       "    code_shown=false;\n",
       "    $('div.input').hide()\n",
       "  });\n",
       "</script>\n",
       "<form action=\"javascript:code_toggle()\"><input type=\"submit\" id=\"toggleButton\" value=\"Show Code\"></form>\n"
      ],
      "text/plain": [
       "<IPython.core.display.HTML object>"
      ]
     },
     "execution_count": 2,
     "metadata": {},
     "output_type": "execute_result"
    }
   ],
   "source": [
    "# Code hider, source: http://chris-said.io/2016/02/13/how-to-make-polished-jupyter-presentations-with-optional-code-visibility/\n",
    "from IPython.display import HTML\n",
    "\n",
    "HTML('''\n",
    "<script>\n",
    "  function code_toggle() {\n",
    "    if (code_shown){\n",
    "      $('div.input').hide('500');\n",
    "      $('#toggleButton').val('Show Code')\n",
    "    } else {\n",
    "      $('div.input').show('500');\n",
    "      $('#toggleButton').val('Hide Code')\n",
    "    }\n",
    "    code_shown = !code_shown\n",
    "  }\n",
    "\n",
    "  $( document ).ready(function(){\n",
    "    code_shown=false;\n",
    "    $('div.input').hide()\n",
    "  });\n",
    "</script>\n",
    "<form action=\"javascript:code_toggle()\"><input type=\"submit\" id=\"toggleButton\" value=\"Show Code\"></form>\n",
    "''')"
   ]
  },
  {
   "cell_type": "code",
   "execution_count": 5,
   "metadata": {},
   "outputs": [],
   "source": [
    "# load ids and data\n",
    "\n",
    "with open(\"data_pull/ids/wave1_ids.txt\", \"r\") as internal_f:\n",
    "    wave1_ids = [line.strip() for  line in internal_f.readlines()]"
   ]
  },
  {
   "cell_type": "markdown",
   "metadata": {
    "heading_collapsed": true
   },
   "source": [
    "## Data Overview"
   ]
  },
  {
   "cell_type": "markdown",
   "metadata": {
    "heading_collapsed": true,
    "hidden": true
   },
   "source": [
    "### Morning EMAs"
   ]
  },
  {
   "cell_type": "code",
   "execution_count": 9,
   "metadata": {
    "hidden": true
   },
   "outputs": [],
   "source": [
    "morn_ema_df = pd.DataFrame()\n",
    "all_ids = wave1_ids\n",
    "\n",
    "for pid in all_ids:\n",
    "    morn_df = pd.read_pickle(\"data_pull_ema_issues/morning_ema/{}.df\".format(pid))\n",
    "    morn_ema_df = morn_ema_df.append(morn_df, sort=True)"
   ]
  },
  {
   "cell_type": "code",
   "execution_count": 10,
   "metadata": {
    "hidden": true
   },
   "outputs": [],
   "source": [
    "morn_ema_df['timestamp'] = morn_ema_df['timestamp'].astype(int)\n",
    "morn_ema_df['timezone-offset'] = morn_ema_df['timezone-offset'].astype(int)\n",
    "morn_ema_df['sleep-quality'] = morn_ema_df['sleep-quality'].astype(int)\n",
    "\n",
    "morn_ema_df['adj_ts'] = morn_ema_df['timestamp'] + morn_ema_df['timezone-offset']\n",
    "morn_ema_df['date'] = pd.to_datetime(morn_ema_df['adj_ts'], unit='s').dt.floor('d')\n",
    "morn_ema_df['pid'] = 'p' + morn_ema_df['source']"
   ]
  },
  {
   "cell_type": "code",
   "execution_count": 41,
   "metadata": {
    "hidden": true
   },
   "outputs": [
    {
     "data": {
      "image/png": "[encoded data removed]",
      "text/plain": [
       "<Figure size 432x288 with 1 Axes>"
      ]
     },
     "metadata": {
      "needs_background": "light"
     },
     "output_type": "display_data"
    }
   ],
   "source": [
    "fig, ax = plt.subplots()\n",
    "morn_ema_df['date'].hist(bins=40, ax=ax)\n",
    "plt.xticks(rotation='45', ha='right')\n",
    "ax.xaxis.set_major_locator(mdates.DayLocator(interval=7)) \n",
    "ax.set_title(\"Distribution of Morning EMAs for Wave 1\")\n",
    "plt.ylabel(\"frequency\")\n",
    "fig.show()"
   ]
  },
  {
   "cell_type": "markdown",
   "metadata": {
    "heading_collapsed": true,
    "hidden": true
   },
   "source": [
    "### Morning PHQ8"
   ]
  },
  {
   "cell_type": "code",
   "execution_count": 12,
   "metadata": {
    "hidden": true
   },
   "outputs": [],
   "source": [
    "morn_phq8_df = pd.DataFrame()\n",
    "all_ids = wave1_ids\n",
    "\n",
    "for pid in all_ids:\n",
    "    morn_df = pd.read_pickle(\"data_pull_ema_issues/morning_phq8/{}.df\".format(pid))\n",
    "    morn_phq8_df = morn_phq8_df.append(morn_df, sort=True)"
   ]
  },
  {
   "cell_type": "code",
   "execution_count": 13,
   "metadata": {
    "hidden": true
   },
   "outputs": [],
   "source": [
    "morn_phq8_df['timestamp'] = morn_phq8_df['timestamp'].astype(int)\n",
    "morn_phq8_df['timezone-offset'] = morn_phq8_df['timezone-offset'].astype(int)\n",
    "morn_phq8_df['sleep-quality'] = morn_phq8_df['sleep-quality'].astype(int)\n",
    "\n",
    "morn_phq8_df['adj_ts'] = morn_phq8_df['timestamp'] + morn_phq8_df['timezone-offset']\n",
    "morn_phq8_df['date'] = pd.to_datetime(morn_phq8_df['adj_ts'], unit='s').dt.floor('d')\n",
    "morn_phq8_df['pid'] = 'p' + morn_phq8_df['source']"
   ]
  },
  {
   "cell_type": "code",
   "execution_count": 39,
   "metadata": {
    "hidden": true
   },
   "outputs": [
    {
     "data": {
      "image/png": "[encoded data removed]",
      "text/plain": [
       "<Figure size 432x288 with 1 Axes>"
      ]
     },
     "metadata": {
      "needs_background": "light"
     },
     "output_type": "display_data"
    }
   ],
   "source": [
    "fig, ax = plt.subplots()\n",
    "morn_phq8_df['date'].hist(bins=40, ax=ax)\n",
    "plt.xticks(rotation='45', ha='right')\n",
    "ax.xaxis.set_major_locator(mdates.DayLocator(interval=7)) \n",
    "ax.set_title(\"Distribution of Morning PHQ8 for Wave 1\")\n",
    "plt.ylabel(\"frequency\")\n",
    "fig.show()"
   ]
  },
  {
   "cell_type": "markdown",
   "metadata": {
    "heading_collapsed": true,
    "hidden": true
   },
   "source": [
    "### Evening EMAs"
   ]
  },
  {
   "cell_type": "code",
   "execution_count": 26,
   "metadata": {
    "hidden": true
   },
   "outputs": [],
   "source": [
    "even_ema_df = pd.DataFrame()\n",
    "\n",
    "for pid in all_ids:\n",
    "    even_df = pd.read_pickle(\"data_pull_ema_issues/evening_ema/{}.df\".format(pid))\n",
    "    even_ema_df = even_ema_df.append(even_df, sort=True)"
   ]
  },
  {
   "cell_type": "markdown",
   "metadata": {
    "hidden": true
   },
   "source": [
    "#### \"For yesterday\" readings"
   ]
  },
  {
   "cell_type": "code",
   "execution_count": 27,
   "metadata": {
    "hidden": true,
    "scrolled": true
   },
   "outputs": [
    {
     "data": {
      "text/plain": [
       "False    4381\n",
       "True      506\n",
       "Name: for_yesterday, dtype: int64"
      ]
     },
     "metadata": {},
     "output_type": "display_data"
    }
   ],
   "source": [
    "display(even_ema_df['for_yesterday'].value_counts())"
   ]
  },
  {
   "cell_type": "code",
   "execution_count": 29,
   "metadata": {
    "hidden": true
   },
   "outputs": [],
   "source": [
    "even_ema_df['timestamp'] = even_ema_df['timestamp'].astype(int)\n",
    "even_ema_df['timezone-offset'] = even_ema_df['timezone-offset'].astype(int)\n",
    "\n",
    "even_ema_df['adj_ts'] = even_ema_df['timestamp'] + even_ema_df['timezone-offset']\n",
    "even_ema_df['date'] = pd.to_datetime(even_ema_df['adj_ts'], unit='s').dt.floor('d')\n",
    "even_ema_df['pid'] = 'p' + even_ema_df['source']"
   ]
  },
  {
   "cell_type": "code",
   "execution_count": 30,
   "metadata": {
    "hidden": true
   },
   "outputs": [],
   "source": [
    "# adjust for yesterday surveys\n",
    "even_ema_df['for_yesterday'] = even_ema_df['for_yesterday'].fillna(0)\n",
    "even_ema_df['for_yesterday'] = even_ema_df['for_yesterday'].astype(int)\n",
    "even_ema_df['adj_date'] = even_ema_df['date'] - pd.to_timedelta(even_ema_df['for_yesterday'], unit='D')"
   ]
  },
  {
   "cell_type": "code",
   "execution_count": 38,
   "metadata": {
    "hidden": true
   },
   "outputs": [
    {
     "name": "stderr",
     "output_type": "stream",
     "text": [
      "/home/tliu/.conda/envs/py37/lib/python3.7/site-packages/matplotlib/ticker.py:1437: UserWarning: 'set_params()' not defined for locator of type <class 'matplotlib.dates.DayLocator'>\n",
      "  str(type(self)))\n"
     ]
    },
    {
     "data": {
      "image/png": "[encoded data removed]",
      "text/plain": [
       "<Figure size 432x288 with 1 Axes>"
      ]
     },
     "metadata": {
      "needs_background": "light"
     },
     "output_type": "display_data"
    }
   ],
   "source": [
    "fig, ax = plt.subplots()\n",
    "even_ema_df['adj_date'].hist(bins=40, ax=ax)\n",
    "plt.xticks(rotation='45', ha='right')\n",
    "ax.xaxis.set_major_locator(mdates.DayLocator(interval=7)) \n",
    "ax.set_title(\"Distribution of Evening EMAs for Wave 1\")\n",
    "plt.ylabel(\"frequency\")\n",
    "fig.show()"
   ]
  },
  {
   "cell_type": "code",
   "execution_count": 32,
   "metadata": {
    "hidden": true
   },
   "outputs": [],
   "source": [
    "even_ema_df['time'] = pd.to_datetime(even_ema_df['adj_ts'], unit='s').dt.round('H').dt.hour"
   ]
  },
  {
   "cell_type": "code",
   "execution_count": 35,
   "metadata": {
    "hidden": true
   },
   "outputs": [
    {
     "data": {
      "image/png": "[encoded data removed]",
      "text/plain": [
       "<Figure size 432x288 with 1 Axes>"
      ]
     },
     "metadata": {
      "needs_background": "light"
     },
     "output_type": "display_data"
    }
   ],
   "source": [
    "even_ema_df.loc[even_ema_df['for_yesterday'] == 1]['time'].hist(bins=24)\n",
    "plt.xlabel(\"Hour\")\n",
    "plt.ylabel(\"Frequency\")\n",
    "plt.ylim(0,250)\n",
    "plt.title(\"Distribution of For Yesterday Evening EMA survey completion time\")\n",
    "plt.show()"
   ]
  },
  {
   "cell_type": "code",
   "execution_count": 34,
   "metadata": {
    "hidden": true
   },
   "outputs": [
    {
     "data": {
      "image/png": "[encoded data removed]",
      "text/plain": [
       "<Figure size 432x288 with 1 Axes>"
      ]
     },
     "metadata": {
      "needs_background": "light"
     },
     "output_type": "display_data"
    }
   ],
   "source": [
    "even_ema_df.loc[even_ema_df['for_yesterday'] == 0]['time'].hist(bins=24)\n",
    "plt.xlabel(\"Hour\")\n",
    "plt.ylabel(\"Frequency\")\n",
    "plt.title(\"Distribution of For Today Evening EMA survey completion time\")\n",
    "plt.show()"
   ]
  },
  {
   "cell_type": "markdown",
   "metadata": {
    "heading_collapsed": true,
    "hidden": true
   },
   "source": [
    "### Evening PHQ8"
   ]
  },
  {
   "cell_type": "code",
   "execution_count": 44,
   "metadata": {
    "hidden": true
   },
   "outputs": [],
   "source": [
    "even_phq8_df = pd.DataFrame()\n",
    "all_ids = wave1_ids\n",
    "\n",
    "for pid in all_ids:\n",
    "    even_df = pd.read_pickle(\"data_pull_ema_issues/evening_phq8/{}.df\".format(pid))\n",
    "    even_phq8_df = even_phq8_df.append(even_df, sort=True)"
   ]
  },
  {
   "cell_type": "code",
   "execution_count": 45,
   "metadata": {
    "hidden": true
   },
   "outputs": [],
   "source": [
    "even_phq8_df['timestamp'] = even_phq8_df['timestamp'].astype(int)\n",
    "even_phq8_df['timezone-offset'] = even_phq8_df['timezone-offset'].astype(int)\n",
    "#even_phq8_df['sleep-quality'] = even_phq8_df['sleep-quality'].astype(int)\n",
    "\n",
    "even_phq8_df['adj_ts'] = even_phq8_df['timestamp'] + even_phq8_df['timezone-offset']\n",
    "even_phq8_df['date'] = pd.to_datetime(even_phq8_df['adj_ts'], unit='s').dt.floor('d')\n",
    "even_phq8_df['pid'] = 'p' + even_phq8_df['source']"
   ]
  },
  {
   "cell_type": "code",
   "execution_count": 46,
   "metadata": {
    "hidden": true
   },
   "outputs": [
    {
     "data": {
      "image/png": "[encoded data removed]",
      "text/plain": [
       "<Figure size 432x288 with 1 Axes>"
      ]
     },
     "metadata": {
      "needs_background": "light"
     },
     "output_type": "display_data"
    }
   ],
   "source": [
    "fig, ax = plt.subplots()\n",
    "even_phq8_df['date'].hist(bins=40, ax=ax)\n",
    "plt.xticks(rotation='45', ha='right')\n",
    "ax.xaxis.set_major_locator(mdates.DayLocator(interval=7)) \n",
    "ax.set_title(\"Distribution of evening PHQ8 for Wave 1\")\n",
    "plt.ylabel(\"frequency\")\n",
    "fig.show()"
   ]
  },
  {
   "cell_type": "markdown",
   "metadata": {},
   "source": [
    "## Completed EMA Statistics"
   ]
  },
  {
   "cell_type": "code",
   "execution_count": 55,
   "metadata": {},
   "outputs": [],
   "source": [
    "def get_completion_stats(df, start_date, end_date):\n",
    "    \"\"\"\n",
    "    Returns the count as well as the unique number of respondents in each date range\n",
    "    \"\"\"\n",
    "    sel_df = df.loc[(df['date'] >= start_date) & (df['date'] <= end_date)]\n",
    "    count = sel_df.shape[0]\n",
    "    n_unique = sel_df['pid'].unique().shape[0]\n",
    "    \n",
    "    return count, n_unique"
   ]
  },
  {
   "cell_type": "code",
   "execution_count": 72,
   "metadata": {},
   "outputs": [],
   "source": [
    "dates = [\n",
    "    ('07-30-2019', '08-05-2019'),\n",
    "    ('08-20-2019', '08-26-2019'),\n",
    "    ('09-10-2019', '09-16-2019'),\n",
    "    ('10-01-2019', '10-07-2019'),\n",
    "]\n",
    "\n",
    "dfs = [\n",
    "    (morn_ema_df, 'morn_ema'),\n",
    "    (even_ema_df, 'even_ema'),\n",
    "    (morn_phq8_df, 'morn_ema_phq8'),\n",
    "    (even_phq8_df, 'even_ema_phq8')\n",
    "]"
   ]
  },
  {
   "cell_type": "code",
   "execution_count": 73,
   "metadata": {},
   "outputs": [],
   "source": [
    "ema_count_df = pd.DataFrame(columns=dates)\n",
    "\n",
    "ema_count_idx = []\n",
    "for _, name in dfs:\n",
    "    ema_count_idx.append(name + '_count')\n",
    "    ema_count_idx.append(name + '_n_unique')\n",
    "    \n",
    "\n",
    "ema_count_df['idx'] = ema_count_idx\n",
    "ema_count_df = ema_count_df.set_index('idx')\n",
    "\n",
    "for date_tup in dates:\n",
    "    start_date = date_tup[0]\n",
    "    end_date = date_tup[1]\n",
    "    col = []\n",
    "    for df, name in dfs:\n",
    "        count, n_unique = get_completion_stats(df, start_date, end_date)\n",
    "        col.append(count)\n",
    "        col.append(n_unique)\n",
    "        \n",
    "    ema_count_df[date_tup] = col\n",
    "    "
   ]
  },
  {
   "cell_type": "code",
   "execution_count": 74,
   "metadata": {},
   "outputs": [
    {
     "data": {
      "text/html": [
       "<div>\n",
       "<style scoped>\n",
       "    .dataframe tbody tr th:only-of-type {\n",
       "        vertical-align: middle;\n",
       "    }\n",
       "\n",
       "    .dataframe tbody tr th {\n",
       "        vertical-align: top;\n",
       "    }\n",
       "\n",
       "    .dataframe thead th {\n",
       "        text-align: right;\n",
       "    }\n",
       "</style>\n",
       "<table border=\"1\" class=\"dataframe\">\n",
       "  <thead>\n",
       "    <tr style=\"text-align: right;\">\n",
       "      <th></th>\n",
       "      <th>(07-30-2019, 08-05-2019)</th>\n",
       "      <th>(08-20-2019, 08-26-2019)</th>\n",
       "      <th>(09-10-2019, 09-16-2019)</th>\n",
       "      <th>(10-01-2019, 10-07-2019)</th>\n",
       "    </tr>\n",
       "    <tr>\n",
       "      <th>idx</th>\n",
       "      <th></th>\n",
       "      <th></th>\n",
       "      <th></th>\n",
       "      <th></th>\n",
       "    </tr>\n",
       "  </thead>\n",
       "  <tbody>\n",
       "    <tr>\n",
       "      <th>morn_ema_count</th>\n",
       "      <td>1398</td>\n",
       "      <td>1027</td>\n",
       "      <td>1336</td>\n",
       "      <td>1320</td>\n",
       "    </tr>\n",
       "    <tr>\n",
       "      <th>morn_ema_n_unique</th>\n",
       "      <td>258</td>\n",
       "      <td>231</td>\n",
       "      <td>247</td>\n",
       "      <td>246</td>\n",
       "    </tr>\n",
       "    <tr>\n",
       "      <th>even_ema_count</th>\n",
       "      <td>1381</td>\n",
       "      <td>929</td>\n",
       "      <td>1293</td>\n",
       "      <td>1281</td>\n",
       "    </tr>\n",
       "    <tr>\n",
       "      <th>even_ema_n_unique</th>\n",
       "      <td>254</td>\n",
       "      <td>233</td>\n",
       "      <td>246</td>\n",
       "      <td>246</td>\n",
       "    </tr>\n",
       "    <tr>\n",
       "      <th>morn_ema_phq8_count</th>\n",
       "      <td>220</td>\n",
       "      <td>122</td>\n",
       "      <td>179</td>\n",
       "      <td>232</td>\n",
       "    </tr>\n",
       "    <tr>\n",
       "      <th>morn_ema_phq8_n_unique</th>\n",
       "      <td>212</td>\n",
       "      <td>122</td>\n",
       "      <td>179</td>\n",
       "      <td>232</td>\n",
       "    </tr>\n",
       "    <tr>\n",
       "      <th>even_ema_phq8_count</th>\n",
       "      <td>205</td>\n",
       "      <td>161</td>\n",
       "      <td>182</td>\n",
       "      <td>194</td>\n",
       "    </tr>\n",
       "    <tr>\n",
       "      <th>even_ema_phq8_n_unique</th>\n",
       "      <td>205</td>\n",
       "      <td>161</td>\n",
       "      <td>182</td>\n",
       "      <td>191</td>\n",
       "    </tr>\n",
       "  </tbody>\n",
       "</table>\n",
       "</div>"
      ],
      "text/plain": [
       "                        (07-30-2019, 08-05-2019)  (08-20-2019, 08-26-2019)  \\\n",
       "idx                                                                          \n",
       "morn_ema_count                              1398                      1027   \n",
       "morn_ema_n_unique                            258                       231   \n",
       "even_ema_count                              1381                       929   \n",
       "even_ema_n_unique                            254                       233   \n",
       "morn_ema_phq8_count                          220                       122   \n",
       "morn_ema_phq8_n_unique                       212                       122   \n",
       "even_ema_phq8_count                          205                       161   \n",
       "even_ema_phq8_n_unique                       205                       161   \n",
       "\n",
       "                        (09-10-2019, 09-16-2019)  (10-01-2019, 10-07-2019)  \n",
       "idx                                                                         \n",
       "morn_ema_count                              1336                      1320  \n",
       "morn_ema_n_unique                            247                       246  \n",
       "even_ema_count                              1293                      1281  \n",
       "even_ema_n_unique                            246                       246  \n",
       "morn_ema_phq8_count                          179                       232  \n",
       "morn_ema_phq8_n_unique                       179                       232  \n",
       "even_ema_phq8_count                          182                       194  \n",
       "even_ema_phq8_n_unique                       182                       191  "
      ]
     },
     "execution_count": 74,
     "metadata": {},
     "output_type": "execute_result"
    }
   ],
   "source": [
    "ema_count_df"
   ]
  }
 ],
 "metadata": {
  "file_extension": ".py",
  "hide_input": false,
  "kernelspec": {
   "display_name": "Python 3",
   "language": "python",
   "name": "python3"
  },
  "language_info": {
   "codemirror_mode": {
    "name": "ipython",
    "version": 3
   },
   "file_extension": ".py",
   "mimetype": "text/x-python",
   "name": "python",
   "nbconvert_exporter": "python",
   "pygments_lexer": "ipython3",
   "version": "3.7.3"
  },
  "mimetype": "text/x-python",
  "name": "python",
  "npconvert_exporter": "python",
  "pygments_lexer": "ipython3",
  "version": 3
 },
 "nbformat": 4,
 "nbformat_minor": 2
}
