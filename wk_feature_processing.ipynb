{
 "cells": [
  {
   "cell_type": "markdown",
   "metadata": {},
   "source": [
    "# Imports and Functions"
   ]
  },
  {
   "cell_type": "code",
   "execution_count": 1,
   "metadata": {},
   "outputs": [],
   "source": [
    "# imports and constants\n",
    "import json\n",
    "import pickle\n",
    "\n",
    "import gmaps\n",
    "import matplotlib.pyplot as plt\n",
    "import matplotlib.dates as mdates\n",
    "import multiprocessing\n",
    "import numpy as np\n",
    "import pandas as pd\n",
    "import pingouin as pg\n",
    "import seaborn as sns\n",
    "\n",
    "from IPython.display import display, HTML\n",
    "import ipywidgets as widgets\n",
    "\n",
    "# user imports\n",
    "from utils.process_data import *\n",
    "from utils.stats import *\n",
    "from utils.lifesense_utils import *\n",
    "\n",
    "%matplotlib inline"
   ]
  },
  {
   "cell_type": "markdown",
   "metadata": {},
   "source": [
    "# Extract REDCap Surveys"
   ]
  },
  {
   "cell_type": "code",
   "execution_count": 119,
   "metadata": {},
   "outputs": [],
   "source": [
    "wk_redcap_df = pd.read_excel(\"data_pull/LS_Wave1_REDCap_wk1_4_7_10_110719.xlsx\",\n",
    "                            sheet_name=0)\n",
    "baseline_redcap_df = pd.read_excel(\"data_pull/LS_Wave1_SC_BL_WK1_Data_081419-revised.xlsx\",\n",
    "                            sheet_name=0)\n",
    "\n",
    "mapping_df = pd.read_csv(\"data_pull/Wave1LifeSenseEnroll_DATA_LABELS_2019-08-15_0929.csv\")\n",
    "\n",
    "baseline_redcap_dict = dict(zip(mapping_df['Case#:'], mapping_df['LifeSense Study App ID:    ']))\n",
    "wk_redcap_dict = dict(zip(mapping_df['ID:'], mapping_df['LifeSense Study App ID:    ']))"
   ]
  },
  {
   "cell_type": "code",
   "execution_count": 120,
   "metadata": {},
   "outputs": [],
   "source": [
    "with open(\"data_pull/ids/wave1_ids.txt\", \"r\") as internal_f:\n",
    "    wave1_ids = [line.strip() for  line in internal_f.readlines()]"
   ]
  },
  {
   "cell_type": "code",
   "execution_count": 121,
   "metadata": {},
   "outputs": [],
   "source": [
    "wk_redcap_df['pid'] = wk_redcap_df['record_id'].map(wk_redcap_dict)\n",
    "baseline_redcap_df['pid'] = baseline_redcap_df['study_id'].map(baseline_redcap_dict)\n",
    "\n",
    "def pad_pid(row):\n",
    "    if len(row['pid']) < 8:\n",
    "        return ('0' * (8-len(row['pid']))) + row['pid']\n",
    "    else:\n",
    "        return row['pid']\n",
    "\n",
    "wk_redcap_df['pid'] = wk_redcap_df['pid'].astype(str)\n",
    "wk_redcap_df['pid'] = wk_redcap_df.apply(pad_pid, axis=1)\n",
    "\n",
    "baseline_redcap_df['pid'] = baseline_redcap_df['pid'].astype(str)\n",
    "baseline_redcap_df['pid'] = baseline_redcap_df.apply(pad_pid, axis=1)"
   ]
  },
  {
   "cell_type": "markdown",
   "metadata": {},
   "source": [
    "## Build State DataFrame"
   ]
  },
  {
   "cell_type": "code",
   "execution_count": 130,
   "metadata": {},
   "outputs": [],
   "source": [
    "base_rc_cols = baseline_redcap_df.columns[baseline_redcap_df.columns.str.startswith('shaps') |\n",
    "                                           baseline_redcap_df.columns.str.startswith('phq') | \n",
    "                                           baseline_redcap_df.columns.str.startswith('gad') |\n",
    "                                           baseline_redcap_df.columns.str.startswith('spin') |\n",
    "                                           baseline_redcap_df.columns.str.startswith('psqi')]\n",
    "\n",
    "wk_rc_cols = wk_redcap_df.columns[wk_redcap_df.columns.str.startswith('shaps') |\n",
    "                                           wk_redcap_df.columns.str.startswith('phq') | \n",
    "                                           wk_redcap_df.columns.str.startswith('gad') |\n",
    "                                           wk_redcap_df.columns.str.startswith('spin') |\n",
    "                                           wk_redcap_df.columns.str.startswith('psqi')]"
   ]
  },
  {
   "cell_type": "code",
   "execution_count": 131,
   "metadata": {},
   "outputs": [],
   "source": [
    "state_df = wk_redcap_df[['pid', 'redcap_event_name'] + list(wk_rc_cols)]\n",
    "# no surveys conducted in wk1\n",
    "state_df = state_df[~(state_df['redcap_event_name'] == 'week_1_arm_1')]"
   ]
  },
  {
   "cell_type": "code",
   "execution_count": 132,
   "metadata": {},
   "outputs": [],
   "source": [
    "start_cols = list(state_df.columns[state_df.columns.str.endswith('start')])\n",
    "\n",
    "for col in start_cols:\n",
    "    baseline_redcap_df[col] = baseline_redcap_df['dt_screen']\n",
    "\n",
    "# populate baseline columns to match the week columns\n",
    "baseline_redcap_df['redcap_event_name'] = 'week_0_arm_1'\n",
    "baseline_redcap_df['psqi_05j_1'] = baseline_redcap_df['psqi_other']\n",
    "baseline_redcap_df['psqi_05j_2'] = baseline_redcap_df['psqi_05j']"
   ]
  },
  {
   "cell_type": "code",
   "execution_count": 133,
   "metadata": {},
   "outputs": [],
   "source": [
    "state_df = state_df.append(baseline_redcap_df[state_df.columns])"
   ]
  },
  {
   "cell_type": "code",
   "execution_count": 134,
   "metadata": {},
   "outputs": [
    {
     "name": "stdout",
     "output_type": "stream",
     "text": [
      "(2628, 65)\n",
      "(1066, 65)\n"
     ]
    },
    {
     "data": {
      "text/html": [
       "<div>\n",
       "<style scoped>\n",
       "    .dataframe tbody tr th:only-of-type {\n",
       "        vertical-align: middle;\n",
       "    }\n",
       "\n",
       "    .dataframe tbody tr th {\n",
       "        vertical-align: top;\n",
       "    }\n",
       "\n",
       "    .dataframe thead th {\n",
       "        text-align: right;\n",
       "    }\n",
       "</style>\n",
       "<table border=\"1\" class=\"dataframe\">\n",
       "  <thead>\n",
       "    <tr style=\"text-align: right;\">\n",
       "      <th></th>\n",
       "      <th>pid</th>\n",
       "      <th>redcap_event_name</th>\n",
       "      <th>gad_start</th>\n",
       "      <th>gad01</th>\n",
       "      <th>gad02</th>\n",
       "      <th>gad03</th>\n",
       "      <th>gad04</th>\n",
       "      <th>gad05</th>\n",
       "      <th>gad06</th>\n",
       "      <th>gad07</th>\n",
       "      <th>...</th>\n",
       "      <th>spin_08</th>\n",
       "      <th>spin_09</th>\n",
       "      <th>spin_10</th>\n",
       "      <th>spin_11</th>\n",
       "      <th>spin_12</th>\n",
       "      <th>spin_13</th>\n",
       "      <th>spin_14</th>\n",
       "      <th>spin_15</th>\n",
       "      <th>spin_16</th>\n",
       "      <th>spin_17</th>\n",
       "    </tr>\n",
       "  </thead>\n",
       "  <tbody>\n",
       "    <tr>\n",
       "      <th>39</th>\n",
       "      <td>00746649</td>\n",
       "      <td>week_0_arm_1</td>\n",
       "      <td>2019-07-22</td>\n",
       "      <td>1.0</td>\n",
       "      <td>1.0</td>\n",
       "      <td>1.0</td>\n",
       "      <td>1.0</td>\n",
       "      <td>2.0</td>\n",
       "      <td>2.0</td>\n",
       "      <td>2.0</td>\n",
       "      <td>...</td>\n",
       "      <td>4.0</td>\n",
       "      <td>4.0</td>\n",
       "      <td>3.0</td>\n",
       "      <td>4.0</td>\n",
       "      <td>4.0</td>\n",
       "      <td>2.0</td>\n",
       "      <td>4.0</td>\n",
       "      <td>4.0</td>\n",
       "      <td>4.0</td>\n",
       "      <td>4.0</td>\n",
       "    </tr>\n",
       "    <tr>\n",
       "      <th>405</th>\n",
       "      <td>00746649</td>\n",
       "      <td>week_4_arm_1</td>\n",
       "      <td>2019-08-23 19:04:16</td>\n",
       "      <td>3.0</td>\n",
       "      <td>3.0</td>\n",
       "      <td>3.0</td>\n",
       "      <td>3.0</td>\n",
       "      <td>3.0</td>\n",
       "      <td>3.0</td>\n",
       "      <td>2.0</td>\n",
       "      <td>...</td>\n",
       "      <td>4.0</td>\n",
       "      <td>4.0</td>\n",
       "      <td>4.0</td>\n",
       "      <td>4.0</td>\n",
       "      <td>3.0</td>\n",
       "      <td>4.0</td>\n",
       "      <td>4.0</td>\n",
       "      <td>4.0</td>\n",
       "      <td>2.0</td>\n",
       "      <td>4.0</td>\n",
       "    </tr>\n",
       "    <tr>\n",
       "      <th>406</th>\n",
       "      <td>00746649</td>\n",
       "      <td>week_7_arm_1</td>\n",
       "      <td>2019-09-14 15:19:45</td>\n",
       "      <td>2.0</td>\n",
       "      <td>2.0</td>\n",
       "      <td>2.0</td>\n",
       "      <td>2.0</td>\n",
       "      <td>2.0</td>\n",
       "      <td>2.0</td>\n",
       "      <td>2.0</td>\n",
       "      <td>...</td>\n",
       "      <td>4.0</td>\n",
       "      <td>4.0</td>\n",
       "      <td>4.0</td>\n",
       "      <td>4.0</td>\n",
       "      <td>4.0</td>\n",
       "      <td>4.0</td>\n",
       "      <td>4.0</td>\n",
       "      <td>4.0</td>\n",
       "      <td>2.0</td>\n",
       "      <td>3.0</td>\n",
       "    </tr>\n",
       "    <tr>\n",
       "      <th>407</th>\n",
       "      <td>00746649</td>\n",
       "      <td>week_10_arm_1</td>\n",
       "      <td>2019-10-04 16:25:27</td>\n",
       "      <td>3.0</td>\n",
       "      <td>3.0</td>\n",
       "      <td>3.0</td>\n",
       "      <td>3.0</td>\n",
       "      <td>3.0</td>\n",
       "      <td>3.0</td>\n",
       "      <td>3.0</td>\n",
       "      <td>...</td>\n",
       "      <td>4.0</td>\n",
       "      <td>4.0</td>\n",
       "      <td>4.0</td>\n",
       "      <td>4.0</td>\n",
       "      <td>4.0</td>\n",
       "      <td>4.0</td>\n",
       "      <td>4.0</td>\n",
       "      <td>4.0</td>\n",
       "      <td>4.0</td>\n",
       "      <td>4.0</td>\n",
       "    </tr>\n",
       "    <tr>\n",
       "      <th>93</th>\n",
       "      <td>01225297</td>\n",
       "      <td>week_0_arm_1</td>\n",
       "      <td>2019-07-24</td>\n",
       "      <td>3.0</td>\n",
       "      <td>3.0</td>\n",
       "      <td>3.0</td>\n",
       "      <td>2.0</td>\n",
       "      <td>1.0</td>\n",
       "      <td>1.0</td>\n",
       "      <td>2.0</td>\n",
       "      <td>...</td>\n",
       "      <td>4.0</td>\n",
       "      <td>4.0</td>\n",
       "      <td>3.0</td>\n",
       "      <td>4.0</td>\n",
       "      <td>3.0</td>\n",
       "      <td>3.0</td>\n",
       "      <td>4.0</td>\n",
       "      <td>3.0</td>\n",
       "      <td>3.0</td>\n",
       "      <td>3.0</td>\n",
       "    </tr>\n",
       "    <tr>\n",
       "      <th>1005</th>\n",
       "      <td>01225297</td>\n",
       "      <td>week_4_arm_1</td>\n",
       "      <td>2019-08-26 14:53:14</td>\n",
       "      <td>1.0</td>\n",
       "      <td>1.0</td>\n",
       "      <td>1.0</td>\n",
       "      <td>1.0</td>\n",
       "      <td>1.0</td>\n",
       "      <td>1.0</td>\n",
       "      <td>2.0</td>\n",
       "      <td>...</td>\n",
       "      <td>3.0</td>\n",
       "      <td>3.0</td>\n",
       "      <td>3.0</td>\n",
       "      <td>4.0</td>\n",
       "      <td>3.0</td>\n",
       "      <td>2.0</td>\n",
       "      <td>3.0</td>\n",
       "      <td>3.0</td>\n",
       "      <td>2.0</td>\n",
       "      <td>3.0</td>\n",
       "    </tr>\n",
       "    <tr>\n",
       "      <th>1006</th>\n",
       "      <td>01225297</td>\n",
       "      <td>week_7_arm_1</td>\n",
       "      <td>2019-09-16 15:52:35</td>\n",
       "      <td>2.0</td>\n",
       "      <td>2.0</td>\n",
       "      <td>2.0</td>\n",
       "      <td>2.0</td>\n",
       "      <td>1.0</td>\n",
       "      <td>1.0</td>\n",
       "      <td>2.0</td>\n",
       "      <td>...</td>\n",
       "      <td>3.0</td>\n",
       "      <td>3.0</td>\n",
       "      <td>3.0</td>\n",
       "      <td>3.0</td>\n",
       "      <td>3.0</td>\n",
       "      <td>1.0</td>\n",
       "      <td>3.0</td>\n",
       "      <td>3.0</td>\n",
       "      <td>2.0</td>\n",
       "      <td>3.0</td>\n",
       "    </tr>\n",
       "    <tr>\n",
       "      <th>1007</th>\n",
       "      <td>01225297</td>\n",
       "      <td>week_10_arm_1</td>\n",
       "      <td>2019-10-05 18:47:20</td>\n",
       "      <td>2.0</td>\n",
       "      <td>2.0</td>\n",
       "      <td>2.0</td>\n",
       "      <td>2.0</td>\n",
       "      <td>0.0</td>\n",
       "      <td>1.0</td>\n",
       "      <td>2.0</td>\n",
       "      <td>...</td>\n",
       "      <td>3.0</td>\n",
       "      <td>4.0</td>\n",
       "      <td>3.0</td>\n",
       "      <td>4.0</td>\n",
       "      <td>3.0</td>\n",
       "      <td>1.0</td>\n",
       "      <td>3.0</td>\n",
       "      <td>3.0</td>\n",
       "      <td>2.0</td>\n",
       "      <td>2.0</td>\n",
       "    </tr>\n",
       "    <tr>\n",
       "      <th>207</th>\n",
       "      <td>01254121</td>\n",
       "      <td>week_0_arm_1</td>\n",
       "      <td>2019-07-25</td>\n",
       "      <td>0.0</td>\n",
       "      <td>0.0</td>\n",
       "      <td>0.0</td>\n",
       "      <td>0.0</td>\n",
       "      <td>0.0</td>\n",
       "      <td>0.0</td>\n",
       "      <td>0.0</td>\n",
       "      <td>...</td>\n",
       "      <td>1.0</td>\n",
       "      <td>1.0</td>\n",
       "      <td>0.0</td>\n",
       "      <td>1.0</td>\n",
       "      <td>0.0</td>\n",
       "      <td>0.0</td>\n",
       "      <td>1.0</td>\n",
       "      <td>0.0</td>\n",
       "      <td>0.0</td>\n",
       "      <td>0.0</td>\n",
       "    </tr>\n",
       "    <tr>\n",
       "      <th>2301</th>\n",
       "      <td>01254121</td>\n",
       "      <td>week_4_arm_1</td>\n",
       "      <td>2019-08-23 11:08:33</td>\n",
       "      <td>0.0</td>\n",
       "      <td>0.0</td>\n",
       "      <td>0.0</td>\n",
       "      <td>0.0</td>\n",
       "      <td>0.0</td>\n",
       "      <td>0.0</td>\n",
       "      <td>0.0</td>\n",
       "      <td>...</td>\n",
       "      <td>0.0</td>\n",
       "      <td>1.0</td>\n",
       "      <td>0.0</td>\n",
       "      <td>0.0</td>\n",
       "      <td>0.0</td>\n",
       "      <td>0.0</td>\n",
       "      <td>1.0</td>\n",
       "      <td>1.0</td>\n",
       "      <td>0.0</td>\n",
       "      <td>0.0</td>\n",
       "    </tr>\n",
       "    <tr>\n",
       "      <th>2302</th>\n",
       "      <td>01254121</td>\n",
       "      <td>week_7_arm_1</td>\n",
       "      <td>2019-09-13 11:43:45</td>\n",
       "      <td>0.0</td>\n",
       "      <td>0.0</td>\n",
       "      <td>0.0</td>\n",
       "      <td>0.0</td>\n",
       "      <td>0.0</td>\n",
       "      <td>0.0</td>\n",
       "      <td>0.0</td>\n",
       "      <td>...</td>\n",
       "      <td>1.0</td>\n",
       "      <td>1.0</td>\n",
       "      <td>0.0</td>\n",
       "      <td>1.0</td>\n",
       "      <td>0.0</td>\n",
       "      <td>0.0</td>\n",
       "      <td>0.0</td>\n",
       "      <td>0.0</td>\n",
       "      <td>0.0</td>\n",
       "      <td>0.0</td>\n",
       "    </tr>\n",
       "    <tr>\n",
       "      <th>2303</th>\n",
       "      <td>01254121</td>\n",
       "      <td>week_10_arm_1</td>\n",
       "      <td>2019-10-05 11:57:10</td>\n",
       "      <td>0.0</td>\n",
       "      <td>0.0</td>\n",
       "      <td>0.0</td>\n",
       "      <td>1.0</td>\n",
       "      <td>1.0</td>\n",
       "      <td>0.0</td>\n",
       "      <td>0.0</td>\n",
       "      <td>...</td>\n",
       "      <td>0.0</td>\n",
       "      <td>2.0</td>\n",
       "      <td>0.0</td>\n",
       "      <td>1.0</td>\n",
       "      <td>0.0</td>\n",
       "      <td>0.0</td>\n",
       "      <td>1.0</td>\n",
       "      <td>0.0</td>\n",
       "      <td>0.0</td>\n",
       "      <td>0.0</td>\n",
       "    </tr>\n",
       "    <tr>\n",
       "      <th>121</th>\n",
       "      <td>01495950</td>\n",
       "      <td>week_0_arm_1</td>\n",
       "      <td>2019-07-25</td>\n",
       "      <td>1.0</td>\n",
       "      <td>0.0</td>\n",
       "      <td>0.0</td>\n",
       "      <td>1.0</td>\n",
       "      <td>0.0</td>\n",
       "      <td>2.0</td>\n",
       "      <td>0.0</td>\n",
       "      <td>...</td>\n",
       "      <td>4.0</td>\n",
       "      <td>4.0</td>\n",
       "      <td>3.0</td>\n",
       "      <td>0.0</td>\n",
       "      <td>2.0</td>\n",
       "      <td>0.0</td>\n",
       "      <td>1.0</td>\n",
       "      <td>0.0</td>\n",
       "      <td>3.0</td>\n",
       "      <td>0.0</td>\n",
       "    </tr>\n",
       "    <tr>\n",
       "      <th>1321</th>\n",
       "      <td>01495950</td>\n",
       "      <td>week_4_arm_1</td>\n",
       "      <td>2019-08-23 11:14:42</td>\n",
       "      <td>1.0</td>\n",
       "      <td>0.0</td>\n",
       "      <td>1.0</td>\n",
       "      <td>1.0</td>\n",
       "      <td>0.0</td>\n",
       "      <td>1.0</td>\n",
       "      <td>0.0</td>\n",
       "      <td>...</td>\n",
       "      <td>3.0</td>\n",
       "      <td>4.0</td>\n",
       "      <td>2.0</td>\n",
       "      <td>1.0</td>\n",
       "      <td>2.0</td>\n",
       "      <td>0.0</td>\n",
       "      <td>2.0</td>\n",
       "      <td>0.0</td>\n",
       "      <td>4.0</td>\n",
       "      <td>0.0</td>\n",
       "    </tr>\n",
       "    <tr>\n",
       "      <th>1322</th>\n",
       "      <td>01495950</td>\n",
       "      <td>week_7_arm_1</td>\n",
       "      <td>2019-09-14 11:42:17</td>\n",
       "      <td>2.0</td>\n",
       "      <td>1.0</td>\n",
       "      <td>1.0</td>\n",
       "      <td>2.0</td>\n",
       "      <td>1.0</td>\n",
       "      <td>2.0</td>\n",
       "      <td>0.0</td>\n",
       "      <td>...</td>\n",
       "      <td>4.0</td>\n",
       "      <td>4.0</td>\n",
       "      <td>4.0</td>\n",
       "      <td>4.0</td>\n",
       "      <td>3.0</td>\n",
       "      <td>0.0</td>\n",
       "      <td>2.0</td>\n",
       "      <td>1.0</td>\n",
       "      <td>4.0</td>\n",
       "      <td>0.0</td>\n",
       "    </tr>\n",
       "  </tbody>\n",
       "</table>\n",
       "<p>15 rows × 65 columns</p>\n",
       "</div>"
      ],
      "text/plain": [
       "           pid redcap_event_name            gad_start  gad01  gad02  gad03  \\\n",
       "39    00746649      week_0_arm_1           2019-07-22    1.0    1.0    1.0   \n",
       "405   00746649      week_4_arm_1  2019-08-23 19:04:16    3.0    3.0    3.0   \n",
       "406   00746649      week_7_arm_1  2019-09-14 15:19:45    2.0    2.0    2.0   \n",
       "407   00746649     week_10_arm_1  2019-10-04 16:25:27    3.0    3.0    3.0   \n",
       "93    01225297      week_0_arm_1           2019-07-24    3.0    3.0    3.0   \n",
       "1005  01225297      week_4_arm_1  2019-08-26 14:53:14    1.0    1.0    1.0   \n",
       "1006  01225297      week_7_arm_1  2019-09-16 15:52:35    2.0    2.0    2.0   \n",
       "1007  01225297     week_10_arm_1  2019-10-05 18:47:20    2.0    2.0    2.0   \n",
       "207   01254121      week_0_arm_1           2019-07-25    0.0    0.0    0.0   \n",
       "2301  01254121      week_4_arm_1  2019-08-23 11:08:33    0.0    0.0    0.0   \n",
       "2302  01254121      week_7_arm_1  2019-09-13 11:43:45    0.0    0.0    0.0   \n",
       "2303  01254121     week_10_arm_1  2019-10-05 11:57:10    0.0    0.0    0.0   \n",
       "121   01495950      week_0_arm_1           2019-07-25    1.0    0.0    0.0   \n",
       "1321  01495950      week_4_arm_1  2019-08-23 11:14:42    1.0    0.0    1.0   \n",
       "1322  01495950      week_7_arm_1  2019-09-14 11:42:17    2.0    1.0    1.0   \n",
       "\n",
       "      gad04  gad05  gad06  gad07  ...  spin_08 spin_09  spin_10  spin_11  \\\n",
       "39      1.0    2.0    2.0    2.0  ...      4.0     4.0      3.0      4.0   \n",
       "405     3.0    3.0    3.0    2.0  ...      4.0     4.0      4.0      4.0   \n",
       "406     2.0    2.0    2.0    2.0  ...      4.0     4.0      4.0      4.0   \n",
       "407     3.0    3.0    3.0    3.0  ...      4.0     4.0      4.0      4.0   \n",
       "93      2.0    1.0    1.0    2.0  ...      4.0     4.0      3.0      4.0   \n",
       "1005    1.0    1.0    1.0    2.0  ...      3.0     3.0      3.0      4.0   \n",
       "1006    2.0    1.0    1.0    2.0  ...      3.0     3.0      3.0      3.0   \n",
       "1007    2.0    0.0    1.0    2.0  ...      3.0     4.0      3.0      4.0   \n",
       "207     0.0    0.0    0.0    0.0  ...      1.0     1.0      0.0      1.0   \n",
       "2301    0.0    0.0    0.0    0.0  ...      0.0     1.0      0.0      0.0   \n",
       "2302    0.0    0.0    0.0    0.0  ...      1.0     1.0      0.0      1.0   \n",
       "2303    1.0    1.0    0.0    0.0  ...      0.0     2.0      0.0      1.0   \n",
       "121     1.0    0.0    2.0    0.0  ...      4.0     4.0      3.0      0.0   \n",
       "1321    1.0    0.0    1.0    0.0  ...      3.0     4.0      2.0      1.0   \n",
       "1322    2.0    1.0    2.0    0.0  ...      4.0     4.0      4.0      4.0   \n",
       "\n",
       "      spin_12  spin_13  spin_14  spin_15  spin_16  spin_17  \n",
       "39        4.0      2.0      4.0      4.0      4.0      4.0  \n",
       "405       3.0      4.0      4.0      4.0      2.0      4.0  \n",
       "406       4.0      4.0      4.0      4.0      2.0      3.0  \n",
       "407       4.0      4.0      4.0      4.0      4.0      4.0  \n",
       "93        3.0      3.0      4.0      3.0      3.0      3.0  \n",
       "1005      3.0      2.0      3.0      3.0      2.0      3.0  \n",
       "1006      3.0      1.0      3.0      3.0      2.0      3.0  \n",
       "1007      3.0      1.0      3.0      3.0      2.0      2.0  \n",
       "207       0.0      0.0      1.0      0.0      0.0      0.0  \n",
       "2301      0.0      0.0      1.0      1.0      0.0      0.0  \n",
       "2302      0.0      0.0      0.0      0.0      0.0      0.0  \n",
       "2303      0.0      0.0      1.0      0.0      0.0      0.0  \n",
       "121       2.0      0.0      1.0      0.0      3.0      0.0  \n",
       "1321      2.0      0.0      2.0      0.0      4.0      0.0  \n",
       "1322      3.0      0.0      2.0      1.0      4.0      0.0  \n",
       "\n",
       "[15 rows x 65 columns]"
      ]
     },
     "execution_count": 134,
     "metadata": {},
     "output_type": "execute_result"
    }
   ],
   "source": [
    "state_df = state_df.sort_values(by=['pid', 'gad_start'])\n",
    "print(state_df.shape)\n",
    "# drop rows with no survey responses\n",
    "print(state_df.dropna(subset=wk_rc_cols, how='all').shape)\n",
    "state_df = state_df.dropna(subset=wk_rc_cols, how='all')\n",
    "state_df.head(15)"
   ]
  },
  {
   "cell_type": "code",
   "execution_count": 135,
   "metadata": {},
   "outputs": [],
   "source": [
    "state_df.to_pickle(\"ls_data/state_0_10.df\")"
   ]
  },
  {
   "cell_type": "markdown",
   "metadata": {},
   "source": [
    "### Process PHQ "
   ]
  },
  {
   "cell_type": "code",
   "execution_count": 156,
   "metadata": {},
   "outputs": [
    {
     "name": "stderr",
     "output_type": "stream",
     "text": [
      "/home/tliu/.conda/envs/py37/lib/python3.7/site-packages/ipykernel_launcher.py:3: SettingWithCopyWarning: \n",
      "A value is trying to be set on a copy of a slice from a DataFrame.\n",
      "Try using .loc[row_indexer,col_indexer] = value instead\n",
      "\n",
      "See the caveats in the documentation: http://pandas.pydata.org/pandas-docs/stable/indexing.html#indexing-view-versus-copy\n",
      "  This is separate from the ipykernel package so we can avoid doing imports until\n",
      "/home/tliu/.conda/envs/py37/lib/python3.7/site-packages/ipykernel_launcher.py:4: SettingWithCopyWarning: \n",
      "A value is trying to be set on a copy of a slice from a DataFrame.\n",
      "Try using .loc[row_indexer,col_indexer] = value instead\n",
      "\n",
      "See the caveats in the documentation: http://pandas.pydata.org/pandas-docs/stable/indexing.html#indexing-view-versus-copy\n",
      "  after removing the cwd from sys.path.\n"
     ]
    },
    {
     "data": {
      "text/html": [
       "<div>\n",
       "<style scoped>\n",
       "    .dataframe tbody tr th:only-of-type {\n",
       "        vertical-align: middle;\n",
       "    }\n",
       "\n",
       "    .dataframe tbody tr th {\n",
       "        vertical-align: top;\n",
       "    }\n",
       "\n",
       "    .dataframe thead th {\n",
       "        text-align: right;\n",
       "    }\n",
       "</style>\n",
       "<table border=\"1\" class=\"dataframe\">\n",
       "  <thead>\n",
       "    <tr style=\"text-align: right;\">\n",
       "      <th></th>\n",
       "      <th>pid</th>\n",
       "      <th>phq01_sc</th>\n",
       "      <th>phq02_sc</th>\n",
       "      <th>phq03_sc</th>\n",
       "      <th>phq04_sc</th>\n",
       "      <th>phq05_sc</th>\n",
       "      <th>phq06_sc</th>\n",
       "      <th>phq07_sc</th>\n",
       "      <th>phq08_sc</th>\n",
       "      <th>phq_total_sc</th>\n",
       "      <th>phq10_sc</th>\n",
       "      <th>phq_start</th>\n",
       "      <th>redcap_event_name</th>\n",
       "    </tr>\n",
       "  </thead>\n",
       "  <tbody>\n",
       "    <tr>\n",
       "      <th>0</th>\n",
       "      <td>91048552</td>\n",
       "      <td>0</td>\n",
       "      <td>0</td>\n",
       "      <td>2</td>\n",
       "      <td>1</td>\n",
       "      <td>0</td>\n",
       "      <td>0</td>\n",
       "      <td>0</td>\n",
       "      <td>0</td>\n",
       "      <td>3</td>\n",
       "      <td>1.0</td>\n",
       "      <td>2019-07-22</td>\n",
       "      <td>week_0_arm_1</td>\n",
       "    </tr>\n",
       "    <tr>\n",
       "      <th>1</th>\n",
       "      <td>31456993</td>\n",
       "      <td>3</td>\n",
       "      <td>3</td>\n",
       "      <td>1</td>\n",
       "      <td>2</td>\n",
       "      <td>2</td>\n",
       "      <td>1</td>\n",
       "      <td>2</td>\n",
       "      <td>1</td>\n",
       "      <td>15</td>\n",
       "      <td>1.0</td>\n",
       "      <td>2019-07-22</td>\n",
       "      <td>week_0_arm_1</td>\n",
       "    </tr>\n",
       "    <tr>\n",
       "      <th>2</th>\n",
       "      <td>51735262</td>\n",
       "      <td>0</td>\n",
       "      <td>1</td>\n",
       "      <td>1</td>\n",
       "      <td>1</td>\n",
       "      <td>0</td>\n",
       "      <td>1</td>\n",
       "      <td>0</td>\n",
       "      <td>0</td>\n",
       "      <td>4</td>\n",
       "      <td>0.0</td>\n",
       "      <td>2019-07-22</td>\n",
       "      <td>week_0_arm_1</td>\n",
       "    </tr>\n",
       "    <tr>\n",
       "      <th>3</th>\n",
       "      <td>69452375</td>\n",
       "      <td>1</td>\n",
       "      <td>1</td>\n",
       "      <td>0</td>\n",
       "      <td>1</td>\n",
       "      <td>0</td>\n",
       "      <td>3</td>\n",
       "      <td>1</td>\n",
       "      <td>0</td>\n",
       "      <td>7</td>\n",
       "      <td>2.0</td>\n",
       "      <td>2019-07-22</td>\n",
       "      <td>week_0_arm_1</td>\n",
       "    </tr>\n",
       "    <tr>\n",
       "      <th>4</th>\n",
       "      <td>28021601</td>\n",
       "      <td>0</td>\n",
       "      <td>0</td>\n",
       "      <td>0</td>\n",
       "      <td>0</td>\n",
       "      <td>0</td>\n",
       "      <td>1</td>\n",
       "      <td>0</td>\n",
       "      <td>0</td>\n",
       "      <td>1</td>\n",
       "      <td>1.0</td>\n",
       "      <td>2019-07-22</td>\n",
       "      <td>week_0_arm_1</td>\n",
       "    </tr>\n",
       "  </tbody>\n",
       "</table>\n",
       "</div>"
      ],
      "text/plain": [
       "        pid  phq01_sc  phq02_sc  phq03_sc  phq04_sc  phq05_sc  phq06_sc  \\\n",
       "0  91048552         0         0         2         1         0         0   \n",
       "1  31456993         3         3         1         2         2         1   \n",
       "2  51735262         0         1         1         1         0         1   \n",
       "3  69452375         1         1         0         1         0         3   \n",
       "4  28021601         0         0         0         0         0         1   \n",
       "\n",
       "   phq07_sc  phq08_sc  phq_total_sc  phq10_sc   phq_start redcap_event_name  \n",
       "0         0         0             3       1.0  2019-07-22      week_0_arm_1  \n",
       "1         2         1            15       1.0  2019-07-22      week_0_arm_1  \n",
       "2         0         0             4       0.0  2019-07-22      week_0_arm_1  \n",
       "3         1         0             7       2.0  2019-07-22      week_0_arm_1  \n",
       "4         0         0             1       1.0  2019-07-22      week_0_arm_1  "
      ]
     },
     "execution_count": 156,
     "metadata": {},
     "output_type": "execute_result"
    }
   ],
   "source": [
    "phq_cols = list(baseline_redcap_df.columns[baseline_redcap_df.columns.str.startswith('phq')])\n",
    "phq_df = baseline_redcap_df[['pid'] + phq_cols]\n",
    "phq_df['phq_start'] = baseline_redcap_df['dt_screen']\n",
    "phq_df['redcap_event_name'] = 'week_0_arm_1'\n",
    "phq_df.head()"
   ]
  },
  {
   "cell_type": "code",
   "execution_count": 157,
   "metadata": {},
   "outputs": [],
   "source": [
    "# process PHQ values populated via EMA\n",
    "\n",
    "even_phq8_df = pd.DataFrame()\n",
    "\n",
    "for pid in wave1_ids:\n",
    "    even_df = pd.read_pickle(\"/data/tliu/all_ema_data/evening_phq8/{}.df\".format(pid))\n",
    "    even_phq8_df = even_phq8_df.append(even_df, sort=True)"
   ]
  },
  {
   "cell_type": "code",
   "execution_count": 158,
   "metadata": {},
   "outputs": [],
   "source": [
    "morn_phq8_df = pd.DataFrame()\n",
    "\n",
    "for pid in wave1_ids:\n",
    "    morn_df = pd.read_pickle(\"/data/tliu/all_ema_data/morning_phq8/{}.df\".format(pid))\n",
    "    morn_phq8_df = morn_phq8_df.append(morn_df, sort=True)"
   ]
  },
  {
   "cell_type": "code",
   "execution_count": 159,
   "metadata": {},
   "outputs": [],
   "source": [
    "even_phq8_df = format_time(even_phq8_df)\n",
    "morn_phq8_df = format_time(morn_phq8_df)"
   ]
  },
  {
   "cell_type": "code",
   "execution_count": 160,
   "metadata": {},
   "outputs": [],
   "source": [
    "def get_redcap_event_name(row):\n",
    "    \"\"\"populates redcap event name based on date.\"\"\"\n",
    "\n",
    "    if (row['date'] > pd.to_datetime('2019-07-23')) and (row['date'] < pd.to_datetime('2019-08-12')):\n",
    "        return 'week_1_arm_1'\n",
    "    \n",
    "    if (row['date'] > pd.to_datetime('2019-08-13')) and (row['date'] < pd.to_datetime('2019-09-02')):\n",
    "        return 'week_4_arm_1'\n",
    "    \n",
    "    if (row['date'] > pd.to_datetime('2019-09-03')) and (row['date'] < pd.to_datetime('2019-09-23')):\n",
    "        return 'week_7_arm_1'\n",
    "    \n",
    "    if (row['date'] > pd.to_datetime('2019-09-24')) and (row['date'] < pd.to_datetime('2019-10-14')):\n",
    "        return 'week_10_arm_1'\n",
    "    \n",
    "    if (row['date'] > pd.to_datetime('2019-10-15')) and (row['date'] < pd.to_datetime('2019-11-04')):\n",
    "        return 'week_13_arm_1'\n",
    "    \n",
    "    if (row['date'] > pd.to_datetime('2019-11-05')) and (row['date'] < pd.to_datetime('2019-11-25')):\n",
    "        return 'week_16_arm_1'\n",
    "    \n",
    "\n",
    "even_phq8_df['redcap_event_name'] = even_phq8_df.apply(get_redcap_event_name, axis=1)\n",
    "morn_phq8_df['redcap_event_name'] = morn_phq8_df.apply(get_redcap_event_name, axis=1)"
   ]
  },
  {
   "cell_type": "code",
   "execution_count": 161,
   "metadata": {},
   "outputs": [],
   "source": [
    "phq_dict = {\n",
    "    'pleasure': 'phq01_sc',\n",
    "    'depression': 'phq02_sc',\n",
    "    'sleep': 'phq03_sc',\n",
    "    'energy': 'phq04_sc',\n",
    "    'appetite': 'phq05_sc',\n",
    "    'feeling-bad': 'phq06_sc',\n",
    "    'concentration': 'phq07_sc',\n",
    "    'movement': 'phq08_sc',\n",
    "    'difficulty': 'phq10_sc',\n",
    "    'time': 'phq_start'\n",
    "}\n",
    "\n",
    "for k, v in phq_dict.items():\n",
    "    even_phq8_df[v] = even_phq8_df[k]\n",
    "    morn_phq8_df[v] = morn_phq8_df[k]\n",
    "    \n",
    "even_phq8_df['phq_total_sc'] = even_phq8_df[even_phq8_df.columns[even_phq8_df.columns.str.startswith(\"phq0\")]].astype(int).sum(axis=1)\n",
    "morn_phq8_df['phq_total_sc'] = morn_phq8_df[morn_phq8_df.columns[morn_phq8_df.columns.str.startswith(\"phq0\")]].astype(int).sum(axis=1)"
   ]
  },
  {
   "cell_type": "code",
   "execution_count": 164,
   "metadata": {},
   "outputs": [
    {
     "data": {
      "text/html": [
       "<div>\n",
       "<style scoped>\n",
       "    .dataframe tbody tr th:only-of-type {\n",
       "        vertical-align: middle;\n",
       "    }\n",
       "\n",
       "    .dataframe tbody tr th {\n",
       "        vertical-align: top;\n",
       "    }\n",
       "\n",
       "    .dataframe thead th {\n",
       "        text-align: right;\n",
       "    }\n",
       "</style>\n",
       "<table border=\"1\" class=\"dataframe\">\n",
       "  <thead>\n",
       "    <tr style=\"text-align: right;\">\n",
       "      <th></th>\n",
       "      <th>pid</th>\n",
       "      <th>phq01_sc</th>\n",
       "      <th>phq02_sc</th>\n",
       "      <th>phq03_sc</th>\n",
       "      <th>phq04_sc</th>\n",
       "      <th>phq05_sc</th>\n",
       "      <th>phq06_sc</th>\n",
       "      <th>phq07_sc</th>\n",
       "      <th>phq08_sc</th>\n",
       "      <th>phq_total_sc</th>\n",
       "      <th>phq10_sc</th>\n",
       "      <th>phq_start</th>\n",
       "      <th>redcap_event_name</th>\n",
       "    </tr>\n",
       "  </thead>\n",
       "  <tbody>\n",
       "    <tr>\n",
       "      <th>39</th>\n",
       "      <td>00746649</td>\n",
       "      <td>2</td>\n",
       "      <td>1</td>\n",
       "      <td>3</td>\n",
       "      <td>1</td>\n",
       "      <td>1</td>\n",
       "      <td>1</td>\n",
       "      <td>1</td>\n",
       "      <td>2</td>\n",
       "      <td>12</td>\n",
       "      <td>3</td>\n",
       "      <td>2019-07-22</td>\n",
       "      <td>week_0_arm_1</td>\n",
       "    </tr>\n",
       "    <tr>\n",
       "      <th>0</th>\n",
       "      <td>00746649</td>\n",
       "      <td>2</td>\n",
       "      <td>2</td>\n",
       "      <td>2</td>\n",
       "      <td>3</td>\n",
       "      <td>2</td>\n",
       "      <td>1</td>\n",
       "      <td>1</td>\n",
       "      <td>0</td>\n",
       "      <td>13</td>\n",
       "      <td>1</td>\n",
       "      <td>2019-07-30 12:31:50</td>\n",
       "      <td>week_1_arm_1</td>\n",
       "    </tr>\n",
       "    <tr>\n",
       "      <th>0</th>\n",
       "      <td>00746649</td>\n",
       "      <td>2</td>\n",
       "      <td>2</td>\n",
       "      <td>2</td>\n",
       "      <td>3</td>\n",
       "      <td>2</td>\n",
       "      <td>1</td>\n",
       "      <td>1</td>\n",
       "      <td>0</td>\n",
       "      <td>13</td>\n",
       "      <td>1</td>\n",
       "      <td>2019-07-30 12:31:50</td>\n",
       "      <td>week_1_arm_1</td>\n",
       "    </tr>\n",
       "    <tr>\n",
       "      <th>0</th>\n",
       "      <td>00746649</td>\n",
       "      <td>1</td>\n",
       "      <td>2</td>\n",
       "      <td>1</td>\n",
       "      <td>2</td>\n",
       "      <td>0</td>\n",
       "      <td>1</td>\n",
       "      <td>0</td>\n",
       "      <td>0</td>\n",
       "      <td>7</td>\n",
       "      <td>2</td>\n",
       "      <td>2019-08-05 23:32:00</td>\n",
       "      <td>week_1_arm_1</td>\n",
       "    </tr>\n",
       "    <tr>\n",
       "      <th>0</th>\n",
       "      <td>00746649</td>\n",
       "      <td>1</td>\n",
       "      <td>2</td>\n",
       "      <td>1</td>\n",
       "      <td>2</td>\n",
       "      <td>0</td>\n",
       "      <td>1</td>\n",
       "      <td>0</td>\n",
       "      <td>0</td>\n",
       "      <td>7</td>\n",
       "      <td>2</td>\n",
       "      <td>2019-08-05 23:32:00</td>\n",
       "      <td>week_1_arm_1</td>\n",
       "    </tr>\n",
       "    <tr>\n",
       "      <th>1</th>\n",
       "      <td>00746649</td>\n",
       "      <td>1</td>\n",
       "      <td>2</td>\n",
       "      <td>2</td>\n",
       "      <td>2</td>\n",
       "      <td>0</td>\n",
       "      <td>1</td>\n",
       "      <td>1</td>\n",
       "      <td>0</td>\n",
       "      <td>9</td>\n",
       "      <td>2</td>\n",
       "      <td>2019-08-26 19:04:10</td>\n",
       "      <td>week_4_arm_1</td>\n",
       "    </tr>\n",
       "    <tr>\n",
       "      <th>1</th>\n",
       "      <td>00746649</td>\n",
       "      <td>1</td>\n",
       "      <td>2</td>\n",
       "      <td>2</td>\n",
       "      <td>2</td>\n",
       "      <td>0</td>\n",
       "      <td>1</td>\n",
       "      <td>1</td>\n",
       "      <td>0</td>\n",
       "      <td>9</td>\n",
       "      <td>2</td>\n",
       "      <td>2019-08-26 19:04:10</td>\n",
       "      <td>week_4_arm_1</td>\n",
       "    </tr>\n",
       "    <tr>\n",
       "      <th>1</th>\n",
       "      <td>00746649</td>\n",
       "      <td>1</td>\n",
       "      <td>1</td>\n",
       "      <td>1</td>\n",
       "      <td>2</td>\n",
       "      <td>2</td>\n",
       "      <td>3</td>\n",
       "      <td>2</td>\n",
       "      <td>0</td>\n",
       "      <td>12</td>\n",
       "      <td>2</td>\n",
       "      <td>2019-09-10 14:28:31</td>\n",
       "      <td>week_7_arm_1</td>\n",
       "    </tr>\n",
       "    <tr>\n",
       "      <th>1</th>\n",
       "      <td>00746649</td>\n",
       "      <td>1</td>\n",
       "      <td>1</td>\n",
       "      <td>1</td>\n",
       "      <td>2</td>\n",
       "      <td>2</td>\n",
       "      <td>3</td>\n",
       "      <td>2</td>\n",
       "      <td>0</td>\n",
       "      <td>12</td>\n",
       "      <td>2</td>\n",
       "      <td>2019-09-10 14:28:31</td>\n",
       "      <td>week_7_arm_1</td>\n",
       "    </tr>\n",
       "    <tr>\n",
       "      <th>2</th>\n",
       "      <td>00746649</td>\n",
       "      <td>1</td>\n",
       "      <td>1</td>\n",
       "      <td>2</td>\n",
       "      <td>1</td>\n",
       "      <td>0</td>\n",
       "      <td>1</td>\n",
       "      <td>1</td>\n",
       "      <td>0</td>\n",
       "      <td>7</td>\n",
       "      <td>2</td>\n",
       "      <td>2019-09-16 19:08:22</td>\n",
       "      <td>week_7_arm_1</td>\n",
       "    </tr>\n",
       "    <tr>\n",
       "      <th>2</th>\n",
       "      <td>00746649</td>\n",
       "      <td>1</td>\n",
       "      <td>1</td>\n",
       "      <td>2</td>\n",
       "      <td>1</td>\n",
       "      <td>0</td>\n",
       "      <td>1</td>\n",
       "      <td>1</td>\n",
       "      <td>0</td>\n",
       "      <td>7</td>\n",
       "      <td>2</td>\n",
       "      <td>2019-09-16 19:08:22</td>\n",
       "      <td>week_7_arm_1</td>\n",
       "    </tr>\n",
       "    <tr>\n",
       "      <th>2</th>\n",
       "      <td>00746649</td>\n",
       "      <td>1</td>\n",
       "      <td>1</td>\n",
       "      <td>1</td>\n",
       "      <td>1</td>\n",
       "      <td>0</td>\n",
       "      <td>1</td>\n",
       "      <td>1</td>\n",
       "      <td>0</td>\n",
       "      <td>6</td>\n",
       "      <td>1</td>\n",
       "      <td>2019-10-01 10:53:03</td>\n",
       "      <td>week_10_arm_1</td>\n",
       "    </tr>\n",
       "    <tr>\n",
       "      <th>2</th>\n",
       "      <td>00746649</td>\n",
       "      <td>1</td>\n",
       "      <td>1</td>\n",
       "      <td>1</td>\n",
       "      <td>1</td>\n",
       "      <td>0</td>\n",
       "      <td>1</td>\n",
       "      <td>1</td>\n",
       "      <td>0</td>\n",
       "      <td>6</td>\n",
       "      <td>1</td>\n",
       "      <td>2019-10-01 10:53:03</td>\n",
       "      <td>week_10_arm_1</td>\n",
       "    </tr>\n",
       "    <tr>\n",
       "      <th>3</th>\n",
       "      <td>00746649</td>\n",
       "      <td>1</td>\n",
       "      <td>1</td>\n",
       "      <td>3</td>\n",
       "      <td>2</td>\n",
       "      <td>0</td>\n",
       "      <td>1</td>\n",
       "      <td>1</td>\n",
       "      <td>0</td>\n",
       "      <td>9</td>\n",
       "      <td>2</td>\n",
       "      <td>2019-10-07 21:55:19</td>\n",
       "      <td>week_10_arm_1</td>\n",
       "    </tr>\n",
       "    <tr>\n",
       "      <th>3</th>\n",
       "      <td>00746649</td>\n",
       "      <td>1</td>\n",
       "      <td>1</td>\n",
       "      <td>3</td>\n",
       "      <td>2</td>\n",
       "      <td>0</td>\n",
       "      <td>1</td>\n",
       "      <td>1</td>\n",
       "      <td>0</td>\n",
       "      <td>9</td>\n",
       "      <td>2</td>\n",
       "      <td>2019-10-07 21:55:19</td>\n",
       "      <td>week_10_arm_1</td>\n",
       "    </tr>\n",
       "    <tr>\n",
       "      <th>3</th>\n",
       "      <td>00746649</td>\n",
       "      <td>2</td>\n",
       "      <td>1</td>\n",
       "      <td>1</td>\n",
       "      <td>2</td>\n",
       "      <td>0</td>\n",
       "      <td>1</td>\n",
       "      <td>2</td>\n",
       "      <td>0</td>\n",
       "      <td>9</td>\n",
       "      <td>2</td>\n",
       "      <td>2019-10-22 13:02:22</td>\n",
       "      <td>week_13_arm_1</td>\n",
       "    </tr>\n",
       "    <tr>\n",
       "      <th>3</th>\n",
       "      <td>00746649</td>\n",
       "      <td>2</td>\n",
       "      <td>1</td>\n",
       "      <td>1</td>\n",
       "      <td>2</td>\n",
       "      <td>0</td>\n",
       "      <td>1</td>\n",
       "      <td>2</td>\n",
       "      <td>0</td>\n",
       "      <td>9</td>\n",
       "      <td>2</td>\n",
       "      <td>2019-10-22 13:02:22</td>\n",
       "      <td>week_13_arm_1</td>\n",
       "    </tr>\n",
       "    <tr>\n",
       "      <th>4</th>\n",
       "      <td>00746649</td>\n",
       "      <td>1</td>\n",
       "      <td>1</td>\n",
       "      <td>3</td>\n",
       "      <td>3</td>\n",
       "      <td>1</td>\n",
       "      <td>2</td>\n",
       "      <td>2</td>\n",
       "      <td>1</td>\n",
       "      <td>14</td>\n",
       "      <td>2</td>\n",
       "      <td>2019-10-28 19:03:53</td>\n",
       "      <td>week_13_arm_1</td>\n",
       "    </tr>\n",
       "    <tr>\n",
       "      <th>4</th>\n",
       "      <td>00746649</td>\n",
       "      <td>1</td>\n",
       "      <td>1</td>\n",
       "      <td>3</td>\n",
       "      <td>3</td>\n",
       "      <td>1</td>\n",
       "      <td>2</td>\n",
       "      <td>2</td>\n",
       "      <td>1</td>\n",
       "      <td>14</td>\n",
       "      <td>2</td>\n",
       "      <td>2019-10-28 19:03:53</td>\n",
       "      <td>week_13_arm_1</td>\n",
       "    </tr>\n",
       "    <tr>\n",
       "      <th>4</th>\n",
       "      <td>00746649</td>\n",
       "      <td>1</td>\n",
       "      <td>1</td>\n",
       "      <td>2</td>\n",
       "      <td>3</td>\n",
       "      <td>1</td>\n",
       "      <td>1</td>\n",
       "      <td>1</td>\n",
       "      <td>0</td>\n",
       "      <td>10</td>\n",
       "      <td>2</td>\n",
       "      <td>2019-11-12 13:34:29</td>\n",
       "      <td>week_16_arm_1</td>\n",
       "    </tr>\n",
       "  </tbody>\n",
       "</table>\n",
       "</div>"
      ],
      "text/plain": [
       "         pid phq01_sc phq02_sc phq03_sc phq04_sc phq05_sc phq06_sc phq07_sc  \\\n",
       "39  00746649        2        1        3        1        1        1        1   \n",
       "0   00746649        2        2        2        3        2        1        1   \n",
       "0   00746649        2        2        2        3        2        1        1   \n",
       "0   00746649        1        2        1        2        0        1        0   \n",
       "0   00746649        1        2        1        2        0        1        0   \n",
       "1   00746649        1        2        2        2        0        1        1   \n",
       "1   00746649        1        2        2        2        0        1        1   \n",
       "1   00746649        1        1        1        2        2        3        2   \n",
       "1   00746649        1        1        1        2        2        3        2   \n",
       "2   00746649        1        1        2        1        0        1        1   \n",
       "2   00746649        1        1        2        1        0        1        1   \n",
       "2   00746649        1        1        1        1        0        1        1   \n",
       "2   00746649        1        1        1        1        0        1        1   \n",
       "3   00746649        1        1        3        2        0        1        1   \n",
       "3   00746649        1        1        3        2        0        1        1   \n",
       "3   00746649        2        1        1        2        0        1        2   \n",
       "3   00746649        2        1        1        2        0        1        2   \n",
       "4   00746649        1        1        3        3        1        2        2   \n",
       "4   00746649        1        1        3        3        1        2        2   \n",
       "4   00746649        1        1        2        3        1        1        1   \n",
       "\n",
       "   phq08_sc  phq_total_sc phq10_sc            phq_start redcap_event_name  \n",
       "39        2            12        3           2019-07-22      week_0_arm_1  \n",
       "0         0            13        1  2019-07-30 12:31:50      week_1_arm_1  \n",
       "0         0            13        1  2019-07-30 12:31:50      week_1_arm_1  \n",
       "0         0             7        2  2019-08-05 23:32:00      week_1_arm_1  \n",
       "0         0             7        2  2019-08-05 23:32:00      week_1_arm_1  \n",
       "1         0             9        2  2019-08-26 19:04:10      week_4_arm_1  \n",
       "1         0             9        2  2019-08-26 19:04:10      week_4_arm_1  \n",
       "1         0            12        2  2019-09-10 14:28:31      week_7_arm_1  \n",
       "1         0            12        2  2019-09-10 14:28:31      week_7_arm_1  \n",
       "2         0             7        2  2019-09-16 19:08:22      week_7_arm_1  \n",
       "2         0             7        2  2019-09-16 19:08:22      week_7_arm_1  \n",
       "2         0             6        1  2019-10-01 10:53:03     week_10_arm_1  \n",
       "2         0             6        1  2019-10-01 10:53:03     week_10_arm_1  \n",
       "3         0             9        2  2019-10-07 21:55:19     week_10_arm_1  \n",
       "3         0             9        2  2019-10-07 21:55:19     week_10_arm_1  \n",
       "3         0             9        2  2019-10-22 13:02:22     week_13_arm_1  \n",
       "3         0             9        2  2019-10-22 13:02:22     week_13_arm_1  \n",
       "4         1            14        2  2019-10-28 19:03:53     week_13_arm_1  \n",
       "4         1            14        2  2019-10-28 19:03:53     week_13_arm_1  \n",
       "4         0            10        2  2019-11-12 13:34:29     week_16_arm_1  "
      ]
     },
     "execution_count": 164,
     "metadata": {},
     "output_type": "execute_result"
    }
   ],
   "source": [
    "phq_df = phq_df.append(morn_phq8_df[phq_df.columns])\n",
    "phq_df = phq_df.append(even_phq8_df[phq_df.columns])\n",
    "phq_df = phq_df.sort_values(by=[\"pid\", \"phq_start\"])\n",
    "phq_df.head(20)"
   ]
  },
  {
   "cell_type": "code",
   "execution_count": 167,
   "metadata": {},
   "outputs": [],
   "source": [
    "phq_df = phq_df.drop_duplicates()"
   ]
  },
  {
   "cell_type": "code",
   "execution_count": 168,
   "metadata": {},
   "outputs": [
    {
     "data": {
      "text/plain": [
       "week_1_arm_1     477\n",
       "week_10_arm_1    470\n",
       "week_13_arm_1    435\n",
       "week_7_arm_1     411\n",
       "week_16_arm_1    379\n",
       "week_4_arm_1     306\n",
       "week_0_arm_1     282\n",
       "Name: redcap_event_name, dtype: int64"
      ]
     },
     "execution_count": 168,
     "metadata": {},
     "output_type": "execute_result"
    }
   ],
   "source": [
    "phq_df['redcap_event_name'].value_counts()"
   ]
  },
  {
   "cell_type": "code",
   "execution_count": 169,
   "metadata": {},
   "outputs": [],
   "source": [
    "phq_df.to_pickle(\"ls_data/phq_0_16.df\")"
   ]
  },
  {
   "cell_type": "markdown",
   "metadata": {},
   "source": [
    "# Extract Wk 4 Features"
   ]
  },
  {
   "cell_type": "markdown",
   "metadata": {},
   "source": [
    "## Utilities"
   ]
  },
  {
   "cell_type": "code",
   "execution_count": 6,
   "metadata": {},
   "outputs": [],
   "source": [
    "fus_loc = \"/data/tliu/wk{}_ls_data/pdk-location\"\n",
    "fga_loc = \"/data/tliu/wk{}_ls_data/pdk-foreground-application\"\n",
    "sms_loc = \"/data/tliu/wk{}_ls_data/pdk-text-messages\"\n",
    "cal_loc = \"/data/tliu/wk{}_ls_data/pdk-phone-calls\"\n",
    "\n",
    "sensor_locs = [fus_loc, fga_loc, sms_loc, cal_loc]\n",
    "wks = [7,10]\n",
    "\n",
    "# load data\n",
    "with open(\"data_pull/ids/wave1_ids.txt\", \"r\") as internal_f:\n",
    "    wave1_ids = [line.strip() for  line in internal_f.readlines()]\n",
    "\n",
    "    \n",
    "def process_sensor_data(pids, loc, out_loc, func, n_procs=4):\n",
    "    \"\"\"Wrapper function for processing sensor data.\n",
    "    \n",
    "    Args:\n",
    "        pids (list): list of pids to process\n",
    "        #wk (int): the week of data to process\n",
    "        loc (str): the file location\n",
    "        out_loc (str): the output file name and location\n",
    "        func (function): the processing function to apply\n",
    "        n_procs (int): the number of processes to spin up\n",
    "    \n",
    "    Returns:\n",
    "        None, but writes to \n",
    "    \"\"\"\n",
    "    #loc = loc.format(wk)\n",
    "    func_args = [(pid, loc) for pid in pids]\n",
    "    with multiprocessing.Pool(n_procs) as pool:\n",
    "        results = pool.starmap(func, func_args)\n",
    "        \n",
    "    df = pd.DataFrame()\n",
    "\n",
    "    for res in results:\n",
    "        df = df.append(res)\n",
    "    \n",
    "    df.to_pickle(out_loc)\n",
    "        \n",
    "\n",
    "fus_str = \"ls_data/wk{}/fus_daily.df\"\n",
    "circ_str = \"ls_data/wk{}/circ_movt.df\"\n",
    "fga_str = \"ls_data/wk{}/fga_hr.df\"\n",
    "cal_str = \"ls_data/wk{}/cal_hr.df\"\n",
    "sms_str = \"ls_data/wk{}/sms_hr.df\"\n",
    "\n",
    "def process_all_data(pids, wks, n_procs=4):    \n",
    "    for wk in wks:\n",
    "        #process_sensor_data(pids, fus_loc.format(wk), fus_str.format(wk), build_fus, n_procs)\n",
    "        process_sensor_data(pids, fus_loc.format(wk), circ_str.format(wk), build_circadian_stats, n_procs)\n",
    "        process_sensor_data(pids, fga_loc.format(wk), fga_str.format(wk), build_fga_hr, n_procs)\n",
    "        process_sensor_data(pids, cal_loc.format(wk), cal_str.format(wk), build_cal_hr, n_procs)\n",
    "        process_sensor_data(pids, sms_loc.format(wk), sms_str.format(wk), build_sms_hr, n_procs)"
   ]
  },
  {
   "cell_type": "code",
   "execution_count": 7,
   "metadata": {
    "scrolled": true
   },
   "outputs": [
    {
     "name": "stdout",
     "output_type": "stream",
     "text": [
      "08343773\n",
      "50550619\n",
      "44667026\n",
      "28949890\n",
      "27099517\n",
      "70483015\n",
      "03327555\n",
      "28939704\n",
      "09489685\n",
      "18583649\n",
      "62860600\n",
      "74575289\n",
      "95556839\n",
      "86283726\n",
      "99050875\n",
      "06638392\n",
      "69452375\n",
      "31456993\n",
      "42258080\n",
      "28244292\n",
      "46002724\n",
      "12807049\n",
      "01495950\n",
      "59222410\n",
      "39548248\n",
      "44655272\n",
      "84469352\n",
      "44909649\n",
      "32718334\n",
      "69335292\n",
      "51419094\n",
      "36969413\n",
      "01254121\n",
      "58780031\n",
      "21594071\n",
      "59654069\n",
      "90496706\n",
      "80504454\n",
      "05261598\n",
      "33250639\n",
      "76854891\n",
      "53435128\n",
      "98621494\n",
      "50765631\n",
      "27761141\n",
      "34262165\n",
      "67900112\n",
      "77842251\n",
      "52982527\n",
      "81049144\n",
      "32573840\n",
      "87485171\n",
      "31477083\n",
      "75348018\n",
      "45433155\n",
      "50730294\n",
      "29878406\n",
      "61762096\n",
      "48367404\n",
      "47363974\n",
      "10285142\n",
      "56596866\n",
      "91788916\n",
      "20206315\n",
      "16777771\n",
      "15565415\n",
      "56912666\n",
      "47688944\n",
      "74371880\n",
      "97678130\n",
      "71676393\n",
      "39106805\n",
      "56184073\n",
      "76432041\n",
      "44293762\n",
      "49001726\n",
      "71219000\n",
      "93627939\n",
      "37168430\n",
      "66873010\n",
      "73518938\n",
      "14753485\n",
      "19410615\n",
      "39725031\n",
      "81729157\n",
      "89434074\n",
      "38646138\n",
      "51456954\n",
      "20706360\n",
      "90638927\n",
      "65143770\n",
      "85752121\n",
      "79316475\n",
      "78911129\n",
      "75696701\n",
      "38890840\n",
      "13051775\n",
      "55542659\n",
      "24936642\n",
      "74739196\n",
      "56910929\n",
      "75437581\n",
      "81968737\n",
      "79439002\n",
      "53808826\n",
      "98250113\n",
      "62463869\n",
      "02970060\n",
      "21894119\n",
      "55313474\n",
      "32309079\n",
      "45761494\n",
      "02817507\n",
      "52064875\n",
      "58093242\n",
      "52581458\n",
      "22498610\n",
      "46484562\n",
      "70035688\n",
      "23066392\n",
      "28540480\n",
      "31574721\n",
      "75282136\n",
      "81720300\n",
      "93606382\n",
      "54841471\n",
      "56723660\n",
      "13250317\n",
      "84902402\n",
      "03939827\n",
      "81558830\n",
      "67597747\n",
      "78681731\n",
      "68744652\n",
      "38588231\n",
      "30501084\n",
      "53097921\n",
      "43589028\n",
      "19674187\n",
      "72038219\n",
      "99127649\n",
      "54461187\n",
      "26080346\n",
      "74589634\n",
      "83085276\n",
      "78352234\n",
      "87400142\n",
      "39561926\n",
      "42871706\n",
      "43292038\n",
      "11436422\n",
      "11770862\n",
      "57473014\n",
      "03384972\n",
      "29384065\n",
      "23388083\n",
      "19663467\n",
      "65149091\n",
      "61131074\n",
      "90229239\n",
      "90763832\n",
      "36795256\n",
      "72685265\n",
      "08007167\n",
      "54004910\n",
      "55915099\n",
      "80657933\n",
      "70027963\n",
      "50939076\n",
      "53236058\n",
      "12616311\n",
      "83275234\n",
      "80700486\n",
      "17328943\n",
      "66507502\n",
      "40932643\n",
      "07974290\n",
      "18156803\n",
      "81249330\n",
      "41606321\n",
      "35493515\n",
      "76562623\n",
      "02144163\n",
      "55979795\n",
      "10099555\n",
      "83062037\n",
      "71189891\n",
      "11927637\n",
      "74805749\n",
      "73960495\n",
      "09269616\n",
      "79510141\n",
      "48315222\n",
      "13567195\n",
      "71745031\n",
      "53874087\n",
      "17294720\n",
      "67615491\n",
      "45517860\n",
      "73326278\n",
      "27762780\n",
      "46175798\n",
      "27330785\n",
      "62599280\n",
      "43093019\n",
      "80206225\n",
      "83963249\n",
      "03578019\n",
      "28021601\n",
      "05565365\n",
      "64142475\n",
      "01225297\n",
      "22656406\n",
      "14549710\n",
      "65381988\n",
      "55463070\n",
      "50707558\n",
      "87929316\n",
      "44933937\n",
      "42215399\n",
      "00746649\n",
      "76366191\n",
      "91048552\n",
      "08103884\n",
      "14113160\n",
      "46222210\n",
      "74626135\n",
      "07854544\n",
      "29149362\n",
      "35576469\n",
      "48625414\n",
      "65741560\n",
      "28458341\n",
      "89346491\n",
      "71043609\n",
      "06400675\n",
      "84877086\n",
      "59764431\n",
      "90934495\n",
      "90587846\n",
      "78327476\n",
      "58740880\n",
      "58081753\n",
      "51735262\n",
      "93519386\n",
      "38459884\n",
      "51612397\n",
      "73142171\n",
      "99338619\n",
      "77579838\n",
      "79819446\n",
      "26957252\n",
      "57973631\n",
      "32888746\n",
      "04918121\n",
      "64292248\n",
      "65696941\n",
      "94277599\n",
      "86756971\n",
      "22086591\n",
      "83056303\n",
      "47505792\n",
      "01766910\n",
      "73916801\n",
      "03233601\n",
      "74133461\n",
      "50931782\n",
      "39854689\n",
      "62375942\n",
      "62808613\n",
      "14196469\n",
      "89057862\n",
      "29584096\n",
      "22352222\n",
      "08007329\n",
      "21150752\n",
      "82727218\n",
      "04133537\n",
      "68756107\n",
      "09611865\n",
      "18740846\n",
      "44667026\n",
      "08343773\n",
      "27099517\n",
      "50550619\n",
      "28949890\n",
      "18583649\n",
      "28939704\n",
      "09489685\n",
      "70483015\n",
      "03327555\n",
      "62860600\n",
      "99050875\n",
      "86283726\n",
      "74575289\n",
      "95556839\n",
      "31456993\n",
      "42258080\n",
      "01495950\n",
      "06638392\n",
      "39548248\n",
      "28244292\n",
      "44909649\n",
      "46002724\n",
      "69335292\n",
      "69452375\n",
      "01254121\n",
      "59222410\n",
      "58780031\n",
      "12807049\n",
      "44655272\n",
      "80504454\n",
      "59654069\n",
      "32718334\n",
      "84469352\n",
      "50765631\n",
      "36969413\n",
      "51419094\n",
      "52982527\n",
      "81049144\n",
      "21594071\n",
      "90496706\n",
      "05261598\n",
      "45433155\n",
      "98621494\n",
      "48367404\n",
      "47363974\n",
      "67900112\n",
      "33250639\n",
      "31477083\n",
      "56912666\n",
      "27761141\n",
      "34262165\n",
      "29878406\n",
      "97678130\n",
      "76854891\n",
      "32573840\n",
      "53435128\n",
      "49001726\n",
      "91788916\n",
      "20206315\n",
      "87485171\n",
      "37168430\n",
      "47688944\n",
      "77842251\n",
      "71219000\n",
      "50730294\n",
      "73518938\n",
      "39106805\n",
      "56184073\n",
      "56596866\n",
      "89434074\n",
      "75348018\n",
      "38646138\n",
      "74371880\n",
      "66873010\n",
      "65143770\n",
      "76432041\n",
      "61762096\n",
      "38890840\n",
      "93627939\n",
      "10285142\n",
      "39725031\n",
      "19410615\n",
      "16777771\n",
      "74739196\n",
      "81729157\n",
      "15565415\n",
      "53808826\n",
      "90638927\n",
      "20706360\n",
      "71676393\n",
      "78911129\n",
      "85752121\n",
      "21894119\n",
      "44293762\n",
      "75696701\n",
      "14753485\n",
      "52064875\n",
      "13051775\n",
      "24936642\n",
      "70035688\n",
      "51456954\n",
      "81968737\n",
      "31574721\n",
      "79316475\n",
      "02970060\n",
      "81720300\n",
      "45761494\n",
      "02817507\n",
      "79439002\n",
      "13250317\n",
      "55542659\n",
      "58093242\n",
      "56910929\n",
      "75437581\n",
      "98250113\n",
      "67597747\n",
      "62463869\n",
      "30501084\n",
      "46484562\n",
      "55313474\n",
      "19674187\n",
      "32309079\n",
      "75282136\n",
      "52581458\n",
      "56723660\n",
      "83085276\n",
      "28540480\n",
      "22498610\n",
      "78681731\n",
      "81558830\n",
      "54841471\n",
      "23066392\n",
      "72038219\n",
      "38588231\n",
      "26080346\n",
      "03939827\n",
      "93606382\n",
      "53097921\n",
      "84902402\n",
      "87400142\n",
      "42871706\n",
      "99127649\n",
      "68744652\n",
      "43292038\n",
      "54461187\n",
      "57473014\n",
      "11436422\n",
      "61131074\n",
      "43589028\n",
      "78352234\n",
      "23388083\n",
      "08007167\n",
      "11770862\n",
      "90763832\n",
      "53236058\n",
      "74589634\n",
      "03384972\n",
      "19663467\n",
      "80700486\n",
      "55915099\n",
      "90229239\n",
      "72685265\n",
      "70027963\n",
      "50939076\n",
      "35493515\n",
      "39561926\n",
      "80657933\n",
      "12616311\n",
      "29384065\n",
      "17328943\n",
      "83062037\n",
      "40932643\n",
      "18156803\n",
      "65149091\n",
      "79510141\n",
      "36795256\n",
      "02144163\n",
      "07974290\n",
      "17294720\n",
      "54004910\n",
      "55979795\n",
      "83275234\n",
      "27762780\n",
      "11927637\n",
      "66507502\n",
      "80206225\n",
      "09269616\n",
      "76562623\n",
      "81249330\n",
      "13567195\n",
      "41606321\n",
      "14549710\n",
      "10099555\n",
      "87929316\n",
      "45517860\n",
      "71189891\n",
      "42215399\n",
      "74805749\n",
      "27330785\n",
      "08103884\n",
      "48315222\n",
      "73960495\n",
      "28021601\n",
      "35576469\n",
      "67615491\n",
      "71745031\n",
      "53874087\n",
      "64142475\n",
      "73326278\n",
      "46175798\n",
      "28458341\n",
      "22656406\n",
      "62599280\n",
      "50707558\n",
      "83963249\n",
      "90934495\n",
      "91048552\n",
      "03578019\n",
      "43093019\n",
      "46222210\n",
      "01225297\n",
      "05565365\n",
      "84877086\n",
      "65381988\n",
      "55463070\n",
      "78327476\n",
      "65741560\n",
      "00746649\n",
      "44933937\n",
      "06400675\n",
      "51612397\n",
      "76366191\n",
      "90587846\n",
      "14113160\n",
      "74626135\n",
      "73142171\n",
      "48625414\n",
      "57973631\n",
      "71043609\n",
      "51735262\n",
      "07854544\n",
      "65696941\n",
      "29149362\n",
      "94277599\n",
      "58081753\n",
      "38459884\n",
      "47505792\n",
      "89346491\n",
      "93519386\n",
      "50931782\n",
      "77579838\n",
      "39854689\n",
      "79819446\n",
      "59764431\n",
      "14196469\n",
      "89057862\n",
      "32888746\n",
      "64292248\n",
      "58740880\n",
      "08007329\n",
      "04918121\n",
      "22086591\n",
      "99338619\n",
      "82727218\n",
      "83056303\n",
      "26957252\n",
      "73916801\n",
      "86756971\n",
      "04133537\n",
      "03233601\n",
      "62375942\n",
      "01766910\n",
      "68756107\n",
      "74133461\n",
      "29584096\n",
      "22352222\n",
      "09611865\n",
      "21150752\n",
      "62808613\n",
      "18740846\n",
      "08343773\n",
      "44667026\n",
      "50550619\n",
      "27099517\n",
      "28949890\n",
      "18583649\n",
      "99050875\n",
      "70483015\n",
      "03327555\n",
      "09489685\n",
      "28939704\n",
      "31456993\n",
      "86283726\n",
      "95556839\n",
      "62860600\n",
      "01495950\n",
      "06638392\n",
      "28244292\n",
      "42258080\n",
      "69335292\n",
      "46002724\n",
      "74575289\n",
      "58780031\n",
      "59222410\n",
      "59654069\n",
      "44655272\n",
      "32718334\n",
      "36969413\n",
      "69452375\n",
      "12807049\n",
      "76854891\n",
      "53435128\n",
      "77842251\n",
      "39548248\n",
      "21594071\n",
      "44909649\n",
      "84469352\n",
      "75348018\n",
      "51419094\n",
      "01254121\n",
      "05261598\n",
      "33250639\n",
      "27761141\n",
      "34262165\n",
      "90496706\n",
      "80504454\n",
      "32573840\n",
      "61762096\n",
      "87485171\n",
      "10285142\n",
      "98621494\n",
      "50730294\n",
      "16777771\n",
      "50765631\n",
      "15565415\n",
      "52982527\n",
      "81049144\n",
      "45433155\n",
      "71676393\n",
      "56596866\n",
      "48367404\n",
      "47363974\n",
      "44293762\n",
      "74371880\n",
      "56912666\n",
      "71219000\n",
      "67900112\n",
      "73518938\n",
      "76432041\n",
      "31477083\n",
      "97678130\n",
      "29878406\n",
      "93627939\n",
      "19410615\n",
      "91788916\n",
      "20206315\n",
      "89434074\n",
      "81729157\n",
      "38646138\n",
      "47688944\n",
      "49001726\n",
      "65143770\n",
      "37168430\n",
      "39106805\n",
      "56184073\n",
      "20706360\n",
      "66873010\n",
      "14753485\n",
      "38890840\n",
      "85752121\n",
      "39725031\n",
      "74739196\n",
      "51456954\n",
      "53808826\n",
      "90638927\n",
      "21894119\n",
      "13051775\n",
      "78911129\n",
      "79316475\n",
      "52064875\n",
      "70035688\n",
      "79439002\n",
      "98250113\n",
      "55313474\n",
      "31574721\n",
      "55542659\n",
      "75696701\n",
      "81720300\n",
      "52581458\n",
      "56910929\n",
      "13250317\n",
      "24936642\n",
      "81968737\n",
      "28540480\n",
      "67597747\n",
      "75437581\n",
      "30501084\n",
      "54841471\n",
      "19674187\n",
      "62463869\n",
      "02970060\n",
      "32309079\n",
      "83085276\n",
      "45761494\n",
      "02817507\n",
      "03939827\n",
      "58093242\n",
      "81558830\n",
      "22498610\n",
      "23066392\n",
      "38588231\n",
      "46484562\n",
      "42871706\n",
      "43292038\n",
      "11436422\n",
      "93606382\n",
      "75282136\n",
      "53097921\n",
      "84902402\n",
      "99127649\n",
      "54461187\n",
      "56723660\n",
      "23388083\n",
      "78352234\n",
      "68744652\n",
      "11770862\n",
      "90763832\n",
      "03384972\n",
      "43589028\n",
      "19663467\n",
      "78681731\n",
      "74589634\n",
      "90229239\n",
      "55915099\n",
      "72685265\n",
      "39561926\n",
      "70027963\n",
      "50939076\n",
      "72038219\n",
      "26080346\n",
      "29384065\n",
      "12616311\n",
      "87400142\n",
      "57473014\n",
      "80657933\n",
      "65149091\n",
      "61131074\n",
      "17328943\n",
      "40932643\n",
      "08007167\n",
      "36795256\n",
      "54004910\n",
      "18156803\n",
      "07974290\n",
      "83275234\n",
      "66507502\n",
      "53236058\n",
      "76562623\n",
      "81249330\n",
      "41606321\n",
      "10099555\n",
      "71189891\n",
      "80700486\n",
      "35493515\n",
      "74805749\n",
      "73960495\n",
      "83062037\n",
      "48315222\n",
      "02144163\n",
      "79510141\n",
      "71745031\n",
      "53874087\n",
      "67615491\n",
      "73326278\n",
      "55979795\n",
      "17294720\n",
      "13567195\n",
      "11927637\n",
      "46175798\n",
      "09269616\n",
      "45517860\n",
      "27762780\n",
      "62599280\n",
      "83963249\n",
      "80206225\n",
      "43093019\n",
      "03578019\n",
      "01225297\n",
      "27330785\n",
      "05565365\n",
      "65381988\n",
      "28021601\n",
      "14549710\n",
      "55463070\n",
      "00746649\n",
      "87929316\n",
      "64142475\n",
      "44933937\n",
      "14113160\n",
      "42215399\n",
      "22656406\n",
      "08103884\n",
      "50707558\n",
      "35576469\n",
      "48625414\n",
      "91048552\n",
      "28458341\n",
      "71043609\n",
      "84877086\n",
      "90934495\n",
      "78327476\n",
      "58081753\n",
      "46222210\n",
      "51612397\n",
      "93519386\n",
      "73142171\n",
      "65741560\n",
      "79819446\n",
      "57973631\n",
      "06400675\n",
      "64292248\n",
      "22086591\n",
      "65696941\n",
      "90587846\n",
      "94277599\n",
      "47505792\n",
      "73916801\n",
      "50931782\n",
      "51735262\n",
      "03233601\n",
      "39854689\n",
      "62375942\n",
      "14196469\n",
      "89057862\n",
      "08007329\n",
      "29584096\n",
      "22352222\n",
      "21150752\n",
      "82727218\n",
      "38459884\n",
      "04133537\n",
      "77579838\n",
      "68756107\n",
      "09611865\n",
      "18740846\n",
      "32888746\n",
      "04918121\n",
      "83056303\n",
      "76366191\n",
      "74626135\n",
      "07854544\n",
      "29149362\n",
      "89346491\n",
      "59764431\n",
      "58740880\n",
      "99338619\n",
      "26957252\n",
      "86756971\n",
      "01766910\n",
      "74133461\n",
      "62808613\n",
      "CPU times: user 1min 8s, sys: 15.1 s, total: 1min 23s\n",
      "Wall time: 1h 38min 24s\n"
     ]
    }
   ],
   "source": [
    "%%time\n",
    "\n",
    "process_all_data(wave1_ids, [10])"
   ]
  },
  {
   "cell_type": "code",
   "execution_count": 3,
   "metadata": {
    "scrolled": true
   },
   "outputs": [
    {
     "name": "stdout",
     "output_type": "stream",
     "text": [
      "44667026\n",
      "52982527\n",
      "44655272\n",
      "(1838, 18)\n",
      "98621494\n",
      "(3449, 18)\n",
      "53435128\n",
      "81049144\n",
      "(3756, 18)\n",
      "(4449, 18)\n",
      "27099517\n",
      "(4608, 18)\n",
      "28949890\n",
      "(4038, 18)\n",
      "08343773\n",
      "50550619\n",
      "(4936, 18)\n",
      "(4379, 18)\n"
     ]
    },
    {
     "name": "stderr",
     "output_type": "stream",
     "text": [
      "/home/tliu/lifesense/utils/lifesense_utils.py:167: RuntimeWarning: divide by zero encountered in log\n",
      "  label_group['entropy'] = -(np.log(label_group) * label_group).sum(axis=1)\n"
     ]
    },
    {
     "name": "stdout",
     "output_type": "stream",
     "text": [
      "32718334\n",
      "(2786, 18)\n",
      "36969413\n",
      "(1668, 18)\n"
     ]
    },
    {
     "name": "stderr",
     "output_type": "stream",
     "text": [
      "/home/tliu/lifesense/utils/lifesense_utils.py:167: RuntimeWarning: divide by zero encountered in log\n",
      "  label_group['entropy'] = -(np.log(label_group) * label_group).sum(axis=1)\n"
     ]
    },
    {
     "name": "stdout",
     "output_type": "stream",
     "text": [
      "18583649\n",
      "(4563, 18)\n"
     ]
    },
    {
     "name": "stderr",
     "output_type": "stream",
     "text": [
      "/home/tliu/lifesense/utils/lifesense_utils.py:167: RuntimeWarning: divide by zero encountered in log\n",
      "  label_group['entropy'] = -(np.log(label_group) * label_group).sum(axis=1)\n",
      "/home/tliu/lifesense/utils/lifesense_utils.py:167: RuntimeWarning: divide by zero encountered in log\n",
      "  label_group['entropy'] = -(np.log(label_group) * label_group).sum(axis=1)\n",
      "/home/tliu/lifesense/utils/lifesense_utils.py:167: RuntimeWarning: divide by zero encountered in log\n",
      "  label_group['entropy'] = -(np.log(label_group) * label_group).sum(axis=1)\n"
     ]
    },
    {
     "name": "stdout",
     "output_type": "stream",
     "text": [
      "70483015\n",
      "21594071\n",
      "(3793, 18)\n",
      "45433155\n",
      "(4197, 18)\n",
      "03327555\n",
      "(4783, 18)\n"
     ]
    },
    {
     "name": "stderr",
     "output_type": "stream",
     "text": [
      "/home/tliu/lifesense/utils/lifesense_utils.py:167: RuntimeWarning: divide by zero encountered in log\n",
      "  label_group['entropy'] = -(np.log(label_group) * label_group).sum(axis=1)\n"
     ]
    },
    {
     "name": "stdout",
     "output_type": "stream",
     "text": [
      "09489685\n",
      "(4118, 18)\n"
     ]
    },
    {
     "name": "stderr",
     "output_type": "stream",
     "text": [
      "/home/tliu/lifesense/utils/lifesense_utils.py:167: RuntimeWarning: divide by zero encountered in log\n",
      "  label_group['entropy'] = -(np.log(label_group) * label_group).sum(axis=1)\n"
     ]
    },
    {
     "name": "stdout",
     "output_type": "stream",
     "text": [
      "48367404\n"
     ]
    },
    {
     "name": "stderr",
     "output_type": "stream",
     "text": [
      "/home/tliu/lifesense/utils/lifesense_utils.py:167: RuntimeWarning: divide by zero encountered in log\n",
      "  label_group['entropy'] = -(np.log(label_group) * label_group).sum(axis=1)\n"
     ]
    },
    {
     "name": "stdout",
     "output_type": "stream",
     "text": [
      "28939704\n",
      "(1553, 18)\n",
      "47363974\n",
      "(4426, 18)\n"
     ]
    },
    {
     "name": "stderr",
     "output_type": "stream",
     "text": [
      "/home/tliu/lifesense/utils/lifesense_utils.py:167: RuntimeWarning: divide by zero encountered in log\n",
      "  label_group['entropy'] = -(np.log(label_group) * label_group).sum(axis=1)\n"
     ]
    },
    {
     "name": "stdout",
     "output_type": "stream",
     "text": [
      "05261598\n",
      "(25, 18)\n"
     ]
    },
    {
     "name": "stderr",
     "output_type": "stream",
     "text": [
      "/home/tliu/lifesense/utils/lifesense_utils.py:167: RuntimeWarning: divide by zero encountered in log\n",
      "  label_group['entropy'] = -(np.log(label_group) * label_group).sum(axis=1)\n"
     ]
    },
    {
     "name": "stdout",
     "output_type": "stream",
     "text": [
      "86283726\n",
      "(3812, 18)\n",
      "33250639\n",
      "(4767, 18)\n"
     ]
    },
    {
     "name": "stderr",
     "output_type": "stream",
     "text": [
      "/home/tliu/lifesense/utils/lifesense_utils.py:167: RuntimeWarning: divide by zero encountered in log\n",
      "  label_group['entropy'] = -(np.log(label_group) * label_group).sum(axis=1)\n"
     ]
    },
    {
     "name": "stdout",
     "output_type": "stream",
     "text": [
      "99050875\n",
      "(1076, 18)\n"
     ]
    },
    {
     "name": "stderr",
     "output_type": "stream",
     "text": [
      "/home/tliu/lifesense/utils/lifesense_utils.py:167: RuntimeWarning: divide by zero encountered in log\n",
      "  label_group['entropy'] = -(np.log(label_group) * label_group).sum(axis=1)\n",
      "/home/tliu/lifesense/utils/lifesense_utils.py:167: RuntimeWarning: divide by zero encountered in log\n",
      "  label_group['entropy'] = -(np.log(label_group) * label_group).sum(axis=1)\n"
     ]
    },
    {
     "name": "stdout",
     "output_type": "stream",
     "text": [
      "77842251\n",
      "(4392, 18)\n",
      "31456993\n",
      "(4675, 18)\n"
     ]
    },
    {
     "name": "stderr",
     "output_type": "stream",
     "text": [
      "/home/tliu/lifesense/utils/lifesense_utils.py:167: RuntimeWarning: divide by zero encountered in log\n",
      "  label_group['entropy'] = -(np.log(label_group) * label_group).sum(axis=1)\n"
     ]
    },
    {
     "name": "stdout",
     "output_type": "stream",
     "text": [
      "62860600\n",
      "(1016, 18)\n"
     ]
    },
    {
     "name": "stderr",
     "output_type": "stream",
     "text": [
      "/home/tliu/lifesense/utils/lifesense_utils.py:167: RuntimeWarning: divide by zero encountered in log\n",
      "  label_group['entropy'] = -(np.log(label_group) * label_group).sum(axis=1)\n",
      "/home/tliu/lifesense/utils/lifesense_utils.py:167: RuntimeWarning: divide by zero encountered in log\n",
      "  label_group['entropy'] = -(np.log(label_group) * label_group).sum(axis=1)\n"
     ]
    },
    {
     "name": "stdout",
     "output_type": "stream",
     "text": [
      "27761141\n",
      "56912666\n",
      "(4322, 18)\n",
      "34262165\n",
      "(2882, 18)\n"
     ]
    },
    {
     "name": "stderr",
     "output_type": "stream",
     "text": [
      "/home/tliu/lifesense/utils/lifesense_utils.py:167: RuntimeWarning: divide by zero encountered in log\n",
      "  label_group['entropy'] = -(np.log(label_group) * label_group).sum(axis=1)\n",
      "/home/tliu/lifesense/utils/lifesense_utils.py:167: RuntimeWarning: divide by zero encountered in log\n",
      "  label_group['entropy'] = -(np.log(label_group) * label_group).sum(axis=1)\n",
      "/home/tliu/lifesense/utils/lifesense_utils.py:167: RuntimeWarning: invalid value encountered in log\n",
      "  label_group['entropy'] = -(np.log(label_group) * label_group).sum(axis=1)\n"
     ]
    },
    {
     "name": "stdout",
     "output_type": "stream",
     "text": [
      "74575289\n",
      "(4266, 18)\n",
      "67900112\n",
      "(2291, 18)\n"
     ]
    },
    {
     "name": "stderr",
     "output_type": "stream",
     "text": [
      "/home/tliu/lifesense/utils/lifesense_utils.py:167: RuntimeWarning: divide by zero encountered in log\n",
      "  label_group['entropy'] = -(np.log(label_group) * label_group).sum(axis=1)\n"
     ]
    },
    {
     "name": "stdout",
     "output_type": "stream",
     "text": [
      "42258080\n",
      "(5719, 18)\n"
     ]
    },
    {
     "name": "stderr",
     "output_type": "stream",
     "text": [
      "/home/tliu/lifesense/utils/lifesense_utils.py:167: RuntimeWarning: divide by zero encountered in log\n",
      "  label_group['entropy'] = -(np.log(label_group) * label_group).sum(axis=1)\n"
     ]
    },
    {
     "name": "stdout",
     "output_type": "stream",
     "text": [
      "32573840\n",
      "(21, 18)\n"
     ]
    },
    {
     "name": "stderr",
     "output_type": "stream",
     "text": [
      "/home/tliu/lifesense/utils/lifesense_utils.py:167: RuntimeWarning: divide by zero encountered in log\n",
      "  label_group['entropy'] = -(np.log(label_group) * label_group).sum(axis=1)\n"
     ]
    },
    {
     "name": "stdout",
     "output_type": "stream",
     "text": [
      "87485171\n",
      "(4451, 18)\n"
     ]
    },
    {
     "name": "stderr",
     "output_type": "stream",
     "text": [
      "/home/tliu/lifesense/utils/lifesense_utils.py:167: RuntimeWarning: divide by zero encountered in log\n",
      "  label_group['entropy'] = -(np.log(label_group) * label_group).sum(axis=1)\n",
      "/home/tliu/lifesense/utils/lifesense_utils.py:167: RuntimeWarning: divide by zero encountered in log\n",
      "  label_group['entropy'] = -(np.log(label_group) * label_group).sum(axis=1)\n",
      "/home/tliu/lifesense/utils/lifesense_utils.py:167: RuntimeWarning: invalid value encountered in log\n",
      "  label_group['entropy'] = -(np.log(label_group) * label_group).sum(axis=1)\n"
     ]
    },
    {
     "name": "stdout",
     "output_type": "stream",
     "text": [
      "97678130\n",
      "(3005, 18)\n",
      "31477083\n",
      "(4166, 18)\n"
     ]
    },
    {
     "name": "stderr",
     "output_type": "stream",
     "text": [
      "/home/tliu/lifesense/utils/lifesense_utils.py:167: RuntimeWarning: divide by zero encountered in log\n",
      "  label_group['entropy'] = -(np.log(label_group) * label_group).sum(axis=1)\n",
      "/home/tliu/lifesense/utils/lifesense_utils.py:167: RuntimeWarning: divide by zero encountered in log\n",
      "  label_group['entropy'] = -(np.log(label_group) * label_group).sum(axis=1)\n"
     ]
    },
    {
     "name": "stdout",
     "output_type": "stream",
     "text": [
      "69452375\n",
      "(3409, 18)\n",
      "01495950\n",
      "(4113, 18)\n"
     ]
    },
    {
     "name": "stderr",
     "output_type": "stream",
     "text": [
      "/home/tliu/lifesense/utils/lifesense_utils.py:167: RuntimeWarning: divide by zero encountered in log\n",
      "  label_group['entropy'] = -(np.log(label_group) * label_group).sum(axis=1)\n",
      "/home/tliu/lifesense/utils/lifesense_utils.py:167: RuntimeWarning: divide by zero encountered in log\n",
      "  label_group['entropy'] = -(np.log(label_group) * label_group).sum(axis=1)\n"
     ]
    },
    {
     "name": "stdout",
     "output_type": "stream",
     "text": [
      "29878406\n",
      "(4905, 18)\n",
      "75348018\n",
      "(4431, 18)\n"
     ]
    },
    {
     "name": "stderr",
     "output_type": "stream",
     "text": [
      "/home/tliu/lifesense/utils/lifesense_utils.py:167: RuntimeWarning: divide by zero encountered in log\n",
      "  label_group['entropy'] = -(np.log(label_group) * label_group).sum(axis=1)\n"
     ]
    },
    {
     "name": "stdout",
     "output_type": "stream",
     "text": [
      "39548248\n",
      "(1676, 18)\n"
     ]
    },
    {
     "name": "stderr",
     "output_type": "stream",
     "text": [
      "/home/tliu/lifesense/utils/lifesense_utils.py:167: RuntimeWarning: divide by zero encountered in log\n",
      "  label_group['entropy'] = -(np.log(label_group) * label_group).sum(axis=1)\n",
      "/home/tliu/lifesense/utils/lifesense_utils.py:167: RuntimeWarning: divide by zero encountered in log\n",
      "  label_group['entropy'] = -(np.log(label_group) * label_group).sum(axis=1)\n"
     ]
    },
    {
     "name": "stdout",
     "output_type": "stream",
     "text": [
      "44909649\n",
      "(4381, 18)\n",
      "12807049\n",
      "(4743, 18)\n"
     ]
    },
    {
     "name": "stderr",
     "output_type": "stream",
     "text": [
      "/home/tliu/lifesense/utils/lifesense_utils.py:167: RuntimeWarning: divide by zero encountered in log\n",
      "  label_group['entropy'] = -(np.log(label_group) * label_group).sum(axis=1)\n"
     ]
    },
    {
     "name": "stdout",
     "output_type": "stream",
     "text": [
      "49001726\n",
      "(2909, 18)\n"
     ]
    },
    {
     "name": "stderr",
     "output_type": "stream",
     "text": [
      "/home/tliu/lifesense/utils/lifesense_utils.py:167: RuntimeWarning: divide by zero encountered in log\n",
      "  label_group['entropy'] = -(np.log(label_group) * label_group).sum(axis=1)\n",
      "/home/tliu/lifesense/utils/lifesense_utils.py:167: RuntimeWarning: divide by zero encountered in log\n",
      "  label_group['entropy'] = -(np.log(label_group) * label_group).sum(axis=1)\n"
     ]
    },
    {
     "name": "stdout",
     "output_type": "stream",
     "text": [
      "95556839\n",
      "(2283, 18)\n",
      "69335292\n",
      "(3590, 18)\n",
      "37168430\n",
      "(2336, 18)\n"
     ]
    },
    {
     "name": "stderr",
     "output_type": "stream",
     "text": [
      "/home/tliu/lifesense/utils/lifesense_utils.py:167: RuntimeWarning: divide by zero encountered in log\n",
      "  label_group['entropy'] = -(np.log(label_group) * label_group).sum(axis=1)\n"
     ]
    },
    {
     "name": "stdout",
     "output_type": "stream",
     "text": [
      "06638392\n",
      "(1775, 18)\n"
     ]
    },
    {
     "name": "stderr",
     "output_type": "stream",
     "text": [
      "/home/tliu/lifesense/utils/lifesense_utils.py:167: RuntimeWarning: divide by zero encountered in log\n",
      "  label_group['entropy'] = -(np.log(label_group) * label_group).sum(axis=1)\n"
     ]
    },
    {
     "name": "stdout",
     "output_type": "stream",
     "text": [
      "91788916\n",
      "20206315\n",
      "(3016, 18)\n",
      "85752121\n",
      "(3855, 18)\n"
     ]
    },
    {
     "name": "stderr",
     "output_type": "stream",
     "text": [
      "/home/tliu/lifesense/utils/lifesense_utils.py:167: RuntimeWarning: divide by zero encountered in log\n",
      "  label_group['entropy'] = -(np.log(label_group) * label_group).sum(axis=1)\n"
     ]
    },
    {
     "name": "stdout",
     "output_type": "stream",
     "text": [
      "28244292\n",
      "(940, 18)\n"
     ]
    },
    {
     "name": "stderr",
     "output_type": "stream",
     "text": [
      "/home/tliu/lifesense/utils/lifesense_utils.py:167: RuntimeWarning: divide by zero encountered in log\n",
      "  label_group['entropy'] = -(np.log(label_group) * label_group).sum(axis=1)\n"
     ]
    },
    {
     "name": "stdout",
     "output_type": "stream",
     "text": [
      "46002724\n"
     ]
    },
    {
     "name": "stderr",
     "output_type": "stream",
     "text": [
      "/home/tliu/lifesense/utils/lifesense_utils.py:167: RuntimeWarning: divide by zero encountered in log\n",
      "  label_group['entropy'] = -(np.log(label_group) * label_group).sum(axis=1)\n"
     ]
    },
    {
     "name": "stdout",
     "output_type": "stream",
     "text": [
      "(3434, 18)\n"
     ]
    },
    {
     "name": "stderr",
     "output_type": "stream",
     "text": [
      "/home/tliu/lifesense/utils/lifesense_utils.py:167: RuntimeWarning: divide by zero encountered in log\n",
      "  label_group['entropy'] = -(np.log(label_group) * label_group).sum(axis=1)\n",
      "/home/tliu/lifesense/utils/lifesense_utils.py:167: RuntimeWarning: divide by zero encountered in log\n",
      "  label_group['entropy'] = -(np.log(label_group) * label_group).sum(axis=1)\n"
     ]
    },
    {
     "name": "stdout",
     "output_type": "stream",
     "text": [
      "84469352\n",
      "(3754, 18)\n",
      "13051775\n",
      "(4448, 18)\n",
      "47688944\n",
      "(4808, 18)\n"
     ]
    },
    {
     "name": "stderr",
     "output_type": "stream",
     "text": [
      "/home/tliu/lifesense/utils/lifesense_utils.py:167: RuntimeWarning: divide by zero encountered in log\n",
      "  label_group['entropy'] = -(np.log(label_group) * label_group).sum(axis=1)\n",
      "/home/tliu/lifesense/utils/lifesense_utils.py:167: RuntimeWarning: divide by zero encountered in log\n",
      "  label_group['entropy'] = -(np.log(label_group) * label_group).sum(axis=1)\n"
     ]
    },
    {
     "name": "stdout",
     "output_type": "stream",
     "text": [
      "39106805\n",
      "58780031\n",
      "(1665, 18)\n",
      "56184073\n",
      "(4645, 18)\n"
     ]
    },
    {
     "name": "stderr",
     "output_type": "stream",
     "text": [
      "/home/tliu/lifesense/utils/lifesense_utils.py:167: RuntimeWarning: divide by zero encountered in log\n",
      "  label_group['entropy'] = -(np.log(label_group) * label_group).sum(axis=1)\n",
      "/home/tliu/lifesense/utils/lifesense_utils.py:167: RuntimeWarning: divide by zero encountered in log\n",
      "  label_group['entropy'] = -(np.log(label_group) * label_group).sum(axis=1)\n"
     ]
    },
    {
     "name": "stdout",
     "output_type": "stream",
     "text": [
      "01254121\n",
      "(4432, 18)\n",
      "59654069\n",
      "(4169, 18)\n"
     ]
    },
    {
     "name": "stderr",
     "output_type": "stream",
     "text": [
      "/home/tliu/lifesense/utils/lifesense_utils.py:167: RuntimeWarning: divide by zero encountered in log\n",
      "  label_group['entropy'] = -(np.log(label_group) * label_group).sum(axis=1)\n"
     ]
    },
    {
     "name": "stdout",
     "output_type": "stream",
     "text": [
      "59222410\n",
      "(1160, 18)\n"
     ]
    },
    {
     "name": "stderr",
     "output_type": "stream",
     "text": [
      "/home/tliu/lifesense/utils/lifesense_utils.py:167: RuntimeWarning: divide by zero encountered in log\n",
      "  label_group['entropy'] = -(np.log(label_group) * label_group).sum(axis=1)\n",
      "/home/tliu/lifesense/utils/lifesense_utils.py:167: RuntimeWarning: divide by zero encountered in log\n",
      "  label_group['entropy'] = -(np.log(label_group) * label_group).sum(axis=1)\n"
     ]
    },
    {
     "name": "stdout",
     "output_type": "stream",
     "text": [
      "61762096\n",
      "(2418, 18)\n"
     ]
    },
    {
     "name": "stderr",
     "output_type": "stream",
     "text": [
      "/home/tliu/lifesense/utils/lifesense_utils.py:167: RuntimeWarning: divide by zero encountered in log\n",
      "  label_group['entropy'] = -(np.log(label_group) * label_group).sum(axis=1)\n",
      "/home/tliu/lifesense/utils/lifesense_utils.py:167: RuntimeWarning: divide by zero encountered in log\n",
      "  label_group['entropy'] = -(np.log(label_group) * label_group).sum(axis=1)\n"
     ]
    },
    {
     "name": "stdout",
     "output_type": "stream",
     "text": [
      "50730294\n",
      "(4768, 18)\n"
     ]
    },
    {
     "name": "stderr",
     "output_type": "stream",
     "text": [
      "/home/tliu/lifesense/utils/lifesense_utils.py:167: RuntimeWarning: divide by zero encountered in log\n",
      "  label_group['entropy'] = -(np.log(label_group) * label_group).sum(axis=1)\n"
     ]
    },
    {
     "name": "stdout",
     "output_type": "stream",
     "text": [
      "71219000\n",
      "(3502, 18)\n",
      "51419094\n",
      "(4117, 18)\n",
      "52064875\n",
      "(4265, 18)\n"
     ]
    },
    {
     "name": "stderr",
     "output_type": "stream",
     "text": [
      "/home/tliu/lifesense/utils/lifesense_utils.py:167: RuntimeWarning: divide by zero encountered in log\n",
      "  label_group['entropy'] = -(np.log(label_group) * label_group).sum(axis=1)\n"
     ]
    },
    {
     "name": "stdout",
     "output_type": "stream",
     "text": [
      "73518938\n",
      "(2505, 18)\n",
      "79439002\n",
      "(3130, 18)\n"
     ]
    },
    {
     "name": "stderr",
     "output_type": "stream",
     "text": [
      "/home/tliu/lifesense/utils/lifesense_utils.py:167: RuntimeWarning: divide by zero encountered in log\n",
      "  label_group['entropy'] = -(np.log(label_group) * label_group).sum(axis=1)\n"
     ]
    },
    {
     "name": "stdout",
     "output_type": "stream",
     "text": [
      "56596866\n",
      "(3952, 18)\n"
     ]
    },
    {
     "name": "stderr",
     "output_type": "stream",
     "text": [
      "/home/tliu/lifesense/utils/lifesense_utils.py:167: RuntimeWarning: divide by zero encountered in log\n",
      "  label_group['entropy'] = -(np.log(label_group) * label_group).sum(axis=1)\n"
     ]
    },
    {
     "name": "stdout",
     "output_type": "stream",
     "text": [
      "76854891\n",
      "66873010\n",
      "(2092, 18)\n"
     ]
    },
    {
     "name": "stderr",
     "output_type": "stream",
     "text": [
      "/home/tliu/lifesense/utils/lifesense_utils.py:167: RuntimeWarning: divide by zero encountered in log\n",
      "  label_group['entropy'] = -(np.log(label_group) * label_group).sum(axis=1)\n"
     ]
    },
    {
     "name": "stdout",
     "output_type": "stream",
     "text": [
      "89434074\n",
      "(967, 18)\n"
     ]
    },
    {
     "name": "stderr",
     "output_type": "stream",
     "text": [
      "/home/tliu/lifesense/utils/lifesense_utils.py:167: RuntimeWarning: divide by zero encountered in log\n",
      "  label_group['entropy'] = -(np.log(label_group) * label_group).sum(axis=1)\n",
      "/home/tliu/lifesense/utils/lifesense_utils.py:167: RuntimeWarning: divide by zero encountered in log\n",
      "  label_group['entropy'] = -(np.log(label_group) * label_group).sum(axis=1)\n"
     ]
    },
    {
     "name": "stdout",
     "output_type": "stream",
     "text": [
      "74371880\n",
      "(4737, 18)\n",
      "38646138\n",
      "(3773, 18)\n"
     ]
    },
    {
     "name": "stderr",
     "output_type": "stream",
     "text": [
      "/home/tliu/lifesense/utils/lifesense_utils.py:167: RuntimeWarning: divide by zero encountered in log\n",
      "  label_group['entropy'] = -(np.log(label_group) * label_group).sum(axis=1)\n",
      "/home/tliu/lifesense/utils/lifesense_utils.py:167: RuntimeWarning: divide by zero encountered in log\n",
      "  label_group['entropy'] = -(np.log(label_group) * label_group).sum(axis=1)\n",
      "/home/tliu/lifesense/utils/lifesense_utils.py:167: RuntimeWarning: divide by zero encountered in log\n",
      "  label_group['entropy'] = -(np.log(label_group) * label_group).sum(axis=1)\n"
     ]
    },
    {
     "name": "stdout",
     "output_type": "stream",
     "text": [
      "70035688\n",
      "(3118, 18)\n",
      "90496706\n",
      "(4298, 18)\n",
      "39725031\n",
      "(4582, 18)\n"
     ]
    },
    {
     "name": "stderr",
     "output_type": "stream",
     "text": [
      "/home/tliu/lifesense/utils/lifesense_utils.py:167: RuntimeWarning: divide by zero encountered in log\n",
      "  label_group['entropy'] = -(np.log(label_group) * label_group).sum(axis=1)\n"
     ]
    },
    {
     "name": "stdout",
     "output_type": "stream",
     "text": [
      "31574721\n",
      "(2004, 18)\n",
      "65143770\n",
      "(4716, 18)\n"
     ]
    },
    {
     "name": "stderr",
     "output_type": "stream",
     "text": [
      "/home/tliu/lifesense/utils/lifesense_utils.py:167: RuntimeWarning: divide by zero encountered in log\n",
      "  label_group['entropy'] = -(np.log(label_group) * label_group).sum(axis=1)\n",
      "/home/tliu/lifesense/utils/lifesense_utils.py:167: RuntimeWarning: divide by zero encountered in log\n",
      "  label_group['entropy'] = -(np.log(label_group) * label_group).sum(axis=1)\n"
     ]
    },
    {
     "name": "stdout",
     "output_type": "stream",
     "text": [
      "80504454\n",
      "(4511, 18)\n",
      "98250113\n",
      "(4195, 18)\n"
     ]
    },
    {
     "name": "stderr",
     "output_type": "stream",
     "text": [
      "/home/tliu/lifesense/utils/lifesense_utils.py:167: RuntimeWarning: divide by zero encountered in log\n",
      "  label_group['entropy'] = -(np.log(label_group) * label_group).sum(axis=1)\n"
     ]
    },
    {
     "name": "stdout",
     "output_type": "stream",
     "text": [
      "81720300\n",
      "(2713, 18)\n"
     ]
    },
    {
     "name": "stderr",
     "output_type": "stream",
     "text": [
      "/home/tliu/lifesense/utils/lifesense_utils.py:167: RuntimeWarning: divide by zero encountered in log\n",
      "  label_group['entropy'] = -(np.log(label_group) * label_group).sum(axis=1)\n"
     ]
    },
    {
     "name": "stdout",
     "output_type": "stream",
     "text": [
      "02817507\n",
      "(2071, 18)\n"
     ]
    },
    {
     "name": "stderr",
     "output_type": "stream",
     "text": [
      "/home/tliu/lifesense/utils/lifesense_utils.py:167: RuntimeWarning: divide by zero encountered in log\n",
      "  label_group['entropy'] = -(np.log(label_group) * label_group).sum(axis=1)\n",
      "/home/tliu/lifesense/utils/lifesense_utils.py:167: RuntimeWarning: divide by zero encountered in log\n",
      "  label_group['entropy'] = -(np.log(label_group) * label_group).sum(axis=1)\n"
     ]
    },
    {
     "name": "stdout",
     "output_type": "stream",
     "text": [
      "90638927\n",
      "(3994, 18)\n"
     ]
    },
    {
     "name": "stderr",
     "output_type": "stream",
     "text": [
      "/home/tliu/lifesense/utils/lifesense_utils.py:167: RuntimeWarning: divide by zero encountered in log\n",
      "  label_group['entropy'] = -(np.log(label_group) * label_group).sum(axis=1)\n"
     ]
    },
    {
     "name": "stdout",
     "output_type": "stream",
     "text": [
      "76432041\n",
      "(3733, 18)\n"
     ]
    },
    {
     "name": "stderr",
     "output_type": "stream",
     "text": [
      "/home/tliu/lifesense/utils/lifesense_utils.py:167: RuntimeWarning: divide by zero encountered in log\n",
      "  label_group['entropy'] = -(np.log(label_group) * label_group).sum(axis=1)\n"
     ]
    },
    {
     "name": "stdout",
     "output_type": "stream",
     "text": [
      "58093242\n",
      "(3500, 18)\n",
      "50765631\n",
      "(2915, 18)\n"
     ]
    },
    {
     "name": "stderr",
     "output_type": "stream",
     "text": [
      "/home/tliu/lifesense/utils/lifesense_utils.py:167: RuntimeWarning: divide by zero encountered in log\n",
      "  label_group['entropy'] = -(np.log(label_group) * label_group).sum(axis=1)\n",
      "/home/tliu/lifesense/utils/lifesense_utils.py:167: RuntimeWarning: divide by zero encountered in log\n",
      "  label_group['entropy'] = -(np.log(label_group) * label_group).sum(axis=1)\n"
     ]
    },
    {
     "name": "stdout",
     "output_type": "stream",
     "text": [
      "13250317\n",
      "(4446, 18)\n",
      "10285142\n",
      "(1840, 18)\n"
     ]
    },
    {
     "name": "stderr",
     "output_type": "stream",
     "text": [
      "/home/tliu/lifesense/utils/lifesense_utils.py:167: RuntimeWarning: divide by zero encountered in log\n",
      "  label_group['entropy'] = -(np.log(label_group) * label_group).sum(axis=1)\n"
     ]
    },
    {
     "name": "stdout",
     "output_type": "stream",
     "text": [
      "55313474\n",
      "(4465, 18)\n"
     ]
    },
    {
     "name": "stderr",
     "output_type": "stream",
     "text": [
      "/home/tliu/lifesense/utils/lifesense_utils.py:167: RuntimeWarning: divide by zero encountered in log\n",
      "  label_group['entropy'] = -(np.log(label_group) * label_group).sum(axis=1)\n"
     ]
    },
    {
     "name": "stdout",
     "output_type": "stream",
     "text": [
      "46484562\n",
      "(3324, 18)\n"
     ]
    },
    {
     "name": "stderr",
     "output_type": "stream",
     "text": [
      "/home/tliu/lifesense/utils/lifesense_utils.py:167: RuntimeWarning: divide by zero encountered in log\n",
      "  label_group['entropy'] = -(np.log(label_group) * label_group).sum(axis=1)\n",
      "/home/tliu/lifesense/utils/lifesense_utils.py:167: RuntimeWarning: divide by zero encountered in log\n",
      "  label_group['entropy'] = -(np.log(label_group) * label_group).sum(axis=1)\n",
      "/home/tliu/lifesense/utils/lifesense_utils.py:167: RuntimeWarning: divide by zero encountered in log\n",
      "  label_group['entropy'] = -(np.log(label_group) * label_group).sum(axis=1)\n"
     ]
    },
    {
     "name": "stdout",
     "output_type": "stream",
     "text": [
      "78911129\n",
      "(1082, 18)\n"
     ]
    },
    {
     "name": "stderr",
     "output_type": "stream",
     "text": [
      "/home/tliu/lifesense/utils/lifesense_utils.py:167: RuntimeWarning: divide by zero encountered in log\n",
      "  label_group['entropy'] = -(np.log(label_group) * label_group).sum(axis=1)\n"
     ]
    },
    {
     "name": "stdout",
     "output_type": "stream",
     "text": [
      "16777771\n",
      "(21, 18)\n",
      "14753485\n",
      "(4510, 18)\n",
      "38890840\n",
      "(4535, 18)\n"
     ]
    },
    {
     "name": "stderr",
     "output_type": "stream",
     "text": [
      "/home/tliu/lifesense/utils/lifesense_utils.py:167: RuntimeWarning: divide by zero encountered in log\n",
      "  label_group['entropy'] = -(np.log(label_group) * label_group).sum(axis=1)\n",
      "/home/tliu/lifesense/utils/lifesense_utils.py:167: RuntimeWarning: divide by zero encountered in log\n",
      "  label_group['entropy'] = -(np.log(label_group) * label_group).sum(axis=1)\n"
     ]
    },
    {
     "name": "stdout",
     "output_type": "stream",
     "text": [
      "15565415\n",
      "(4841, 18)\n",
      "75696701\n",
      "(2942, 18)\n"
     ]
    },
    {
     "name": "stderr",
     "output_type": "stream",
     "text": [
      "/home/tliu/lifesense/utils/lifesense_utils.py:167: RuntimeWarning: divide by zero encountered in log\n",
      "  label_group['entropy'] = -(np.log(label_group) * label_group).sum(axis=1)\n"
     ]
    },
    {
     "name": "stdout",
     "output_type": "stream",
     "text": [
      "75282136\n",
      "(4066, 18)\n"
     ]
    },
    {
     "name": "stderr",
     "output_type": "stream",
     "text": [
      "/home/tliu/lifesense/utils/lifesense_utils.py:167: RuntimeWarning: divide by zero encountered in log\n",
      "  label_group['entropy'] = -(np.log(label_group) * label_group).sum(axis=1)\n"
     ]
    },
    {
     "name": "stdout",
     "output_type": "stream",
     "text": [
      "67597747\n",
      "(2141, 18)\n"
     ]
    },
    {
     "name": "stderr",
     "output_type": "stream",
     "text": [
      "/home/tliu/lifesense/utils/lifesense_utils.py:167: RuntimeWarning: divide by zero encountered in log\n",
      "  label_group['entropy'] = -(np.log(label_group) * label_group).sum(axis=1)\n"
     ]
    },
    {
     "name": "stdout",
     "output_type": "stream",
     "text": [
      "30501084\n",
      "(2282, 18)\n",
      "24936642\n",
      "(3771, 18)\n"
     ]
    },
    {
     "name": "stderr",
     "output_type": "stream",
     "text": [
      "/home/tliu/lifesense/utils/lifesense_utils.py:167: RuntimeWarning: divide by zero encountered in log\n",
      "  label_group['entropy'] = -(np.log(label_group) * label_group).sum(axis=1)\n"
     ]
    },
    {
     "name": "stdout",
     "output_type": "stream",
     "text": [
      "19674187\n",
      "(4352, 18)\n"
     ]
    },
    {
     "name": "stderr",
     "output_type": "stream",
     "text": [
      "/home/tliu/lifesense/utils/lifesense_utils.py:167: RuntimeWarning: divide by zero encountered in log\n",
      "  label_group['entropy'] = -(np.log(label_group) * label_group).sum(axis=1)\n"
     ]
    },
    {
     "name": "stdout",
     "output_type": "stream",
     "text": [
      "81968737\n",
      "(4515, 18)\n",
      "74739196\n",
      "(4113, 18)\n"
     ]
    },
    {
     "name": "stderr",
     "output_type": "stream",
     "text": [
      "/home/tliu/lifesense/utils/lifesense_utils.py:167: RuntimeWarning: divide by zero encountered in log\n",
      "  label_group['entropy'] = -(np.log(label_group) * label_group).sum(axis=1)\n"
     ]
    },
    {
     "name": "stdout",
     "output_type": "stream",
     "text": [
      "83085276\n",
      "(4326, 18)\n"
     ]
    },
    {
     "name": "stderr",
     "output_type": "stream",
     "text": [
      "/home/tliu/lifesense/utils/lifesense_utils.py:167: RuntimeWarning: divide by zero encountered in log\n",
      "  label_group['entropy'] = -(np.log(label_group) * label_group).sum(axis=1)\n"
     ]
    },
    {
     "name": "stdout",
     "output_type": "stream",
     "text": [
      "93627939\n",
      "(2657, 18)\n"
     ]
    },
    {
     "name": "stderr",
     "output_type": "stream",
     "text": [
      "/home/tliu/lifesense/utils/lifesense_utils.py:167: RuntimeWarning: divide by zero encountered in log\n",
      "  label_group['entropy'] = -(np.log(label_group) * label_group).sum(axis=1)\n"
     ]
    },
    {
     "name": "stdout",
     "output_type": "stream",
     "text": [
      "51456954\n"
     ]
    },
    {
     "name": "stderr",
     "output_type": "stream",
     "text": [
      "/home/tliu/lifesense/utils/lifesense_utils.py:167: RuntimeWarning: divide by zero encountered in log\n",
      "  label_group['entropy'] = -(np.log(label_group) * label_group).sum(axis=1)\n"
     ]
    },
    {
     "name": "stdout",
     "output_type": "stream",
     "text": [
      "(4434, 18)\n"
     ]
    },
    {
     "name": "stderr",
     "output_type": "stream",
     "text": [
      "/home/tliu/lifesense/utils/lifesense_utils.py:167: RuntimeWarning: divide by zero encountered in log\n",
      "  label_group['entropy'] = -(np.log(label_group) * label_group).sum(axis=1)\n",
      "/home/tliu/lifesense/utils/lifesense_utils.py:167: RuntimeWarning: divide by zero encountered in log\n",
      "  label_group['entropy'] = -(np.log(label_group) * label_group).sum(axis=1)\n"
     ]
    },
    {
     "name": "stdout",
     "output_type": "stream",
     "text": [
      "71676393\n",
      "(2240, 18)\n",
      "19410615\n",
      "(602, 17)\n",
      "53808826\n",
      "(4259, 18)\n"
     ]
    },
    {
     "name": "stderr",
     "output_type": "stream",
     "text": [
      "/home/tliu/lifesense/utils/lifesense_utils.py:167: RuntimeWarning: divide by zero encountered in log\n",
      "  label_group['entropy'] = -(np.log(label_group) * label_group).sum(axis=1)\n"
     ]
    },
    {
     "name": "stdout",
     "output_type": "stream",
     "text": [
      "81729157\n",
      "(4520, 18)\n",
      "23066392\n",
      "(4674, 18)\n"
     ]
    },
    {
     "name": "stderr",
     "output_type": "stream",
     "text": [
      "/home/tliu/lifesense/utils/lifesense_utils.py:167: RuntimeWarning: divide by zero encountered in log\n",
      "  label_group['entropy'] = -(np.log(label_group) * label_group).sum(axis=1)\n"
     ]
    },
    {
     "name": "stdout",
     "output_type": "stream",
     "text": [
      "56723660\n",
      "(4190, 18)\n"
     ]
    },
    {
     "name": "stderr",
     "output_type": "stream",
     "text": [
      "/home/tliu/lifesense/utils/lifesense_utils.py:167: RuntimeWarning: divide by zero encountered in log\n",
      "  label_group['entropy'] = -(np.log(label_group) * label_group).sum(axis=1)\n"
     ]
    },
    {
     "name": "stdout",
     "output_type": "stream",
     "text": [
      "79316475\n",
      "(4227, 18)\n"
     ]
    },
    {
     "name": "stderr",
     "output_type": "stream",
     "text": [
      "/home/tliu/lifesense/utils/lifesense_utils.py:167: RuntimeWarning: divide by zero encountered in log\n",
      "  label_group['entropy'] = -(np.log(label_group) * label_group).sum(axis=1)\n"
     ]
    },
    {
     "name": "stdout",
     "output_type": "stream",
     "text": [
      "20706360\n",
      "(3445, 18)\n"
     ]
    },
    {
     "name": "stderr",
     "output_type": "stream",
     "text": [
      "/home/tliu/lifesense/utils/lifesense_utils.py:167: RuntimeWarning: divide by zero encountered in log\n",
      "  label_group['entropy'] = -(np.log(label_group) * label_group).sum(axis=1)\n"
     ]
    },
    {
     "name": "stdout",
     "output_type": "stream",
     "text": [
      "93606382\n",
      "(2891, 18)\n"
     ]
    },
    {
     "name": "stderr",
     "output_type": "stream",
     "text": [
      "/home/tliu/lifesense/utils/lifesense_utils.py:167: RuntimeWarning: divide by zero encountered in log\n",
      "  label_group['entropy'] = -(np.log(label_group) * label_group).sum(axis=1)\n"
     ]
    },
    {
     "name": "stdout",
     "output_type": "stream",
     "text": [
      "44293762\n",
      "(1002, 18)\n",
      "55542659\n",
      "(2817, 18)\n"
     ]
    },
    {
     "name": "stderr",
     "output_type": "stream",
     "text": [
      "/home/tliu/lifesense/utils/lifesense_utils.py:167: RuntimeWarning: divide by zero encountered in log\n",
      "  label_group['entropy'] = -(np.log(label_group) * label_group).sum(axis=1)\n"
     ]
    },
    {
     "name": "stdout",
     "output_type": "stream",
     "text": [
      "81558830\n",
      "(4153, 18)\n"
     ]
    },
    {
     "name": "stderr",
     "output_type": "stream",
     "text": [
      "/home/tliu/lifesense/utils/lifesense_utils.py:167: RuntimeWarning: divide by zero encountered in log\n",
      "  label_group['entropy'] = -(np.log(label_group) * label_group).sum(axis=1)\n",
      "/home/tliu/lifesense/utils/lifesense_utils.py:167: RuntimeWarning: divide by zero encountered in log\n",
      "  label_group['entropy'] = -(np.log(label_group) * label_group).sum(axis=1)\n"
     ]
    },
    {
     "name": "stdout",
     "output_type": "stream",
     "text": [
      "56910929\n",
      "(609, 18)\n"
     ]
    },
    {
     "name": "stderr",
     "output_type": "stream",
     "text": [
      "/home/tliu/lifesense/utils/lifesense_utils.py:167: RuntimeWarning: divide by zero encountered in log\n",
      "  label_group['entropy'] = -(np.log(label_group) * label_group).sum(axis=1)\n"
     ]
    },
    {
     "name": "stdout",
     "output_type": "stream",
     "text": [
      "02970060\n",
      "(4230, 18)\n",
      "52581458\n",
      "(4328, 18)\n"
     ]
    },
    {
     "name": "stderr",
     "output_type": "stream",
     "text": [
      "/home/tliu/lifesense/utils/lifesense_utils.py:167: RuntimeWarning: divide by zero encountered in log\n",
      "  label_group['entropy'] = -(np.log(label_group) * label_group).sum(axis=1)\n",
      "/home/tliu/lifesense/utils/lifesense_utils.py:167: RuntimeWarning: divide by zero encountered in log\n",
      "  label_group['entropy'] = -(np.log(label_group) * label_group).sum(axis=1)\n"
     ]
    },
    {
     "name": "stdout",
     "output_type": "stream",
     "text": [
      "75437581\n",
      "(4316, 18)\n",
      "21894119\n",
      "(3458, 18)\n"
     ]
    },
    {
     "name": "stderr",
     "output_type": "stream",
     "text": [
      "/home/tliu/lifesense/utils/lifesense_utils.py:167: RuntimeWarning: divide by zero encountered in log\n",
      "  label_group['entropy'] = -(np.log(label_group) * label_group).sum(axis=1)\n",
      "/home/tliu/lifesense/utils/lifesense_utils.py:167: RuntimeWarning: divide by zero encountered in log\n",
      "  label_group['entropy'] = -(np.log(label_group) * label_group).sum(axis=1)\n"
     ]
    },
    {
     "name": "stdout",
     "output_type": "stream",
     "text": [
      "90229239\n",
      "(1113, 18)\n",
      "84902402\n",
      "(4503, 18)\n"
     ]
    },
    {
     "name": "stderr",
     "output_type": "stream",
     "text": [
      "/home/tliu/lifesense/utils/lifesense_utils.py:167: RuntimeWarning: divide by zero encountered in log\n",
      "  label_group['entropy'] = -(np.log(label_group) * label_group).sum(axis=1)\n"
     ]
    },
    {
     "name": "stdout",
     "output_type": "stream",
     "text": [
      "38588231\n",
      "(467, 18)\n"
     ]
    },
    {
     "name": "stderr",
     "output_type": "stream",
     "text": [
      "/home/tliu/lifesense/utils/lifesense_utils.py:167: RuntimeWarning: divide by zero encountered in log\n",
      "  label_group['entropy'] = -(np.log(label_group) * label_group).sum(axis=1)\n",
      "/home/tliu/lifesense/utils/lifesense_utils.py:167: RuntimeWarning: divide by zero encountered in log\n",
      "  label_group['entropy'] = -(np.log(label_group) * label_group).sum(axis=1)\n",
      "/home/tliu/lifesense/utils/lifesense_utils.py:167: RuntimeWarning: divide by zero encountered in log\n",
      "  label_group['entropy'] = -(np.log(label_group) * label_group).sum(axis=1)\n"
     ]
    },
    {
     "name": "stdout",
     "output_type": "stream",
     "text": [
      "72685265\n",
      "(4813, 18)\n",
      "62463869\n",
      "(4529, 18)\n",
      "53097921\n",
      "(2913, 18)\n"
     ]
    },
    {
     "name": "stderr",
     "output_type": "stream",
     "text": [
      "/home/tliu/lifesense/utils/lifesense_utils.py:167: RuntimeWarning: divide by zero encountered in log\n",
      "  label_group['entropy'] = -(np.log(label_group) * label_group).sum(axis=1)\n"
     ]
    },
    {
     "name": "stdout",
     "output_type": "stream",
     "text": [
      "42871706\n",
      "(1, 15)\n",
      "43292038\n",
      "11436422\n",
      "(4090, 18)\n"
     ]
    },
    {
     "name": "stderr",
     "output_type": "stream",
     "text": [
      "/home/tliu/lifesense/utils/lifesense_utils.py:167: RuntimeWarning: divide by zero encountered in log\n",
      "  label_group['entropy'] = -(np.log(label_group) * label_group).sum(axis=1)\n"
     ]
    },
    {
     "name": "stdout",
     "output_type": "stream",
     "text": [
      "28540480\n",
      "(3934, 18)\n"
     ]
    },
    {
     "name": "stderr",
     "output_type": "stream",
     "text": [
      "/home/tliu/lifesense/utils/lifesense_utils.py:167: RuntimeWarning: divide by zero encountered in log\n",
      "  label_group['entropy'] = -(np.log(label_group) * label_group).sum(axis=1)\n"
     ]
    },
    {
     "name": "stdout",
     "output_type": "stream",
     "text": [
      "45761494\n",
      "40932643\n",
      "(410, 18)\n"
     ]
    },
    {
     "name": "stderr",
     "output_type": "stream",
     "text": [
      "/home/tliu/lifesense/utils/lifesense_utils.py:167: RuntimeWarning: divide by zero encountered in log\n",
      "  label_group['entropy'] = -(np.log(label_group) * label_group).sum(axis=1)\n",
      "/home/tliu/lifesense/utils/lifesense_utils.py:167: RuntimeWarning: divide by zero encountered in log\n",
      "  label_group['entropy'] = -(np.log(label_group) * label_group).sum(axis=1)\n"
     ]
    },
    {
     "name": "stdout",
     "output_type": "stream",
     "text": [
      "07974290\n",
      "(710, 18)\n",
      "23388083\n",
      "(3893, 18)\n"
     ]
    },
    {
     "name": "stderr",
     "output_type": "stream",
     "text": [
      "/home/tliu/lifesense/utils/lifesense_utils.py:167: RuntimeWarning: divide by zero encountered in log\n",
      "  label_group['entropy'] = -(np.log(label_group) * label_group).sum(axis=1)\n"
     ]
    },
    {
     "name": "stdout",
     "output_type": "stream",
     "text": [
      "81249330\n",
      "(707, 18)\n"
     ]
    },
    {
     "name": "stderr",
     "output_type": "stream",
     "text": [
      "/home/tliu/lifesense/utils/lifesense_utils.py:167: RuntimeWarning: divide by zero encountered in log\n",
      "  label_group['entropy'] = -(np.log(label_group) * label_group).sum(axis=1)\n",
      "/home/tliu/lifesense/utils/lifesense_utils.py:167: RuntimeWarning: divide by zero encountered in log\n",
      "  label_group['entropy'] = -(np.log(label_group) * label_group).sum(axis=1)\n",
      "/home/tliu/lifesense/utils/lifesense_utils.py:167: RuntimeWarning: divide by zero encountered in log\n",
      "  label_group['entropy'] = -(np.log(label_group) * label_group).sum(axis=1)\n"
     ]
    },
    {
     "name": "stdout",
     "output_type": "stream",
     "text": [
      "68744652\n",
      "(2469, 18)\n",
      "99127649\n",
      "(991, 18)\n",
      "41606321\n",
      "(4275, 18)\n"
     ]
    },
    {
     "name": "stderr",
     "output_type": "stream",
     "text": [
      "/home/tliu/lifesense/utils/lifesense_utils.py:167: RuntimeWarning: divide by zero encountered in log\n",
      "  label_group['entropy'] = -(np.log(label_group) * label_group).sum(axis=1)\n",
      "/home/tliu/lifesense/utils/lifesense_utils.py:167: RuntimeWarning: divide by zero encountered in log\n",
      "  label_group['entropy'] = -(np.log(label_group) * label_group).sum(axis=1)\n"
     ]
    },
    {
     "name": "stdout",
     "output_type": "stream",
     "text": [
      "80657933\n",
      "54461187\n",
      "(3835, 18)\n",
      "(2580, 18)\n",
      "32309079\n",
      "(4726, 18)\n",
      "43589028\n",
      "(4049, 18)\n"
     ]
    },
    {
     "name": "stderr",
     "output_type": "stream",
     "text": [
      "/home/tliu/lifesense/utils/lifesense_utils.py:167: RuntimeWarning: divide by zero encountered in log\n",
      "  label_group['entropy'] = -(np.log(label_group) * label_group).sum(axis=1)\n"
     ]
    },
    {
     "name": "stdout",
     "output_type": "stream",
     "text": [
      "17328943\n",
      "(2408, 18)\n"
     ]
    },
    {
     "name": "stderr",
     "output_type": "stream",
     "text": [
      "/home/tliu/lifesense/utils/lifesense_utils.py:167: RuntimeWarning: divide by zero encountered in log\n",
      "  label_group['entropy'] = -(np.log(label_group) * label_group).sum(axis=1)\n",
      "/home/tliu/lifesense/utils/lifesense_utils.py:167: RuntimeWarning: divide by zero encountered in log\n",
      "  label_group['entropy'] = -(np.log(label_group) * label_group).sum(axis=1)\n"
     ]
    },
    {
     "name": "stdout",
     "output_type": "stream",
     "text": [
      "18156803\n",
      "(2742, 18)\n",
      "22498610\n",
      "(2439, 18)\n",
      "57473014\n",
      "(4279, 18)\n"
     ]
    },
    {
     "name": "stderr",
     "output_type": "stream",
     "text": [
      "/home/tliu/lifesense/utils/lifesense_utils.py:167: RuntimeWarning: divide by zero encountered in log\n",
      "  label_group['entropy'] = -(np.log(label_group) * label_group).sum(axis=1)\n"
     ]
    },
    {
     "name": "stdout",
     "output_type": "stream",
     "text": [
      "74589634\n",
      "(4393, 18)\n"
     ]
    },
    {
     "name": "stderr",
     "output_type": "stream",
     "text": [
      "/home/tliu/lifesense/utils/lifesense_utils.py:167: RuntimeWarning: divide by zero encountered in log\n",
      "  label_group['entropy'] = -(np.log(label_group) * label_group).sum(axis=1)\n"
     ]
    },
    {
     "name": "stdout",
     "output_type": "stream",
     "text": [
      "02144163\n",
      "(628, 18)\n"
     ]
    },
    {
     "name": "stderr",
     "output_type": "stream",
     "text": [
      "/home/tliu/lifesense/utils/lifesense_utils.py:167: RuntimeWarning: divide by zero encountered in log\n",
      "  label_group['entropy'] = -(np.log(label_group) * label_group).sum(axis=1)\n"
     ]
    },
    {
     "name": "stdout",
     "output_type": "stream",
     "text": [
      "78352234\n",
      "(4785, 18)\n"
     ]
    },
    {
     "name": "stderr",
     "output_type": "stream",
     "text": [
      "/home/tliu/lifesense/utils/lifesense_utils.py:167: RuntimeWarning: divide by zero encountered in log\n",
      "  label_group['entropy'] = -(np.log(label_group) * label_group).sum(axis=1)\n"
     ]
    },
    {
     "name": "stdout",
     "output_type": "stream",
     "text": [
      "55979795\n",
      "(3602, 18)\n"
     ]
    },
    {
     "name": "stderr",
     "output_type": "stream",
     "text": [
      "/home/tliu/lifesense/utils/lifesense_utils.py:167: RuntimeWarning: divide by zero encountered in log\n",
      "  label_group['entropy'] = -(np.log(label_group) * label_group).sum(axis=1)\n",
      "/home/tliu/lifesense/utils/lifesense_utils.py:167: RuntimeWarning: invalid value encountered in log\n",
      "  label_group['entropy'] = -(np.log(label_group) * label_group).sum(axis=1)\n",
      "/home/tliu/lifesense/utils/lifesense_utils.py:167: RuntimeWarning: divide by zero encountered in log\n",
      "  label_group['entropy'] = -(np.log(label_group) * label_group).sum(axis=1)\n"
     ]
    },
    {
     "name": "stdout",
     "output_type": "stream",
     "text": [
      "11770862\n",
      "(469, 18)\n"
     ]
    },
    {
     "name": "stderr",
     "output_type": "stream",
     "text": [
      "/home/tliu/lifesense/utils/lifesense_utils.py:167: RuntimeWarning: divide by zero encountered in log\n",
      "  label_group['entropy'] = -(np.log(label_group) * label_group).sum(axis=1)\n"
     ]
    },
    {
     "name": "stdout",
     "output_type": "stream",
     "text": [
      "71189891\n",
      "(3680, 18)\n",
      "03384972\n",
      "(2918, 18)\n"
     ]
    },
    {
     "name": "stderr",
     "output_type": "stream",
     "text": [
      "/home/tliu/lifesense/utils/lifesense_utils.py:167: RuntimeWarning: divide by zero encountered in log\n",
      "  label_group['entropy'] = -(np.log(label_group) * label_group).sum(axis=1)\n",
      "/home/tliu/lifesense/utils/lifesense_utils.py:167: RuntimeWarning: divide by zero encountered in log\n",
      "  label_group['entropy'] = -(np.log(label_group) * label_group).sum(axis=1)\n"
     ]
    },
    {
     "name": "stdout",
     "output_type": "stream",
     "text": [
      "54841471\n",
      "(3573, 18)\n",
      "39561926\n",
      "(4114, 18)\n"
     ]
    },
    {
     "name": "stderr",
     "output_type": "stream",
     "text": [
      "/home/tliu/lifesense/utils/lifesense_utils.py:167: RuntimeWarning: divide by zero encountered in log\n",
      "  label_group['entropy'] = -(np.log(label_group) * label_group).sum(axis=1)\n",
      "/home/tliu/lifesense/utils/lifesense_utils.py:167: RuntimeWarning: invalid value encountered in log\n",
      "  label_group['entropy'] = -(np.log(label_group) * label_group).sum(axis=1)\n",
      "/home/tliu/lifesense/utils/lifesense_utils.py:167: RuntimeWarning: divide by zero encountered in log\n",
      "  label_group['entropy'] = -(np.log(label_group) * label_group).sum(axis=1)\n"
     ]
    },
    {
     "name": "stdout",
     "output_type": "stream",
     "text": [
      "78681731\n",
      "(4159, 18)\n"
     ]
    },
    {
     "name": "stderr",
     "output_type": "stream",
     "text": [
      "/home/tliu/lifesense/utils/lifesense_utils.py:167: RuntimeWarning: divide by zero encountered in log\n",
      "  label_group['entropy'] = -(np.log(label_group) * label_group).sum(axis=1)\n"
     ]
    },
    {
     "name": "stdout",
     "output_type": "stream",
     "text": [
      "61131074\n",
      "(4605, 18)\n",
      "73960495\n",
      "(3979, 18)\n"
     ]
    },
    {
     "name": "stderr",
     "output_type": "stream",
     "text": [
      "/home/tliu/lifesense/utils/lifesense_utils.py:167: RuntimeWarning: divide by zero encountered in log\n",
      "  label_group['entropy'] = -(np.log(label_group) * label_group).sum(axis=1)\n"
     ]
    },
    {
     "name": "stdout",
     "output_type": "stream",
     "text": [
      "11927637\n",
      "(2500, 18)\n"
     ]
    },
    {
     "name": "stderr",
     "output_type": "stream",
     "text": [
      "/home/tliu/lifesense/utils/lifesense_utils.py:167: RuntimeWarning: divide by zero encountered in log\n",
      "  label_group['entropy'] = -(np.log(label_group) * label_group).sum(axis=1)\n"
     ]
    },
    {
     "name": "stdout",
     "output_type": "stream",
     "text": [
      "03939827\n",
      "(462, 18)\n"
     ]
    },
    {
     "name": "stderr",
     "output_type": "stream",
     "text": [
      "/home/tliu/lifesense/utils/lifesense_utils.py:167: RuntimeWarning: divide by zero encountered in log\n",
      "  label_group['entropy'] = -(np.log(label_group) * label_group).sum(axis=1)\n"
     ]
    },
    {
     "name": "stdout",
     "output_type": "stream",
     "text": [
      "27762780\n",
      "(4481, 18)\n"
     ]
    },
    {
     "name": "stderr",
     "output_type": "stream",
     "text": [
      "/home/tliu/lifesense/utils/lifesense_utils.py:167: RuntimeWarning: divide by zero encountered in log\n",
      "  label_group['entropy'] = -(np.log(label_group) * label_group).sum(axis=1)\n",
      "/home/tliu/lifesense/utils/lifesense_utils.py:167: RuntimeWarning: divide by zero encountered in log\n",
      "  label_group['entropy'] = -(np.log(label_group) * label_group).sum(axis=1)\n"
     ]
    },
    {
     "name": "stdout",
     "output_type": "stream",
     "text": [
      "90763832\n",
      "(4783, 18)\n",
      "19663467\n",
      "(2991, 18)\n"
     ]
    },
    {
     "name": "stderr",
     "output_type": "stream",
     "text": [
      "/home/tliu/lifesense/utils/lifesense_utils.py:167: RuntimeWarning: divide by zero encountered in log\n",
      "  label_group['entropy'] = -(np.log(label_group) * label_group).sum(axis=1)\n",
      "/home/tliu/lifesense/utils/lifesense_utils.py:167: RuntimeWarning: divide by zero encountered in log\n",
      "  label_group['entropy'] = -(np.log(label_group) * label_group).sum(axis=1)\n"
     ]
    },
    {
     "name": "stdout",
     "output_type": "stream",
     "text": [
      "09269616\n",
      "(3527, 18)\n"
     ]
    },
    {
     "name": "stderr",
     "output_type": "stream",
     "text": [
      "/home/tliu/lifesense/utils/lifesense_utils.py:167: RuntimeWarning: divide by zero encountered in log\n",
      "  label_group['entropy'] = -(np.log(label_group) * label_group).sum(axis=1)\n"
     ]
    },
    {
     "name": "stdout",
     "output_type": "stream",
     "text": [
      "72038219\n",
      "(2649, 18)\n",
      "71745031\n",
      "53874087\n",
      "(3519, 18)\n",
      "36795256\n",
      "(4482, 18)\n"
     ]
    },
    {
     "name": "stderr",
     "output_type": "stream",
     "text": [
      "/home/tliu/lifesense/utils/lifesense_utils.py:167: RuntimeWarning: divide by zero encountered in log\n",
      "  label_group['entropy'] = -(np.log(label_group) * label_group).sum(axis=1)\n",
      "/home/tliu/lifesense/utils/lifesense_utils.py:167: RuntimeWarning: divide by zero encountered in log\n",
      "  label_group['entropy'] = -(np.log(label_group) * label_group).sum(axis=1)\n"
     ]
    },
    {
     "name": "stdout",
     "output_type": "stream",
     "text": [
      "08007167\n",
      "(4573, 18)\n",
      "26080346\n",
      "(3346, 18)\n"
     ]
    },
    {
     "name": "stderr",
     "output_type": "stream",
     "text": [
      "/home/tliu/lifesense/utils/lifesense_utils.py:167: RuntimeWarning: divide by zero encountered in log\n",
      "  label_group['entropy'] = -(np.log(label_group) * label_group).sum(axis=1)\n",
      "/home/tliu/lifesense/utils/lifesense_utils.py:167: RuntimeWarning: divide by zero encountered in log\n",
      "  label_group['entropy'] = -(np.log(label_group) * label_group).sum(axis=1)\n",
      "/home/tliu/lifesense/utils/lifesense_utils.py:167: RuntimeWarning: divide by zero encountered in log\n",
      "  label_group['entropy'] = -(np.log(label_group) * label_group).sum(axis=1)\n",
      "/home/tliu/lifesense/utils/lifesense_utils.py:167: RuntimeWarning: invalid value encountered in log\n",
      "  label_group['entropy'] = -(np.log(label_group) * label_group).sum(axis=1)\n"
     ]
    },
    {
     "name": "stdout",
     "output_type": "stream",
     "text": [
      "87400142\n",
      "(3978, 18)\n",
      "73326278\n",
      "(3440, 18)\n",
      "80206225\n",
      "(5592, 18)\n",
      "29384065\n",
      "(3186, 18)\n"
     ]
    },
    {
     "name": "stderr",
     "output_type": "stream",
     "text": [
      "/home/tliu/lifesense/utils/lifesense_utils.py:167: RuntimeWarning: divide by zero encountered in log\n",
      "  label_group['entropy'] = -(np.log(label_group) * label_group).sum(axis=1)\n",
      "/home/tliu/lifesense/utils/lifesense_utils.py:167: RuntimeWarning: divide by zero encountered in log\n",
      "  label_group['entropy'] = -(np.log(label_group) * label_group).sum(axis=1)\n",
      "/home/tliu/lifesense/utils/lifesense_utils.py:167: RuntimeWarning: divide by zero encountered in log\n",
      "  label_group['entropy'] = -(np.log(label_group) * label_group).sum(axis=1)\n",
      "/home/tliu/lifesense/utils/lifesense_utils.py:167: RuntimeWarning: divide by zero encountered in log\n",
      "  label_group['entropy'] = -(np.log(label_group) * label_group).sum(axis=1)\n"
     ]
    },
    {
     "name": "stdout",
     "output_type": "stream",
     "text": [
      "54004910\n",
      "(4098, 18)\n",
      "55915099\n",
      "(3308, 18)\n",
      "46175798\n",
      "(3720, 18)\n",
      "53236058\n",
      "(2011, 18)\n"
     ]
    },
    {
     "name": "stderr",
     "output_type": "stream",
     "text": [
      "/home/tliu/lifesense/utils/lifesense_utils.py:167: RuntimeWarning: divide by zero encountered in log\n",
      "  label_group['entropy'] = -(np.log(label_group) * label_group).sum(axis=1)\n"
     ]
    },
    {
     "name": "stdout",
     "output_type": "stream",
     "text": [
      "80700486\n",
      "(3752, 18)\n"
     ]
    },
    {
     "name": "stderr",
     "output_type": "stream",
     "text": [
      "/home/tliu/lifesense/utils/lifesense_utils.py:167: RuntimeWarning: divide by zero encountered in log\n",
      "  label_group['entropy'] = -(np.log(label_group) * label_group).sum(axis=1)\n"
     ]
    },
    {
     "name": "stdout",
     "output_type": "stream",
     "text": [
      "65149091\n",
      "(2030, 18)\n"
     ]
    },
    {
     "name": "stderr",
     "output_type": "stream",
     "text": [
      "/home/tliu/lifesense/utils/lifesense_utils.py:167: RuntimeWarning: divide by zero encountered in log\n",
      "  label_group['entropy'] = -(np.log(label_group) * label_group).sum(axis=1)\n"
     ]
    },
    {
     "name": "stdout",
     "output_type": "stream",
     "text": [
      "13567195\n",
      "(4075, 18)\n"
     ]
    },
    {
     "name": "stderr",
     "output_type": "stream",
     "text": [
      "/home/tliu/lifesense/utils/lifesense_utils.py:167: RuntimeWarning: divide by zero encountered in log\n",
      "  label_group['entropy'] = -(np.log(label_group) * label_group).sum(axis=1)\n"
     ]
    },
    {
     "name": "stdout",
     "output_type": "stream",
     "text": [
      "70027963\n",
      "50939076\n",
      "(527, 18)\n"
     ]
    },
    {
     "name": "stderr",
     "output_type": "stream",
     "text": [
      "/home/tliu/lifesense/utils/lifesense_utils.py:167: RuntimeWarning: divide by zero encountered in log\n",
      "  label_group['entropy'] = -(np.log(label_group) * label_group).sum(axis=1)\n"
     ]
    },
    {
     "name": "stdout",
     "output_type": "stream",
     "text": [
      "65741560\n",
      "(3877, 18)\n"
     ]
    },
    {
     "name": "stderr",
     "output_type": "stream",
     "text": [
      "/home/tliu/lifesense/utils/lifesense_utils.py:167: RuntimeWarning: divide by zero encountered in log\n",
      "  label_group['entropy'] = -(np.log(label_group) * label_group).sum(axis=1)\n"
     ]
    },
    {
     "name": "stdout",
     "output_type": "stream",
     "text": [
      "62599280\n",
      "(826, 18)\n",
      "12616311\n",
      "(4121, 18)\n",
      "45517860\n",
      "(3689, 18)\n"
     ]
    },
    {
     "name": "stderr",
     "output_type": "stream",
     "text": [
      "/home/tliu/lifesense/utils/lifesense_utils.py:167: RuntimeWarning: divide by zero encountered in log\n",
      "  label_group['entropy'] = -(np.log(label_group) * label_group).sum(axis=1)\n"
     ]
    },
    {
     "name": "stdout",
     "output_type": "stream",
     "text": [
      "83963249\n",
      "(735, 18)\n"
     ]
    },
    {
     "name": "stderr",
     "output_type": "stream",
     "text": [
      "/home/tliu/lifesense/utils/lifesense_utils.py:167: RuntimeWarning: divide by zero encountered in log\n",
      "  label_group['entropy'] = -(np.log(label_group) * label_group).sum(axis=1)\n",
      "/home/tliu/lifesense/utils/lifesense_utils.py:167: RuntimeWarning: divide by zero encountered in log\n",
      "  label_group['entropy'] = -(np.log(label_group) * label_group).sum(axis=1)\n"
     ]
    },
    {
     "name": "stdout",
     "output_type": "stream",
     "text": [
      "43093019\n",
      "(3410, 18)\n"
     ]
    },
    {
     "name": "stderr",
     "output_type": "stream",
     "text": [
      "/home/tliu/lifesense/utils/lifesense_utils.py:167: RuntimeWarning: divide by zero encountered in log\n",
      "  label_group['entropy'] = -(np.log(label_group) * label_group).sum(axis=1)\n"
     ]
    },
    {
     "name": "stdout",
     "output_type": "stream",
     "text": [
      "35493515\n",
      "(3102, 18)\n",
      "03578019\n",
      "(3184, 18)\n"
     ]
    },
    {
     "name": "stderr",
     "output_type": "stream",
     "text": [
      "/home/tliu/lifesense/utils/lifesense_utils.py:167: RuntimeWarning: divide by zero encountered in log\n",
      "  label_group['entropy'] = -(np.log(label_group) * label_group).sum(axis=1)\n"
     ]
    },
    {
     "name": "stdout",
     "output_type": "stream",
     "text": [
      "06400675\n",
      "(4622, 18)\n"
     ]
    },
    {
     "name": "stderr",
     "output_type": "stream",
     "text": [
      "/home/tliu/lifesense/utils/lifesense_utils.py:167: RuntimeWarning: divide by zero encountered in log\n",
      "  label_group['entropy'] = -(np.log(label_group) * label_group).sum(axis=1)\n",
      "/home/tliu/lifesense/utils/lifesense_utils.py:167: RuntimeWarning: divide by zero encountered in log\n",
      "  label_group['entropy'] = -(np.log(label_group) * label_group).sum(axis=1)\n",
      "/home/tliu/lifesense/utils/lifesense_utils.py:167: RuntimeWarning: divide by zero encountered in log\n",
      "  label_group['entropy'] = -(np.log(label_group) * label_group).sum(axis=1)\n"
     ]
    },
    {
     "name": "stdout",
     "output_type": "stream",
     "text": [
      "83275234\n",
      "(2424, 18)\n",
      "05565365\n",
      "(4106, 18)\n"
     ]
    },
    {
     "name": "stderr",
     "output_type": "stream",
     "text": [
      "/home/tliu/lifesense/utils/lifesense_utils.py:167: RuntimeWarning: divide by zero encountered in log\n",
      "  label_group['entropy'] = -(np.log(label_group) * label_group).sum(axis=1)\n"
     ]
    },
    {
     "name": "stdout",
     "output_type": "stream",
     "text": [
      "14549710\n",
      "(3721, 18)\n"
     ]
    },
    {
     "name": "stderr",
     "output_type": "stream",
     "text": [
      "/home/tliu/lifesense/utils/lifesense_utils.py:167: RuntimeWarning: divide by zero encountered in log\n",
      "  label_group['entropy'] = -(np.log(label_group) * label_group).sum(axis=1)\n"
     ]
    },
    {
     "name": "stdout",
     "output_type": "stream",
     "text": [
      "83062037\n",
      "(4681, 18)\n",
      "89346491\n",
      "(4247, 18)\n"
     ]
    },
    {
     "name": "stderr",
     "output_type": "stream",
     "text": [
      "/home/tliu/lifesense/utils/lifesense_utils.py:167: RuntimeWarning: divide by zero encountered in log\n",
      "  label_group['entropy'] = -(np.log(label_group) * label_group).sum(axis=1)\n"
     ]
    },
    {
     "name": "stdout",
     "output_type": "stream",
     "text": [
      "87929316\n",
      "(830, 18)\n"
     ]
    },
    {
     "name": "stderr",
     "output_type": "stream",
     "text": [
      "/home/tliu/lifesense/utils/lifesense_utils.py:167: RuntimeWarning: divide by zero encountered in log\n",
      "  label_group['entropy'] = -(np.log(label_group) * label_group).sum(axis=1)\n"
     ]
    },
    {
     "name": "stdout",
     "output_type": "stream",
     "text": [
      "42215399\n",
      "(3054, 18)\n"
     ]
    },
    {
     "name": "stderr",
     "output_type": "stream",
     "text": [
      "/home/tliu/lifesense/utils/lifesense_utils.py:167: RuntimeWarning: divide by zero encountered in log\n",
      "  label_group['entropy'] = -(np.log(label_group) * label_group).sum(axis=1)\n",
      "/home/tliu/lifesense/utils/lifesense_utils.py:167: RuntimeWarning: divide by zero encountered in log\n",
      "  label_group['entropy'] = -(np.log(label_group) * label_group).sum(axis=1)\n"
     ]
    },
    {
     "name": "stdout",
     "output_type": "stream",
     "text": [
      "79510141\n",
      "(3777, 18)\n",
      "66507502\n",
      "(4528, 18)\n"
     ]
    },
    {
     "name": "stderr",
     "output_type": "stream",
     "text": [
      "/home/tliu/lifesense/utils/lifesense_utils.py:167: RuntimeWarning: divide by zero encountered in log\n",
      "  label_group['entropy'] = -(np.log(label_group) * label_group).sum(axis=1)\n",
      "/home/tliu/lifesense/utils/lifesense_utils.py:167: RuntimeWarning: divide by zero encountered in log\n",
      "  label_group['entropy'] = -(np.log(label_group) * label_group).sum(axis=1)\n"
     ]
    },
    {
     "name": "stdout",
     "output_type": "stream",
     "text": [
      "27330785\n",
      "(3763, 18)\n",
      "08103884\n",
      "(4274, 18)\n",
      "55463070\n",
      "(3557, 18)\n"
     ]
    },
    {
     "name": "stderr",
     "output_type": "stream",
     "text": [
      "/home/tliu/lifesense/utils/lifesense_utils.py:167: RuntimeWarning: divide by zero encountered in log\n",
      "  label_group['entropy'] = -(np.log(label_group) * label_group).sum(axis=1)\n"
     ]
    },
    {
     "name": "stdout",
     "output_type": "stream",
     "text": [
      "59764431\n",
      "(3908, 18)\n"
     ]
    },
    {
     "name": "stderr",
     "output_type": "stream",
     "text": [
      "/home/tliu/lifesense/utils/lifesense_utils.py:167: RuntimeWarning: divide by zero encountered in log\n",
      "  label_group['entropy'] = -(np.log(label_group) * label_group).sum(axis=1)\n",
      "/home/tliu/lifesense/utils/lifesense_utils.py:167: RuntimeWarning: divide by zero encountered in log\n",
      "  label_group['entropy'] = -(np.log(label_group) * label_group).sum(axis=1)\n"
     ]
    },
    {
     "name": "stdout",
     "output_type": "stream",
     "text": [
      "44933937\n",
      "(1501, 18)\n"
     ]
    },
    {
     "name": "stderr",
     "output_type": "stream",
     "text": [
      "/home/tliu/lifesense/utils/lifesense_utils.py:167: RuntimeWarning: divide by zero encountered in log\n",
      "  label_group['entropy'] = -(np.log(label_group) * label_group).sum(axis=1)\n"
     ]
    },
    {
     "name": "stdout",
     "output_type": "stream",
     "text": [
      "17294720\n",
      "(3635, 18)\n"
     ]
    },
    {
     "name": "stderr",
     "output_type": "stream",
     "text": [
      "/home/tliu/lifesense/utils/lifesense_utils.py:167: RuntimeWarning: divide by zero encountered in log\n",
      "  label_group['entropy'] = -(np.log(label_group) * label_group).sum(axis=1)\n"
     ]
    },
    {
     "name": "stdout",
     "output_type": "stream",
     "text": [
      "35576469\n",
      "(3271, 18)\n",
      "28021601\n",
      "(1937, 18)\n"
     ]
    },
    {
     "name": "stderr",
     "output_type": "stream",
     "text": [
      "/home/tliu/lifesense/utils/lifesense_utils.py:167: RuntimeWarning: divide by zero encountered in log\n",
      "  label_group['entropy'] = -(np.log(label_group) * label_group).sum(axis=1)\n"
     ]
    },
    {
     "name": "stdout",
     "output_type": "stream",
     "text": [
      "76562623\n",
      "(2084, 18)\n"
     ]
    },
    {
     "name": "stderr",
     "output_type": "stream",
     "text": [
      "/home/tliu/lifesense/utils/lifesense_utils.py:167: RuntimeWarning: divide by zero encountered in log\n",
      "  label_group['entropy'] = -(np.log(label_group) * label_group).sum(axis=1)\n"
     ]
    },
    {
     "name": "stdout",
     "output_type": "stream",
     "text": [
      "76366191\n",
      "(3975, 18)\n"
     ]
    },
    {
     "name": "stderr",
     "output_type": "stream",
     "text": [
      "/home/tliu/lifesense/utils/lifesense_utils.py:167: RuntimeWarning: divide by zero encountered in log\n",
      "  label_group['entropy'] = -(np.log(label_group) * label_group).sum(axis=1)\n",
      "/home/tliu/lifesense/utils/lifesense_utils.py:167: RuntimeWarning: divide by zero encountered in log\n",
      "  label_group['entropy'] = -(np.log(label_group) * label_group).sum(axis=1)\n"
     ]
    },
    {
     "name": "stdout",
     "output_type": "stream",
     "text": [
      "64142475\n",
      "(1701, 18)\n"
     ]
    },
    {
     "name": "stderr",
     "output_type": "stream",
     "text": [
      "/home/tliu/lifesense/utils/lifesense_utils.py:167: RuntimeWarning: divide by zero encountered in log\n",
      "  label_group['entropy'] = -(np.log(label_group) * label_group).sum(axis=1)\n"
     ]
    },
    {
     "name": "stdout",
     "output_type": "stream",
     "text": [
      "10099555\n",
      "(4397, 18)\n"
     ]
    },
    {
     "name": "stderr",
     "output_type": "stream",
     "text": [
      "/home/tliu/lifesense/utils/lifesense_utils.py:167: RuntimeWarning: divide by zero encountered in log\n",
      "  label_group['entropy'] = -(np.log(label_group) * label_group).sum(axis=1)\n"
     ]
    },
    {
     "name": "stdout",
     "output_type": "stream",
     "text": [
      "58740880\n",
      "(4258, 18)\n"
     ]
    },
    {
     "name": "stderr",
     "output_type": "stream",
     "text": [
      "/home/tliu/lifesense/utils/lifesense_utils.py:167: RuntimeWarning: divide by zero encountered in log\n",
      "  label_group['entropy'] = -(np.log(label_group) * label_group).sum(axis=1)\n"
     ]
    },
    {
     "name": "stdout",
     "output_type": "stream",
     "text": [
      "74626135\n",
      "(2816, 18)\n",
      "28458341\n",
      "(4483, 18)\n"
     ]
    },
    {
     "name": "stderr",
     "output_type": "stream",
     "text": [
      "/home/tliu/lifesense/utils/lifesense_utils.py:167: RuntimeWarning: divide by zero encountered in log\n",
      "  label_group['entropy'] = -(np.log(label_group) * label_group).sum(axis=1)\n"
     ]
    },
    {
     "name": "stdout",
     "output_type": "stream",
     "text": [
      "22656406\n",
      "(4347, 18)\n"
     ]
    },
    {
     "name": "stderr",
     "output_type": "stream",
     "text": [
      "/home/tliu/lifesense/utils/lifesense_utils.py:167: RuntimeWarning: divide by zero encountered in log\n",
      "  label_group['entropy'] = -(np.log(label_group) * label_group).sum(axis=1)\n",
      "/home/tliu/lifesense/utils/lifesense_utils.py:167: RuntimeWarning: invalid value encountered in log\n",
      "  label_group['entropy'] = -(np.log(label_group) * label_group).sum(axis=1)\n"
     ]
    },
    {
     "name": "stdout",
     "output_type": "stream",
     "text": [
      "90587846\n",
      "(3805, 18)\n"
     ]
    },
    {
     "name": "stderr",
     "output_type": "stream",
     "text": [
      "/home/tliu/lifesense/utils/lifesense_utils.py:167: RuntimeWarning: divide by zero encountered in log\n",
      "  label_group['entropy'] = -(np.log(label_group) * label_group).sum(axis=1)\n"
     ]
    },
    {
     "name": "stdout",
     "output_type": "stream",
     "text": [
      "50707558\n",
      "(4035, 18)\n"
     ]
    },
    {
     "name": "stderr",
     "output_type": "stream",
     "text": [
      "/home/tliu/lifesense/utils/lifesense_utils.py:167: RuntimeWarning: divide by zero encountered in log\n",
      "  label_group['entropy'] = -(np.log(label_group) * label_group).sum(axis=1)\n",
      "/home/tliu/lifesense/utils/lifesense_utils.py:167: RuntimeWarning: divide by zero encountered in log\n",
      "  label_group['entropy'] = -(np.log(label_group) * label_group).sum(axis=1)\n"
     ]
    },
    {
     "name": "stdout",
     "output_type": "stream",
     "text": [
      "90934495\n",
      "(4029, 18)\n",
      "84877086\n",
      "(3958, 18)\n"
     ]
    },
    {
     "name": "stderr",
     "output_type": "stream",
     "text": [
      "/home/tliu/lifesense/utils/lifesense_utils.py:167: RuntimeWarning: divide by zero encountered in log\n",
      "  label_group['entropy'] = -(np.log(label_group) * label_group).sum(axis=1)\n",
      "/home/tliu/lifesense/utils/lifesense_utils.py:167: RuntimeWarning: divide by zero encountered in log\n",
      "  label_group['entropy'] = -(np.log(label_group) * label_group).sum(axis=1)\n",
      "/home/tliu/lifesense/utils/lifesense_utils.py:167: RuntimeWarning: invalid value encountered in log\n",
      "  label_group['entropy'] = -(np.log(label_group) * label_group).sum(axis=1)\n"
     ]
    },
    {
     "name": "stdout",
     "output_type": "stream",
     "text": [
      "07854544\n",
      "74805749\n",
      "(4084, 18)\n",
      "29149362\n",
      "(4141, 18)\n"
     ]
    },
    {
     "name": "stderr",
     "output_type": "stream",
     "text": [
      "/home/tliu/lifesense/utils/lifesense_utils.py:167: RuntimeWarning: divide by zero encountered in log\n",
      "  label_group['entropy'] = -(np.log(label_group) * label_group).sum(axis=1)\n"
     ]
    },
    {
     "name": "stdout",
     "output_type": "stream",
     "text": [
      "91048552\n",
      "(1863, 18)\n"
     ]
    },
    {
     "name": "stderr",
     "output_type": "stream",
     "text": [
      "/home/tliu/lifesense/utils/lifesense_utils.py:167: RuntimeWarning: divide by zero encountered in log\n",
      "  label_group['entropy'] = -(np.log(label_group) * label_group).sum(axis=1)\n"
     ]
    },
    {
     "name": "stdout",
     "output_type": "stream",
     "text": [
      "99338619\n",
      "(4494, 18)\n"
     ]
    },
    {
     "name": "stderr",
     "output_type": "stream",
     "text": [
      "/home/tliu/lifesense/utils/lifesense_utils.py:167: RuntimeWarning: divide by zero encountered in log\n",
      "  label_group['entropy'] = -(np.log(label_group) * label_group).sum(axis=1)\n",
      "/home/tliu/lifesense/utils/lifesense_utils.py:167: RuntimeWarning: divide by zero encountered in log\n",
      "  label_group['entropy'] = -(np.log(label_group) * label_group).sum(axis=1)\n"
     ]
    },
    {
     "name": "stdout",
     "output_type": "stream",
     "text": [
      "51735262\n",
      "(2225, 18)\n",
      "48315222\n",
      "(2558, 18)\n"
     ]
    },
    {
     "name": "stderr",
     "output_type": "stream",
     "text": [
      "/home/tliu/lifesense/utils/lifesense_utils.py:167: RuntimeWarning: divide by zero encountered in log\n",
      "  label_group['entropy'] = -(np.log(label_group) * label_group).sum(axis=1)\n",
      "/home/tliu/lifesense/utils/lifesense_utils.py:167: RuntimeWarning: divide by zero encountered in log\n",
      "  label_group['entropy'] = -(np.log(label_group) * label_group).sum(axis=1)\n",
      "/home/tliu/lifesense/utils/lifesense_utils.py:167: RuntimeWarning: invalid value encountered in log\n",
      "  label_group['entropy'] = -(np.log(label_group) * label_group).sum(axis=1)\n"
     ]
    },
    {
     "name": "stdout",
     "output_type": "stream",
     "text": [
      "78327476\n",
      "(4405, 18)\n",
      "01225297\n",
      "(1759, 18)\n"
     ]
    },
    {
     "name": "stderr",
     "output_type": "stream",
     "text": [
      "/home/tliu/lifesense/utils/lifesense_utils.py:167: RuntimeWarning: divide by zero encountered in log\n",
      "  label_group['entropy'] = -(np.log(label_group) * label_group).sum(axis=1)\n",
      "/home/tliu/lifesense/utils/lifesense_utils.py:167: RuntimeWarning: invalid value encountered in log\n",
      "  label_group['entropy'] = -(np.log(label_group) * label_group).sum(axis=1)\n",
      "/home/tliu/lifesense/utils/lifesense_utils.py:167: RuntimeWarning: divide by zero encountered in log\n",
      "  label_group['entropy'] = -(np.log(label_group) * label_group).sum(axis=1)\n",
      "/home/tliu/lifesense/utils/lifesense_utils.py:167: RuntimeWarning: divide by zero encountered in log\n",
      "  label_group['entropy'] = -(np.log(label_group) * label_group).sum(axis=1)\n"
     ]
    },
    {
     "name": "stdout",
     "output_type": "stream",
     "text": [
      "46222210\n",
      "(4208, 18)\n",
      "67615491\n",
      "(4371, 18)\n",
      "65381988\n",
      "(4681, 18)\n"
     ]
    },
    {
     "name": "stderr",
     "output_type": "stream",
     "text": [
      "/home/tliu/lifesense/utils/lifesense_utils.py:167: RuntimeWarning: divide by zero encountered in log\n",
      "  label_group['entropy'] = -(np.log(label_group) * label_group).sum(axis=1)\n"
     ]
    },
    {
     "name": "stdout",
     "output_type": "stream",
     "text": [
      "51612397\n",
      "(862, 18)\n"
     ]
    },
    {
     "name": "stderr",
     "output_type": "stream",
     "text": [
      "/home/tliu/lifesense/utils/lifesense_utils.py:167: RuntimeWarning: divide by zero encountered in log\n",
      "  label_group['entropy'] = -(np.log(label_group) * label_group).sum(axis=1)\n",
      "/home/tliu/lifesense/utils/lifesense_utils.py:167: RuntimeWarning: divide by zero encountered in log\n",
      "  label_group['entropy'] = -(np.log(label_group) * label_group).sum(axis=1)\n"
     ]
    },
    {
     "name": "stdout",
     "output_type": "stream",
     "text": [
      "38459884\n",
      "(3926, 18)\n",
      "73142171\n",
      "(4818, 18)\n"
     ]
    },
    {
     "name": "stderr",
     "output_type": "stream",
     "text": [
      "/home/tliu/lifesense/utils/lifesense_utils.py:167: RuntimeWarning: divide by zero encountered in log\n",
      "  label_group['entropy'] = -(np.log(label_group) * label_group).sum(axis=1)\n"
     ]
    },
    {
     "name": "stdout",
     "output_type": "stream",
     "text": [
      "39854689\n",
      "(2762, 18)\n"
     ]
    },
    {
     "name": "stderr",
     "output_type": "stream",
     "text": [
      "/home/tliu/lifesense/utils/lifesense_utils.py:167: RuntimeWarning: divide by zero encountered in log\n",
      "  label_group['entropy'] = -(np.log(label_group) * label_group).sum(axis=1)\n"
     ]
    },
    {
     "name": "stdout",
     "output_type": "stream",
     "text": [
      "58081753\n",
      "(2311, 18)\n"
     ]
    },
    {
     "name": "stderr",
     "output_type": "stream",
     "text": [
      "/home/tliu/lifesense/utils/lifesense_utils.py:167: RuntimeWarning: divide by zero encountered in log\n",
      "  label_group['entropy'] = -(np.log(label_group) * label_group).sum(axis=1)\n",
      "/home/tliu/lifesense/utils/lifesense_utils.py:167: RuntimeWarning: invalid value encountered in log\n",
      "  label_group['entropy'] = -(np.log(label_group) * label_group).sum(axis=1)\n"
     ]
    },
    {
     "name": "stdout",
     "output_type": "stream",
     "text": [
      "00746649\n",
      "(3997, 18)\n"
     ]
    },
    {
     "name": "stderr",
     "output_type": "stream",
     "text": [
      "/home/tliu/lifesense/utils/lifesense_utils.py:167: RuntimeWarning: divide by zero encountered in log\n",
      "  label_group['entropy'] = -(np.log(label_group) * label_group).sum(axis=1)\n",
      "/home/tliu/lifesense/utils/lifesense_utils.py:167: RuntimeWarning: divide by zero encountered in log\n",
      "  label_group['entropy'] = -(np.log(label_group) * label_group).sum(axis=1)\n"
     ]
    },
    {
     "name": "stdout",
     "output_type": "stream",
     "text": [
      "57973631\n",
      "(2727, 18)\n"
     ]
    },
    {
     "name": "stderr",
     "output_type": "stream",
     "text": [
      "/home/tliu/lifesense/utils/lifesense_utils.py:167: RuntimeWarning: divide by zero encountered in log\n",
      "  label_group['entropy'] = -(np.log(label_group) * label_group).sum(axis=1)\n"
     ]
    },
    {
     "name": "stdout",
     "output_type": "stream",
     "text": [
      "93519386\n",
      "(4555, 18)\n",
      "26957252\n",
      "(4367, 18)\n"
     ]
    },
    {
     "name": "stderr",
     "output_type": "stream",
     "text": [
      "/home/tliu/lifesense/utils/lifesense_utils.py:167: RuntimeWarning: divide by zero encountered in log\n",
      "  label_group['entropy'] = -(np.log(label_group) * label_group).sum(axis=1)\n"
     ]
    },
    {
     "name": "stdout",
     "output_type": "stream",
     "text": [
      "22352222\n",
      "(4006, 18)\n"
     ]
    },
    {
     "name": "stderr",
     "output_type": "stream",
     "text": [
      "/home/tliu/lifesense/utils/lifesense_utils.py:167: RuntimeWarning: divide by zero encountered in log\n",
      "  label_group['entropy'] = -(np.log(label_group) * label_group).sum(axis=1)\n"
     ]
    },
    {
     "name": "stdout",
     "output_type": "stream",
     "text": [
      "77579838\n",
      "(2496, 18)\n"
     ]
    },
    {
     "name": "stderr",
     "output_type": "stream",
     "text": [
      "/home/tliu/lifesense/utils/lifesense_utils.py:167: RuntimeWarning: divide by zero encountered in log\n",
      "  label_group['entropy'] = -(np.log(label_group) * label_group).sum(axis=1)\n",
      "/home/tliu/lifesense/utils/lifesense_utils.py:167: RuntimeWarning: divide by zero encountered in log\n",
      "  label_group['entropy'] = -(np.log(label_group) * label_group).sum(axis=1)\n"
     ]
    },
    {
     "name": "stdout",
     "output_type": "stream",
     "text": [
      "14196469\n",
      "79819446\n",
      "(3555, 18)\n",
      "89057862\n",
      "(5019, 18)\n"
     ]
    },
    {
     "name": "stderr",
     "output_type": "stream",
     "text": [
      "/home/tliu/lifesense/utils/lifesense_utils.py:167: RuntimeWarning: divide by zero encountered in log\n",
      "  label_group['entropy'] = -(np.log(label_group) * label_group).sum(axis=1)\n",
      "/home/tliu/lifesense/utils/lifesense_utils.py:167: RuntimeWarning: divide by zero encountered in log\n",
      "  label_group['entropy'] = -(np.log(label_group) * label_group).sum(axis=1)\n"
     ]
    },
    {
     "name": "stdout",
     "output_type": "stream",
     "text": [
      "32888746\n",
      "(1257, 18)\n"
     ]
    },
    {
     "name": "stderr",
     "output_type": "stream",
     "text": [
      "/home/tliu/lifesense/utils/lifesense_utils.py:167: RuntimeWarning: divide by zero encountered in log\n",
      "  label_group['entropy'] = -(np.log(label_group) * label_group).sum(axis=1)\n",
      "/home/tliu/lifesense/utils/lifesense_utils.py:167: RuntimeWarning: divide by zero encountered in log\n",
      "  label_group['entropy'] = -(np.log(label_group) * label_group).sum(axis=1)\n"
     ]
    },
    {
     "name": "stdout",
     "output_type": "stream",
     "text": [
      "21150752\n",
      "(4177, 18)\n",
      "04918121\n",
      "(4329, 18)\n"
     ]
    },
    {
     "name": "stderr",
     "output_type": "stream",
     "text": [
      "/home/tliu/lifesense/utils/lifesense_utils.py:167: RuntimeWarning: divide by zero encountered in log\n",
      "  label_group['entropy'] = -(np.log(label_group) * label_group).sum(axis=1)\n"
     ]
    },
    {
     "name": "stdout",
     "output_type": "stream",
     "text": [
      "86756971\n",
      "(2629, 18)\n"
     ]
    },
    {
     "name": "stderr",
     "output_type": "stream",
     "text": [
      "/home/tliu/lifesense/utils/lifesense_utils.py:167: RuntimeWarning: divide by zero encountered in log\n",
      "  label_group['entropy'] = -(np.log(label_group) * label_group).sum(axis=1)\n"
     ]
    },
    {
     "name": "stdout",
     "output_type": "stream",
     "text": [
      "14113160\n",
      "(4055, 18)\n"
     ]
    },
    {
     "name": "stderr",
     "output_type": "stream",
     "text": [
      "/home/tliu/lifesense/utils/lifesense_utils.py:167: RuntimeWarning: divide by zero encountered in log\n",
      "  label_group['entropy'] = -(np.log(label_group) * label_group).sum(axis=1)\n",
      "/home/tliu/lifesense/utils/lifesense_utils.py:167: RuntimeWarning: divide by zero encountered in log\n",
      "  label_group['entropy'] = -(np.log(label_group) * label_group).sum(axis=1)\n",
      "/home/tliu/lifesense/utils/lifesense_utils.py:167: RuntimeWarning: divide by zero encountered in log\n",
      "  label_group['entropy'] = -(np.log(label_group) * label_group).sum(axis=1)\n",
      "/home/tliu/lifesense/utils/lifesense_utils.py:167: RuntimeWarning: invalid value encountered in log\n",
      "  label_group['entropy'] = -(np.log(label_group) * label_group).sum(axis=1)\n"
     ]
    },
    {
     "name": "stdout",
     "output_type": "stream",
     "text": [
      "01766910\n",
      "(4491, 18)\n",
      "65696941\n",
      "08007329\n",
      "(4640, 18)\n"
     ]
    },
    {
     "name": "stderr",
     "output_type": "stream",
     "text": [
      "/home/tliu/lifesense/utils/lifesense_utils.py:167: RuntimeWarning: divide by zero encountered in log\n",
      "  label_group['entropy'] = -(np.log(label_group) * label_group).sum(axis=1)\n"
     ]
    },
    {
     "name": "stdout",
     "output_type": "stream",
     "text": [
      "94277599\n",
      "(3461, 18)\n",
      "64292248\n",
      "(2627, 18)\n"
     ]
    },
    {
     "name": "stderr",
     "output_type": "stream",
     "text": [
      "/home/tliu/lifesense/utils/lifesense_utils.py:167: RuntimeWarning: divide by zero encountered in log\n",
      "  label_group['entropy'] = -(np.log(label_group) * label_group).sum(axis=1)\n",
      "/home/tliu/lifesense/utils/lifesense_utils.py:167: RuntimeWarning: divide by zero encountered in log\n",
      "  label_group['entropy'] = -(np.log(label_group) * label_group).sum(axis=1)\n"
     ]
    },
    {
     "name": "stdout",
     "output_type": "stream",
     "text": [
      "74133461\n",
      "(4254, 18)\n",
      "47505792\n",
      "(4734, 18)\n"
     ]
    },
    {
     "name": "stderr",
     "output_type": "stream",
     "text": [
      "/home/tliu/lifesense/utils/lifesense_utils.py:167: RuntimeWarning: divide by zero encountered in log\n",
      "  label_group['entropy'] = -(np.log(label_group) * label_group).sum(axis=1)\n",
      "/home/tliu/lifesense/utils/lifesense_utils.py:167: RuntimeWarning: divide by zero encountered in log\n",
      "  label_group['entropy'] = -(np.log(label_group) * label_group).sum(axis=1)\n",
      "/home/tliu/lifesense/utils/lifesense_utils.py:167: RuntimeWarning: divide by zero encountered in log\n",
      "  label_group['entropy'] = -(np.log(label_group) * label_group).sum(axis=1)\n"
     ]
    },
    {
     "name": "stdout",
     "output_type": "stream",
     "text": [
      "83056303\n",
      "(3284, 18)\n",
      "62808613\n",
      "(4160, 18)\n"
     ]
    },
    {
     "name": "stderr",
     "output_type": "stream",
     "text": [
      "/home/tliu/lifesense/utils/lifesense_utils.py:167: RuntimeWarning: divide by zero encountered in log\n",
      "  label_group['entropy'] = -(np.log(label_group) * label_group).sum(axis=1)\n"
     ]
    },
    {
     "name": "stdout",
     "output_type": "stream",
     "text": [
      "50931782\n",
      "(2482, 18)\n"
     ]
    },
    {
     "name": "stderr",
     "output_type": "stream",
     "text": [
      "/home/tliu/lifesense/utils/lifesense_utils.py:167: RuntimeWarning: divide by zero encountered in log\n",
      "  label_group['entropy'] = -(np.log(label_group) * label_group).sum(axis=1)\n",
      "/home/tliu/lifesense/utils/lifesense_utils.py:167: RuntimeWarning: divide by zero encountered in log\n",
      "  label_group['entropy'] = -(np.log(label_group) * label_group).sum(axis=1)\n"
     ]
    },
    {
     "name": "stdout",
     "output_type": "stream",
     "text": [
      "48625414\n",
      "(4169, 18)\n",
      "22086591\n",
      "(4459, 18)\n"
     ]
    },
    {
     "name": "stderr",
     "output_type": "stream",
     "text": [
      "/home/tliu/lifesense/utils/lifesense_utils.py:167: RuntimeWarning: divide by zero encountered in log\n",
      "  label_group['entropy'] = -(np.log(label_group) * label_group).sum(axis=1)\n",
      "/home/tliu/lifesense/utils/lifesense_utils.py:167: RuntimeWarning: divide by zero encountered in log\n",
      "  label_group['entropy'] = -(np.log(label_group) * label_group).sum(axis=1)\n",
      "/home/tliu/lifesense/utils/lifesense_utils.py:167: RuntimeWarning: divide by zero encountered in log\n",
      "  label_group['entropy'] = -(np.log(label_group) * label_group).sum(axis=1)\n"
     ]
    },
    {
     "name": "stdout",
     "output_type": "stream",
     "text": [
      "71043609\n",
      "(2622, 18)\n"
     ]
    },
    {
     "name": "stderr",
     "output_type": "stream",
     "text": [
      "/home/tliu/lifesense/utils/lifesense_utils.py:167: RuntimeWarning: divide by zero encountered in log\n",
      "  label_group['entropy'] = -(np.log(label_group) * label_group).sum(axis=1)\n"
     ]
    },
    {
     "name": "stdout",
     "output_type": "stream",
     "text": [
      "82727218\n",
      "(5383, 18)\n"
     ]
    },
    {
     "name": "stderr",
     "output_type": "stream",
     "text": [
      "/home/tliu/lifesense/utils/lifesense_utils.py:167: RuntimeWarning: divide by zero encountered in log\n",
      "  label_group['entropy'] = -(np.log(label_group) * label_group).sum(axis=1)\n",
      "/home/tliu/lifesense/utils/lifesense_utils.py:167: RuntimeWarning: divide by zero encountered in log\n",
      "  label_group['entropy'] = -(np.log(label_group) * label_group).sum(axis=1)\n"
     ]
    },
    {
     "name": "stdout",
     "output_type": "stream",
     "text": [
      "73916801\n",
      "(554, 18)\n"
     ]
    },
    {
     "name": "stderr",
     "output_type": "stream",
     "text": [
      "/home/tliu/lifesense/utils/lifesense_utils.py:167: RuntimeWarning: divide by zero encountered in log\n",
      "  label_group['entropy'] = -(np.log(label_group) * label_group).sum(axis=1)\n",
      "/home/tliu/lifesense/utils/lifesense_utils.py:167: RuntimeWarning: divide by zero encountered in log\n",
      "  label_group['entropy'] = -(np.log(label_group) * label_group).sum(axis=1)\n"
     ]
    },
    {
     "name": "stdout",
     "output_type": "stream",
     "text": [
      "03233601\n",
      "(4638, 18)\n"
     ]
    },
    {
     "name": "stderr",
     "output_type": "stream",
     "text": [
      "/home/tliu/lifesense/utils/lifesense_utils.py:167: RuntimeWarning: divide by zero encountered in log\n",
      "  label_group['entropy'] = -(np.log(label_group) * label_group).sum(axis=1)\n"
     ]
    },
    {
     "name": "stdout",
     "output_type": "stream",
     "text": [
      "04133537\n",
      "(4385, 18)\n"
     ]
    },
    {
     "name": "stderr",
     "output_type": "stream",
     "text": [
      "/home/tliu/lifesense/utils/lifesense_utils.py:167: RuntimeWarning: divide by zero encountered in log\n",
      "  label_group['entropy'] = -(np.log(label_group) * label_group).sum(axis=1)\n"
     ]
    },
    {
     "name": "stdout",
     "output_type": "stream",
     "text": [
      "68756107\n",
      "(3495, 18)\n"
     ]
    },
    {
     "name": "stderr",
     "output_type": "stream",
     "text": [
      "/home/tliu/lifesense/utils/lifesense_utils.py:167: RuntimeWarning: divide by zero encountered in log\n",
      "  label_group['entropy'] = -(np.log(label_group) * label_group).sum(axis=1)\n"
     ]
    },
    {
     "name": "stdout",
     "output_type": "stream",
     "text": [
      "62375942\n",
      "(5038, 18)\n"
     ]
    },
    {
     "name": "stderr",
     "output_type": "stream",
     "text": [
      "/home/tliu/lifesense/utils/lifesense_utils.py:167: RuntimeWarning: divide by zero encountered in log\n",
      "  label_group['entropy'] = -(np.log(label_group) * label_group).sum(axis=1)\n"
     ]
    },
    {
     "name": "stdout",
     "output_type": "stream",
     "text": [
      "09611865\n",
      "(3617, 18)\n"
     ]
    },
    {
     "name": "stderr",
     "output_type": "stream",
     "text": [
      "/home/tliu/lifesense/utils/lifesense_utils.py:167: RuntimeWarning: divide by zero encountered in log\n",
      "  label_group['entropy'] = -(np.log(label_group) * label_group).sum(axis=1)\n"
     ]
    },
    {
     "name": "stdout",
     "output_type": "stream",
     "text": [
      "29584096\n"
     ]
    },
    {
     "name": "stderr",
     "output_type": "stream",
     "text": [
      "/home/tliu/lifesense/utils/lifesense_utils.py:167: RuntimeWarning: divide by zero encountered in log\n",
      "  label_group['entropy'] = -(np.log(label_group) * label_group).sum(axis=1)\n",
      "/home/tliu/lifesense/utils/lifesense_utils.py:167: RuntimeWarning: invalid value encountered in log\n",
      "  label_group['entropy'] = -(np.log(label_group) * label_group).sum(axis=1)\n"
     ]
    },
    {
     "name": "stdout",
     "output_type": "stream",
     "text": [
      "18740846\n",
      "(2332, 18)\n"
     ]
    },
    {
     "name": "stderr",
     "output_type": "stream",
     "text": [
      "/home/tliu/lifesense/utils/lifesense_utils.py:167: RuntimeWarning: divide by zero encountered in log\n",
      "  label_group['entropy'] = -(np.log(label_group) * label_group).sum(axis=1)\n"
     ]
    },
    {
     "name": "stdout",
     "output_type": "stream",
     "text": [
      "CPU times: user 786 ms, sys: 252 ms, total: 1.04 s\n",
      "Wall time: 4min 11s\n"
     ]
    }
   ],
   "source": [
    "%%time\n",
    "\n",
    "import multiprocessing\n",
    "fus_loc = \"/data/tliu/wk10_ls_data/pdk-location\"\n",
    "fus_args = [(pid, fus_loc) for pid in wave1_ids]\n",
    "\n",
    "with multiprocessing.Pool(8) as pool:\n",
    "    \n",
    "    fus_results = pool.starmap(build_fus, fus_args)"
   ]
  },
  {
   "cell_type": "code",
   "execution_count": 5,
   "metadata": {},
   "outputs": [],
   "source": [
    "fus_df = pd.DataFrame()\n",
    "\n",
    "for df in fus_results:\n",
    "    fus_df = fus_df.append(df)\n",
    "fus_df.head()\n",
    "#fus_df.to_pickle(\"ls_data/wk10/fus_daily.df\")"
   ]
  },
  {
   "cell_type": "code",
   "execution_count": 54,
   "metadata": {},
   "outputs": [
    {
     "name": "stdout",
     "output_type": "stream",
     "text": [
      "29584096\n"
     ]
    }
   ],
   "source": [
    "fus_loc = \"/data/tliu/wk10_ls_data/pdk-location\"\n",
    "test = build_fus(\"29584096\", fus_loc)"
   ]
  },
  {
   "cell_type": "code",
   "execution_count": 56,
   "metadata": {},
   "outputs": [
    {
     "data": {
      "text/plain": [
       "(112587, 8)"
      ]
     },
     "execution_count": 56,
     "metadata": {},
     "output_type": "execute_result"
    }
   ],
   "source": [
    "test = pd.read_pickle(\"ls_data/wk7/sms_hr.df\")\n",
    "test.shape"
   ]
  },
  {
   "cell_type": "code",
   "execution_count": 58,
   "metadata": {},
   "outputs": [
    {
     "data": {
      "text/plain": [
       "(112587, 8)"
      ]
     },
     "execution_count": 58,
     "metadata": {},
     "output_type": "execute_result"
    }
   ],
   "source": [
    "test.append(None).shape"
   ]
  },
  {
   "cell_type": "markdown",
   "metadata": {},
   "source": [
    "## Fused Location"
   ]
  },
  {
   "cell_type": "code",
   "execution_count": null,
   "metadata": {},
   "outputs": [],
   "source": [
    "%%time\n",
    "\n",
    "import multiprocessing\n",
    "fus_loc = \"/data/tliu/wk4_ls_data/pdk-location\"\n",
    "fus_args = [(pid, fus_loc) for pid in wave1_ids]\n",
    "\n",
    "with multiprocessing.Pool(8) as pool:\n",
    "    \n",
    "    fus_results = pool.starmap(build_fus, fus_args)"
   ]
  },
  {
   "cell_type": "code",
   "execution_count": null,
   "metadata": {},
   "outputs": [],
   "source": [
    "fus_df = pd.DataFrame()\n",
    "\n",
    "for df in fus_results:\n",
    "    fus_df = fus_df.append(df)\n",
    "fus_df.head()"
   ]
  },
  {
   "cell_type": "code",
   "execution_count": null,
   "metadata": {},
   "outputs": [],
   "source": [
    "# Should only be run once\n",
    "#fus_df.to_pickle(\"ls_data/wk4/fus_daily.df\")"
   ]
  },
  {
   "cell_type": "code",
   "execution_count": null,
   "metadata": {},
   "outputs": [],
   "source": [
    "%%time\n",
    "\n",
    "import multiprocessing\n",
    "fus_loc = \"/data/tliu/wk4_ls_data/pdk-location\"\n",
    "fus_args = [(pid, fus_loc) for pid in wave1_ids]\n",
    "\n",
    "with multiprocessing.Pool(12) as pool:\n",
    "    \n",
    "    circ_results = pool.starmap(build_circadian_stats, fus_args)"
   ]
  },
  {
   "cell_type": "code",
   "execution_count": null,
   "metadata": {},
   "outputs": [],
   "source": [
    "circ_df = pd.DataFrame()\n",
    "\n",
    "for df in circ_results:\n",
    "    circ_df = circ_df.append(df)\n",
    "    \n",
    "circ_df.head()"
   ]
  },
  {
   "cell_type": "code",
   "execution_count": null,
   "metadata": {},
   "outputs": [],
   "source": [
    "# only needs to be run once\n",
    "#circ_df.to_pickle(\"ls_data/wk4/circ_movt.df\")"
   ]
  },
  {
   "cell_type": "markdown",
   "metadata": {},
   "source": [
    "## Foreground application"
   ]
  },
  {
   "cell_type": "code",
   "execution_count": null,
   "metadata": {},
   "outputs": [],
   "source": [
    "%%time\n",
    "\n",
    "import multiprocessing\n",
    "\n",
    "fga_loc = \"/data/tliu/wk4_ls_data/pdk-foreground-application\"\n",
    "fga_args = [(pid, fga_loc) for pid in wave1_ids]\n",
    "\n",
    "with multiprocessing.Pool(12) as pool:\n",
    "    \n",
    "    fga_results = pool.starmap(build_fga_hr, fga_args)"
   ]
  },
  {
   "cell_type": "code",
   "execution_count": null,
   "metadata": {},
   "outputs": [],
   "source": [
    "fga_df = pd.DataFrame()\n",
    "\n",
    "for df in fga_results:\n",
    "    fga_df = fga_df.append(df)\n",
    "    \n",
    "fga_df.head()"
   ]
  },
  {
   "cell_type": "code",
   "execution_count": null,
   "metadata": {},
   "outputs": [],
   "source": [
    "# only needs to be run once\n",
    "#fga_df.to_pickle(\"ls_data/wk4/fga_hr.df\")"
   ]
  },
  {
   "cell_type": "markdown",
   "metadata": {},
   "source": [
    "## Calls"
   ]
  },
  {
   "cell_type": "code",
   "execution_count": null,
   "metadata": {},
   "outputs": [],
   "source": [
    "%%time\n",
    "\n",
    "import multiprocessing\n",
    "\n",
    "cal_loc = \"/data/tliu/wk4_ls_data/pdk-phone-calls\"\n",
    "cal_args = [(pid, cal_loc) for pid in wave1_ids]\n",
    "\n",
    "with multiprocessing.Pool(8) as pool:\n",
    "    \n",
    "    cal_results = pool.starmap(build_cal_hr, cal_args)"
   ]
  },
  {
   "cell_type": "code",
   "execution_count": null,
   "metadata": {},
   "outputs": [],
   "source": [
    "cal_df = pd.DataFrame()\n",
    "\n",
    "for df in cal_results:\n",
    "    cal_df = cal_df.append(df)\n",
    "    \n",
    "cal_df.head()"
   ]
  },
  {
   "cell_type": "code",
   "execution_count": null,
   "metadata": {},
   "outputs": [],
   "source": [
    "# only needs to be run once\n",
    "#cal_df.to_pickle(\"ls_data/wk4/cal_hr.df\")"
   ]
  },
  {
   "cell_type": "markdown",
   "metadata": {},
   "source": [
    "## Texts"
   ]
  },
  {
   "cell_type": "code",
   "execution_count": null,
   "metadata": {},
   "outputs": [],
   "source": [
    "%%time\n",
    "\n",
    "import multiprocessing\n",
    "\n",
    "sms_loc = \"/data/tliu/wk4_ls_data/pdk-text-messages\"\n",
    "sms_args = [(pid, sms_loc) for pid in wave1_ids]\n",
    "\n",
    "with multiprocessing.Pool(8) as pool:\n",
    "    \n",
    "    sms_results = pool.starmap(build_sms_hr, sms_args)"
   ]
  },
  {
   "cell_type": "code",
   "execution_count": null,
   "metadata": {},
   "outputs": [],
   "source": [
    "sms_df = pd.DataFrame()\n",
    "\n",
    "for df in sms_results:\n",
    "    sms_df = sms_df.append(df)\n",
    "    \n",
    "sms_df.head()"
   ]
  },
  {
   "cell_type": "code",
   "execution_count": null,
   "metadata": {},
   "outputs": [],
   "source": [
    "# only needs to be run once\n",
    "#sms_df.to_pickle(\"ls_data/wk4/sms_hr.df\")"
   ]
  }
 ],
 "metadata": {
  "hide_input": false,
  "kernelspec": {
   "display_name": "Python 3",
   "language": "python",
   "name": "python3"
  },
  "language_info": {
   "codemirror_mode": {
    "name": "ipython",
    "version": 3
   },
   "file_extension": ".py",
   "mimetype": "text/x-python",
   "name": "python",
   "nbconvert_exporter": "python",
   "pygments_lexer": "ipython3",
   "version": "3.7.3"
  }
 },
 "nbformat": 4,
 "nbformat_minor": 2
}
