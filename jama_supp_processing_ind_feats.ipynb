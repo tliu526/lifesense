{
 "cells": [
  {
   "cell_type": "markdown",
   "metadata": {},
   "source": [
    "<h1 id=\"tocheading\">Table of Contents</h1>\n",
    "<div id=\"toc\"></div>"
   ]
  },
  {
   "cell_type": "markdown",
   "metadata": {},
   "source": [
    "# Imports and Scripts"
   ]
  },
  {
   "cell_type": "code",
   "execution_count": 3,
   "metadata": {},
   "outputs": [
    {
     "data": {
      "application/javascript": [
       "// ToC script\n",
       "$.getScript('https://kmahelona.github.io/ipython_notebook_goodies/ipython_notebook_toc.js')\n"
      ],
      "text/plain": [
       "<IPython.core.display.Javascript object>"
      ]
     },
     "metadata": {},
     "output_type": "display_data"
    }
   ],
   "source": [
    "%%javascript\n",
    "// ToC script\n",
    "$.getScript('https://kmahelona.github.io/ipython_notebook_goodies/ipython_notebook_toc.js')"
   ]
  },
  {
   "cell_type": "code",
   "execution_count": 4,
   "metadata": {},
   "outputs": [
    {
     "data": {
      "text/html": [
       "\n",
       "<script>\n",
       "  function code_toggle() {\n",
       "    if (code_shown){\n",
       "      $('div.input').hide('500');\n",
       "      $('#toggleButton').val('Show Code')\n",
       "    } else {\n",
       "      $('div.input').show('500');\n",
       "      $('#toggleButton').val('Hide Code')\n",
       "    }\n",
       "    code_shown = !code_shown\n",
       "  }\n",
       "\n",
       "  $( document ).ready(function(){\n",
       "    code_shown=false;\n",
       "    $('div.input').hide()\n",
       "  });\n",
       "</script>\n",
       "<form action=\"javascript:code_toggle()\"><input type=\"submit\" id=\"toggleButton\" value=\"Show Code\"></form>\n"
      ],
      "text/plain": [
       "<IPython.core.display.HTML object>"
      ]
     },
     "execution_count": 4,
     "metadata": {},
     "output_type": "execute_result"
    }
   ],
   "source": [
    "# Code hider, source: http://chris-said.io/2016/02/13/how-to-make-polished-jupyter-presentations-with-optional-code-visibility/\n",
    "from IPython.display import HTML\n",
    "\n",
    "HTML('''\n",
    "<script>\n",
    "  function code_toggle() {\n",
    "    if (code_shown){\n",
    "      $('div.input').hide('500');\n",
    "      $('#toggleButton').val('Show Code')\n",
    "    } else {\n",
    "      $('div.input').show('500');\n",
    "      $('#toggleButton').val('Hide Code')\n",
    "    }\n",
    "    code_shown = !code_shown\n",
    "  }\n",
    "\n",
    "  $( document ).ready(function(){\n",
    "    code_shown=false;\n",
    "    $('div.input').hide()\n",
    "  });\n",
    "</script>\n",
    "<form action=\"javascript:code_toggle()\"><input type=\"submit\" id=\"toggleButton\" value=\"Show Code\"></form>\n",
    "''')\n",
    "\n"
   ]
  },
  {
   "cell_type": "code",
   "execution_count": 1,
   "metadata": {},
   "outputs": [],
   "source": [
    "# imports and constants\n",
    "import json\n",
    "import pickle\n",
    "import datetime as dt\n",
    "\n",
    "import gmaps\n",
    "import matplotlib.pyplot as plt\n",
    "import matplotlib.dates as mdates\n",
    "import multiprocessing\n",
    "import numpy as np\n",
    "import pandas as pd\n",
    "import pingouin as pg\n",
    "import seaborn as sns\n",
    "\n",
    "from IPython.display import display, HTML\n",
    "import ipywidgets as widgets\n",
    "\n",
    "# user imports\n",
    "import data_processing.analysis_utils as ls_utils\n",
    "\n",
    "%matplotlib inline\n",
    "\n",
    "import matplotlib as mpl\n",
    "mpl.rcParams['figure.dpi'] = 300"
   ]
  },
  {
   "cell_type": "markdown",
   "metadata": {},
   "source": [
    "# Load Data"
   ]
  },
  {
   "cell_type": "code",
   "execution_count": 14,
   "metadata": {},
   "outputs": [],
   "source": [
    "all_spin_fill_df = pd.read_pickle(\"ls_data/jama_data/all_state_shift_no_imp.df\")\n",
    "all_shift_df = pd.read_pickle(\"ls_data/jama_data/all_phq_shift_imp.df\")"
   ]
  },
  {
   "cell_type": "markdown",
   "metadata": {},
   "source": [
    "**note**: sourced originally from lifesense_cluster_change_over_time, under \"Correlates Over Time\" heading"
   ]
  },
  {
   "cell_type": "code",
   "execution_count": 15,
   "metadata": {},
   "outputs": [
    {
     "data": {
      "text/html": [
       "<div>\n",
       "<style scoped>\n",
       "    .dataframe tbody tr th:only-of-type {\n",
       "        vertical-align: middle;\n",
       "    }\n",
       "\n",
       "    .dataframe tbody tr th {\n",
       "        vertical-align: top;\n",
       "    }\n",
       "\n",
       "    .dataframe thead th {\n",
       "        text-align: right;\n",
       "    }\n",
       "</style>\n",
       "<table border=\"1\" class=\"dataframe\">\n",
       "  <thead>\n",
       "    <tr style=\"text-align: right;\">\n",
       "      <th></th>\n",
       "      <th>pid</th>\n",
       "      <th>date</th>\n",
       "      <th>tot_call_count</th>\n",
       "      <th>tot_call_duration</th>\n",
       "      <th>is_wkday</th>\n",
       "    </tr>\n",
       "  </thead>\n",
       "  <tbody>\n",
       "    <tr>\n",
       "      <th>0</th>\n",
       "      <td>00746649</td>\n",
       "      <td>2019-07-23</td>\n",
       "      <td>12</td>\n",
       "      <td>1814</td>\n",
       "      <td>1.0</td>\n",
       "    </tr>\n",
       "    <tr>\n",
       "      <th>1</th>\n",
       "      <td>00746649</td>\n",
       "      <td>2019-07-24</td>\n",
       "      <td>15</td>\n",
       "      <td>4572</td>\n",
       "      <td>1.0</td>\n",
       "    </tr>\n",
       "    <tr>\n",
       "      <th>2</th>\n",
       "      <td>00746649</td>\n",
       "      <td>2019-07-25</td>\n",
       "      <td>20</td>\n",
       "      <td>2363</td>\n",
       "      <td>1.0</td>\n",
       "    </tr>\n",
       "    <tr>\n",
       "      <th>3</th>\n",
       "      <td>00746649</td>\n",
       "      <td>2019-07-26</td>\n",
       "      <td>15</td>\n",
       "      <td>8063</td>\n",
       "      <td>1.0</td>\n",
       "    </tr>\n",
       "    <tr>\n",
       "      <th>4</th>\n",
       "      <td>00746649</td>\n",
       "      <td>2019-07-27</td>\n",
       "      <td>10</td>\n",
       "      <td>1748</td>\n",
       "      <td>0.0</td>\n",
       "    </tr>\n",
       "  </tbody>\n",
       "</table>\n",
       "</div>"
      ],
      "text/plain": [
       "        pid       date  tot_call_count  tot_call_duration  is_wkday\n",
       "0  00746649 2019-07-23              12               1814       1.0\n",
       "1  00746649 2019-07-24              15               4572       1.0\n",
       "2  00746649 2019-07-25              20               2363       1.0\n",
       "3  00746649 2019-07-26              15               8063       1.0\n",
       "4  00746649 2019-07-27              10               1748       0.0"
      ]
     },
     "metadata": {},
     "output_type": "display_data"
    }
   ],
   "source": [
    "# build cal_daily\n",
    "all_cal = pd.read_pickle(\"wave1_features/cal_hr.df\")\n",
    "all_cal['date'] = all_cal['hour'].dt.floor('d')\n",
    "cal_daily = all_cal.groupby(['pid', 'date']).sum()\n",
    "cal_daily = cal_daily.reset_index()\n",
    "cal_daily[\"is_wkday\"] = (pd.to_datetime(cal_daily['date']).dt.dayofweek < 5).astype(float)\n",
    "\n",
    "display(cal_daily.head())"
   ]
  },
  {
   "cell_type": "code",
   "execution_count": 16,
   "metadata": {},
   "outputs": [
    {
     "data": {
      "text/html": [
       "<div>\n",
       "<style scoped>\n",
       "    .dataframe tbody tr th:only-of-type {\n",
       "        vertical-align: middle;\n",
       "    }\n",
       "\n",
       "    .dataframe tbody tr th {\n",
       "        vertical-align: top;\n",
       "    }\n",
       "\n",
       "    .dataframe thead th {\n",
       "        text-align: right;\n",
       "    }\n",
       "</style>\n",
       "<table border=\"1\" class=\"dataframe\">\n",
       "  <thead>\n",
       "    <tr style=\"text-align: right;\">\n",
       "      <th></th>\n",
       "      <th>pid</th>\n",
       "      <th>date</th>\n",
       "      <th>tot_sms_count</th>\n",
       "      <th>tot_sms_length</th>\n",
       "      <th>in_sms_count</th>\n",
       "      <th>in_sms_length</th>\n",
       "      <th>out_sms_count</th>\n",
       "      <th>out_sms_length</th>\n",
       "      <th>is_wkday</th>\n",
       "    </tr>\n",
       "  </thead>\n",
       "  <tbody>\n",
       "    <tr>\n",
       "      <th>0</th>\n",
       "      <td>00746649</td>\n",
       "      <td>2019-07-23</td>\n",
       "      <td>22</td>\n",
       "      <td>1738</td>\n",
       "      <td>22.0</td>\n",
       "      <td>1738.0</td>\n",
       "      <td>0.0</td>\n",
       "      <td>0.0</td>\n",
       "      <td>1.0</td>\n",
       "    </tr>\n",
       "    <tr>\n",
       "      <th>1</th>\n",
       "      <td>00746649</td>\n",
       "      <td>2019-07-24</td>\n",
       "      <td>24</td>\n",
       "      <td>1464</td>\n",
       "      <td>24.0</td>\n",
       "      <td>1464.0</td>\n",
       "      <td>0.0</td>\n",
       "      <td>0.0</td>\n",
       "      <td>1.0</td>\n",
       "    </tr>\n",
       "    <tr>\n",
       "      <th>2</th>\n",
       "      <td>00746649</td>\n",
       "      <td>2019-07-25</td>\n",
       "      <td>14</td>\n",
       "      <td>936</td>\n",
       "      <td>14.0</td>\n",
       "      <td>936.0</td>\n",
       "      <td>0.0</td>\n",
       "      <td>0.0</td>\n",
       "      <td>1.0</td>\n",
       "    </tr>\n",
       "    <tr>\n",
       "      <th>3</th>\n",
       "      <td>00746649</td>\n",
       "      <td>2019-07-26</td>\n",
       "      <td>23</td>\n",
       "      <td>2135</td>\n",
       "      <td>23.0</td>\n",
       "      <td>2135.0</td>\n",
       "      <td>0.0</td>\n",
       "      <td>0.0</td>\n",
       "      <td>1.0</td>\n",
       "    </tr>\n",
       "    <tr>\n",
       "      <th>4</th>\n",
       "      <td>00746649</td>\n",
       "      <td>2019-07-27</td>\n",
       "      <td>21</td>\n",
       "      <td>990</td>\n",
       "      <td>21.0</td>\n",
       "      <td>990.0</td>\n",
       "      <td>0.0</td>\n",
       "      <td>0.0</td>\n",
       "      <td>0.0</td>\n",
       "    </tr>\n",
       "  </tbody>\n",
       "</table>\n",
       "</div>"
      ],
      "text/plain": [
       "        pid       date  tot_sms_count  tot_sms_length  in_sms_count  \\\n",
       "0  00746649 2019-07-23             22            1738          22.0   \n",
       "1  00746649 2019-07-24             24            1464          24.0   \n",
       "2  00746649 2019-07-25             14             936          14.0   \n",
       "3  00746649 2019-07-26             23            2135          23.0   \n",
       "4  00746649 2019-07-27             21             990          21.0   \n",
       "\n",
       "   in_sms_length  out_sms_count  out_sms_length  is_wkday  \n",
       "0         1738.0            0.0             0.0       1.0  \n",
       "1         1464.0            0.0             0.0       1.0  \n",
       "2          936.0            0.0             0.0       1.0  \n",
       "3         2135.0            0.0             0.0       1.0  \n",
       "4          990.0            0.0             0.0       0.0  "
      ]
     },
     "metadata": {},
     "output_type": "display_data"
    }
   ],
   "source": [
    "# build sms_daily\n",
    "all_sms = pd.read_pickle(\"wave1_features/sms_hr.df\")\n",
    "all_sms['date'] = all_sms['hour'].dt.floor('d')\n",
    "sms_daily = all_sms.groupby(['pid', 'date']).sum()\n",
    "sms_daily = sms_daily.reset_index()\n",
    "sms_daily[\"is_wkday\"] = (pd.to_datetime(sms_daily['date']).dt.dayofweek < 5).astype(float)\n",
    "\n",
    "display(sms_daily.head())"
   ]
  },
  {
   "cell_type": "code",
   "execution_count": 17,
   "metadata": {},
   "outputs": [
    {
     "data": {
      "text/html": [
       "<div>\n",
       "<style scoped>\n",
       "    .dataframe tbody tr th:only-of-type {\n",
       "        vertical-align: middle;\n",
       "    }\n",
       "\n",
       "    .dataframe tbody tr th {\n",
       "        vertical-align: top;\n",
       "    }\n",
       "\n",
       "    .dataframe thead th {\n",
       "        text-align: right;\n",
       "    }\n",
       "</style>\n",
       "<table border=\"1\" class=\"dataframe\">\n",
       "  <thead>\n",
       "    <tr style=\"text-align: right;\">\n",
       "      <th></th>\n",
       "      <th>pid</th>\n",
       "      <th>date</th>\n",
       "      <th>katana</th>\n",
       "      <th>orca</th>\n",
       "      <th>messaging</th>\n",
       "      <th>launcher</th>\n",
       "      <th>chrome</th>\n",
       "      <th>email</th>\n",
       "      <th>instagram</th>\n",
       "      <th>youtube</th>\n",
       "      <th>maps</th>\n",
       "      <th>snapchat</th>\n",
       "      <th>browser</th>\n",
       "      <th>all_browser</th>\n",
       "      <th>is_wkday</th>\n",
       "    </tr>\n",
       "  </thead>\n",
       "  <tbody>\n",
       "    <tr>\n",
       "      <th>0</th>\n",
       "      <td>00746649</td>\n",
       "      <td>2019-07-23</td>\n",
       "      <td>0.0</td>\n",
       "      <td>0.0</td>\n",
       "      <td>3380.0</td>\n",
       "      <td>1753.0</td>\n",
       "      <td>1490.0</td>\n",
       "      <td>1113.0</td>\n",
       "      <td>211.0</td>\n",
       "      <td>1080.0</td>\n",
       "      <td>240.0</td>\n",
       "      <td>0.0</td>\n",
       "      <td>165.0</td>\n",
       "      <td>1655.0</td>\n",
       "      <td>1.0</td>\n",
       "    </tr>\n",
       "    <tr>\n",
       "      <th>1</th>\n",
       "      <td>00746649</td>\n",
       "      <td>2019-07-24</td>\n",
       "      <td>0.0</td>\n",
       "      <td>105.0</td>\n",
       "      <td>1888.0</td>\n",
       "      <td>2831.0</td>\n",
       "      <td>965.0</td>\n",
       "      <td>713.0</td>\n",
       "      <td>1203.0</td>\n",
       "      <td>0.0</td>\n",
       "      <td>0.0</td>\n",
       "      <td>0.0</td>\n",
       "      <td>931.0</td>\n",
       "      <td>1896.0</td>\n",
       "      <td>1.0</td>\n",
       "    </tr>\n",
       "    <tr>\n",
       "      <th>2</th>\n",
       "      <td>00746649</td>\n",
       "      <td>2019-07-25</td>\n",
       "      <td>0.0</td>\n",
       "      <td>135.0</td>\n",
       "      <td>5835.0</td>\n",
       "      <td>1826.0</td>\n",
       "      <td>98.0</td>\n",
       "      <td>770.0</td>\n",
       "      <td>368.0</td>\n",
       "      <td>0.0</td>\n",
       "      <td>73.0</td>\n",
       "      <td>0.0</td>\n",
       "      <td>509.0</td>\n",
       "      <td>607.0</td>\n",
       "      <td>1.0</td>\n",
       "    </tr>\n",
       "    <tr>\n",
       "      <th>3</th>\n",
       "      <td>00746649</td>\n",
       "      <td>2019-07-26</td>\n",
       "      <td>0.0</td>\n",
       "      <td>301.0</td>\n",
       "      <td>5288.0</td>\n",
       "      <td>1986.0</td>\n",
       "      <td>195.0</td>\n",
       "      <td>1362.0</td>\n",
       "      <td>842.0</td>\n",
       "      <td>0.0</td>\n",
       "      <td>1410.0</td>\n",
       "      <td>0.0</td>\n",
       "      <td>1065.0</td>\n",
       "      <td>1260.0</td>\n",
       "      <td>1.0</td>\n",
       "    </tr>\n",
       "    <tr>\n",
       "      <th>4</th>\n",
       "      <td>00746649</td>\n",
       "      <td>2019-07-27</td>\n",
       "      <td>0.0</td>\n",
       "      <td>0.0</td>\n",
       "      <td>3166.0</td>\n",
       "      <td>686.0</td>\n",
       "      <td>0.0</td>\n",
       "      <td>110.0</td>\n",
       "      <td>3310.0</td>\n",
       "      <td>0.0</td>\n",
       "      <td>847.0</td>\n",
       "      <td>0.0</td>\n",
       "      <td>0.0</td>\n",
       "      <td>0.0</td>\n",
       "      <td>0.0</td>\n",
       "    </tr>\n",
       "  </tbody>\n",
       "</table>\n",
       "</div>"
      ],
      "text/plain": [
       "        pid       date  katana   orca  messaging  launcher  chrome   email  \\\n",
       "0  00746649 2019-07-23     0.0    0.0     3380.0    1753.0  1490.0  1113.0   \n",
       "1  00746649 2019-07-24     0.0  105.0     1888.0    2831.0   965.0   713.0   \n",
       "2  00746649 2019-07-25     0.0  135.0     5835.0    1826.0    98.0   770.0   \n",
       "3  00746649 2019-07-26     0.0  301.0     5288.0    1986.0   195.0  1362.0   \n",
       "4  00746649 2019-07-27     0.0    0.0     3166.0     686.0     0.0   110.0   \n",
       "\n",
       "   instagram  youtube    maps  snapchat  browser  all_browser  is_wkday  \n",
       "0      211.0   1080.0   240.0       0.0    165.0       1655.0       1.0  \n",
       "1     1203.0      0.0     0.0       0.0    931.0       1896.0       1.0  \n",
       "2      368.0      0.0    73.0       0.0    509.0        607.0       1.0  \n",
       "3      842.0      0.0  1410.0       0.0   1065.0       1260.0       1.0  \n",
       "4     3310.0      0.0   847.0       0.0      0.0          0.0       0.0  "
      ]
     },
     "metadata": {},
     "output_type": "display_data"
    }
   ],
   "source": [
    "# build fga_daily\n",
    "all_fga = pd.read_pickle(\"wave1_features/fga_hr.df\")\n",
    "all_fga['all_browser'] = all_fga['browser'] + all_fga['chrome']\n",
    "all_fga['date'] = all_fga['hr'].dt.floor('d')\n",
    "fga_daily = all_fga.groupby(['pid', 'date']).sum()\n",
    "fga_daily = fga_daily.reset_index()\n",
    "fga_daily[\"is_wkday\"] = (pd.to_datetime(fga_daily['date']).dt.dayofweek < 5).astype(float)\n",
    "\n",
    "display(fga_daily.head())"
   ]
  },
  {
   "cell_type": "code",
   "execution_count": 18,
   "metadata": {},
   "outputs": [
    {
     "name": "stdout",
     "output_type": "stream",
     "text": [
      "CPU times: user 246 ms, sys: 5 s, total: 5.25 s\n",
      "Wall time: 5.24 s\n"
     ]
    }
   ],
   "source": [
    "%%time\n",
    "# build sloc_daily\n",
    "all_sloc = pd.read_pickle(\"wave1_features/sloc_hr.df\")\n",
    "all_sloc['date'] = all_sloc['hr'].dt.floor('d')"
   ]
  },
  {
   "cell_type": "code",
   "execution_count": 19,
   "metadata": {},
   "outputs": [
    {
     "data": {
      "text/html": [
       "<div>\n",
       "<style scoped>\n",
       "    .dataframe tbody tr th:only-of-type {\n",
       "        vertical-align: middle;\n",
       "    }\n",
       "\n",
       "    .dataframe tbody tr th {\n",
       "        vertical-align: top;\n",
       "    }\n",
       "\n",
       "    .dataframe thead th {\n",
       "        text-align: right;\n",
       "    }\n",
       "</style>\n",
       "<table border=\"1\" class=\"dataframe\">\n",
       "  <thead>\n",
       "    <tr style=\"text-align: right;\">\n",
       "      <th></th>\n",
       "      <th>pid</th>\n",
       "      <th>date</th>\n",
       "      <th>food_dur</th>\n",
       "      <th>home_dur</th>\n",
       "      <th>work_dur</th>\n",
       "      <th>exercise_dur</th>\n",
       "      <th>anothers_home_dur</th>\n",
       "      <th>religion_dur</th>\n",
       "      <th>travel_dur</th>\n",
       "      <th>shopping_dur</th>\n",
       "      <th>...</th>\n",
       "      <th>n/a_religion</th>\n",
       "      <th>n/a_travel</th>\n",
       "      <th>n/a_shopping</th>\n",
       "      <th>n/a_errand</th>\n",
       "      <th>n/a_health</th>\n",
       "      <th>n/a_education</th>\n",
       "      <th>n/a_entertainment</th>\n",
       "      <th>n/a_other</th>\n",
       "      <th>tot_tansitions</th>\n",
       "      <th>is_wkday</th>\n",
       "    </tr>\n",
       "  </thead>\n",
       "  <tbody>\n",
       "    <tr>\n",
       "      <th>0</th>\n",
       "      <td>00746649</td>\n",
       "      <td>2019-07-23</td>\n",
       "      <td>0.0</td>\n",
       "      <td>21869.0</td>\n",
       "      <td>0.0</td>\n",
       "      <td>0.0</td>\n",
       "      <td>0.0</td>\n",
       "      <td>0.0</td>\n",
       "      <td>0.0</td>\n",
       "      <td>0.0</td>\n",
       "      <td>...</td>\n",
       "      <td>0</td>\n",
       "      <td>0</td>\n",
       "      <td>0</td>\n",
       "      <td>1</td>\n",
       "      <td>2</td>\n",
       "      <td>0</td>\n",
       "      <td>0</td>\n",
       "      <td>0</td>\n",
       "      <td>9</td>\n",
       "      <td>1.0</td>\n",
       "    </tr>\n",
       "    <tr>\n",
       "      <th>1</th>\n",
       "      <td>00746649</td>\n",
       "      <td>2019-07-24</td>\n",
       "      <td>0.0</td>\n",
       "      <td>54305.0</td>\n",
       "      <td>7379.0</td>\n",
       "      <td>0.0</td>\n",
       "      <td>0.0</td>\n",
       "      <td>0.0</td>\n",
       "      <td>0.0</td>\n",
       "      <td>0.0</td>\n",
       "      <td>...</td>\n",
       "      <td>0</td>\n",
       "      <td>0</td>\n",
       "      <td>0</td>\n",
       "      <td>0</td>\n",
       "      <td>1</td>\n",
       "      <td>0</td>\n",
       "      <td>0</td>\n",
       "      <td>1</td>\n",
       "      <td>13</td>\n",
       "      <td>1.0</td>\n",
       "    </tr>\n",
       "    <tr>\n",
       "      <th>2</th>\n",
       "      <td>00746649</td>\n",
       "      <td>2019-07-25</td>\n",
       "      <td>0.0</td>\n",
       "      <td>48121.0</td>\n",
       "      <td>0.0</td>\n",
       "      <td>0.0</td>\n",
       "      <td>0.0</td>\n",
       "      <td>753.0</td>\n",
       "      <td>0.0</td>\n",
       "      <td>0.0</td>\n",
       "      <td>...</td>\n",
       "      <td>1</td>\n",
       "      <td>0</td>\n",
       "      <td>0</td>\n",
       "      <td>0</td>\n",
       "      <td>1</td>\n",
       "      <td>0</td>\n",
       "      <td>1</td>\n",
       "      <td>1</td>\n",
       "      <td>10</td>\n",
       "      <td>1.0</td>\n",
       "    </tr>\n",
       "    <tr>\n",
       "      <th>3</th>\n",
       "      <td>00746649</td>\n",
       "      <td>2019-07-26</td>\n",
       "      <td>0.0</td>\n",
       "      <td>49696.0</td>\n",
       "      <td>0.0</td>\n",
       "      <td>3824.0</td>\n",
       "      <td>3726.0</td>\n",
       "      <td>0.0</td>\n",
       "      <td>0.0</td>\n",
       "      <td>3790.0</td>\n",
       "      <td>...</td>\n",
       "      <td>0</td>\n",
       "      <td>0</td>\n",
       "      <td>2</td>\n",
       "      <td>0</td>\n",
       "      <td>1</td>\n",
       "      <td>0</td>\n",
       "      <td>1</td>\n",
       "      <td>1</td>\n",
       "      <td>17</td>\n",
       "      <td>1.0</td>\n",
       "    </tr>\n",
       "    <tr>\n",
       "      <th>4</th>\n",
       "      <td>00746649</td>\n",
       "      <td>2019-07-27</td>\n",
       "      <td>0.0</td>\n",
       "      <td>28339.0</td>\n",
       "      <td>0.0</td>\n",
       "      <td>536.0</td>\n",
       "      <td>0.0</td>\n",
       "      <td>0.0</td>\n",
       "      <td>0.0</td>\n",
       "      <td>0.0</td>\n",
       "      <td>...</td>\n",
       "      <td>0</td>\n",
       "      <td>0</td>\n",
       "      <td>0</td>\n",
       "      <td>0</td>\n",
       "      <td>0</td>\n",
       "      <td>0</td>\n",
       "      <td>0</td>\n",
       "      <td>0</td>\n",
       "      <td>6</td>\n",
       "      <td>0.0</td>\n",
       "    </tr>\n",
       "  </tbody>\n",
       "</table>\n",
       "<p>5 rows × 200 columns</p>\n",
       "</div>"
      ],
      "text/plain": [
       "        pid       date  food_dur  home_dur  work_dur  exercise_dur  \\\n",
       "0  00746649 2019-07-23       0.0   21869.0       0.0           0.0   \n",
       "1  00746649 2019-07-24       0.0   54305.0    7379.0           0.0   \n",
       "2  00746649 2019-07-25       0.0   48121.0       0.0           0.0   \n",
       "3  00746649 2019-07-26       0.0   49696.0       0.0        3824.0   \n",
       "4  00746649 2019-07-27       0.0   28339.0       0.0         536.0   \n",
       "\n",
       "   anothers_home_dur  religion_dur  travel_dur  shopping_dur  ...  \\\n",
       "0                0.0           0.0         0.0           0.0  ...   \n",
       "1                0.0           0.0         0.0           0.0  ...   \n",
       "2                0.0         753.0         0.0           0.0  ...   \n",
       "3             3726.0           0.0         0.0        3790.0  ...   \n",
       "4                0.0           0.0         0.0           0.0  ...   \n",
       "\n",
       "   n/a_religion  n/a_travel  n/a_shopping  n/a_errand  n/a_health  \\\n",
       "0             0           0             0           1           2   \n",
       "1             0           0             0           0           1   \n",
       "2             1           0             0           0           1   \n",
       "3             0           0             2           0           1   \n",
       "4             0           0             0           0           0   \n",
       "\n",
       "   n/a_education  n/a_entertainment  n/a_other  tot_tansitions  is_wkday  \n",
       "0              0                  0          0               9       1.0  \n",
       "1              0                  0          1              13       1.0  \n",
       "2              0                  1          1              10       1.0  \n",
       "3              0                  1          1              17       1.0  \n",
       "4              0                  0          0               6       0.0  \n",
       "\n",
       "[5 rows x 200 columns]"
      ]
     },
     "metadata": {},
     "output_type": "display_data"
    },
    {
     "name": "stdout",
     "output_type": "stream",
     "text": [
      "CPU times: user 1.23 s, sys: 4.13 s, total: 5.36 s\n",
      "Wall time: 5.36 s\n"
     ]
    }
   ],
   "source": [
    "%%time\n",
    "\n",
    "sloc_cols = list(all_sloc.columns[all_sloc.columns.str.endswith('dur')])\n",
    "all_sloc[sloc_cols] = all_sloc[sloc_cols].clip(0, 100000000)\n",
    "sloc_daily = all_sloc.groupby(['pid', 'date']).sum()\n",
    "sloc_daily = sloc_daily.reset_index()\n",
    "sloc_daily[\"is_wkday\"] = (pd.to_datetime(sloc_daily['date']).dt.dayofweek < 5).astype(float)\n",
    "\n",
    "display(sloc_daily.head())"
   ]
  },
  {
   "cell_type": "code",
   "execution_count": 20,
   "metadata": {},
   "outputs": [],
   "source": [
    "drop_cols = sloc_daily.columns[sloc_daily.columns.str.contains('n/a')]\n",
    "sloc_daily = sloc_daily.drop(drop_cols, axis='columns')"
   ]
  },
  {
   "cell_type": "code",
   "execution_count": 21,
   "metadata": {},
   "outputs": [],
   "source": [
    "# feature columns\n",
    "sloc_dur_cols = sloc_daily.columns[sloc_daily.columns.str.endswith('dur')].tolist()\n",
    "#sms_cols\n",
    "#cal_cols\n",
    "loc_cols = circ_cols + fus_cols\n",
    "\n",
    "feat_sensor_cols = sloc_dur_cols + sms_cols + cal_cols + loc_cols + fga_cols\n",
    "\n",
    "sensor_cols_shift = [s + '_shift' for s in feat_sensor_cols]\n",
    "sensor_cols_change = [s + '_change' for s in feat_sensor_cols]"
   ]
  },
  {
   "cell_type": "markdown",
   "metadata": {},
   "source": [
    "# All SPIN/GAD"
   ]
  },
  {
   "cell_type": "markdown",
   "metadata": {},
   "source": [
    "## Build SPIN/GAD Sequence DF"
   ]
  },
  {
   "cell_type": "code",
   "execution_count": 24,
   "metadata": {},
   "outputs": [],
   "source": [
    "# load fus and circ data\n",
    "fus_daily = pd.read_pickle(\"ls_data/jama_data/fus_gad_start_14_-1.df\")\n",
    "circ_dict = pickle.load(open(\"ls_data/jama_data/circ_gad_start_14_-1.dict\", \"rb\"))"
   ]
  },
  {
   "cell_type": "code",
   "execution_count": 25,
   "metadata": {},
   "outputs": [],
   "source": [
    "# correction for Series values in list, though it doesn't seem to have affected anything??\n",
    "new_dict = {}\n",
    "for col, vals in circ_dict.items():\n",
    "    new_vals = []\n",
    "    for v in vals:\n",
    "        if isinstance(v, pd.Series):\n",
    "            new_vals.append(v[0])\n",
    "        else:\n",
    "            new_vals.append(v)\n",
    "    new_dict[col] = new_vals\n",
    "circ_dict = new_dict"
   ]
  },
  {
   "cell_type": "code",
   "execution_count": 26,
   "metadata": {},
   "outputs": [],
   "source": [
    "# columns\n",
    "sms_cols = ['tot_sms_count', 'tot_sms_length', 'in_sms_count', 'in_sms_length', 'out_sms_count', 'out_sms_length']\n",
    "cal_cols = ['tot_call_count', 'tot_call_duration']\n",
    "fga_cols = ['katana', 'orca', 'messaging', 'email', 'instagram', 'youtube', 'maps', 'snapchat', 'browser', 'chrome']\n",
    "\n",
    "circ_cols = ['circ_movt_tot', 'circ_movt_wkday', 'circ_movt_wkend']\n",
    "fus_cols = list(fus_daily.columns[(fus_daily.columns.str.endswith('total') | fus_daily.columns.str.endswith('wkend') | fus_daily.columns.str.endswith('wkday')) & ~fus_daily.columns.str.startswith('date')])\n",
    "sloc_cols = list(sloc_daily.columns.drop(['pid', 'date', 'is_wkday']))\n",
    "#sloc_cols = list(sloc_daily.columns[sloc_daily.columns.str.endswith('dur')])"
   ]
  },
  {
   "cell_type": "code",
   "execution_count": 27,
   "metadata": {},
   "outputs": [],
   "source": [
    "all_spin_fill_df['date'] = all_spin_fill_df['spin_start'].dt.normalize()"
   ]
  },
  {
   "cell_type": "code",
   "execution_count": 28,
   "metadata": {},
   "outputs": [],
   "source": [
    "all_spin_fill_df['spin_total_shift'] = all_spin_fill_df.groupby('pid')['spin_total'].shift(1)\n",
    "all_spin_fill_df['spin_diff'] = all_spin_fill_df['spin_total'] - all_spin_fill_df['spin_total_shift']"
   ]
  },
  {
   "cell_type": "code",
   "execution_count": 29,
   "metadata": {},
   "outputs": [],
   "source": [
    "all_spin_fill_df['gad_total_shift'] = all_spin_fill_df.groupby('pid')['gad_total'].shift(1)\n",
    "all_spin_fill_df['gad_diff'] = all_spin_fill_df['gad_total'] - all_spin_fill_df['gad_total_shift']"
   ]
  },
  {
   "cell_type": "code",
   "execution_count": 30,
   "metadata": {},
   "outputs": [
    {
     "name": "stdout",
     "output_type": "stream",
     "text": [
      "CPU times: user 51.3 s, sys: 65.7 ms, total: 51.3 s\n",
      "Wall time: 51.4 s\n"
     ]
    }
   ],
   "source": [
    "%%time\n",
    "\n",
    "sms_dict = ls_utils.build_col_dict(sms_cols, sms_daily, all_spin_fill_df, 'spin_start', pre_days=14, post_days=-1)\n",
    "cal_dict = ls_utils.build_col_dict(cal_cols, cal_daily, all_spin_fill_df, 'spin_start', pre_days=14, post_days=-1)\n",
    "fga_dict = ls_utils.build_col_dict(fga_cols, fga_daily, all_spin_fill_df, 'spin_start', pre_days=14, post_days=-1)\n",
    "sloc_dict = ls_utils.build_col_dict(sloc_cols, sloc_daily, all_spin_fill_df, 'spin_start', pre_days=14, post_days=-1)"
   ]
  },
  {
   "cell_type": "code",
   "execution_count": 31,
   "metadata": {},
   "outputs": [],
   "source": [
    "all_dig_state_df = all_spin_fill_df.copy()\n",
    "\n",
    "sensor_dicts = [sms_dict, cal_dict, fga_dict, sloc_dict, circ_dict]\n",
    "sensor_cols = sms_cols + cal_cols + fga_cols + sloc_cols + circ_cols\n",
    "\n",
    "for sensor_dict in sensor_dicts:\n",
    "    for col, vals in sensor_dict.items():\n",
    "        all_dig_state_df[col] = vals\n",
    "\n",
    "# merge fused location       \n",
    "all_dig_state_df = all_dig_state_df.merge(fus_daily, how='left', on=['pid', 'study_wk'])\n",
    "\n",
    "all_dig_state_df = all_dig_state_df.replace([np.inf, -np.inf], np.nan)"
   ]
  },
  {
   "cell_type": "markdown",
   "metadata": {},
   "source": [
    "## Shift feature columns"
   ]
  },
  {
   "cell_type": "code",
   "execution_count": 32,
   "metadata": {},
   "outputs": [],
   "source": [
    "all_dig_state_df[sensor_cols_shift] = all_dig_state_df.groupby('pid')[feat_sensor_cols].shift(1)"
   ]
  },
  {
   "cell_type": "code",
   "execution_count": 33,
   "metadata": {},
   "outputs": [],
   "source": [
    "for cur, prev, change in zip(feat_sensor_cols, sensor_cols_shift, sensor_cols_change):\n",
    "    all_dig_state_df[change] = all_dig_state_df[cur] - all_dig_state_df[prev]"
   ]
  },
  {
   "cell_type": "markdown",
   "metadata": {},
   "source": [
    "# Reverse all SPIN/GAD"
   ]
  },
  {
   "cell_type": "markdown",
   "metadata": {},
   "source": [
    "## Build SPIN/GAD Sequence DF"
   ]
  },
  {
   "cell_type": "code",
   "execution_count": 34,
   "metadata": {},
   "outputs": [],
   "source": [
    "# load fus and circ data\n",
    "fus_daily = pd.read_pickle(\"ls_data/jama_data/fus_gad_start_0_14.df\")\n",
    "circ_dict = pickle.load(open(\"ls_data/jama_data/circ_gad_start_0_14.dict\", \"rb\"))"
   ]
  },
  {
   "cell_type": "code",
   "execution_count": 35,
   "metadata": {},
   "outputs": [],
   "source": [
    "# correction for Series values in list, though it doesn't seem to have affected anything??\n",
    "new_dict = {}\n",
    "for col, vals in circ_dict.items():\n",
    "    new_vals = []\n",
    "    for v in vals:\n",
    "        if isinstance(v, pd.Series):\n",
    "            new_vals.append(v[0])\n",
    "        else:\n",
    "            new_vals.append(v)\n",
    "    new_dict[col] = new_vals\n",
    "circ_dict = new_dict"
   ]
  },
  {
   "cell_type": "code",
   "execution_count": 36,
   "metadata": {},
   "outputs": [],
   "source": [
    "# columns\n",
    "sms_cols = ['tot_sms_count', 'tot_sms_length', 'in_sms_count', 'in_sms_length', 'out_sms_count', 'out_sms_length']\n",
    "cal_cols = ['tot_call_count', 'tot_call_duration']\n",
    "fga_cols = ['katana', 'orca', 'messaging', 'email', 'instagram', 'youtube', 'maps', 'snapchat', 'browser', 'chrome']\n",
    "\n",
    "circ_cols = ['circ_movt_tot', 'circ_movt_wkday', 'circ_movt_wkend']\n",
    "fus_cols = list(fus_daily.columns[(fus_daily.columns.str.endswith('total') | fus_daily.columns.str.endswith('wkend') | fus_daily.columns.str.endswith('wkday')) & ~fus_daily.columns.str.startswith('date')])\n",
    "sloc_cols = list(sloc_daily.columns.drop(['pid', 'date', 'is_wkday']))\n",
    "#sloc_cols = list(sloc_daily.columns[sloc_daily.columns.str.endswith('dur')])"
   ]
  },
  {
   "cell_type": "code",
   "execution_count": 37,
   "metadata": {},
   "outputs": [],
   "source": [
    "all_spin_fill_df['date'] = all_spin_fill_df['spin_start'].dt.normalize()"
   ]
  },
  {
   "cell_type": "code",
   "execution_count": 38,
   "metadata": {},
   "outputs": [],
   "source": [
    "all_spin_fill_df['spin_total_shift'] = all_spin_fill_df.groupby('pid')['spin_total'].shift(1)\n",
    "all_spin_fill_df['spin_diff'] = all_spin_fill_df['spin_total'] - all_spin_fill_df['spin_total_shift']"
   ]
  },
  {
   "cell_type": "code",
   "execution_count": 39,
   "metadata": {},
   "outputs": [],
   "source": [
    "all_spin_fill_df['gad_total_shift'] = all_spin_fill_df.groupby('pid')['gad_total'].shift(1)\n",
    "all_spin_fill_df['gad_diff'] = all_spin_fill_df['gad_total'] - all_spin_fill_df['gad_total_shift']"
   ]
  },
  {
   "cell_type": "code",
   "execution_count": 40,
   "metadata": {},
   "outputs": [
    {
     "name": "stdout",
     "output_type": "stream",
     "text": [
      "CPU times: user 50.3 s, sys: 48.1 ms, total: 50.4 s\n",
      "Wall time: 50.4 s\n"
     ]
    }
   ],
   "source": [
    "%%time\n",
    "\n",
    "sms_dict = ls_utils.build_col_dict(sms_cols, sms_daily, all_spin_fill_df, 'spin_start', pre_days=0, post_days=14)\n",
    "cal_dict = ls_utils.build_col_dict(cal_cols, cal_daily, all_spin_fill_df, 'spin_start', pre_days=0, post_days=14)\n",
    "fga_dict = ls_utils.build_col_dict(fga_cols, fga_daily, all_spin_fill_df, 'spin_start', pre_days=0, post_days=14)\n",
    "sloc_dict = ls_utils.build_col_dict(sloc_cols, sloc_daily, all_spin_fill_df, 'spin_start', pre_days=0, post_days=14)"
   ]
  },
  {
   "cell_type": "code",
   "execution_count": 41,
   "metadata": {},
   "outputs": [],
   "source": [
    "all_rev_dig_state_df = all_spin_fill_df.copy()\n",
    "\n",
    "sensor_dicts = [sms_dict, cal_dict, fga_dict, sloc_dict, circ_dict]\n",
    "sensor_cols = sms_cols + cal_cols + fga_cols + sloc_cols + circ_cols\n",
    "\n",
    "for sensor_dict in sensor_dicts:\n",
    "    for col, vals in sensor_dict.items():\n",
    "        all_rev_dig_state_df[col] = vals\n",
    "\n",
    "# merge fused location       \n",
    "all_rev_dig_state_df = all_rev_dig_state_df.merge(fus_daily, how='left', on=['pid', 'study_wk'])\n",
    "\n",
    "all_rev_dig_state_df = all_rev_dig_state_df.replace([np.inf, -np.inf], np.nan)"
   ]
  },
  {
   "cell_type": "code",
   "execution_count": 42,
   "metadata": {},
   "outputs": [
    {
     "data": {
      "text/plain": [
       "(267,)"
      ]
     },
     "execution_count": 42,
     "metadata": {},
     "output_type": "execute_result"
    }
   ],
   "source": [
    "all_rev_dig_state_df['pid'].unique().shape"
   ]
  },
  {
   "cell_type": "markdown",
   "metadata": {},
   "source": [
    "## Shift feature columns"
   ]
  },
  {
   "cell_type": "code",
   "execution_count": 43,
   "metadata": {},
   "outputs": [],
   "source": [
    "all_rev_dig_state_df[sensor_cols_shift] = all_rev_dig_state_df.groupby('pid')[feat_sensor_cols].shift(1)"
   ]
  },
  {
   "cell_type": "code",
   "execution_count": 46,
   "metadata": {},
   "outputs": [],
   "source": [
    "for cur, prev, change in zip(feat_sensor_cols, sensor_cols_shift, sensor_cols_change):\n",
    "    all_rev_dig_state_df[change] = all_rev_dig_state_df[cur] - all_rev_dig_state_df[prev]"
   ]
  },
  {
   "cell_type": "markdown",
   "metadata": {},
   "source": [
    "# All PHQ"
   ]
  },
  {
   "cell_type": "markdown",
   "metadata": {},
   "source": [
    "## Build PHQ Sequence DF"
   ]
  },
  {
   "cell_type": "code",
   "execution_count": 47,
   "metadata": {},
   "outputs": [],
   "source": [
    "# load fus and circ data\n",
    "fus_daily = pd.read_pickle(\"ls_data/jama_data/fus_phq_start_14_-1.df\")\n",
    "circ_dict = pickle.load(open(\"ls_data/jama_data/circ_phq_start_14_-1.dict\", \"rb\"))"
   ]
  },
  {
   "cell_type": "code",
   "execution_count": 48,
   "metadata": {},
   "outputs": [],
   "source": [
    "# correction for Series values in list, though it doesn't seem to have affected anything??\n",
    "new_dict = {}\n",
    "for col, vals in circ_dict.items():\n",
    "    new_vals = []\n",
    "    for v in vals:\n",
    "        if isinstance(v, pd.Series):\n",
    "            new_vals.append(v[0])\n",
    "        else:\n",
    "            new_vals.append(v)\n",
    "    new_dict[col] = new_vals\n",
    "circ_dict = new_dict"
   ]
  },
  {
   "cell_type": "code",
   "execution_count": 49,
   "metadata": {},
   "outputs": [],
   "source": [
    "# columns\n",
    "sms_cols = ['tot_sms_count', 'tot_sms_length', 'in_sms_count', 'in_sms_length', 'out_sms_count', 'out_sms_length']\n",
    "cal_cols = ['tot_call_count', 'tot_call_duration']\n",
    "fga_cols = ['katana', 'orca', 'messaging', 'email', 'instagram', 'youtube', 'maps', 'snapchat', 'browser', 'chrome']\n",
    "\n",
    "circ_cols = ['circ_movt_tot', 'circ_movt_wkday', 'circ_movt_wkend']\n",
    "fus_cols = list(fus_daily.columns[(fus_daily.columns.str.endswith('total') | fus_daily.columns.str.endswith('wkend') | fus_daily.columns.str.endswith('wkday')) & ~fus_daily.columns.str.startswith('date')])\n",
    "sloc_cols = list(sloc_daily.columns.drop(['pid', 'date', 'is_wkday']))\n",
    "#sloc_cols = list(sloc_daily.columns[sloc_daily.columns.str.endswith('dur')])"
   ]
  },
  {
   "cell_type": "code",
   "execution_count": 50,
   "metadata": {},
   "outputs": [],
   "source": [
    "all_shift_df['date'] = all_shift_df['phq_start'].dt.normalize()"
   ]
  },
  {
   "cell_type": "code",
   "execution_count": 51,
   "metadata": {},
   "outputs": [],
   "source": [
    "all_shift_df['phq_total_shift'] = all_shift_df.groupby('pid')['phq_total_sc'].shift(1)\n",
    "all_shift_df['phq_diff'] = all_shift_df['phq_total_sc'] - all_shift_df['phq_total_shift']"
   ]
  },
  {
   "cell_type": "code",
   "execution_count": 52,
   "metadata": {},
   "outputs": [
    {
     "name": "stdout",
     "output_type": "stream",
     "text": [
      "CPU times: user 55.7 s, sys: 51.9 ms, total: 55.8 s\n",
      "Wall time: 55.8 s\n"
     ]
    }
   ],
   "source": [
    "%%time\n",
    "\n",
    "sms_dict = ls_utils.build_col_dict(sms_cols, sms_daily, all_shift_df, 'phq_start', pre_days=14, post_days=-1)\n",
    "cal_dict = ls_utils.build_col_dict(cal_cols, cal_daily, all_shift_df, 'phq_start', pre_days=14, post_days=-1)\n",
    "fga_dict = ls_utils.build_col_dict(fga_cols, fga_daily, all_shift_df, 'phq_start', pre_days=14, post_days=-1)\n",
    "sloc_dict = ls_utils.build_col_dict(sloc_cols, sloc_daily, all_shift_df, 'phq_start', pre_days=14, post_days=-1)"
   ]
  },
  {
   "cell_type": "code",
   "execution_count": 53,
   "metadata": {},
   "outputs": [],
   "source": [
    "all_phq_df = all_shift_df.copy()\n",
    "\n",
    "sensor_dicts = [sms_dict, cal_dict, fga_dict, sloc_dict, circ_dict]\n",
    "sensor_cols = sms_cols + cal_cols + fga_cols + sloc_cols + circ_cols\n",
    "\n",
    "for sensor_dict in sensor_dicts:\n",
    "    for col, vals in sensor_dict.items():\n",
    "        all_phq_df[col] = vals\n",
    "\n",
    "# merge fused location       \n",
    "all_phq_df = all_phq_df.merge(fus_daily, how='left', on=['pid', 'study_wk'])\n",
    "#all_phq_df = all_phq_df.replace([np.inf, -np.inf], np.nan)"
   ]
  },
  {
   "cell_type": "code",
   "execution_count": 54,
   "metadata": {},
   "outputs": [
    {
     "data": {
      "text/plain": [
       "(272,)"
      ]
     },
     "execution_count": 54,
     "metadata": {},
     "output_type": "execute_result"
    }
   ],
   "source": [
    "all_phq_df['pid'].unique().shape"
   ]
  },
  {
   "cell_type": "markdown",
   "metadata": {},
   "source": [
    "## Shift feature columns"
   ]
  },
  {
   "cell_type": "code",
   "execution_count": 55,
   "metadata": {},
   "outputs": [],
   "source": [
    "all_phq_df[sensor_cols_shift] = all_phq_df.groupby('pid')[feat_sensor_cols].shift(1)"
   ]
  },
  {
   "cell_type": "code",
   "execution_count": 56,
   "metadata": {},
   "outputs": [],
   "source": [
    "for cur, prev, change in zip(feat_sensor_cols, sensor_cols_shift, sensor_cols_change):\n",
    "    all_phq_df[change] = all_phq_df[cur] - all_phq_df[prev]"
   ]
  },
  {
   "cell_type": "markdown",
   "metadata": {},
   "source": [
    "# Reverse all PHQ"
   ]
  },
  {
   "cell_type": "code",
   "execution_count": 57,
   "metadata": {},
   "outputs": [],
   "source": [
    "# load fus and circ data\n",
    "fus_daily = pd.read_pickle(\"ls_data/jama_data/fus_phq_start_0_14.df\")\n",
    "circ_dict = pickle.load(open(\"ls_data/jama_data/circ_phq_start_0_14.dict\", \"rb\"))"
   ]
  },
  {
   "cell_type": "code",
   "execution_count": 58,
   "metadata": {},
   "outputs": [],
   "source": [
    "# correction for Series values in list, though it doesn't seem to have affected anything??\n",
    "new_dict = {}\n",
    "for col, vals in circ_dict.items():\n",
    "    new_vals = []\n",
    "    for v in vals:\n",
    "        if isinstance(v, pd.Series):\n",
    "            new_vals.append(v[0])\n",
    "        else:\n",
    "            new_vals.append(v)\n",
    "    new_dict[col] = new_vals\n",
    "circ_dict = new_dict"
   ]
  },
  {
   "cell_type": "code",
   "execution_count": 59,
   "metadata": {},
   "outputs": [],
   "source": [
    "# columns\n",
    "sms_cols = ['tot_sms_count', 'tot_sms_length', 'in_sms_count', 'in_sms_length', 'out_sms_count', 'out_sms_length']\n",
    "cal_cols = ['tot_call_count', 'tot_call_duration']\n",
    "fga_cols = ['katana', 'orca', 'messaging', 'email', 'instagram', 'youtube', 'maps', 'snapchat', 'browser', 'chrome']\n",
    "\n",
    "circ_cols = ['circ_movt_tot', 'circ_movt_wkday', 'circ_movt_wkend']\n",
    "fus_cols = list(fus_daily.columns[(fus_daily.columns.str.endswith('total') | fus_daily.columns.str.endswith('wkend') | fus_daily.columns.str.endswith('wkday')) & ~fus_daily.columns.str.startswith('date')])\n",
    "sloc_cols = list(sloc_daily.columns.drop(['pid', 'date', 'is_wkday']))\n",
    "#sloc_cols = list(sloc_daily.columns[sloc_daily.columns.str.endswith('dur')])"
   ]
  },
  {
   "cell_type": "code",
   "execution_count": 60,
   "metadata": {},
   "outputs": [],
   "source": [
    "all_shift_df['date'] = all_shift_df['phq_start'].dt.normalize()"
   ]
  },
  {
   "cell_type": "code",
   "execution_count": 61,
   "metadata": {},
   "outputs": [],
   "source": [
    "all_shift_df['phq_total_shift'] = all_shift_df.groupby('pid')['phq_total_sc'].shift(1)\n",
    "all_shift_df['phq_diff'] = all_shift_df['phq_total_sc'] - all_shift_df['phq_total_shift']"
   ]
  },
  {
   "cell_type": "code",
   "execution_count": 62,
   "metadata": {},
   "outputs": [
    {
     "name": "stdout",
     "output_type": "stream",
     "text": [
      "CPU times: user 54.7 s, sys: 55.1 ms, total: 54.8 s\n",
      "Wall time: 54.8 s\n"
     ]
    }
   ],
   "source": [
    "%%time\n",
    "\n",
    "sms_dict = ls_utils.build_col_dict(sms_cols, sms_daily, all_shift_df, 'phq_start', pre_days=0, post_days=14)\n",
    "cal_dict = ls_utils.build_col_dict(cal_cols, cal_daily, all_shift_df, 'phq_start', pre_days=0, post_days=14)\n",
    "fga_dict = ls_utils.build_col_dict(fga_cols, fga_daily, all_shift_df, 'phq_start', pre_days=0, post_days=14)\n",
    "sloc_dict = ls_utils.build_col_dict(sloc_cols, sloc_daily, all_shift_df, 'phq_start', pre_days=0, post_days=14)"
   ]
  },
  {
   "cell_type": "code",
   "execution_count": 63,
   "metadata": {},
   "outputs": [],
   "source": [
    "all_rev_phq_df = all_shift_df.copy()\n",
    "\n",
    "sensor_dicts = [sms_dict, cal_dict, fga_dict, sloc_dict, circ_dict]\n",
    "sensor_cols = sms_cols + cal_cols + fga_cols + sloc_cols + circ_cols\n",
    "\n",
    "for sensor_dict in sensor_dicts:\n",
    "    for col, vals in sensor_dict.items():\n",
    "        all_rev_phq_df[col] = vals\n",
    "\n",
    "# merge fused location       \n",
    "all_rev_phq_df = all_rev_phq_df.merge(fus_daily, how='left', on=['pid', 'study_wk'])\n",
    "#all_rev_phq_df = all_rev_phq_df.replace([np.inf, -np.inf], np.nan)"
   ]
  },
  {
   "cell_type": "code",
   "execution_count": 64,
   "metadata": {},
   "outputs": [
    {
     "data": {
      "text/plain": [
       "(272,)"
      ]
     },
     "execution_count": 64,
     "metadata": {},
     "output_type": "execute_result"
    }
   ],
   "source": [
    "all_rev_phq_df['pid'].unique().shape"
   ]
  },
  {
   "cell_type": "markdown",
   "metadata": {},
   "source": [
    "## Shift feature columns"
   ]
  },
  {
   "cell_type": "code",
   "execution_count": 65,
   "metadata": {},
   "outputs": [],
   "source": [
    "all_rev_phq_df[sensor_cols_shift] = all_rev_phq_df.groupby('pid')[feat_sensor_cols].shift(1)"
   ]
  },
  {
   "cell_type": "code",
   "execution_count": 66,
   "metadata": {},
   "outputs": [],
   "source": [
    "for cur, prev, change in zip(feat_sensor_cols, sensor_cols_shift, sensor_cols_change):\n",
    "    all_rev_phq_df[change] = all_rev_phq_df[cur] - all_rev_phq_df[prev]"
   ]
  },
  {
   "cell_type": "markdown",
   "metadata": {},
   "source": [
    "## Dump feature dfs for all participants"
   ]
  },
  {
   "cell_type": "code",
   "execution_count": 67,
   "metadata": {},
   "outputs": [],
   "source": [
    "all_dig_state_df.to_pickle(\"wave1_features/all_gad_spin_corr_ind_feats.df\")\n",
    "all_rev_dig_state_df.to_pickle(\"wave1_features/all_rev_gad_spin_corr_ind_feats.df\")\n",
    "all_phq_df.to_pickle(\"wave1_features/all_phq_corr_ind_feats.df\")\n",
    "all_rev_phq_df.to_pickle(\"wave1_features/all_rev_phq_corr_ind_feats.df\")"
   ]
  }
 ],
 "metadata": {
  "hide_input": false,
  "kernelspec": {
   "display_name": "Python 3.7.3 64-bit ('py37': conda)",
   "language": "python",
   "name": "python37364bitpy37conda7c0da8bc1b024608b52b9553d9c69e7f"
  },
  "language_info": {
   "codemirror_mode": {
    "name": "ipython",
    "version": 3
   },
   "file_extension": ".py",
   "mimetype": "text/x-python",
   "name": "python",
   "nbconvert_exporter": "python",
   "pygments_lexer": "ipython3",
   "version": "3.7.3"
  }
 },
 "nbformat": 4,
 "nbformat_minor": 2
}
