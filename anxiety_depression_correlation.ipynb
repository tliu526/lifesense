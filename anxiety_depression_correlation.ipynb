{
 "cells": [
  {
   "cell_type": "markdown",
   "metadata": {},
   "source": [
    "# Anxiety vs Depression"
   ]
  },
  {
   "cell_type": "code",
   "execution_count": 101,
   "metadata": {},
   "outputs": [
    {
     "data": {
      "text/html": [
       "\n",
       "<script>\n",
       "  function code_toggle() {\n",
       "    if (code_shown){\n",
       "      $('div.input').hide('500');\n",
       "      $('#toggleButton').val('Show Code')\n",
       "    } else {\n",
       "      $('div.input').show('500');\n",
       "      $('#toggleButton').val('Hide Code')\n",
       "    }\n",
       "    code_shown = !code_shown\n",
       "  }\n",
       "\n",
       "  $( document ).ready(function(){\n",
       "    code_shown=false;\n",
       "    $('div.input').hide()\n",
       "  });\n",
       "</script>\n",
       "<form action=\"javascript:code_toggle()\"><input type=\"submit\" id=\"toggleButton\" value=\"Show Code\"></form>\n"
      ],
      "text/plain": [
       "<IPython.core.display.HTML object>"
      ]
     },
     "execution_count": 101,
     "metadata": {},
     "output_type": "execute_result"
    }
   ],
   "source": [
    "# Code hider, source: http://chris-said.io/2016/02/13/how-to-make-polished-jupyter-presentations-with-optional-code-visibility/\n",
    "from IPython.display import HTML\n",
    "\n",
    "HTML('''\n",
    "<script>\n",
    "  function code_toggle() {\n",
    "    if (code_shown){\n",
    "      $('div.input').hide('500');\n",
    "      $('#toggleButton').val('Show Code')\n",
    "    } else {\n",
    "      $('div.input').show('500');\n",
    "      $('#toggleButton').val('Hide Code')\n",
    "    }\n",
    "    code_shown = !code_shown\n",
    "  }\n",
    "\n",
    "  $( document ).ready(function(){\n",
    "    code_shown=false;\n",
    "    $('div.input').hide()\n",
    "  });\n",
    "</script>\n",
    "<form action=\"javascript:code_toggle()\"><input type=\"submit\" id=\"toggleButton\" value=\"Show Code\"></form>\n",
    "''')\n",
    "\n"
   ]
  },
  {
   "cell_type": "code",
   "execution_count": 79,
   "metadata": {},
   "outputs": [],
   "source": [
    "import pandas as pd\n",
    "import pingouin as pg\n",
    "import matplotlib.pyplot as plt\n",
    "import numpy as np\n",
    "import warnings\n",
    "\n",
    "%matplotlib inline"
   ]
  },
  {
   "cell_type": "code",
   "execution_count": 80,
   "metadata": {},
   "outputs": [],
   "source": [
    "state_df = pd.read_pickle(\"ls_data/state_all.df\")\n",
    "phq_df = pd.read_pickle(\"ls_data/phq_0_16.df\")\n",
    "\n",
    "spin_fill_df = pd.read_pickle(\"ls_data/jama_data/all_state_shift_no_imp.df\")\n",
    "shift_df = pd.read_pickle(\"ls_data/jama_data/all_phq_shift_imp.df\")"
   ]
  },
  {
   "cell_type": "code",
   "execution_count": 81,
   "metadata": {},
   "outputs": [],
   "source": [
    "all_inv_df = spin_fill_df[['pid', 'study_wk', 'survey_idx', 'baseline_cluster', 'gad_total', 'spin_total']].copy()"
   ]
  },
  {
   "cell_type": "code",
   "execution_count": 82,
   "metadata": {},
   "outputs": [],
   "source": [
    "all_inv_df = all_inv_df.merge(shift_df[['pid', 'study_wk', 'phq_total_sc']], on=['pid', 'study_wk'], how='left')"
   ]
  },
  {
   "cell_type": "markdown",
   "metadata": {},
   "source": [
    "## Across participant correlations\n",
    "\n",
    "- each weekly check-in for each participant is considered iid"
   ]
  },
  {
   "cell_type": "code",
   "execution_count": 83,
   "metadata": {},
   "outputs": [],
   "source": [
    "target_cols = ['gad_total', 'spin_total', 'phq_total_sc']\n",
    "all_inv_df['gad_total'] = all_inv_df['gad_total'].astype(float)"
   ]
  },
  {
   "cell_type": "code",
   "execution_count": 84,
   "metadata": {},
   "outputs": [],
   "source": [
    "all_inv_df = all_inv_df.dropna(subset=['gad_total', 'phq_total_sc'], axis='rows')"
   ]
  },
  {
   "cell_type": "code",
   "execution_count": 93,
   "metadata": {},
   "outputs": [
    {
     "data": {
      "text/html": [
       "<div>\n",
       "<style scoped>\n",
       "    .dataframe tbody tr th:only-of-type {\n",
       "        vertical-align: middle;\n",
       "    }\n",
       "\n",
       "    .dataframe tbody tr th {\n",
       "        vertical-align: top;\n",
       "    }\n",
       "\n",
       "    .dataframe thead th {\n",
       "        text-align: right;\n",
       "    }\n",
       "</style>\n",
       "<table border=\"1\" class=\"dataframe\">\n",
       "  <thead>\n",
       "    <tr style=\"text-align: right;\">\n",
       "      <th></th>\n",
       "      <th>X</th>\n",
       "      <th>Y</th>\n",
       "      <th>method</th>\n",
       "      <th>tail</th>\n",
       "      <th>n</th>\n",
       "      <th>r</th>\n",
       "      <th>p-unc</th>\n",
       "      <th>p-corr</th>\n",
       "      <th>p-adjust</th>\n",
       "    </tr>\n",
       "  </thead>\n",
       "  <tbody>\n",
       "    <tr>\n",
       "      <th>0</th>\n",
       "      <td>gad_total</td>\n",
       "      <td>spin_total</td>\n",
       "      <td>pearson</td>\n",
       "      <td>two-sided</td>\n",
       "      <td>1285</td>\n",
       "      <td>0.547</td>\n",
       "      <td>2.514752e-101</td>\n",
       "      <td>3.772128e-101</td>\n",
       "      <td>fdr_bh</td>\n",
       "    </tr>\n",
       "    <tr>\n",
       "      <th>1</th>\n",
       "      <td>gad_total</td>\n",
       "      <td>phq_total_sc</td>\n",
       "      <td>pearson</td>\n",
       "      <td>two-sided</td>\n",
       "      <td>1287</td>\n",
       "      <td>0.706</td>\n",
       "      <td>4.231315e-195</td>\n",
       "      <td>1.269394e-194</td>\n",
       "      <td>fdr_bh</td>\n",
       "    </tr>\n",
       "    <tr>\n",
       "      <th>2</th>\n",
       "      <td>spin_total</td>\n",
       "      <td>phq_total_sc</td>\n",
       "      <td>pearson</td>\n",
       "      <td>two-sided</td>\n",
       "      <td>1285</td>\n",
       "      <td>0.471</td>\n",
       "      <td>7.619783e-72</td>\n",
       "      <td>7.619783e-72</td>\n",
       "      <td>fdr_bh</td>\n",
       "    </tr>\n",
       "  </tbody>\n",
       "</table>\n",
       "</div>"
      ],
      "text/plain": [
       "            X             Y   method       tail     n      r          p-unc  \\\n",
       "0   gad_total    spin_total  pearson  two-sided  1285  0.547  2.514752e-101   \n",
       "1   gad_total  phq_total_sc  pearson  two-sided  1287  0.706  4.231315e-195   \n",
       "2  spin_total  phq_total_sc  pearson  two-sided  1285  0.471   7.619783e-72   \n",
       "\n",
       "          p-corr p-adjust  \n",
       "0  3.772128e-101   fdr_bh  \n",
       "1  1.269394e-194   fdr_bh  \n",
       "2   7.619783e-72   fdr_bh  "
      ]
     },
     "execution_count": 93,
     "metadata": {},
     "output_type": "execute_result"
    }
   ],
   "source": [
    "pg.pairwise_corr(all_inv_df, columns=target_cols, padjust='fdr_bh')[['X', 'Y', 'method', 'tail', 'n', 'r', 'p-unc', 'p-corr', 'p-adjust']]"
   ]
  },
  {
   "cell_type": "markdown",
   "metadata": {},
   "source": [
    "## Within participant correlations: repeated measures correlation (rm_corr)"
   ]
  },
  {
   "cell_type": "markdown",
   "metadata": {},
   "source": [
    "- ANCOVA adjustment for inter-individual variability\n",
    "- Provides best linear fit per participant with parallel regression lines\n",
    "- [paper reference](https://www.frontiersin.org/articles/10.3389/fpsyg.2017.00456/full)"
   ]
  },
  {
   "cell_type": "code",
   "execution_count": 86,
   "metadata": {},
   "outputs": [],
   "source": [
    "# remove individuals with only one reading or 0 variance between readings\n",
    "all_inv_df = all_inv_df[~all_inv_df['pid'].isin(['14196469', '29584096', '70483015', '70027963', '81720300'])]"
   ]
  },
  {
   "cell_type": "code",
   "execution_count": 90,
   "metadata": {},
   "outputs": [
    {
     "name": "stdout",
     "output_type": "stream",
     "text": [
      "repeated measures correlation for GAD vs PHQ\n"
     ]
    },
    {
     "data": {
      "text/html": [
       "<div>\n",
       "<style scoped>\n",
       "    .dataframe tbody tr th:only-of-type {\n",
       "        vertical-align: middle;\n",
       "    }\n",
       "\n",
       "    .dataframe tbody tr th {\n",
       "        vertical-align: top;\n",
       "    }\n",
       "\n",
       "    .dataframe thead th {\n",
       "        text-align: right;\n",
       "    }\n",
       "</style>\n",
       "<table border=\"1\" class=\"dataframe\">\n",
       "  <thead>\n",
       "    <tr style=\"text-align: right;\">\n",
       "      <th></th>\n",
       "      <th>r</th>\n",
       "      <th>dof</th>\n",
       "      <th>pval</th>\n",
       "      <th>CI95%</th>\n",
       "      <th>power</th>\n",
       "    </tr>\n",
       "  </thead>\n",
       "  <tbody>\n",
       "    <tr>\n",
       "      <th>rm_corr</th>\n",
       "      <td>0.331</td>\n",
       "      <td>1026</td>\n",
       "      <td>1.092773e-27</td>\n",
       "      <td>[0.28, 0.38]</td>\n",
       "      <td>1.0</td>\n",
       "    </tr>\n",
       "  </tbody>\n",
       "</table>\n",
       "</div>"
      ],
      "text/plain": [
       "             r   dof          pval         CI95%  power\n",
       "rm_corr  0.331  1026  1.092773e-27  [0.28, 0.38]    1.0"
      ]
     },
     "metadata": {},
     "output_type": "display_data"
    }
   ],
   "source": [
    "with warnings.catch_warnings(record=True):\n",
    "    print(\"repeated measures correlation for GAD vs PHQ\")\n",
    "    display(pg.rm_corr(data=all_inv_df, x='gad_total', y='phq_total_sc', subject='pid'))"
   ]
  },
  {
   "cell_type": "code",
   "execution_count": 94,
   "metadata": {},
   "outputs": [
    {
     "name": "stdout",
     "output_type": "stream",
     "text": [
      "repeated measures correlation for SPIN vs PHQ\n"
     ]
    },
    {
     "data": {
      "text/html": [
       "<div>\n",
       "<style scoped>\n",
       "    .dataframe tbody tr th:only-of-type {\n",
       "        vertical-align: middle;\n",
       "    }\n",
       "\n",
       "    .dataframe tbody tr th {\n",
       "        vertical-align: top;\n",
       "    }\n",
       "\n",
       "    .dataframe thead th {\n",
       "        text-align: right;\n",
       "    }\n",
       "</style>\n",
       "<table border=\"1\" class=\"dataframe\">\n",
       "  <thead>\n",
       "    <tr style=\"text-align: right;\">\n",
       "      <th></th>\n",
       "      <th>r</th>\n",
       "      <th>dof</th>\n",
       "      <th>pval</th>\n",
       "      <th>CI95%</th>\n",
       "      <th>power</th>\n",
       "    </tr>\n",
       "  </thead>\n",
       "  <tbody>\n",
       "    <tr>\n",
       "      <th>rm_corr</th>\n",
       "      <td>0.087</td>\n",
       "      <td>1024</td>\n",
       "      <td>0.005408</td>\n",
       "      <td>[0.03, 0.15]</td>\n",
       "      <td>0.795</td>\n",
       "    </tr>\n",
       "  </tbody>\n",
       "</table>\n",
       "</div>"
      ],
      "text/plain": [
       "             r   dof      pval         CI95%  power\n",
       "rm_corr  0.087  1024  0.005408  [0.03, 0.15]  0.795"
      ]
     },
     "metadata": {},
     "output_type": "display_data"
    }
   ],
   "source": [
    "with warnings.catch_warnings(record=True):\n",
    "    print(\"repeated measures correlation for SPIN vs PHQ\")\n",
    "    display(pg.rm_corr(data=all_inv_df, x='spin_total', y='phq_total_sc', subject='pid'))"
   ]
  },
  {
   "cell_type": "code",
   "execution_count": 96,
   "metadata": {},
   "outputs": [
    {
     "name": "stdout",
     "output_type": "stream",
     "text": [
      "repeated measures correlation for GAD vs SPIN\n"
     ]
    },
    {
     "data": {
      "text/html": [
       "<div>\n",
       "<style scoped>\n",
       "    .dataframe tbody tr th:only-of-type {\n",
       "        vertical-align: middle;\n",
       "    }\n",
       "\n",
       "    .dataframe tbody tr th {\n",
       "        vertical-align: top;\n",
       "    }\n",
       "\n",
       "    .dataframe thead th {\n",
       "        text-align: right;\n",
       "    }\n",
       "</style>\n",
       "<table border=\"1\" class=\"dataframe\">\n",
       "  <thead>\n",
       "    <tr style=\"text-align: right;\">\n",
       "      <th></th>\n",
       "      <th>r</th>\n",
       "      <th>dof</th>\n",
       "      <th>pval</th>\n",
       "      <th>CI95%</th>\n",
       "      <th>power</th>\n",
       "    </tr>\n",
       "  </thead>\n",
       "  <tbody>\n",
       "    <tr>\n",
       "      <th>rm_corr</th>\n",
       "      <td>0.184</td>\n",
       "      <td>1024</td>\n",
       "      <td>2.876501e-09</td>\n",
       "      <td>[0.12, 0.24]</td>\n",
       "      <td>1.0</td>\n",
       "    </tr>\n",
       "  </tbody>\n",
       "</table>\n",
       "</div>"
      ],
      "text/plain": [
       "             r   dof          pval         CI95%  power\n",
       "rm_corr  0.184  1024  2.876501e-09  [0.12, 0.24]    1.0"
      ]
     },
     "metadata": {},
     "output_type": "display_data"
    }
   ],
   "source": [
    "with warnings.catch_warnings(record=True):\n",
    "    print(\"repeated measures correlation for GAD vs SPIN\")\n",
    "    display(pg.rm_corr(data=all_inv_df, x='gad_total', y='spin_total', subject='pid'))"
   ]
  },
  {
   "cell_type": "code",
   "execution_count": 102,
   "metadata": {},
   "outputs": [],
   "source": [
    "pids = all_inv_df['pid'].unique()\n",
    "np.random.seed(0)\n",
    "sel_pids = np.random.choice(pids, 75)"
   ]
  },
  {
   "cell_type": "code",
   "execution_count": 126,
   "metadata": {},
   "outputs": [
    {
     "data": {
      "image/png": "[encoded data removed]",
      "text/plain": [
       "<Figure size 324x324 with 1 Axes>"
      ]
     },
     "metadata": {
      "needs_background": "light"
     },
     "output_type": "display_data"
    }
   ],
   "source": [
    "sel_df = all_inv_df[all_inv_df['pid'].isin(sel_pids)]\n",
    "alpha = 0.3\n",
    "x_jitters = [ 2 for i in range(pids.shape[0])]\n",
    "y_jitters = [ 2 for i in range(pids.shape[0])]\n",
    "\n",
    "pg.plot_rm_corr(data=sel_df, x='gad_total', y='phq_total_sc', subject='pid', \n",
    "                kwargs_facetgrid={\n",
    "                    'height': 4.5, \n",
    "                    'aspect': 1,\n",
    "                    'palette':'muted',\n",
    "                    'hue_kws': {\n",
    "                        'x_jitter': x_jitters,\n",
    "                        'y_jitter': y_jitters\n",
    "                    }})\n",
    "plt.title(\"GAD vs PHQ repeated measures correlation plot, subsampled to n=75\");"
   ]
  },
  {
   "cell_type": "markdown",
   "metadata": {},
   "source": [
    "**Notes**\n",
    "\n",
    "- across individual correlation considers all points, while within-individual correlations considers the slope of each within-individual regression line"
   ]
  }
 ],
 "metadata": {
  "hide_input": false,
  "kernelspec": {
   "display_name": "Python 3.7.3 64-bit ('py37': conda)",
   "language": "python",
   "name": "python37364bitpy37conda7c0da8bc1b024608b52b9553d9c69e7f"
  },
  "language_info": {
   "codemirror_mode": {
    "name": "ipython",
    "version": 3
   },
   "file_extension": ".py",
   "mimetype": "text/x-python",
   "name": "python",
   "nbconvert_exporter": "python",
   "pygments_lexer": "ipython3",
   "version": "3.7.3"
  }
 },
 "nbformat": 4,
 "nbformat_minor": 2
}
