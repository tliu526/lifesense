{
 "cells": [
  {
   "cell_type": "markdown",
   "metadata": {},
   "source": [
    "<h1 id=\"tocheading\">Table of Contents</h1>\n",
    "<div id=\"toc\"></div>"
   ]
  },
  {
   "cell_type": "markdown",
   "metadata": {},
   "source": [
    "# Imports and Functions"
   ]
  },
  {
   "cell_type": "code",
   "execution_count": 6,
   "metadata": {},
   "outputs": [],
   "source": [
    "# imports and constants\n",
    "%matplotlib inline\n",
    "import json\n",
    "import pickle\n",
    "\n",
    "import gmaps\n",
    "import matplotlib.pyplot as plt\n",
    "import matplotlib.dates as mdates\n",
    "import numpy as np\n",
    "import pandas as pd\n",
    "import seaborn as sns\n",
    "\n",
    "from IPython.display import display, HTML\n",
    "import ipywidgets as widgets\n",
    "\n",
    "# user imports\n",
    "from utils.process_data import *\n",
    "from utils.stats import *\n",
    "\n",
    "# rpy \n",
    "from rpy2.robjects import r, pandas2ri\n",
    "import rpy2.robjects as robjects\n",
    "import rpy2\n",
    "from rpy2.robjects.packages import importr\n",
    "utils = importr('utils')\n",
    "lmtest = importr('lmtest')\n",
    "Hmisc = importr(\"Hmisc\")\n",
    "pandas2ri.activate()"
   ]
  },
  {
   "cell_type": "code",
   "execution_count": 7,
   "metadata": {},
   "outputs": [
    {
     "data": {
      "application/javascript": [
       "// ToC script\n",
       "$.getScript('https://kmahelona.github.io/ipython_notebook_goodies/ipython_notebook_toc.js')\n"
      ],
      "text/plain": [
       "<IPython.core.display.Javascript object>"
      ]
     },
     "metadata": {},
     "output_type": "display_data"
    }
   ],
   "source": [
    "%%javascript\n",
    "// ToC script\n",
    "$.getScript('https://kmahelona.github.io/ipython_notebook_goodies/ipython_notebook_toc.js')"
   ]
  },
  {
   "cell_type": "code",
   "execution_count": 8,
   "metadata": {},
   "outputs": [
    {
     "data": {
      "text/html": [
       "\n",
       "<script>\n",
       "  function code_toggle() {\n",
       "    if (code_shown){\n",
       "      $('div.input').hide('500');\n",
       "      $('#toggleButton').val('Show Code')\n",
       "    } else {\n",
       "      $('div.input').show('500');\n",
       "      $('#toggleButton').val('Hide Code')\n",
       "    }\n",
       "    code_shown = !code_shown\n",
       "  }\n",
       "\n",
       "  $( document ).ready(function(){\n",
       "    code_shown=false;\n",
       "    $('div.input').hide()\n",
       "  });\n",
       "</script>\n",
       "<form action=\"javascript:code_toggle()\"><input type=\"submit\" id=\"toggleButton\" value=\"Show Code\"></form>\n"
      ],
      "text/plain": [
       "<IPython.core.display.HTML object>"
      ]
     },
     "execution_count": 8,
     "metadata": {},
     "output_type": "execute_result"
    }
   ],
   "source": [
    "# Code hider, source: http://chris-said.io/2016/02/13/how-to-make-polished-jupyter-presentations-with-optional-code-visibility/\n",
    "from IPython.display import HTML\n",
    "\n",
    "HTML('''\n",
    "<script>\n",
    "  function code_toggle() {\n",
    "    if (code_shown){\n",
    "      $('div.input').hide('500');\n",
    "      $('#toggleButton').val('Show Code')\n",
    "    } else {\n",
    "      $('div.input').show('500');\n",
    "      $('#toggleButton').val('Hide Code')\n",
    "    }\n",
    "    code_shown = !code_shown\n",
    "  }\n",
    "\n",
    "  $( document ).ready(function(){\n",
    "    code_shown=false;\n",
    "    $('div.input').hide()\n",
    "  });\n",
    "</script>\n",
    "<form action=\"javascript:code_toggle()\"><input type=\"submit\" id=\"toggleButton\" value=\"Show Code\"></form>\n",
    "''')"
   ]
  },
  {
   "cell_type": "markdown",
   "metadata": {},
   "source": [
    "# Load Data"
   ]
  },
  {
   "cell_type": "code",
   "execution_count": 9,
   "metadata": {},
   "outputs": [],
   "source": [
    "baseline_df = pd.read_excel(\"data_pull/LS_Wave1_SC_BL_WK1_Data_081419-revised.xlsx\",\n",
    "                            sheet_name=0)\n",
    "wk1_df = pd.read_excel(\"data_pull/LS_Wave1_SC_BL_WK1_Data_081419.xlsx\",\n",
    "                       sheet_name=2)\n",
    "mapping_df = pd.read_csv(\"data_pull/Wave1LifeSenseEnroll_DATA_LABELS_2019-08-15_0929.csv\")"
   ]
  },
  {
   "cell_type": "code",
   "execution_count": 10,
   "metadata": {},
   "outputs": [],
   "source": [
    "redcap_dict = dict(zip(mapping_df['Case#:'], mapping_df['LifeSense Study App ID:    ']))"
   ]
  },
  {
   "cell_type": "code",
   "execution_count": 29,
   "metadata": {},
   "outputs": [],
   "source": [
    "all_fga = pd.read_pickle(\"ls_data/all_fga.df\")\n",
    "all_scr = pd.read_pickle(\"ls_data/all_scr.df\")"
   ]
  },
  {
   "cell_type": "markdown",
   "metadata": {
    "heading_collapsed": true
   },
   "source": [
    "## Build Demographics DF"
   ]
  },
  {
   "cell_type": "code",
   "execution_count": 12,
   "metadata": {
    "hidden": true
   },
   "outputs": [],
   "source": [
    "demo_df = pd.DataFrame()\n",
    "demo_df['study_id'] = baseline_df['study_id']\n",
    "demo_df['pid'] = demo_df['study_id'].map(redcap_dict)\n",
    "demo_df['age'] = baseline_df['age']\n",
    "demo_df['gender'] = baseline_df['demo_gender']\n"
   ]
  },
  {
   "cell_type": "code",
   "execution_count": 16,
   "metadata": {
    "hidden": true
   },
   "outputs": [],
   "source": [
    "demo_df['employment'] = baseline_df['routine_slabels02']\n",
    "\n",
    "employment_dict = {\n",
    "    1: 'employed',\n",
    "    2: 'unemployed',\n",
    "    3: 'disability',\n",
    "    4: 'retired',\n",
    "    88: 'other',\n",
    "    99: 'pna'\n",
    "}\n",
    "\n",
    "demo_df['employment'] = demo_df['employment'].map(employment_dict)\n",
    "\n",
    "demo_df['employment'].value_counts()"
   ]
  },
  {
   "cell_type": "code",
   "execution_count": 18,
   "metadata": {
    "hidden": true
   },
   "outputs": [
    {
     "data": {
      "text/plain": [
       "single                  101\n",
       "married                  92\n",
       "live_with_partner        41\n",
       "divorced                 33\n",
       "separated                 6\n",
       "domestic_partnership      6\n",
       "pna                       2\n",
       "dont_know                 1\n",
       "Name: marital_status, dtype: int64"
      ]
     },
     "execution_count": 18,
     "metadata": {},
     "output_type": "execute_result"
    }
   ],
   "source": [
    "demo_df['marital_status'] = baseline_df['demo_maritalstatus']\n",
    "\n",
    "marital_dict = {\n",
    "    0: 'single',\n",
    "    1: 'live_with_partner',\n",
    "    2: 'domestic_partnership',\n",
    "    3: 'married',\n",
    "    4: 'separated',\n",
    "    5: 'divorced',\n",
    "    6: 'dont_know',\n",
    "    99: 'pna'\n",
    "}\n",
    "\n",
    "demo_df['marital_status'] = demo_df['marital_status'].map(marital_dict)\n",
    "\n",
    "demo_df['marital_status'].value_counts()"
   ]
  },
  {
   "cell_type": "code",
   "execution_count": 19,
   "metadata": {
    "hidden": true
   },
   "outputs": [
    {
     "data": {
      "text/plain": [
       "bachelors                99\n",
       "masters                  62\n",
       "some_college             47\n",
       "associates_vocational    26\n",
       "associates_academic      13\n",
       "doctoral_degree          12\n",
       "professional_degree       7\n",
       "high_school               7\n",
       "ged                       6\n",
       "11th_grade                1\n",
       "10th_grade                1\n",
       "12th_grade_no_diploma     1\n",
       "Name: education, dtype: int64"
      ]
     },
     "execution_count": 19,
     "metadata": {},
     "output_type": "execute_result"
    }
   ],
   "source": [
    "demo_df['education'] = baseline_df['demo_highest_education']\n",
    "\n",
    "edu_dict = {\n",
    "    1: 'never_attended', \n",
    "    2: '1st_grade',\n",
    "    3: '2nd_grade', \n",
    "    4: '3rd_grade', \n",
    "    5: '4th_grade', \n",
    "    6: '5th_grade', \n",
    "    7: '6th_grade', \n",
    "    8: '7th_grade', \n",
    "    9: '8th_grade', \n",
    "    10: '9th_grade', \n",
    "    11: '10th_grade', \n",
    "    12: '11th_grade' , \n",
    "    13: '12th_grade_no_diploma', \n",
    "    14: 'high_school', \n",
    "    15: 'ged', \n",
    "    16: 'some_college',\n",
    "    17: 'associates_vocational',\n",
    "    18: 'associates_academic',\n",
    "    19: 'bachelors',\n",
    "    20: 'masters',\n",
    "    21: 'professional_degree', \n",
    "    22: 'doctoral_degree', \n",
    "    23: 'dont_know', \n",
    "    99: 'pna'\n",
    "}\n",
    "\n",
    "demo_df['education'] = demo_df['education'].map(edu_dict)\n",
    "\n",
    "demo_df['education'].value_counts()"
   ]
  },
  {
   "cell_type": "code",
   "execution_count": 20,
   "metadata": {
    "hidden": true
   },
   "outputs": [],
   "source": [
    "demo_df['fam_income'] = baseline_df['demo_fam_income']\n",
    "demo_df['ind_income'] = baseline_df['demo_personal_income']\n",
    "income_dict = {\n",
    "    1: '<10000',\n",
    "    2: '10000-19999',\n",
    "    3: '20000-39999',\n",
    "    4: '40000-59999',\n",
    "    5: '60000-99999',\n",
    "    6: '>100000',\n",
    "    7: 'dont_know',\n",
    "    99: 'pna'\n",
    "}\n",
    "\n",
    "demo_df['fam_income'] = demo_df['fam_income'].map(income_dict)\n",
    "demo_df['ind_income'] = demo_df['ind_income'].map(income_dict)\n"
   ]
  },
  {
   "cell_type": "code",
   "execution_count": 21,
   "metadata": {
    "hidden": true
   },
   "outputs": [
    {
     "data": {
      "text/plain": [
       "60000-99999    88\n",
       "40000-59999    59\n",
       ">100000        49\n",
       "20000-39999    44\n",
       "10000-19999    20\n",
       "<10000         13\n",
       "pna             5\n",
       "dont_know       4\n",
       "Name: fam_income, dtype: int64"
      ]
     },
     "execution_count": 21,
     "metadata": {},
     "output_type": "execute_result"
    }
   ],
   "source": [
    "demo_df['fam_income'].value_counts()"
   ]
  },
  {
   "cell_type": "code",
   "execution_count": 22,
   "metadata": {
    "hidden": true
   },
   "outputs": [
    {
     "data": {
      "text/plain": [
       "40000-59999    71\n",
       "20000-39999    60\n",
       "60000-99999    54\n",
       "10000-19999    40\n",
       "<10000         39\n",
       ">100000        12\n",
       "pna             4\n",
       "dont_know       2\n",
       "Name: ind_income, dtype: int64"
      ]
     },
     "execution_count": 22,
     "metadata": {},
     "output_type": "execute_result"
    }
   ],
   "source": [
    "demo_df['ind_income'].value_counts()"
   ]
  },
  {
   "cell_type": "markdown",
   "metadata": {},
   "source": [
    "## Build Initial State DF"
   ]
  },
  {
   "cell_type": "code",
   "execution_count": 25,
   "metadata": {},
   "outputs": [],
   "source": [
    "init_df = pd.DataFrame()\n",
    "init_df['study_id'] = baseline_df['study_id']\n",
    "init_df['pid'] = init_df['study_id'].map(redcap_dict)\n",
    "init_df['pid'] = init_df['pid'].astype(str)\n",
    "init_df['pid'] = init_df['pid'].str.pad(width=8, side='left', fillchar='0')\n",
    "\n",
    "# phq\n",
    "init_df['phq8'] = baseline_df['phq_total_sc']\n",
    "init_df['phq_q10'] = baseline_df['phq10_sc']\n",
    "\n",
    "# gad\n",
    "init_df['gad7'] = baseline_df['gad_total']\n",
    "init_df['gad_q8'] = baseline_df['gad08']\n",
    "init_df.loc[97, 'gad7'] = (107-98)\n",
    "init_df['gad7']\n",
    "\n",
    "# shaps\n",
    "init_df['shaps'] = baseline_df['shaps_score']\n",
    "\n",
    "shaps_cols = baseline_df.columns[baseline_df.columns.str.contains('shaps')][:-1]\n",
    "shaps_df = baseline_df[shaps_cols]\n",
    "shaps_df = shaps_df.replace(to_replace=99, value=3)\n",
    "init_df['shaps_sum'] = shaps_df.sum(axis=1)\n",
    "\n",
    "# diagnoses\n",
    "dx_cols = baseline_df.columns[baseline_df.columns.str.startswith('dx')]\n",
    "init_df[dx_cols] = baseline_df[dx_cols]"
   ]
  },
  {
   "cell_type": "code",
   "execution_count": 26,
   "metadata": {},
   "outputs": [],
   "source": [
    "# spin\n",
    "fear = [1,3,5,10,14,15]\n",
    "avoid = [4,6,8,9,10,11,16]\n",
    "physio = [2,7,13,17]\n",
    "mini = [6,9,15]\n",
    "\n",
    "def proc_spin_cols(qs):\n",
    "    col_names = []\n",
    "    for q in qs:\n",
    "        name = \"spin_0{}\" if q < 10 else \"spin_{}\"\n",
    "        col_names.append(name.format(q))\n",
    "    return col_names\n",
    "\n",
    "fear_cols = proc_spin_cols(fear)\n",
    "avoid_cols = proc_spin_cols(avoid)\n",
    "phys_cols = proc_spin_cols(avoid)\n",
    "mini_cols = proc_spin_cols(mini)\n",
    "\n",
    "spin_cols = baseline_df.columns[baseline_df.columns.str.contains('spin')][:-1]\n",
    "spin_df = baseline_df[spin_cols]\n",
    "spin_df = spin_df.replace(to_replace=999, value=1)\n",
    "spin_df['spin_fear'] = spin_df[fear_cols].sum(axis=1)\n",
    "spin_df['spin_avoid'] = spin_df[avoid_cols].sum(axis=1)\n",
    "spin_df['spin_phys'] = spin_df[phys_cols].sum(axis=1)\n",
    "spin_df['spin_mini'] = spin_df[mini_cols].sum(axis=1)\n",
    "spin_df['spin_total'] = spin_df[spin_cols].sum(axis=1)\n",
    "spin_cols = ['spin_total', 'spin_fear', 'spin_avoid', 'spin_phys', 'spin_mini']\n",
    "init_df[spin_cols] = spin_df[spin_cols]"
   ]
  },
  {
   "cell_type": "code",
   "execution_count": 27,
   "metadata": {},
   "outputs": [
    {
     "data": {
      "text/html": [
       "<div>\n",
       "<style scoped>\n",
       "    .dataframe tbody tr th:only-of-type {\n",
       "        vertical-align: middle;\n",
       "    }\n",
       "\n",
       "    .dataframe tbody tr th {\n",
       "        vertical-align: top;\n",
       "    }\n",
       "\n",
       "    .dataframe thead th {\n",
       "        text-align: right;\n",
       "    }\n",
       "</style>\n",
       "<table border=\"1\" class=\"dataframe\">\n",
       "  <thead>\n",
       "    <tr style=\"text-align: right;\">\n",
       "      <th></th>\n",
       "      <th>study_id</th>\n",
       "      <th>pid</th>\n",
       "      <th>phq8</th>\n",
       "      <th>phq_q10</th>\n",
       "      <th>gad7</th>\n",
       "      <th>gad_q8</th>\n",
       "      <th>shaps</th>\n",
       "      <th>shaps_sum</th>\n",
       "      <th>dx_depression</th>\n",
       "      <th>dx_bipolar</th>\n",
       "      <th>dx_ocd</th>\n",
       "      <th>dx_ptsd</th>\n",
       "      <th>dx_schizo</th>\n",
       "      <th>dx_eating</th>\n",
       "      <th>dx_substance</th>\n",
       "      <th>spin_total</th>\n",
       "      <th>spin_fear</th>\n",
       "      <th>spin_avoid</th>\n",
       "      <th>spin_phys</th>\n",
       "      <th>spin_mini</th>\n",
       "    </tr>\n",
       "  </thead>\n",
       "  <tbody>\n",
       "    <tr>\n",
       "      <th>0</th>\n",
       "      <td>601011</td>\n",
       "      <td>91048552</td>\n",
       "      <td>3</td>\n",
       "      <td>1.0</td>\n",
       "      <td>0</td>\n",
       "      <td>0.0</td>\n",
       "      <td>0</td>\n",
       "      <td>52</td>\n",
       "      <td>0</td>\n",
       "      <td>0</td>\n",
       "      <td>0</td>\n",
       "      <td>0</td>\n",
       "      <td>0</td>\n",
       "      <td>0</td>\n",
       "      <td>0</td>\n",
       "      <td>2</td>\n",
       "      <td>1</td>\n",
       "      <td>1</td>\n",
       "      <td>1</td>\n",
       "      <td>1</td>\n",
       "    </tr>\n",
       "    <tr>\n",
       "      <th>1</th>\n",
       "      <td>601012</td>\n",
       "      <td>31456993</td>\n",
       "      <td>15</td>\n",
       "      <td>1.0</td>\n",
       "      <td>15</td>\n",
       "      <td>2.0</td>\n",
       "      <td>5</td>\n",
       "      <td>39</td>\n",
       "      <td>1</td>\n",
       "      <td>0</td>\n",
       "      <td>0</td>\n",
       "      <td>1</td>\n",
       "      <td>0</td>\n",
       "      <td>0</td>\n",
       "      <td>0</td>\n",
       "      <td>30</td>\n",
       "      <td>11</td>\n",
       "      <td>13</td>\n",
       "      <td>13</td>\n",
       "      <td>6</td>\n",
       "    </tr>\n",
       "    <tr>\n",
       "      <th>2</th>\n",
       "      <td>601013</td>\n",
       "      <td>51735262</td>\n",
       "      <td>4</td>\n",
       "      <td>0.0</td>\n",
       "      <td>11</td>\n",
       "      <td>1.0</td>\n",
       "      <td>0</td>\n",
       "      <td>51</td>\n",
       "      <td>0</td>\n",
       "      <td>0</td>\n",
       "      <td>0</td>\n",
       "      <td>0</td>\n",
       "      <td>0</td>\n",
       "      <td>0</td>\n",
       "      <td>0</td>\n",
       "      <td>8</td>\n",
       "      <td>4</td>\n",
       "      <td>2</td>\n",
       "      <td>2</td>\n",
       "      <td>1</td>\n",
       "    </tr>\n",
       "    <tr>\n",
       "      <th>3</th>\n",
       "      <td>601014</td>\n",
       "      <td>69452375</td>\n",
       "      <td>7</td>\n",
       "      <td>2.0</td>\n",
       "      <td>7</td>\n",
       "      <td>1.0</td>\n",
       "      <td>3</td>\n",
       "      <td>44</td>\n",
       "      <td>0</td>\n",
       "      <td>0</td>\n",
       "      <td>0</td>\n",
       "      <td>0</td>\n",
       "      <td>0</td>\n",
       "      <td>0</td>\n",
       "      <td>0</td>\n",
       "      <td>23</td>\n",
       "      <td>10</td>\n",
       "      <td>17</td>\n",
       "      <td>17</td>\n",
       "      <td>4</td>\n",
       "    </tr>\n",
       "    <tr>\n",
       "      <th>4</th>\n",
       "      <td>601015</td>\n",
       "      <td>28021601</td>\n",
       "      <td>1</td>\n",
       "      <td>1.0</td>\n",
       "      <td>0</td>\n",
       "      <td>0.0</td>\n",
       "      <td>0</td>\n",
       "      <td>55</td>\n",
       "      <td>1</td>\n",
       "      <td>0</td>\n",
       "      <td>0</td>\n",
       "      <td>0</td>\n",
       "      <td>0</td>\n",
       "      <td>0</td>\n",
       "      <td>0</td>\n",
       "      <td>2</td>\n",
       "      <td>0</td>\n",
       "      <td>2</td>\n",
       "      <td>2</td>\n",
       "      <td>0</td>\n",
       "    </tr>\n",
       "  </tbody>\n",
       "</table>\n",
       "</div>"
      ],
      "text/plain": [
       "   study_id       pid  phq8  phq_q10  gad7  gad_q8  shaps  shaps_sum  \\\n",
       "0    601011  91048552     3      1.0     0     0.0      0         52   \n",
       "1    601012  31456993    15      1.0    15     2.0      5         39   \n",
       "2    601013  51735262     4      0.0    11     1.0      0         51   \n",
       "3    601014  69452375     7      2.0     7     1.0      3         44   \n",
       "4    601015  28021601     1      1.0     0     0.0      0         55   \n",
       "\n",
       "   dx_depression  dx_bipolar  dx_ocd  dx_ptsd  dx_schizo  dx_eating  \\\n",
       "0              0           0       0        0          0          0   \n",
       "1              1           0       0        1          0          0   \n",
       "2              0           0       0        0          0          0   \n",
       "3              0           0       0        0          0          0   \n",
       "4              1           0       0        0          0          0   \n",
       "\n",
       "   dx_substance  spin_total  spin_fear  spin_avoid  spin_phys  spin_mini  \n",
       "0             0           2          1           1          1          1  \n",
       "1             0          30         11          13         13          6  \n",
       "2             0           8          4           2          2          1  \n",
       "3             0          23         10          17         17          4  \n",
       "4             0           2          0           2          2          0  "
      ]
     },
     "execution_count": 27,
     "metadata": {},
     "output_type": "execute_result"
    }
   ],
   "source": [
    "init_df.head()"
   ]
  },
  {
   "cell_type": "markdown",
   "metadata": {},
   "source": [
    "## Build App DF"
   ]
  },
  {
   "cell_type": "code",
   "execution_count": null,
   "metadata": {},
   "outputs": [],
   "source": [
    "all_fga[apps] = all_fga[apps].clip(lower=0)\n",
    "all_fga['date'] = all_fga['hr'].dt.floor('d')"
   ]
  },
  {
   "cell_type": "code",
   "execution_count": null,
   "metadata": {},
   "outputs": [],
   "source": [
    "fga_daily = all_fga.groupby(['pid', 'date']).sum()\n",
    "fga_daily = fga_daily.reset_index()"
   ]
  }
 ],
 "metadata": {
  "hide_input": false,
  "kernelspec": {
   "display_name": "Python 3",
   "language": "python",
   "name": "python3"
  },
  "language_info": {
   "codemirror_mode": {
    "name": "ipython",
    "version": 3
   },
   "file_extension": ".py",
   "mimetype": "text/x-python",
   "name": "python",
   "nbconvert_exporter": "python",
   "pygments_lexer": "ipython3",
   "version": "3.7.3"
  }
 },
 "nbformat": 4,
 "nbformat_minor": 2
}
