{
 "cells": [
  {
   "cell_type": "markdown",
   "metadata": {},
   "source": [
    "<h1 id=\"tocheading\">Table of Contents</h1>\n",
    "<div id=\"toc\"></div>"
   ]
  },
  {
   "cell_type": "markdown",
   "metadata": {},
   "source": [
    "# Imports and Functions"
   ]
  },
  {
   "cell_type": "code",
   "execution_count": 108,
   "metadata": {},
   "outputs": [],
   "source": [
    "# imports and constants\n",
    "import json\n",
    "import pickle\n",
    "\n",
    "import gmaps\n",
    "import matplotlib.pyplot as plt\n",
    "import matplotlib.dates as mdates\n",
    "import numpy as np\n",
    "import pandas as pd\n",
    "import pingouin as pg\n",
    "import seaborn as sns\n",
    "\n",
    "from IPython.display import display, HTML\n",
    "import ipywidgets as widgets\n",
    "\n",
    "# user imports\n",
    "from utils.process_data import *\n",
    "from utils.stats import *\n",
    "from utils.lifesense_utils import *\n",
    "\n",
    "%matplotlib inline"
   ]
  },
  {
   "cell_type": "code",
   "execution_count": 7,
   "metadata": {},
   "outputs": [
    {
     "data": {
      "application/javascript": [
       "// ToC script\n",
       "$.getScript('https://kmahelona.github.io/ipython_notebook_goodies/ipython_notebook_toc.js')\n"
      ],
      "text/plain": [
       "<IPython.core.display.Javascript object>"
      ]
     },
     "metadata": {},
     "output_type": "display_data"
    }
   ],
   "source": [
    "%%javascript\n",
    "// ToC script\n",
    "$.getScript('https://kmahelona.github.io/ipython_notebook_goodies/ipython_notebook_toc.js')"
   ]
  },
  {
   "cell_type": "code",
   "execution_count": 8,
   "metadata": {},
   "outputs": [
    {
     "data": {
      "text/html": [
       "\n",
       "<script>\n",
       "  function code_toggle() {\n",
       "    if (code_shown){\n",
       "      $('div.input').hide('500');\n",
       "      $('#toggleButton').val('Show Code')\n",
       "    } else {\n",
       "      $('div.input').show('500');\n",
       "      $('#toggleButton').val('Hide Code')\n",
       "    }\n",
       "    code_shown = !code_shown\n",
       "  }\n",
       "\n",
       "  $( document ).ready(function(){\n",
       "    code_shown=false;\n",
       "    $('div.input').hide()\n",
       "  });\n",
       "</script>\n",
       "<form action=\"javascript:code_toggle()\"><input type=\"submit\" id=\"toggleButton\" value=\"Show Code\"></form>\n"
      ],
      "text/plain": [
       "<IPython.core.display.HTML object>"
      ]
     },
     "execution_count": 8,
     "metadata": {},
     "output_type": "execute_result"
    }
   ],
   "source": [
    "# Code hider, source: http://chris-said.io/2016/02/13/how-to-make-polished-jupyter-presentations-with-optional-code-visibility/\n",
    "from IPython.display import HTML\n",
    "\n",
    "HTML('''\n",
    "<script>\n",
    "  function code_toggle() {\n",
    "    if (code_shown){\n",
    "      $('div.input').hide('500');\n",
    "      $('#toggleButton').val('Show Code')\n",
    "    } else {\n",
    "      $('div.input').show('500');\n",
    "      $('#toggleButton').val('Hide Code')\n",
    "    }\n",
    "    code_shown = !code_shown\n",
    "  }\n",
    "\n",
    "  $( document ).ready(function(){\n",
    "    code_shown=false;\n",
    "    $('div.input').hide()\n",
    "  });\n",
    "</script>\n",
    "<form action=\"javascript:code_toggle()\"><input type=\"submit\" id=\"toggleButton\" value=\"Show Code\"></form>\n",
    "''')"
   ]
  },
  {
   "cell_type": "code",
   "execution_count": 112,
   "metadata": {},
   "outputs": [],
   "source": [
    "def filter_sig_corrs(r_corrs, r_p_vals, cols, target_col, filter_prefix=\"\", alpha=0.05):\n",
    "    \"\"\"Builds a df with correlations for the target_col, optionally providing a prefix filter for columns\n",
    "    \n",
    "    \"\"\"\n",
    "    target_idx = np.where(cols==target_col)\n",
    "    target_corrs = r_corrs[target_idx]\n",
    "    target_p_vals = r_p_vals[target_idx]\n",
    "\n",
    "    target_stats = np.transpose(np.vstack((target_corrs, target_p_vals)))\n",
    "    target_df = pd.DataFrame(target_stats, index=cols, columns=['corr', 'p'])\n",
    "    sig_features = target_df.loc[target_df['p'] < alpha]\n",
    "    sig_features = sig_features.loc[sig_features.index.str.startswith(filter_prefix)]\n",
    "    pd.options.display.float_format = '{:,.3f}'.format\n",
    "\n",
    "    return sig_features.sort_values(by='p')\n",
    "\n",
    "\n",
    "def build_partial_corr(corr_df, target, covar, pval=0.05):\n",
    "    \"\"\"\n",
    "    Builds partial correlation DataFrame from corr_df of the target survey, controlling for covars.\n",
    "    \n",
    "    Args:\n",
    "        covars (list): list of covariates to control for\n",
    "    \"\"\"\n",
    "    \n",
    "    partial_corr = pg.pairwise_corr(data=corr_df, covar=[covar], method='pearson')\n",
    "    partial_corr = partial_corr.loc[(partial_corr['p-unc'] < pval) & (partial_corr['X'].str.contains(target)) & (~partial_corr['Y'].str.contains(target))]\n",
    "    partial_corr['r_ctl'] = partial_corr['r']\n",
    "    partial_corr['p_ctl'] = partial_corr['p-unc']\n",
    "\n",
    "    partial_corr = partial_corr[['X', 'Y', 'covar', 'r_ctl', 'p_ctl']]\n",
    "\n",
    "    pairwise_corr = pg.pairwise_corr(data=corr_df, method='pearson')\n",
    "    pairwise_corr['r_unctl'] = pairwise_corr['r']\n",
    "    pairwise_corr['p_unctl'] = pairwise_corr['p-unc']\n",
    "\n",
    "    partial_corr = partial_corr.merge(pairwise_corr[['X', 'Y', 'r_unctl', 'p_unctl']], on=['X', 'Y'], how='left')\n",
    "    return partial_corr"
   ]
  },
  {
   "cell_type": "markdown",
   "metadata": {},
   "source": [
    "# Load Data"
   ]
  },
  {
   "cell_type": "code",
   "execution_count": 9,
   "metadata": {},
   "outputs": [],
   "source": [
    "baseline_df = pd.read_excel(\"data_pull/LS_Wave1_SC_BL_WK1_Data_081419-revised.xlsx\",\n",
    "                            sheet_name=0)\n",
    "wk1_df = pd.read_excel(\"data_pull/LS_Wave1_SC_BL_WK1_Data_081419.xlsx\",\n",
    "                       sheet_name=2)\n",
    "mapping_df = pd.read_csv(\"data_pull/Wave1LifeSenseEnroll_DATA_LABELS_2019-08-15_0929.csv\")"
   ]
  },
  {
   "cell_type": "code",
   "execution_count": 90,
   "metadata": {},
   "outputs": [],
   "source": [
    "redcap_dict = dict(zip(mapping_df['Case#:'], mapping_df['LifeSense Study App ID:    ']))\n",
    "\n",
    "str_redcap_dict = {}\n",
    "for k,v in redcap_dict.items():\n",
    "    v_str = str(v)\n",
    "    if len(v_str) < 8:\n",
    "        v_str = '0' + v_str\n",
    "        \n",
    "    str_redcap_dict[k] = v_str"
   ]
  },
  {
   "cell_type": "code",
   "execution_count": 29,
   "metadata": {},
   "outputs": [],
   "source": [
    "all_fga = pd.read_pickle(\"ls_data/all_fga.df\")\n",
    "all_scr = pd.read_pickle(\"ls_data/all_scr.df\")"
   ]
  },
  {
   "cell_type": "markdown",
   "metadata": {},
   "source": [
    "## Build Demographics DF"
   ]
  },
  {
   "cell_type": "code",
   "execution_count": 91,
   "metadata": {},
   "outputs": [],
   "source": [
    "demo_df = pd.DataFrame()\n",
    "demo_df['study_id'] = baseline_df['study_id']\n",
    "demo_df['pid'] = demo_df['study_id'].map(str_redcap_dict)\n",
    "demo_df['age'] = baseline_df['age']\n",
    "demo_df['gender'] = baseline_df['demo_gender']\n"
   ]
  },
  {
   "cell_type": "code",
   "execution_count": 92,
   "metadata": {},
   "outputs": [
    {
     "data": {
      "text/plain": [
       "employed      218\n",
       "unemployed     23\n",
       "disability     17\n",
       "other          13\n",
       "retired        10\n",
       "pna             1\n",
       "Name: employment, dtype: int64"
      ]
     },
     "execution_count": 92,
     "metadata": {},
     "output_type": "execute_result"
    }
   ],
   "source": [
    "demo_df['employment'] = baseline_df['routine_slabels02']\n",
    "\n",
    "employment_dict = {\n",
    "    1: 'employed',\n",
    "    2: 'unemployed',\n",
    "    3: 'disability',\n",
    "    4: 'retired',\n",
    "    88: 'other',\n",
    "    99: 'pna'\n",
    "}\n",
    "\n",
    "demo_df['employment'] = demo_df['employment'].map(employment_dict)\n",
    "\n",
    "demo_df['employment'].value_counts()"
   ]
  },
  {
   "cell_type": "code",
   "execution_count": 93,
   "metadata": {},
   "outputs": [
    {
     "data": {
      "text/plain": [
       "single                  101\n",
       "married                  92\n",
       "live_with_partner        41\n",
       "divorced                 33\n",
       "separated                 6\n",
       "domestic_partnership      6\n",
       "pna                       2\n",
       "dont_know                 1\n",
       "Name: marital_status, dtype: int64"
      ]
     },
     "execution_count": 93,
     "metadata": {},
     "output_type": "execute_result"
    }
   ],
   "source": [
    "demo_df['marital_status'] = baseline_df['demo_maritalstatus']\n",
    "\n",
    "marital_dict = {\n",
    "    0: 'single',\n",
    "    1: 'live_with_partner',\n",
    "    2: 'domestic_partnership',\n",
    "    3: 'married',\n",
    "    4: 'separated',\n",
    "    5: 'divorced',\n",
    "    6: 'dont_know',\n",
    "    99: 'pna'\n",
    "}\n",
    "\n",
    "demo_df['marital_status'] = demo_df['marital_status'].map(marital_dict)\n",
    "\n",
    "demo_df['marital_status'].value_counts()"
   ]
  },
  {
   "cell_type": "code",
   "execution_count": 94,
   "metadata": {},
   "outputs": [
    {
     "data": {
      "text/plain": [
       "bachelors                99\n",
       "masters                  62\n",
       "some_college             47\n",
       "associates_vocational    26\n",
       "associates_academic      13\n",
       "doctoral_degree          12\n",
       "professional_degree       7\n",
       "high_school               7\n",
       "ged                       6\n",
       "11th_grade                1\n",
       "10th_grade                1\n",
       "12th_grade_no_diploma     1\n",
       "Name: education, dtype: int64"
      ]
     },
     "execution_count": 94,
     "metadata": {},
     "output_type": "execute_result"
    }
   ],
   "source": [
    "demo_df['education'] = baseline_df['demo_highest_education']\n",
    "\n",
    "edu_dict = {\n",
    "    1: 'never_attended', \n",
    "    2: '1st_grade',\n",
    "    3: '2nd_grade', \n",
    "    4: '3rd_grade', \n",
    "    5: '4th_grade', \n",
    "    6: '5th_grade', \n",
    "    7: '6th_grade', \n",
    "    8: '7th_grade', \n",
    "    9: '8th_grade', \n",
    "    10: '9th_grade', \n",
    "    11: '10th_grade', \n",
    "    12: '11th_grade' , \n",
    "    13: '12th_grade_no_diploma', \n",
    "    14: 'high_school', \n",
    "    15: 'ged', \n",
    "    16: 'some_college',\n",
    "    17: 'associates_vocational',\n",
    "    18: 'associates_academic',\n",
    "    19: 'bachelors',\n",
    "    20: 'masters',\n",
    "    21: 'professional_degree', \n",
    "    22: 'doctoral_degree', \n",
    "    23: 'dont_know', \n",
    "    99: 'pna'\n",
    "}\n",
    "\n",
    "demo_df['education'] = demo_df['education'].map(edu_dict)\n",
    "\n",
    "demo_df['education'].value_counts()"
   ]
  },
  {
   "cell_type": "code",
   "execution_count": 95,
   "metadata": {},
   "outputs": [],
   "source": [
    "demo_df['fam_income'] = baseline_df['demo_fam_income']\n",
    "demo_df['ind_income'] = baseline_df['demo_personal_income']\n",
    "income_dict = {\n",
    "    1: '<10000',\n",
    "    2: '10000-19999',\n",
    "    3: '20000-39999',\n",
    "    4: '40000-59999',\n",
    "    5: '60000-99999',\n",
    "    6: '>100000',\n",
    "    7: 'dont_know',\n",
    "    99: 'pna'\n",
    "}\n",
    "\n",
    "demo_df['fam_income'] = demo_df['fam_income'].map(income_dict)\n",
    "demo_df['ind_income'] = demo_df['ind_income'].map(income_dict)\n"
   ]
  },
  {
   "cell_type": "code",
   "execution_count": 96,
   "metadata": {},
   "outputs": [
    {
     "data": {
      "text/plain": [
       "60000-99999    88\n",
       "40000-59999    59\n",
       ">100000        49\n",
       "20000-39999    44\n",
       "10000-19999    20\n",
       "<10000         13\n",
       "pna             5\n",
       "dont_know       4\n",
       "Name: fam_income, dtype: int64"
      ]
     },
     "execution_count": 96,
     "metadata": {},
     "output_type": "execute_result"
    }
   ],
   "source": [
    "demo_df['fam_income'].value_counts()"
   ]
  },
  {
   "cell_type": "code",
   "execution_count": 97,
   "metadata": {},
   "outputs": [
    {
     "data": {
      "text/plain": [
       "40000-59999    71\n",
       "20000-39999    60\n",
       "60000-99999    54\n",
       "10000-19999    40\n",
       "<10000         39\n",
       ">100000        12\n",
       "pna             4\n",
       "dont_know       2\n",
       "Name: ind_income, dtype: int64"
      ]
     },
     "execution_count": 97,
     "metadata": {},
     "output_type": "execute_result"
    }
   ],
   "source": [
    "demo_df['ind_income'].value_counts()"
   ]
  },
  {
   "cell_type": "markdown",
   "metadata": {},
   "source": [
    "## Build Initial State DF"
   ]
  },
  {
   "cell_type": "code",
   "execution_count": 172,
   "metadata": {},
   "outputs": [],
   "source": [
    "init_df = pd.DataFrame()\n",
    "init_df['study_id'] = baseline_df['study_id']\n",
    "init_df['pid'] = init_df['study_id'].map(redcap_dict)\n",
    "init_df['pid'] = init_df['pid'].astype(str)\n",
    "init_df['pid'] = init_df['pid'].str.pad(width=8, side='left', fillchar='0')\n",
    "\n",
    "# phq\n",
    "init_df['phq8'] = baseline_df['phq_total_sc']\n",
    "init_df['phq_q10'] = baseline_df['phq10_sc']\n",
    "\n",
    "# gad\n",
    "init_df['gad7'] = baseline_df['gad_total']\n",
    "init_df['gad_q8'] = baseline_df['gad08']\n",
    "init_df.loc[97, 'gad7'] = (107-98)\n",
    "init_df['gad7']\n",
    "\n",
    "# shaps\n",
    "init_df['shaps'] = baseline_df['shaps_score']\n",
    "\n",
    "shaps_cols = baseline_df.columns[baseline_df.columns.str.contains('shaps')][:-1]\n",
    "shaps_df = baseline_df[shaps_cols]\n",
    "shaps_df = shaps_df.replace(to_replace=99, value=3)\n",
    "init_df['shaps_sum'] = shaps_df.sum(axis=1)\n",
    "\n",
    "# diagnoses\n",
    "dx_cols = baseline_df.columns[baseline_df.columns.str.startswith('dx')]\n",
    "dx_cols = dx_cols.drop(['dx_schizo', 'dx_bipolar'])\n",
    "dx_df = baseline_df[dx_cols]\n",
    "dx_df = dx_df.replace(to_replace=99, value=0)\n",
    "dx_df = dx_df.replace(to_replace=77, value=0)\n",
    "init_df[dx_cols] = dx_df[dx_cols]"
   ]
  },
  {
   "cell_type": "code",
   "execution_count": 173,
   "metadata": {},
   "outputs": [],
   "source": [
    "# spin\n",
    "fear = [1,3,5,10,14,15]\n",
    "avoid = [4,6,8,9,10,11,16]\n",
    "physio = [2,7,13,17]\n",
    "mini = [6,9,15]\n",
    "\n",
    "def proc_spin_cols(qs):\n",
    "    col_names = []\n",
    "    for q in qs:\n",
    "        name = \"spin_0{}\" if q < 10 else \"spin_{}\"\n",
    "        col_names.append(name.format(q))\n",
    "    return col_names\n",
    "\n",
    "fear_cols = proc_spin_cols(fear)\n",
    "avoid_cols = proc_spin_cols(avoid)\n",
    "phys_cols = proc_spin_cols(avoid)\n",
    "mini_cols = proc_spin_cols(mini)\n",
    "\n",
    "spin_cols = baseline_df.columns[baseline_df.columns.str.contains('spin')][:-1]\n",
    "spin_df = baseline_df[spin_cols]\n",
    "spin_df = spin_df.replace(to_replace=999, value=1)\n",
    "spin_df['spin_fear'] = spin_df[fear_cols].sum(axis=1)\n",
    "spin_df['spin_avoid'] = spin_df[avoid_cols].sum(axis=1)\n",
    "spin_df['spin_phys'] = spin_df[phys_cols].sum(axis=1)\n",
    "spin_df['spin_mini'] = spin_df[mini_cols].sum(axis=1)\n",
    "spin_df['spin_total'] = spin_df[spin_cols].sum(axis=1)\n",
    "spin_cols = ['spin_total', 'spin_fear', 'spin_avoid', 'spin_phys', 'spin_mini']\n",
    "init_df[spin_cols] = spin_df[spin_cols]"
   ]
  },
  {
   "cell_type": "code",
   "execution_count": 174,
   "metadata": {},
   "outputs": [
    {
     "data": {
      "text/html": [
       "<div>\n",
       "<style scoped>\n",
       "    .dataframe tbody tr th:only-of-type {\n",
       "        vertical-align: middle;\n",
       "    }\n",
       "\n",
       "    .dataframe tbody tr th {\n",
       "        vertical-align: top;\n",
       "    }\n",
       "\n",
       "    .dataframe thead th {\n",
       "        text-align: right;\n",
       "    }\n",
       "</style>\n",
       "<table border=\"1\" class=\"dataframe\">\n",
       "  <thead>\n",
       "    <tr style=\"text-align: right;\">\n",
       "      <th></th>\n",
       "      <th>study_id</th>\n",
       "      <th>pid</th>\n",
       "      <th>phq8</th>\n",
       "      <th>phq_q10</th>\n",
       "      <th>gad7</th>\n",
       "      <th>gad_q8</th>\n",
       "      <th>shaps</th>\n",
       "      <th>shaps_sum</th>\n",
       "      <th>dx_depression</th>\n",
       "      <th>dx_ocd</th>\n",
       "      <th>dx_ptsd</th>\n",
       "      <th>dx_eating</th>\n",
       "      <th>dx_substance</th>\n",
       "      <th>spin_total</th>\n",
       "      <th>spin_fear</th>\n",
       "      <th>spin_avoid</th>\n",
       "      <th>spin_phys</th>\n",
       "      <th>spin_mini</th>\n",
       "    </tr>\n",
       "  </thead>\n",
       "  <tbody>\n",
       "    <tr>\n",
       "      <th>0</th>\n",
       "      <td>601011</td>\n",
       "      <td>91048552</td>\n",
       "      <td>3</td>\n",
       "      <td>1.000</td>\n",
       "      <td>0</td>\n",
       "      <td>0.000</td>\n",
       "      <td>0</td>\n",
       "      <td>52</td>\n",
       "      <td>0</td>\n",
       "      <td>0</td>\n",
       "      <td>0</td>\n",
       "      <td>0</td>\n",
       "      <td>0</td>\n",
       "      <td>2</td>\n",
       "      <td>1</td>\n",
       "      <td>1</td>\n",
       "      <td>1</td>\n",
       "      <td>1</td>\n",
       "    </tr>\n",
       "    <tr>\n",
       "      <th>1</th>\n",
       "      <td>601012</td>\n",
       "      <td>31456993</td>\n",
       "      <td>15</td>\n",
       "      <td>1.000</td>\n",
       "      <td>15</td>\n",
       "      <td>2.000</td>\n",
       "      <td>5</td>\n",
       "      <td>39</td>\n",
       "      <td>1</td>\n",
       "      <td>0</td>\n",
       "      <td>1</td>\n",
       "      <td>0</td>\n",
       "      <td>0</td>\n",
       "      <td>30</td>\n",
       "      <td>11</td>\n",
       "      <td>13</td>\n",
       "      <td>13</td>\n",
       "      <td>6</td>\n",
       "    </tr>\n",
       "    <tr>\n",
       "      <th>2</th>\n",
       "      <td>601013</td>\n",
       "      <td>51735262</td>\n",
       "      <td>4</td>\n",
       "      <td>0.000</td>\n",
       "      <td>11</td>\n",
       "      <td>1.000</td>\n",
       "      <td>0</td>\n",
       "      <td>51</td>\n",
       "      <td>0</td>\n",
       "      <td>0</td>\n",
       "      <td>0</td>\n",
       "      <td>0</td>\n",
       "      <td>0</td>\n",
       "      <td>8</td>\n",
       "      <td>4</td>\n",
       "      <td>2</td>\n",
       "      <td>2</td>\n",
       "      <td>1</td>\n",
       "    </tr>\n",
       "    <tr>\n",
       "      <th>3</th>\n",
       "      <td>601014</td>\n",
       "      <td>69452375</td>\n",
       "      <td>7</td>\n",
       "      <td>2.000</td>\n",
       "      <td>7</td>\n",
       "      <td>1.000</td>\n",
       "      <td>3</td>\n",
       "      <td>44</td>\n",
       "      <td>0</td>\n",
       "      <td>0</td>\n",
       "      <td>0</td>\n",
       "      <td>0</td>\n",
       "      <td>0</td>\n",
       "      <td>23</td>\n",
       "      <td>10</td>\n",
       "      <td>17</td>\n",
       "      <td>17</td>\n",
       "      <td>4</td>\n",
       "    </tr>\n",
       "    <tr>\n",
       "      <th>4</th>\n",
       "      <td>601015</td>\n",
       "      <td>28021601</td>\n",
       "      <td>1</td>\n",
       "      <td>1.000</td>\n",
       "      <td>0</td>\n",
       "      <td>0.000</td>\n",
       "      <td>0</td>\n",
       "      <td>55</td>\n",
       "      <td>1</td>\n",
       "      <td>0</td>\n",
       "      <td>0</td>\n",
       "      <td>0</td>\n",
       "      <td>0</td>\n",
       "      <td>2</td>\n",
       "      <td>0</td>\n",
       "      <td>2</td>\n",
       "      <td>2</td>\n",
       "      <td>0</td>\n",
       "    </tr>\n",
       "  </tbody>\n",
       "</table>\n",
       "</div>"
      ],
      "text/plain": [
       "   study_id       pid  phq8  phq_q10  gad7  gad_q8  shaps  shaps_sum  \\\n",
       "0    601011  91048552     3    1.000     0   0.000      0         52   \n",
       "1    601012  31456993    15    1.000    15   2.000      5         39   \n",
       "2    601013  51735262     4    0.000    11   1.000      0         51   \n",
       "3    601014  69452375     7    2.000     7   1.000      3         44   \n",
       "4    601015  28021601     1    1.000     0   0.000      0         55   \n",
       "\n",
       "   dx_depression  dx_ocd  dx_ptsd  dx_eating  dx_substance  spin_total  \\\n",
       "0              0       0        0          0             0           2   \n",
       "1              1       0        1          0             0          30   \n",
       "2              0       0        0          0             0           8   \n",
       "3              0       0        0          0             0          23   \n",
       "4              1       0        0          0             0           2   \n",
       "\n",
       "   spin_fear  spin_avoid  spin_phys  spin_mini  \n",
       "0          1           1          1          1  \n",
       "1         11          13         13          6  \n",
       "2          4           2          2          1  \n",
       "3         10          17         17          4  \n",
       "4          0           2          2          0  "
      ]
     },
     "execution_count": 174,
     "metadata": {},
     "output_type": "execute_result"
    }
   ],
   "source": [
    "init_df.head()"
   ]
  },
  {
   "cell_type": "markdown",
   "metadata": {},
   "source": [
    "## Correlations"
   ]
  },
  {
   "cell_type": "code",
   "execution_count": 288,
   "metadata": {},
   "outputs": [
    {
     "data": {
      "image/png": "[encoded data removed]",
      "text/plain": [
       "<Figure size 1584x864 with 2 Axes>"
      ]
     },
     "metadata": {
      "needs_background": "light"
     },
     "output_type": "display_data"
    }
   ],
   "source": [
    "corr_df = init_df.copy()\n",
    "corr_df = corr_df.drop(['pid', 'study_id'], axis='columns')\n",
    "corrs, _, p_vals = run_r_corr(corr_df)\n",
    "plt = build_corr_mat(corrs, p_vals, corr_df.columns.values, 'Across participant baseline states at FDR < 0.05', 0.05, figsize=[22,12])\n",
    "plt.show()"
   ]
  },
  {
   "cell_type": "markdown",
   "metadata": {},
   "source": [
    "## Build App DF"
   ]
  },
  {
   "cell_type": "code",
   "execution_count": 175,
   "metadata": {},
   "outputs": [],
   "source": [
    "apps = [\n",
    "    'katana',\n",
    "    'orca', \n",
    "    'messaging',\n",
    "    'launcher',\n",
    "    'chrome',\n",
    "    'email',\n",
    "    'instagram',\n",
    "    'youtube',\n",
    "    'maps',\n",
    "    'snapchat',\n",
    "    'browser'\n",
    "]"
   ]
  },
  {
   "cell_type": "code",
   "execution_count": 176,
   "metadata": {},
   "outputs": [],
   "source": [
    "all_fga[apps] = all_fga[apps].clip(lower=0)\n",
    "all_fga['date'] = all_fga['hr'].dt.floor('d')"
   ]
  },
  {
   "cell_type": "code",
   "execution_count": 177,
   "metadata": {},
   "outputs": [],
   "source": [
    "fga_daily = all_fga.groupby(['pid', 'date']).sum()\n",
    "fga_daily = fga_daily.reset_index()"
   ]
  },
  {
   "cell_type": "code",
   "execution_count": 178,
   "metadata": {},
   "outputs": [],
   "source": [
    "fga_daily = fga_daily.loc[(fga_daily['date'] >= '2019-07-30') & (fga_daily['date'] <= '2019-08-07')]"
   ]
  },
  {
   "cell_type": "code",
   "execution_count": 179,
   "metadata": {},
   "outputs": [],
   "source": [
    "all_scr['date'] = all_scr['hr'].dt.floor('d')\n",
    "scr_daily = all_scr.groupby(['pid', 'date']).sum()\n",
    "scr_daily = scr_daily.reset_index()\n",
    "scr_daily = scr_daily.loc[(scr_daily['date'] >= '2019-07-30') & (scr_daily['date'] <= '2019-08-07')]"
   ]
  },
  {
   "cell_type": "code",
   "execution_count": 180,
   "metadata": {},
   "outputs": [
    {
     "data": {
      "text/html": [
       "<div>\n",
       "<style scoped>\n",
       "    .dataframe tbody tr th:only-of-type {\n",
       "        vertical-align: middle;\n",
       "    }\n",
       "\n",
       "    .dataframe tbody tr th {\n",
       "        vertical-align: top;\n",
       "    }\n",
       "\n",
       "    .dataframe thead th {\n",
       "        text-align: right;\n",
       "    }\n",
       "</style>\n",
       "<table border=\"1\" class=\"dataframe\">\n",
       "  <thead>\n",
       "    <tr style=\"text-align: right;\">\n",
       "      <th></th>\n",
       "      <th>katana</th>\n",
       "      <th>orca</th>\n",
       "      <th>messaging</th>\n",
       "      <th>launcher</th>\n",
       "      <th>chrome</th>\n",
       "      <th>email</th>\n",
       "      <th>instagram</th>\n",
       "      <th>youtube</th>\n",
       "      <th>maps</th>\n",
       "      <th>snapchat</th>\n",
       "      <th>browser</th>\n",
       "      <th>duration</th>\n",
       "      <th>transitions</th>\n",
       "      <th>is_wkday</th>\n",
       "    </tr>\n",
       "  </thead>\n",
       "  <tbody>\n",
       "    <tr>\n",
       "      <th>count</th>\n",
       "      <td>2,481.000</td>\n",
       "      <td>2,481.000</td>\n",
       "      <td>2,481.000</td>\n",
       "      <td>2,481.000</td>\n",
       "      <td>2,481.000</td>\n",
       "      <td>2,481.000</td>\n",
       "      <td>2,481.000</td>\n",
       "      <td>2,481.000</td>\n",
       "      <td>2,481.000</td>\n",
       "      <td>2,481.000</td>\n",
       "      <td>2,481.000</td>\n",
       "      <td>2,447.000</td>\n",
       "      <td>2,447.000</td>\n",
       "      <td>2,481.000</td>\n",
       "    </tr>\n",
       "    <tr>\n",
       "      <th>mean</th>\n",
       "      <td>1,489.510</td>\n",
       "      <td>226.260</td>\n",
       "      <td>971.986</td>\n",
       "      <td>2,376.241</td>\n",
       "      <td>1,871.144</td>\n",
       "      <td>47.241</td>\n",
       "      <td>473.198</td>\n",
       "      <td>935.700</td>\n",
       "      <td>401.342</td>\n",
       "      <td>97.198</td>\n",
       "      <td>181.079</td>\n",
       "      <td>14,577.313</td>\n",
       "      <td>124.540</td>\n",
       "      <td>0.777</td>\n",
       "    </tr>\n",
       "    <tr>\n",
       "      <th>std</th>\n",
       "      <td>2,750.172</td>\n",
       "      <td>925.241</td>\n",
       "      <td>1,670.616</td>\n",
       "      <td>3,742.906</td>\n",
       "      <td>3,431.834</td>\n",
       "      <td>218.650</td>\n",
       "      <td>1,192.351</td>\n",
       "      <td>3,762.191</td>\n",
       "      <td>1,331.965</td>\n",
       "      <td>419.194</td>\n",
       "      <td>776.265</td>\n",
       "      <td>8,725.951</td>\n",
       "      <td>106.324</td>\n",
       "      <td>0.416</td>\n",
       "    </tr>\n",
       "    <tr>\n",
       "      <th>min</th>\n",
       "      <td>0.000</td>\n",
       "      <td>0.000</td>\n",
       "      <td>0.000</td>\n",
       "      <td>0.000</td>\n",
       "      <td>0.000</td>\n",
       "      <td>0.000</td>\n",
       "      <td>0.000</td>\n",
       "      <td>0.000</td>\n",
       "      <td>0.000</td>\n",
       "      <td>0.000</td>\n",
       "      <td>0.000</td>\n",
       "      <td>0.000</td>\n",
       "      <td>0.000</td>\n",
       "      <td>0.000</td>\n",
       "    </tr>\n",
       "    <tr>\n",
       "      <th>25%</th>\n",
       "      <td>0.000</td>\n",
       "      <td>0.000</td>\n",
       "      <td>0.000</td>\n",
       "      <td>534.000</td>\n",
       "      <td>0.000</td>\n",
       "      <td>0.000</td>\n",
       "      <td>0.000</td>\n",
       "      <td>0.000</td>\n",
       "      <td>0.000</td>\n",
       "      <td>0.000</td>\n",
       "      <td>0.000</td>\n",
       "      <td>8,081.500</td>\n",
       "      <td>51.000</td>\n",
       "      <td>1.000</td>\n",
       "    </tr>\n",
       "    <tr>\n",
       "      <th>50%</th>\n",
       "      <td>30.000</td>\n",
       "      <td>0.000</td>\n",
       "      <td>245.000</td>\n",
       "      <td>1,300.000</td>\n",
       "      <td>631.000</td>\n",
       "      <td>0.000</td>\n",
       "      <td>0.000</td>\n",
       "      <td>0.000</td>\n",
       "      <td>0.000</td>\n",
       "      <td>0.000</td>\n",
       "      <td>0.000</td>\n",
       "      <td>13,962.000</td>\n",
       "      <td>97.000</td>\n",
       "      <td>1.000</td>\n",
       "    </tr>\n",
       "    <tr>\n",
       "      <th>75%</th>\n",
       "      <td>1,865.000</td>\n",
       "      <td>60.000</td>\n",
       "      <td>1,219.000</td>\n",
       "      <td>2,831.000</td>\n",
       "      <td>2,232.000</td>\n",
       "      <td>0.000</td>\n",
       "      <td>216.000</td>\n",
       "      <td>60.000</td>\n",
       "      <td>105.000</td>\n",
       "      <td>0.000</td>\n",
       "      <td>0.000</td>\n",
       "      <td>20,331.000</td>\n",
       "      <td>166.000</td>\n",
       "      <td>1.000</td>\n",
       "    </tr>\n",
       "    <tr>\n",
       "      <th>max</th>\n",
       "      <td>20,526.000</td>\n",
       "      <td>14,697.000</td>\n",
       "      <td>19,975.000</td>\n",
       "      <td>58,938.000</td>\n",
       "      <td>40,185.000</td>\n",
       "      <td>3,947.000</td>\n",
       "      <td>15,024.000</td>\n",
       "      <td>58,634.000</td>\n",
       "      <td>21,205.000</td>\n",
       "      <td>5,759.000</td>\n",
       "      <td>15,499.000</td>\n",
       "      <td>52,721.000</td>\n",
       "      <td>853.000</td>\n",
       "      <td>1.000</td>\n",
       "    </tr>\n",
       "  </tbody>\n",
       "</table>\n",
       "</div>"
      ],
      "text/plain": [
       "          katana       orca  messaging   launcher     chrome     email  \\\n",
       "count  2,481.000  2,481.000  2,481.000  2,481.000  2,481.000 2,481.000   \n",
       "mean   1,489.510    226.260    971.986  2,376.241  1,871.144    47.241   \n",
       "std    2,750.172    925.241  1,670.616  3,742.906  3,431.834   218.650   \n",
       "min        0.000      0.000      0.000      0.000      0.000     0.000   \n",
       "25%        0.000      0.000      0.000    534.000      0.000     0.000   \n",
       "50%       30.000      0.000    245.000  1,300.000    631.000     0.000   \n",
       "75%    1,865.000     60.000  1,219.000  2,831.000  2,232.000     0.000   \n",
       "max   20,526.000 14,697.000 19,975.000 58,938.000 40,185.000 3,947.000   \n",
       "\n",
       "       instagram    youtube       maps  snapchat    browser   duration  \\\n",
       "count  2,481.000  2,481.000  2,481.000 2,481.000  2,481.000  2,447.000   \n",
       "mean     473.198    935.700    401.342    97.198    181.079 14,577.313   \n",
       "std    1,192.351  3,762.191  1,331.965   419.194    776.265  8,725.951   \n",
       "min        0.000      0.000      0.000     0.000      0.000      0.000   \n",
       "25%        0.000      0.000      0.000     0.000      0.000  8,081.500   \n",
       "50%        0.000      0.000      0.000     0.000      0.000 13,962.000   \n",
       "75%      216.000     60.000    105.000     0.000      0.000 20,331.000   \n",
       "max   15,024.000 58,634.000 21,205.000 5,759.000 15,499.000 52,721.000   \n",
       "\n",
       "       transitions  is_wkday  \n",
       "count    2,447.000 2,481.000  \n",
       "mean       124.540     0.777  \n",
       "std        106.324     0.416  \n",
       "min          0.000     0.000  \n",
       "25%         51.000     1.000  \n",
       "50%         97.000     1.000  \n",
       "75%        166.000     1.000  \n",
       "max        853.000     1.000  "
      ]
     },
     "execution_count": 180,
     "metadata": {},
     "output_type": "execute_result"
    }
   ],
   "source": [
    "fga_daily = fga_daily.merge(scr_daily, on=['pid', 'date'], how='left')\n",
    "fga_daily[\"is_wkday\"] = (pd.to_datetime(fga_daily['date']).dt.dayofweek < 5).astype(float)\n",
    "fga_mean = fga_daily.groupby('pid', as_index=False).mean()\n",
    "\n",
    "fga_daily.describe()"
   ]
  },
  {
   "cell_type": "code",
   "execution_count": 181,
   "metadata": {},
   "outputs": [
    {
     "data": {
      "text/html": [
       "<div>\n",
       "<style scoped>\n",
       "    .dataframe tbody tr th:only-of-type {\n",
       "        vertical-align: middle;\n",
       "    }\n",
       "\n",
       "    .dataframe tbody tr th {\n",
       "        vertical-align: top;\n",
       "    }\n",
       "\n",
       "    .dataframe thead th {\n",
       "        text-align: right;\n",
       "    }\n",
       "</style>\n",
       "<table border=\"1\" class=\"dataframe\">\n",
       "  <thead>\n",
       "    <tr style=\"text-align: right;\">\n",
       "      <th></th>\n",
       "      <th>pid</th>\n",
       "      <th>date</th>\n",
       "      <th>katana</th>\n",
       "      <th>orca</th>\n",
       "      <th>messaging</th>\n",
       "      <th>launcher</th>\n",
       "      <th>chrome</th>\n",
       "      <th>email</th>\n",
       "      <th>instagram</th>\n",
       "      <th>youtube</th>\n",
       "      <th>maps</th>\n",
       "      <th>snapchat</th>\n",
       "      <th>browser</th>\n",
       "      <th>duration</th>\n",
       "      <th>transitions</th>\n",
       "      <th>is_wkday</th>\n",
       "    </tr>\n",
       "  </thead>\n",
       "  <tbody>\n",
       "    <tr>\n",
       "      <th>0</th>\n",
       "      <td>00746649</td>\n",
       "      <td>2019-07-30</td>\n",
       "      <td>0.000</td>\n",
       "      <td>75.000</td>\n",
       "      <td>2,891.000</td>\n",
       "      <td>1,996.000</td>\n",
       "      <td>675.000</td>\n",
       "      <td>309.000</td>\n",
       "      <td>3,306.000</td>\n",
       "      <td>172.000</td>\n",
       "      <td>0.000</td>\n",
       "      <td>0.000</td>\n",
       "      <td>1,086.000</td>\n",
       "      <td>13,808.000</td>\n",
       "      <td>230.000</td>\n",
       "      <td>1.000</td>\n",
       "    </tr>\n",
       "    <tr>\n",
       "      <th>1</th>\n",
       "      <td>00746649</td>\n",
       "      <td>2019-07-31</td>\n",
       "      <td>0.000</td>\n",
       "      <td>779.000</td>\n",
       "      <td>838.000</td>\n",
       "      <td>3,375.000</td>\n",
       "      <td>0.000</td>\n",
       "      <td>165.000</td>\n",
       "      <td>286.000</td>\n",
       "      <td>0.000</td>\n",
       "      <td>0.000</td>\n",
       "      <td>0.000</td>\n",
       "      <td>1,044.000</td>\n",
       "      <td>10,872.000</td>\n",
       "      <td>153.000</td>\n",
       "      <td>1.000</td>\n",
       "    </tr>\n",
       "    <tr>\n",
       "      <th>2</th>\n",
       "      <td>00746649</td>\n",
       "      <td>2019-08-01</td>\n",
       "      <td>0.000</td>\n",
       "      <td>444.000</td>\n",
       "      <td>2,352.000</td>\n",
       "      <td>740.000</td>\n",
       "      <td>90.000</td>\n",
       "      <td>170.000</td>\n",
       "      <td>612.000</td>\n",
       "      <td>0.000</td>\n",
       "      <td>1,489.000</td>\n",
       "      <td>0.000</td>\n",
       "      <td>568.000</td>\n",
       "      <td>10,246.000</td>\n",
       "      <td>232.000</td>\n",
       "      <td>1.000</td>\n",
       "    </tr>\n",
       "    <tr>\n",
       "      <th>3</th>\n",
       "      <td>00746649</td>\n",
       "      <td>2019-08-02</td>\n",
       "      <td>0.000</td>\n",
       "      <td>180.000</td>\n",
       "      <td>2,236.000</td>\n",
       "      <td>544.000</td>\n",
       "      <td>0.000</td>\n",
       "      <td>496.000</td>\n",
       "      <td>1,100.000</td>\n",
       "      <td>210.000</td>\n",
       "      <td>6,519.000</td>\n",
       "      <td>0.000</td>\n",
       "      <td>2,115.000</td>\n",
       "      <td>14,257.000</td>\n",
       "      <td>375.000</td>\n",
       "      <td>1.000</td>\n",
       "    </tr>\n",
       "    <tr>\n",
       "      <th>4</th>\n",
       "      <td>00746649</td>\n",
       "      <td>2019-08-03</td>\n",
       "      <td>0.000</td>\n",
       "      <td>15.000</td>\n",
       "      <td>5,896.000</td>\n",
       "      <td>747.000</td>\n",
       "      <td>585.000</td>\n",
       "      <td>531.000</td>\n",
       "      <td>726.000</td>\n",
       "      <td>0.000</td>\n",
       "      <td>0.000</td>\n",
       "      <td>0.000</td>\n",
       "      <td>1,059.000</td>\n",
       "      <td>15,722.000</td>\n",
       "      <td>177.000</td>\n",
       "      <td>0.000</td>\n",
       "    </tr>\n",
       "  </tbody>\n",
       "</table>\n",
       "</div>"
      ],
      "text/plain": [
       "        pid       date  katana    orca  messaging  launcher  chrome   email  \\\n",
       "0  00746649 2019-07-30   0.000  75.000  2,891.000 1,996.000 675.000 309.000   \n",
       "1  00746649 2019-07-31   0.000 779.000    838.000 3,375.000   0.000 165.000   \n",
       "2  00746649 2019-08-01   0.000 444.000  2,352.000   740.000  90.000 170.000   \n",
       "3  00746649 2019-08-02   0.000 180.000  2,236.000   544.000   0.000 496.000   \n",
       "4  00746649 2019-08-03   0.000  15.000  5,896.000   747.000 585.000 531.000   \n",
       "\n",
       "   instagram  youtube      maps  snapchat   browser   duration  transitions  \\\n",
       "0  3,306.000  172.000     0.000     0.000 1,086.000 13,808.000      230.000   \n",
       "1    286.000    0.000     0.000     0.000 1,044.000 10,872.000      153.000   \n",
       "2    612.000    0.000 1,489.000     0.000   568.000 10,246.000      232.000   \n",
       "3  1,100.000  210.000 6,519.000     0.000 2,115.000 14,257.000      375.000   \n",
       "4    726.000    0.000     0.000     0.000 1,059.000 15,722.000      177.000   \n",
       "\n",
       "   is_wkday  \n",
       "0     1.000  \n",
       "1     1.000  \n",
       "2     1.000  \n",
       "3     1.000  \n",
       "4     0.000  "
      ]
     },
     "execution_count": 181,
     "metadata": {},
     "output_type": "execute_result"
    }
   ],
   "source": [
    "fga_daily.head()"
   ]
  },
  {
   "cell_type": "markdown",
   "metadata": {},
   "source": [
    "# Snapchat"
   ]
  },
  {
   "cell_type": "markdown",
   "metadata": {},
   "source": [
    "## Users vs Non-Users"
   ]
  },
  {
   "cell_type": "code",
   "execution_count": 182,
   "metadata": {},
   "outputs": [],
   "source": [
    "fga_mean['use_snapchat'] = (fga_mean['snapchat'] > 0).astype(int)"
   ]
  },
  {
   "cell_type": "code",
   "execution_count": 183,
   "metadata": {},
   "outputs": [],
   "source": [
    "sc_users = fga_mean.loc[fga_mean['snapchat'] > 0]['pid']\n",
    "sc_nonusers = fga_mean.loc[fga_mean['snapchat'] <= 0]['pid']"
   ]
  },
  {
   "cell_type": "code",
   "execution_count": 184,
   "metadata": {},
   "outputs": [
    {
     "name": "stdout",
     "output_type": "stream",
     "text": [
      "Snapchat users\n"
     ]
    },
    {
     "data": {
      "text/plain": [
       "count   68.000\n",
       "mean    30.118\n",
       "std      7.290\n",
       "min     19.000\n",
       "25%     26.000\n",
       "50%     28.000\n",
       "75%     33.250\n",
       "max     55.000\n",
       "Name: age, dtype: float64"
      ]
     },
     "metadata": {},
     "output_type": "display_data"
    },
    {
     "data": {
      "text/plain": [
       "0    52\n",
       "1    16\n",
       "Name: gender, dtype: int64"
      ]
     },
     "metadata": {},
     "output_type": "display_data"
    },
    {
     "data": {
      "text/plain": [
       "bachelors                29\n",
       "some_college             12\n",
       "masters                  12\n",
       "associates_vocational     6\n",
       "associates_academic       2\n",
       "high_school               2\n",
       "doctoral_degree           2\n",
       "professional_degree       1\n",
       "ged                       1\n",
       "12th_grade_no_diploma     1\n",
       "Name: education, dtype: int64"
      ]
     },
     "metadata": {},
     "output_type": "display_data"
    }
   ],
   "source": [
    "print(\"Snapchat users\")\n",
    "display(demo_df.loc[demo_df['pid'].isin(sc_users)]['age'].describe())\n",
    "display(demo_df.loc[demo_df['pid'].isin(sc_users)]['gender'].value_counts())\n",
    "display(demo_df.loc[demo_df['pid'].isin(sc_users)]['education'].value_counts())"
   ]
  },
  {
   "cell_type": "code",
   "execution_count": 185,
   "metadata": {},
   "outputs": [
    {
     "name": "stdout",
     "output_type": "stream",
     "text": [
      "Snapchat non-users\n"
     ]
    },
    {
     "data": {
      "text/plain": [
       "count   209.000\n",
       "mean     41.823\n",
       "std      11.825\n",
       "min      20.000\n",
       "25%      32.000\n",
       "50%      41.000\n",
       "75%      52.000\n",
       "max      69.000\n",
       "Name: age, dtype: float64"
      ]
     },
     "metadata": {},
     "output_type": "display_data"
    },
    {
     "data": {
      "text/plain": [
       "0    166\n",
       "1     43\n",
       "Name: gender, dtype: int64"
      ]
     },
     "metadata": {},
     "output_type": "display_data"
    },
    {
     "data": {
      "text/plain": [
       "bachelors                67\n",
       "masters                  50\n",
       "some_college             34\n",
       "associates_vocational    20\n",
       "associates_academic      10\n",
       "doctoral_degree          10\n",
       "professional_degree       6\n",
       "ged                       5\n",
       "high_school               5\n",
       "11th_grade                1\n",
       "10th_grade                1\n",
       "Name: education, dtype: int64"
      ]
     },
     "metadata": {},
     "output_type": "display_data"
    }
   ],
   "source": [
    "print(\"Snapchat non-users\")\n",
    "display(demo_df.loc[demo_df['pid'].isin(sc_nonusers)]['age'].describe())\n",
    "display(demo_df.loc[demo_df['pid'].isin(sc_nonusers)]['gender'].value_counts())\n",
    "display(demo_df.loc[demo_df['pid'].isin(sc_nonusers)]['education'].value_counts())"
   ]
  },
  {
   "cell_type": "markdown",
   "metadata": {},
   "source": [
    "### Correlations"
   ]
  },
  {
   "cell_type": "code",
   "execution_count": 201,
   "metadata": {},
   "outputs": [
    {
     "name": "stdout",
     "output_type": "stream",
     "text": [
      "Significant correlations with using snapchat\n"
     ]
    },
    {
     "data": {
      "text/html": [
       "<div>\n",
       "<style scoped>\n",
       "    .dataframe tbody tr th:only-of-type {\n",
       "        vertical-align: middle;\n",
       "    }\n",
       "\n",
       "    .dataframe tbody tr th {\n",
       "        vertical-align: top;\n",
       "    }\n",
       "\n",
       "    .dataframe thead th {\n",
       "        text-align: right;\n",
       "    }\n",
       "</style>\n",
       "<table border=\"1\" class=\"dataframe\">\n",
       "  <thead>\n",
       "    <tr style=\"text-align: right;\">\n",
       "      <th></th>\n",
       "      <th>corr</th>\n",
       "      <th>p</th>\n",
       "    </tr>\n",
       "  </thead>\n",
       "  <tbody>\n",
       "    <tr>\n",
       "      <th>snapchat</th>\n",
       "      <td>0.987</td>\n",
       "      <td>0.000</td>\n",
       "    </tr>\n",
       "    <tr>\n",
       "      <th>age</th>\n",
       "      <td>-0.445</td>\n",
       "      <td>0.000</td>\n",
       "    </tr>\n",
       "    <tr>\n",
       "      <th>instagram</th>\n",
       "      <td>0.326</td>\n",
       "      <td>0.000</td>\n",
       "    </tr>\n",
       "    <tr>\n",
       "      <th>transitions</th>\n",
       "      <td>0.303</td>\n",
       "      <td>0.000</td>\n",
       "    </tr>\n",
       "    <tr>\n",
       "      <th>dx_eating</th>\n",
       "      <td>0.204</td>\n",
       "      <td>0.003</td>\n",
       "    </tr>\n",
       "    <tr>\n",
       "      <th>maps</th>\n",
       "      <td>0.178</td>\n",
       "      <td>0.012</td>\n",
       "    </tr>\n",
       "    <tr>\n",
       "      <th>youtube</th>\n",
       "      <td>0.156</td>\n",
       "      <td>0.033</td>\n",
       "    </tr>\n",
       "  </tbody>\n",
       "</table>\n",
       "</div>"
      ],
      "text/plain": [
       "              corr     p\n",
       "snapchat     0.987 0.000\n",
       "age         -0.445 0.000\n",
       "instagram    0.326 0.000\n",
       "transitions  0.303 0.000\n",
       "dx_eating    0.204 0.003\n",
       "maps         0.178 0.012\n",
       "youtube      0.156 0.033"
      ]
     },
     "execution_count": 201,
     "metadata": {},
     "output_type": "execute_result"
    }
   ],
   "source": [
    "corr_df = init_df.copy()\n",
    "corr_df = corr_df.merge(fga_mean, on='pid', how='left')\n",
    "#corr_df = corr_df.merge(fga_mean[['pid', 'snapchat', 'use_snapchat']], on='pid', how='left')\n",
    "corr_df = corr_df.merge(demo_df[['pid', 'age', 'gender']], on='pid', how='left')\n",
    "\n",
    "#corr_df = corr_df.dropna()\n",
    "corr_df = corr_df.drop(['pid', 'study_id'], axis='columns')\n",
    "corrs, _, p_vals = run_r_corr(corr_df)\n",
    "print(\"Significant correlations with using snapchat\")\n",
    "filter_sig_corrs(corrs, p_vals, corr_df.columns.values, 'use_snapchat')"
   ]
  },
  {
   "cell_type": "code",
   "execution_count": 203,
   "metadata": {},
   "outputs": [
    {
     "name": "stdout",
     "output_type": "stream",
     "text": [
      "Pairwise correlations with using snapchat\n"
     ]
    },
    {
     "data": {
      "text/html": [
       "<div>\n",
       "<style scoped>\n",
       "    .dataframe tbody tr th:only-of-type {\n",
       "        vertical-align: middle;\n",
       "    }\n",
       "\n",
       "    .dataframe tbody tr th {\n",
       "        vertical-align: top;\n",
       "    }\n",
       "\n",
       "    .dataframe thead th {\n",
       "        text-align: right;\n",
       "    }\n",
       "</style>\n",
       "<table border=\"1\" class=\"dataframe\">\n",
       "  <thead>\n",
       "    <tr style=\"text-align: right;\">\n",
       "      <th></th>\n",
       "      <th>X</th>\n",
       "      <th>Y</th>\n",
       "      <th>method</th>\n",
       "      <th>tail</th>\n",
       "      <th>n</th>\n",
       "      <th>r</th>\n",
       "      <th>CI95%</th>\n",
       "      <th>r2</th>\n",
       "      <th>adj_r2</th>\n",
       "      <th>z</th>\n",
       "      <th>p-unc</th>\n",
       "      <th>p-corr</th>\n",
       "      <th>p-adjust</th>\n",
       "      <th>power</th>\n",
       "    </tr>\n",
       "  </thead>\n",
       "  <tbody>\n",
       "    <tr>\n",
       "      <th>0</th>\n",
       "      <td>use_snapchat</td>\n",
       "      <td>dx_eating</td>\n",
       "      <td>spearman</td>\n",
       "      <td>two-sided</td>\n",
       "      <td>278</td>\n",
       "      <td>0.204</td>\n",
       "      <td>[0.09, 0.31]</td>\n",
       "      <td>0.042</td>\n",
       "      <td>0.035</td>\n",
       "      <td>0.207</td>\n",
       "      <td>0.001</td>\n",
       "      <td>0.002</td>\n",
       "      <td>fdr_bh</td>\n",
       "      <td>0.930</td>\n",
       "    </tr>\n",
       "    <tr>\n",
       "      <th>1</th>\n",
       "      <td>use_snapchat</td>\n",
       "      <td>age</td>\n",
       "      <td>spearman</td>\n",
       "      <td>two-sided</td>\n",
       "      <td>277</td>\n",
       "      <td>-0.445</td>\n",
       "      <td>[-0.54, -0.35]</td>\n",
       "      <td>0.198</td>\n",
       "      <td>0.192</td>\n",
       "      <td>-0.478</td>\n",
       "      <td>0.000</td>\n",
       "      <td>0.000</td>\n",
       "      <td>fdr_bh</td>\n",
       "      <td>1.000</td>\n",
       "    </tr>\n",
       "    <tr>\n",
       "      <th>2</th>\n",
       "      <td>use_snapchat</td>\n",
       "      <td>gender</td>\n",
       "      <td>spearman</td>\n",
       "      <td>two-sided</td>\n",
       "      <td>277</td>\n",
       "      <td>0.031</td>\n",
       "      <td>[-0.09, 0.15]</td>\n",
       "      <td>0.001</td>\n",
       "      <td>-0.006</td>\n",
       "      <td>0.031</td>\n",
       "      <td>0.607</td>\n",
       "      <td>0.728</td>\n",
       "      <td>fdr_bh</td>\n",
       "      <td>0.081</td>\n",
       "    </tr>\n",
       "    <tr>\n",
       "      <th>3</th>\n",
       "      <td>dx_eating</td>\n",
       "      <td>age</td>\n",
       "      <td>spearman</td>\n",
       "      <td>two-sided</td>\n",
       "      <td>281</td>\n",
       "      <td>-0.112</td>\n",
       "      <td>[-0.23, 0.01]</td>\n",
       "      <td>0.013</td>\n",
       "      <td>0.005</td>\n",
       "      <td>-0.112</td>\n",
       "      <td>0.061</td>\n",
       "      <td>0.121</td>\n",
       "      <td>fdr_bh</td>\n",
       "      <td>0.468</td>\n",
       "    </tr>\n",
       "    <tr>\n",
       "      <th>4</th>\n",
       "      <td>dx_eating</td>\n",
       "      <td>gender</td>\n",
       "      <td>spearman</td>\n",
       "      <td>two-sided</td>\n",
       "      <td>281</td>\n",
       "      <td>-0.104</td>\n",
       "      <td>[-0.22, 0.01]</td>\n",
       "      <td>0.011</td>\n",
       "      <td>0.004</td>\n",
       "      <td>-0.104</td>\n",
       "      <td>0.082</td>\n",
       "      <td>0.123</td>\n",
       "      <td>fdr_bh</td>\n",
       "      <td>0.414</td>\n",
       "    </tr>\n",
       "    <tr>\n",
       "      <th>5</th>\n",
       "      <td>age</td>\n",
       "      <td>gender</td>\n",
       "      <td>spearman</td>\n",
       "      <td>two-sided</td>\n",
       "      <td>281</td>\n",
       "      <td>0.015</td>\n",
       "      <td>[-0.1, 0.13]</td>\n",
       "      <td>0.000</td>\n",
       "      <td>-0.007</td>\n",
       "      <td>0.015</td>\n",
       "      <td>0.801</td>\n",
       "      <td>0.801</td>\n",
       "      <td>fdr_bh</td>\n",
       "      <td>0.057</td>\n",
       "    </tr>\n",
       "  </tbody>\n",
       "</table>\n",
       "</div>"
      ],
      "text/plain": [
       "              X          Y    method       tail    n      r           CI95%  \\\n",
       "0  use_snapchat  dx_eating  spearman  two-sided  278  0.204    [0.09, 0.31]   \n",
       "1  use_snapchat        age  spearman  two-sided  277 -0.445  [-0.54, -0.35]   \n",
       "2  use_snapchat     gender  spearman  two-sided  277  0.031   [-0.09, 0.15]   \n",
       "3     dx_eating        age  spearman  two-sided  281 -0.112   [-0.23, 0.01]   \n",
       "4     dx_eating     gender  spearman  two-sided  281 -0.104   [-0.22, 0.01]   \n",
       "5           age     gender  spearman  two-sided  281  0.015    [-0.1, 0.13]   \n",
       "\n",
       "     r2  adj_r2      z  p-unc  p-corr p-adjust  power  \n",
       "0 0.042   0.035  0.207  0.001   0.002   fdr_bh  0.930  \n",
       "1 0.198   0.192 -0.478  0.000   0.000   fdr_bh  1.000  \n",
       "2 0.001  -0.006  0.031  0.607   0.728   fdr_bh  0.081  \n",
       "3 0.013   0.005 -0.112  0.061   0.121   fdr_bh  0.468  \n",
       "4 0.011   0.004 -0.104  0.082   0.123   fdr_bh  0.414  \n",
       "5 0.000  -0.007  0.015  0.801   0.801   fdr_bh  0.057  "
      ]
     },
     "execution_count": 203,
     "metadata": {},
     "output_type": "execute_result"
    }
   ],
   "source": [
    "print(\"Pairwise correlations with using snapchat\")\n",
    "pg.pairwise_corr(data=corr_df, columns=['use_snapchat', 'dx_eating', 'age', 'gender'], method='spearman', padjust='fdr_bh')"
   ]
  },
  {
   "cell_type": "code",
   "execution_count": 204,
   "metadata": {
    "scrolled": true
   },
   "outputs": [
    {
     "name": "stdout",
     "output_type": "stream",
     "text": [
      "Partial correlations with use_snapchat: dx_eating\n"
     ]
    },
    {
     "data": {
      "text/html": [
       "<div>\n",
       "<style scoped>\n",
       "    .dataframe tbody tr th:only-of-type {\n",
       "        vertical-align: middle;\n",
       "    }\n",
       "\n",
       "    .dataframe tbody tr th {\n",
       "        vertical-align: top;\n",
       "    }\n",
       "\n",
       "    .dataframe thead th {\n",
       "        text-align: right;\n",
       "    }\n",
       "</style>\n",
       "<table border=\"1\" class=\"dataframe\">\n",
       "  <thead>\n",
       "    <tr style=\"text-align: right;\">\n",
       "      <th></th>\n",
       "      <th>n</th>\n",
       "      <th>r</th>\n",
       "      <th>CI95%</th>\n",
       "      <th>r2</th>\n",
       "      <th>adj_r2</th>\n",
       "      <th>p-val</th>\n",
       "      <th>power</th>\n",
       "    </tr>\n",
       "  </thead>\n",
       "  <tbody>\n",
       "    <tr>\n",
       "      <th>spearman</th>\n",
       "      <td>277</td>\n",
       "      <td>0.277</td>\n",
       "      <td>[0.16, 0.38]</td>\n",
       "      <td>0.077</td>\n",
       "      <td>0.070</td>\n",
       "      <td>0.000</td>\n",
       "      <td>0.997</td>\n",
       "    </tr>\n",
       "  </tbody>\n",
       "</table>\n",
       "</div>"
      ],
      "text/plain": [
       "            n     r         CI95%    r2  adj_r2  p-val  power\n",
       "spearman  277 0.277  [0.16, 0.38] 0.077   0.070  0.000  0.997"
      ]
     },
     "execution_count": 204,
     "metadata": {},
     "output_type": "execute_result"
    }
   ],
   "source": [
    "print(\"Partial correlations with use_snapchat: dx_eating\")\n",
    "pg.partial_corr(data=corr_df, x='use_snapchat', y='dx_eating', covar=['age', 'gender'], method='spearman')"
   ]
  },
  {
   "cell_type": "markdown",
   "metadata": {},
   "source": [
    "## Within Snapchat users"
   ]
  },
  {
   "cell_type": "code",
   "execution_count": 207,
   "metadata": {},
   "outputs": [
    {
     "name": "stdout",
     "output_type": "stream",
     "text": [
      "Significant correlations within snapchat users\n"
     ]
    },
    {
     "data": {
      "text/html": [
       "<div>\n",
       "<style scoped>\n",
       "    .dataframe tbody tr th:only-of-type {\n",
       "        vertical-align: middle;\n",
       "    }\n",
       "\n",
       "    .dataframe tbody tr th {\n",
       "        vertical-align: top;\n",
       "    }\n",
       "\n",
       "    .dataframe thead th {\n",
       "        text-align: right;\n",
       "    }\n",
       "</style>\n",
       "<table border=\"1\" class=\"dataframe\">\n",
       "  <thead>\n",
       "    <tr style=\"text-align: right;\">\n",
       "      <th></th>\n",
       "      <th>corr</th>\n",
       "      <th>p</th>\n",
       "    </tr>\n",
       "  </thead>\n",
       "  <tbody>\n",
       "    <tr>\n",
       "      <th>age</th>\n",
       "      <td>-0.386</td>\n",
       "      <td>0.010</td>\n",
       "    </tr>\n",
       "  </tbody>\n",
       "</table>\n",
       "</div>"
      ],
      "text/plain": [
       "      corr     p\n",
       "age -0.386 0.010"
      ]
     },
     "execution_count": 207,
     "metadata": {},
     "output_type": "execute_result"
    }
   ],
   "source": [
    "corr_df = init_df.copy()\n",
    "corr_df = corr_df.merge(fga_mean, on='pid', how='left')\n",
    "corr_df = corr_df.merge(demo_df[['pid', 'age', 'gender']], on='pid', how='left')\n",
    "\n",
    "corr_df = corr_df.loc[corr_df['use_snapchat'] == 1]\n",
    "corr_df = corr_df.drop(['pid', 'study_id', 'use_snapchat'], axis='columns')\n",
    "corrs, _, p_vals = run_r_corr(corr_df)\n",
    "\n",
    "print(\"Significant correlations within snapchat users\")\n",
    "filter_sig_corrs(corrs, p_vals, corr_df.columns.values, 'snapchat')\n",
    "#plt = build_corr_mat(corrs, p_vals, corr_df.columns.values, 'Across snapchat user correlations at FDR < 0.05', 0.05, figsize=[22,12])\n",
    "#plt.show()"
   ]
  },
  {
   "cell_type": "code",
   "execution_count": 198,
   "metadata": {},
   "outputs": [
    {
     "data": {
      "text/plain": [
       "0    58\n",
       "1    10\n",
       "Name: dx_eating, dtype: int64"
      ]
     },
     "execution_count": 198,
     "metadata": {},
     "output_type": "execute_result"
    }
   ],
   "source": [
    "corr_df['dx_eating'].value_counts()"
   ]
  },
  {
   "cell_type": "code",
   "execution_count": 199,
   "metadata": {},
   "outputs": [
    {
     "data": {
      "text/plain": [
       "0    263\n",
       "1     19\n",
       "Name: dx_eating, dtype: int64"
      ]
     },
     "execution_count": 199,
     "metadata": {},
     "output_type": "execute_result"
    }
   ],
   "source": [
    "init_df['dx_eating'].value_counts()"
   ]
  },
  {
   "cell_type": "markdown",
   "metadata": {},
   "source": [
    "# Instagram"
   ]
  },
  {
   "cell_type": "markdown",
   "metadata": {},
   "source": [
    "## Users vs Non-Users"
   ]
  },
  {
   "cell_type": "code",
   "execution_count": 219,
   "metadata": {},
   "outputs": [],
   "source": [
    "fga_mean['use_instagram'] = (fga_mean['instagram'] > 0).astype(int)"
   ]
  },
  {
   "cell_type": "code",
   "execution_count": 220,
   "metadata": {},
   "outputs": [],
   "source": [
    "insta_users = fga_mean.loc[fga_mean['instagram'] > 0]['pid']\n",
    "insta_nonusers = fga_mean.loc[fga_mean['instagram'] <= 0]['pid']"
   ]
  },
  {
   "cell_type": "code",
   "execution_count": 221,
   "metadata": {},
   "outputs": [
    {
     "name": "stdout",
     "output_type": "stream",
     "text": [
      "instagram users\n"
     ]
    },
    {
     "data": {
      "text/plain": [
       "count   128.000\n",
       "mean     34.188\n",
       "std      10.657\n",
       "min      20.000\n",
       "25%      27.000\n",
       "50%      31.000\n",
       "75%      40.000\n",
       "max      64.000\n",
       "Name: age, dtype: float64"
      ]
     },
     "metadata": {},
     "output_type": "display_data"
    },
    {
     "data": {
      "text/plain": [
       "0    105\n",
       "1     23\n",
       "Name: gender, dtype: int64"
      ]
     },
     "metadata": {},
     "output_type": "display_data"
    },
    {
     "data": {
      "text/plain": [
       "bachelors                55\n",
       "masters                  24\n",
       "some_college             23\n",
       "associates_vocational     6\n",
       "doctoral_degree           6\n",
       "professional_degree       4\n",
       "associates_academic       3\n",
       "ged                       3\n",
       "high_school               3\n",
       "12th_grade_no_diploma     1\n",
       "Name: education, dtype: int64"
      ]
     },
     "metadata": {},
     "output_type": "display_data"
    }
   ],
   "source": [
    "print(\"instagram users\")\n",
    "display(demo_df.loc[demo_df['pid'].isin(insta_users)]['age'].describe())\n",
    "display(demo_df.loc[demo_df['pid'].isin(insta_users)]['gender'].value_counts())\n",
    "display(demo_df.loc[demo_df['pid'].isin(insta_users)]['education'].value_counts())"
   ]
  },
  {
   "cell_type": "code",
   "execution_count": 222,
   "metadata": {},
   "outputs": [
    {
     "name": "stdout",
     "output_type": "stream",
     "text": [
      "instagram non-users\n"
     ]
    },
    {
     "data": {
      "text/plain": [
       "count   149.000\n",
       "mean     43.040\n",
       "std      11.583\n",
       "min      19.000\n",
       "25%      34.000\n",
       "50%      42.000\n",
       "75%      53.000\n",
       "max      69.000\n",
       "Name: age, dtype: float64"
      ]
     },
     "metadata": {},
     "output_type": "display_data"
    },
    {
     "data": {
      "text/plain": [
       "0    113\n",
       "1     36\n",
       "Name: gender, dtype: int64"
      ]
     },
     "metadata": {},
     "output_type": "display_data"
    },
    {
     "data": {
      "text/plain": [
       "bachelors                41\n",
       "masters                  38\n",
       "some_college             23\n",
       "associates_vocational    20\n",
       "associates_academic       9\n",
       "doctoral_degree           6\n",
       "high_school               4\n",
       "professional_degree       3\n",
       "ged                       3\n",
       "10th_grade                1\n",
       "11th_grade                1\n",
       "Name: education, dtype: int64"
      ]
     },
     "metadata": {},
     "output_type": "display_data"
    }
   ],
   "source": [
    "print(\"instagram non-users\")\n",
    "display(demo_df.loc[demo_df['pid'].isin(insta_nonusers)]['age'].describe())\n",
    "display(demo_df.loc[demo_df['pid'].isin(insta_nonusers)]['gender'].value_counts())\n",
    "display(demo_df.loc[demo_df['pid'].isin(insta_nonusers)]['education'].value_counts())"
   ]
  },
  {
   "cell_type": "markdown",
   "metadata": {},
   "source": [
    "### Correlations"
   ]
  },
  {
   "cell_type": "code",
   "execution_count": 223,
   "metadata": {},
   "outputs": [
    {
     "name": "stdout",
     "output_type": "stream",
     "text": [
      "Significant correlations with using instagram\n"
     ]
    },
    {
     "data": {
      "text/html": [
       "<div>\n",
       "<style scoped>\n",
       "    .dataframe tbody tr th:only-of-type {\n",
       "        vertical-align: middle;\n",
       "    }\n",
       "\n",
       "    .dataframe tbody tr th {\n",
       "        vertical-align: top;\n",
       "    }\n",
       "\n",
       "    .dataframe thead th {\n",
       "        text-align: right;\n",
       "    }\n",
       "</style>\n",
       "<table border=\"1\" class=\"dataframe\">\n",
       "  <thead>\n",
       "    <tr style=\"text-align: right;\">\n",
       "      <th></th>\n",
       "      <th>corr</th>\n",
       "      <th>p</th>\n",
       "    </tr>\n",
       "  </thead>\n",
       "  <tbody>\n",
       "    <tr>\n",
       "      <th>instagram</th>\n",
       "      <td>0.939</td>\n",
       "      <td>0.000</td>\n",
       "    </tr>\n",
       "    <tr>\n",
       "      <th>age</th>\n",
       "      <td>-0.390</td>\n",
       "      <td>0.000</td>\n",
       "    </tr>\n",
       "    <tr>\n",
       "      <th>transitions</th>\n",
       "      <td>0.286</td>\n",
       "      <td>0.000</td>\n",
       "    </tr>\n",
       "    <tr>\n",
       "      <th>snapchat</th>\n",
       "      <td>0.277</td>\n",
       "      <td>0.000</td>\n",
       "    </tr>\n",
       "    <tr>\n",
       "      <th>use_snapchat</th>\n",
       "      <td>0.276</td>\n",
       "      <td>0.000</td>\n",
       "    </tr>\n",
       "    <tr>\n",
       "      <th>duration</th>\n",
       "      <td>0.250</td>\n",
       "      <td>0.000</td>\n",
       "    </tr>\n",
       "    <tr>\n",
       "      <th>maps</th>\n",
       "      <td>0.221</td>\n",
       "      <td>0.001</td>\n",
       "    </tr>\n",
       "    <tr>\n",
       "      <th>youtube</th>\n",
       "      <td>0.213</td>\n",
       "      <td>0.002</td>\n",
       "    </tr>\n",
       "    <tr>\n",
       "      <th>orca</th>\n",
       "      <td>0.212</td>\n",
       "      <td>0.002</td>\n",
       "    </tr>\n",
       "    <tr>\n",
       "      <th>katana</th>\n",
       "      <td>0.209</td>\n",
       "      <td>0.002</td>\n",
       "    </tr>\n",
       "    <tr>\n",
       "      <th>chrome</th>\n",
       "      <td>0.150</td>\n",
       "      <td>0.042</td>\n",
       "    </tr>\n",
       "  </tbody>\n",
       "</table>\n",
       "</div>"
      ],
      "text/plain": [
       "               corr     p\n",
       "instagram     0.939 0.000\n",
       "age          -0.390 0.000\n",
       "transitions   0.286 0.000\n",
       "snapchat      0.277 0.000\n",
       "use_snapchat  0.276 0.000\n",
       "duration      0.250 0.000\n",
       "maps          0.221 0.001\n",
       "youtube       0.213 0.002\n",
       "orca          0.212 0.002\n",
       "katana        0.209 0.002\n",
       "chrome        0.150 0.042"
      ]
     },
     "execution_count": 223,
     "metadata": {},
     "output_type": "execute_result"
    }
   ],
   "source": [
    "corr_df = init_df.copy()\n",
    "corr_df = corr_df.merge(fga_mean, on='pid', how='left')\n",
    "#corr_df = corr_df.merge(fga_mean[['pid', 'instagram', 'use_instagram']], on='pid', how='left')\n",
    "corr_df = corr_df.merge(demo_df[['pid', 'age', 'gender']], on='pid', how='left')\n",
    "\n",
    "#corr_df = corr_df.dropna()\n",
    "corr_df = corr_df.drop(['pid', 'study_id'], axis='columns')\n",
    "corrs, _, p_vals = run_r_corr(corr_df)\n",
    "print(\"Significant correlations with using instagram\")\n",
    "filter_sig_corrs(corrs, p_vals, corr_df.columns.values, 'use_instagram')"
   ]
  },
  {
   "cell_type": "code",
   "execution_count": 224,
   "metadata": {},
   "outputs": [
    {
     "name": "stdout",
     "output_type": "stream",
     "text": [
      "Pairwise correlations with using instagram\n"
     ]
    },
    {
     "data": {
      "text/html": [
       "<div>\n",
       "<style scoped>\n",
       "    .dataframe tbody tr th:only-of-type {\n",
       "        vertical-align: middle;\n",
       "    }\n",
       "\n",
       "    .dataframe tbody tr th {\n",
       "        vertical-align: top;\n",
       "    }\n",
       "\n",
       "    .dataframe thead th {\n",
       "        text-align: right;\n",
       "    }\n",
       "</style>\n",
       "<table border=\"1\" class=\"dataframe\">\n",
       "  <thead>\n",
       "    <tr style=\"text-align: right;\">\n",
       "      <th></th>\n",
       "      <th>X</th>\n",
       "      <th>Y</th>\n",
       "      <th>method</th>\n",
       "      <th>tail</th>\n",
       "      <th>n</th>\n",
       "      <th>r</th>\n",
       "      <th>CI95%</th>\n",
       "      <th>r2</th>\n",
       "      <th>adj_r2</th>\n",
       "      <th>z</th>\n",
       "      <th>p-unc</th>\n",
       "      <th>p-corr</th>\n",
       "      <th>p-adjust</th>\n",
       "      <th>power</th>\n",
       "    </tr>\n",
       "  </thead>\n",
       "  <tbody>\n",
       "    <tr>\n",
       "      <th>0</th>\n",
       "      <td>use_instagram</td>\n",
       "      <td>dx_eating</td>\n",
       "      <td>spearman</td>\n",
       "      <td>two-sided</td>\n",
       "      <td>278</td>\n",
       "      <td>0.094</td>\n",
       "      <td>[-0.02, 0.21]</td>\n",
       "      <td>0.009</td>\n",
       "      <td>0.002</td>\n",
       "      <td>0.094</td>\n",
       "      <td>0.119</td>\n",
       "      <td>0.179</td>\n",
       "      <td>fdr_bh</td>\n",
       "      <td>0.345</td>\n",
       "    </tr>\n",
       "    <tr>\n",
       "      <th>1</th>\n",
       "      <td>use_instagram</td>\n",
       "      <td>age</td>\n",
       "      <td>spearman</td>\n",
       "      <td>two-sided</td>\n",
       "      <td>277</td>\n",
       "      <td>-0.390</td>\n",
       "      <td>[-0.49, -0.29]</td>\n",
       "      <td>0.152</td>\n",
       "      <td>0.146</td>\n",
       "      <td>-0.412</td>\n",
       "      <td>0.000</td>\n",
       "      <td>0.000</td>\n",
       "      <td>fdr_bh</td>\n",
       "      <td>1.000</td>\n",
       "    </tr>\n",
       "    <tr>\n",
       "      <th>2</th>\n",
       "      <td>use_instagram</td>\n",
       "      <td>gender</td>\n",
       "      <td>spearman</td>\n",
       "      <td>two-sided</td>\n",
       "      <td>277</td>\n",
       "      <td>-0.075</td>\n",
       "      <td>[-0.19, 0.04]</td>\n",
       "      <td>0.006</td>\n",
       "      <td>-0.002</td>\n",
       "      <td>-0.075</td>\n",
       "      <td>0.211</td>\n",
       "      <td>0.253</td>\n",
       "      <td>fdr_bh</td>\n",
       "      <td>0.240</td>\n",
       "    </tr>\n",
       "    <tr>\n",
       "      <th>3</th>\n",
       "      <td>dx_eating</td>\n",
       "      <td>age</td>\n",
       "      <td>spearman</td>\n",
       "      <td>two-sided</td>\n",
       "      <td>281</td>\n",
       "      <td>-0.112</td>\n",
       "      <td>[-0.23, 0.01]</td>\n",
       "      <td>0.013</td>\n",
       "      <td>0.005</td>\n",
       "      <td>-0.112</td>\n",
       "      <td>0.061</td>\n",
       "      <td>0.163</td>\n",
       "      <td>fdr_bh</td>\n",
       "      <td>0.468</td>\n",
       "    </tr>\n",
       "    <tr>\n",
       "      <th>4</th>\n",
       "      <td>dx_eating</td>\n",
       "      <td>gender</td>\n",
       "      <td>spearman</td>\n",
       "      <td>two-sided</td>\n",
       "      <td>281</td>\n",
       "      <td>-0.104</td>\n",
       "      <td>[-0.22, 0.01]</td>\n",
       "      <td>0.011</td>\n",
       "      <td>0.004</td>\n",
       "      <td>-0.104</td>\n",
       "      <td>0.082</td>\n",
       "      <td>0.163</td>\n",
       "      <td>fdr_bh</td>\n",
       "      <td>0.414</td>\n",
       "    </tr>\n",
       "    <tr>\n",
       "      <th>5</th>\n",
       "      <td>age</td>\n",
       "      <td>gender</td>\n",
       "      <td>spearman</td>\n",
       "      <td>two-sided</td>\n",
       "      <td>281</td>\n",
       "      <td>0.015</td>\n",
       "      <td>[-0.1, 0.13]</td>\n",
       "      <td>0.000</td>\n",
       "      <td>-0.007</td>\n",
       "      <td>0.015</td>\n",
       "      <td>0.801</td>\n",
       "      <td>0.801</td>\n",
       "      <td>fdr_bh</td>\n",
       "      <td>0.057</td>\n",
       "    </tr>\n",
       "  </tbody>\n",
       "</table>\n",
       "</div>"
      ],
      "text/plain": [
       "               X          Y    method       tail    n      r           CI95%  \\\n",
       "0  use_instagram  dx_eating  spearman  two-sided  278  0.094   [-0.02, 0.21]   \n",
       "1  use_instagram        age  spearman  two-sided  277 -0.390  [-0.49, -0.29]   \n",
       "2  use_instagram     gender  spearman  two-sided  277 -0.075   [-0.19, 0.04]   \n",
       "3      dx_eating        age  spearman  two-sided  281 -0.112   [-0.23, 0.01]   \n",
       "4      dx_eating     gender  spearman  two-sided  281 -0.104   [-0.22, 0.01]   \n",
       "5            age     gender  spearman  two-sided  281  0.015    [-0.1, 0.13]   \n",
       "\n",
       "     r2  adj_r2      z  p-unc  p-corr p-adjust  power  \n",
       "0 0.009   0.002  0.094  0.119   0.179   fdr_bh  0.345  \n",
       "1 0.152   0.146 -0.412  0.000   0.000   fdr_bh  1.000  \n",
       "2 0.006  -0.002 -0.075  0.211   0.253   fdr_bh  0.240  \n",
       "3 0.013   0.005 -0.112  0.061   0.163   fdr_bh  0.468  \n",
       "4 0.011   0.004 -0.104  0.082   0.163   fdr_bh  0.414  \n",
       "5 0.000  -0.007  0.015  0.801   0.801   fdr_bh  0.057  "
      ]
     },
     "execution_count": 224,
     "metadata": {},
     "output_type": "execute_result"
    }
   ],
   "source": [
    "print(\"Pairwise correlations with using instagram\")\n",
    "pg.pairwise_corr(data=corr_df, columns=['use_instagram', 'dx_eating', 'age', 'gender'], method='spearman', padjust='fdr_bh')"
   ]
  },
  {
   "cell_type": "code",
   "execution_count": 225,
   "metadata": {
    "scrolled": true
   },
   "outputs": [
    {
     "name": "stdout",
     "output_type": "stream",
     "text": [
      "Partial correlations with use_instagram: dx_eating\n"
     ]
    },
    {
     "data": {
      "text/html": [
       "<div>\n",
       "<style scoped>\n",
       "    .dataframe tbody tr th:only-of-type {\n",
       "        vertical-align: middle;\n",
       "    }\n",
       "\n",
       "    .dataframe tbody tr th {\n",
       "        vertical-align: top;\n",
       "    }\n",
       "\n",
       "    .dataframe thead th {\n",
       "        text-align: right;\n",
       "    }\n",
       "</style>\n",
       "<table border=\"1\" class=\"dataframe\">\n",
       "  <thead>\n",
       "    <tr style=\"text-align: right;\">\n",
       "      <th></th>\n",
       "      <th>n</th>\n",
       "      <th>r</th>\n",
       "      <th>CI95%</th>\n",
       "      <th>r2</th>\n",
       "      <th>adj_r2</th>\n",
       "      <th>p-val</th>\n",
       "      <th>power</th>\n",
       "    </tr>\n",
       "  </thead>\n",
       "  <tbody>\n",
       "    <tr>\n",
       "      <th>spearman</th>\n",
       "      <td>277</td>\n",
       "      <td>0.123</td>\n",
       "      <td>[0.0, 0.24]</td>\n",
       "      <td>0.015</td>\n",
       "      <td>0.008</td>\n",
       "      <td>0.041</td>\n",
       "      <td>0.534</td>\n",
       "    </tr>\n",
       "  </tbody>\n",
       "</table>\n",
       "</div>"
      ],
      "text/plain": [
       "            n     r        CI95%    r2  adj_r2  p-val  power\n",
       "spearman  277 0.123  [0.0, 0.24] 0.015   0.008  0.041  0.534"
      ]
     },
     "execution_count": 225,
     "metadata": {},
     "output_type": "execute_result"
    }
   ],
   "source": [
    "print(\"Partial correlations with use_instagram: dx_eating\")\n",
    "pg.partial_corr(data=corr_df, x='use_instagram', y='dx_eating', covar=['age', 'gender'], method='spearman')"
   ]
  },
  {
   "cell_type": "markdown",
   "metadata": {},
   "source": [
    "## Within instagram users"
   ]
  },
  {
   "cell_type": "code",
   "execution_count": 226,
   "metadata": {},
   "outputs": [
    {
     "name": "stdout",
     "output_type": "stream",
     "text": [
      "Significant correlations within instagram users\n"
     ]
    },
    {
     "data": {
      "text/html": [
       "<div>\n",
       "<style scoped>\n",
       "    .dataframe tbody tr th:only-of-type {\n",
       "        vertical-align: middle;\n",
       "    }\n",
       "\n",
       "    .dataframe tbody tr th {\n",
       "        vertical-align: top;\n",
       "    }\n",
       "\n",
       "    .dataframe thead th {\n",
       "        text-align: right;\n",
       "    }\n",
       "</style>\n",
       "<table border=\"1\" class=\"dataframe\">\n",
       "  <thead>\n",
       "    <tr style=\"text-align: right;\">\n",
       "      <th></th>\n",
       "      <th>corr</th>\n",
       "      <th>p</th>\n",
       "    </tr>\n",
       "  </thead>\n",
       "  <tbody>\n",
       "    <tr>\n",
       "      <th>transitions</th>\n",
       "      <td>0.372</td>\n",
       "      <td>0.000</td>\n",
       "    </tr>\n",
       "    <tr>\n",
       "      <th>snapchat</th>\n",
       "      <td>0.258</td>\n",
       "      <td>0.021</td>\n",
       "    </tr>\n",
       "    <tr>\n",
       "      <th>use_snapchat</th>\n",
       "      <td>0.253</td>\n",
       "      <td>0.025</td>\n",
       "    </tr>\n",
       "  </tbody>\n",
       "</table>\n",
       "</div>"
      ],
      "text/plain": [
       "              corr     p\n",
       "transitions  0.372 0.000\n",
       "snapchat     0.258 0.021\n",
       "use_snapchat 0.253 0.025"
      ]
     },
     "execution_count": 226,
     "metadata": {},
     "output_type": "execute_result"
    }
   ],
   "source": [
    "corr_df = init_df.copy()\n",
    "corr_df = corr_df.merge(fga_mean, on='pid', how='left')\n",
    "corr_df = corr_df.merge(demo_df[['pid', 'age', 'gender']], on='pid', how='left')\n",
    "\n",
    "corr_df = corr_df.loc[corr_df['use_instagram'] == 1]\n",
    "corr_df = corr_df.drop(['pid', 'study_id', 'use_instagram'], axis='columns')\n",
    "corrs, _, p_vals = run_r_corr(corr_df)\n",
    "\n",
    "print(\"Significant correlations within instagram users\")\n",
    "filter_sig_corrs(corrs, p_vals, corr_df.columns.values, 'instagram')\n",
    "#plt = build_corr_mat(corrs, p_vals, corr_df.columns.values, 'Across instagram user correlations at FDR < 0.05', 0.05, figsize=[22,12])\n",
    "#plt.show()"
   ]
  },
  {
   "cell_type": "markdown",
   "metadata": {},
   "source": [
    "# Facebook (app)"
   ]
  },
  {
   "cell_type": "markdown",
   "metadata": {},
   "source": [
    "## Users vs Non-Users"
   ]
  },
  {
   "cell_type": "code",
   "execution_count": 227,
   "metadata": {},
   "outputs": [],
   "source": [
    "fga_mean['use_katana'] = (fga_mean['katana'] > 0).astype(int)"
   ]
  },
  {
   "cell_type": "code",
   "execution_count": 228,
   "metadata": {},
   "outputs": [],
   "source": [
    "katana_users = fga_mean.loc[fga_mean['katana'] > 0]['pid']\n",
    "katana_nonusers = fga_mean.loc[fga_mean['katana'] <= 0]['pid']"
   ]
  },
  {
   "cell_type": "code",
   "execution_count": 229,
   "metadata": {},
   "outputs": [
    {
     "name": "stdout",
     "output_type": "stream",
     "text": [
      "katana users\n"
     ]
    },
    {
     "data": {
      "text/plain": [
       "count   180.000\n",
       "mean     39.528\n",
       "std      12.178\n",
       "min      19.000\n",
       "25%      29.000\n",
       "50%      37.500\n",
       "75%      49.000\n",
       "max      69.000\n",
       "Name: age, dtype: float64"
      ]
     },
     "metadata": {},
     "output_type": "display_data"
    },
    {
     "data": {
      "text/plain": [
       "0    145\n",
       "1     35\n",
       "Name: gender, dtype: int64"
      ]
     },
     "metadata": {},
     "output_type": "display_data"
    },
    {
     "data": {
      "text/plain": [
       "bachelors                63\n",
       "masters                  41\n",
       "some_college             31\n",
       "associates_vocational    14\n",
       "doctoral_degree           8\n",
       "associates_academic       7\n",
       "high_school               6\n",
       "ged                       4\n",
       "professional_degree       3\n",
       "11th_grade                1\n",
       "10th_grade                1\n",
       "12th_grade_no_diploma     1\n",
       "Name: education, dtype: int64"
      ]
     },
     "metadata": {},
     "output_type": "display_data"
    }
   ],
   "source": [
    "print(\"katana users\")\n",
    "display(demo_df.loc[demo_df['pid'].isin(katana_users)]['age'].describe())\n",
    "display(demo_df.loc[demo_df['pid'].isin(katana_users)]['gender'].value_counts())\n",
    "display(demo_df.loc[demo_df['pid'].isin(katana_users)]['education'].value_counts())"
   ]
  },
  {
   "cell_type": "code",
   "execution_count": 273,
   "metadata": {},
   "outputs": [
    {
     "name": "stdout",
     "output_type": "stream",
     "text": [
      "katana non-users\n"
     ]
    },
    {
     "data": {
      "text/plain": [
       "count   97.000\n",
       "mean    37.876\n",
       "std     11.619\n",
       "min     20.000\n",
       "25%     29.000\n",
       "50%     35.000\n",
       "75%     45.000\n",
       "max     65.000\n",
       "Name: age, dtype: float64"
      ]
     },
     "metadata": {},
     "output_type": "display_data"
    },
    {
     "data": {
      "text/plain": [
       "0    73\n",
       "1    24\n",
       "Name: gender, dtype: int64"
      ]
     },
     "metadata": {},
     "output_type": "display_data"
    },
    {
     "data": {
      "text/plain": [
       "bachelors                33\n",
       "masters                  21\n",
       "some_college             15\n",
       "associates_vocational    12\n",
       "associates_academic       5\n",
       "professional_degree       4\n",
       "doctoral_degree           4\n",
       "ged                       2\n",
       "high_school               1\n",
       "Name: education, dtype: int64"
      ]
     },
     "metadata": {},
     "output_type": "display_data"
    }
   ],
   "source": [
    "print(\"katana non-users\")\n",
    "display(demo_df.loc[demo_df['pid'].isin(katana_nonusers)]['age'].describe())\n",
    "display(demo_df.loc[demo_df['pid'].isin(katana_nonusers)]['gender'].value_counts())\n",
    "display(demo_df.loc[demo_df['pid'].isin(katana_nonusers)]['education'].value_counts())"
   ]
  },
  {
   "cell_type": "markdown",
   "metadata": {},
   "source": [
    "### Correlations"
   ]
  },
  {
   "cell_type": "code",
   "execution_count": 231,
   "metadata": {},
   "outputs": [
    {
     "name": "stdout",
     "output_type": "stream",
     "text": [
      "Significant correlations with using katana\n"
     ]
    },
    {
     "data": {
      "text/html": [
       "<div>\n",
       "<style scoped>\n",
       "    .dataframe tbody tr th:only-of-type {\n",
       "        vertical-align: middle;\n",
       "    }\n",
       "\n",
       "    .dataframe tbody tr th {\n",
       "        vertical-align: top;\n",
       "    }\n",
       "\n",
       "    .dataframe thead th {\n",
       "        text-align: right;\n",
       "    }\n",
       "</style>\n",
       "<table border=\"1\" class=\"dataframe\">\n",
       "  <thead>\n",
       "    <tr style=\"text-align: right;\">\n",
       "      <th></th>\n",
       "      <th>corr</th>\n",
       "      <th>p</th>\n",
       "    </tr>\n",
       "  </thead>\n",
       "  <tbody>\n",
       "    <tr>\n",
       "      <th>katana</th>\n",
       "      <td>0.846</td>\n",
       "      <td>0.000</td>\n",
       "    </tr>\n",
       "    <tr>\n",
       "      <th>orca</th>\n",
       "      <td>0.475</td>\n",
       "      <td>0.000</td>\n",
       "    </tr>\n",
       "    <tr>\n",
       "      <th>duration</th>\n",
       "      <td>0.220</td>\n",
       "      <td>0.001</td>\n",
       "    </tr>\n",
       "    <tr>\n",
       "      <th>use_instagram</th>\n",
       "      <td>0.203</td>\n",
       "      <td>0.003</td>\n",
       "    </tr>\n",
       "    <tr>\n",
       "      <th>instagram</th>\n",
       "      <td>0.170</td>\n",
       "      <td>0.017</td>\n",
       "    </tr>\n",
       "    <tr>\n",
       "      <th>launcher</th>\n",
       "      <td>0.169</td>\n",
       "      <td>0.018</td>\n",
       "    </tr>\n",
       "  </tbody>\n",
       "</table>\n",
       "</div>"
      ],
      "text/plain": [
       "               corr     p\n",
       "katana        0.846 0.000\n",
       "orca          0.475 0.000\n",
       "duration      0.220 0.001\n",
       "use_instagram 0.203 0.003\n",
       "instagram     0.170 0.017\n",
       "launcher      0.169 0.018"
      ]
     },
     "execution_count": 231,
     "metadata": {},
     "output_type": "execute_result"
    }
   ],
   "source": [
    "corr_df = init_df.copy()\n",
    "corr_df = corr_df.merge(fga_mean, on='pid', how='left')\n",
    "#corr_df = corr_df.merge(fga_mean[['pid', 'katana', 'use_katana']], on='pid', how='left')\n",
    "corr_df = corr_df.merge(demo_df[['pid', 'age', 'gender']], on='pid', how='left')\n",
    "\n",
    "#corr_df = corr_df.dropna()\n",
    "corr_df = corr_df.drop(['pid', 'study_id'], axis='columns')\n",
    "corrs, _, p_vals = run_r_corr(corr_df)\n",
    "print(\"Significant correlations with using katana\")\n",
    "filter_sig_corrs(corrs, p_vals, corr_df.columns.values, 'use_katana')"
   ]
  },
  {
   "cell_type": "code",
   "execution_count": 233,
   "metadata": {},
   "outputs": [
    {
     "name": "stdout",
     "output_type": "stream",
     "text": [
      "Pairwise correlations with using katana\n"
     ]
    },
    {
     "data": {
      "text/html": [
       "<div>\n",
       "<style scoped>\n",
       "    .dataframe tbody tr th:only-of-type {\n",
       "        vertical-align: middle;\n",
       "    }\n",
       "\n",
       "    .dataframe tbody tr th {\n",
       "        vertical-align: top;\n",
       "    }\n",
       "\n",
       "    .dataframe thead th {\n",
       "        text-align: right;\n",
       "    }\n",
       "</style>\n",
       "<table border=\"1\" class=\"dataframe\">\n",
       "  <thead>\n",
       "    <tr style=\"text-align: right;\">\n",
       "      <th></th>\n",
       "      <th>X</th>\n",
       "      <th>Y</th>\n",
       "      <th>method</th>\n",
       "      <th>tail</th>\n",
       "      <th>n</th>\n",
       "      <th>r</th>\n",
       "      <th>CI95%</th>\n",
       "      <th>r2</th>\n",
       "      <th>adj_r2</th>\n",
       "      <th>z</th>\n",
       "      <th>p-unc</th>\n",
       "      <th>p-corr</th>\n",
       "      <th>p-adjust</th>\n",
       "      <th>power</th>\n",
       "    </tr>\n",
       "  </thead>\n",
       "  <tbody>\n",
       "    <tr>\n",
       "      <th>0</th>\n",
       "      <td>use_katana</td>\n",
       "      <td>duration</td>\n",
       "      <td>spearman</td>\n",
       "      <td>two-sided</td>\n",
       "      <td>275</td>\n",
       "      <td>0.220</td>\n",
       "      <td>[0.1, 0.33]</td>\n",
       "      <td>0.048</td>\n",
       "      <td>0.041</td>\n",
       "      <td>0.224</td>\n",
       "      <td>0.000</td>\n",
       "      <td>0.001</td>\n",
       "      <td>fdr_bh</td>\n",
       "      <td>0.959</td>\n",
       "    </tr>\n",
       "    <tr>\n",
       "      <th>1</th>\n",
       "      <td>use_katana</td>\n",
       "      <td>age</td>\n",
       "      <td>spearman</td>\n",
       "      <td>two-sided</td>\n",
       "      <td>277</td>\n",
       "      <td>0.065</td>\n",
       "      <td>[-0.05, 0.18]</td>\n",
       "      <td>0.004</td>\n",
       "      <td>-0.003</td>\n",
       "      <td>0.065</td>\n",
       "      <td>0.283</td>\n",
       "      <td>0.367</td>\n",
       "      <td>fdr_bh</td>\n",
       "      <td>0.189</td>\n",
       "    </tr>\n",
       "    <tr>\n",
       "      <th>2</th>\n",
       "      <td>use_katana</td>\n",
       "      <td>gender</td>\n",
       "      <td>spearman</td>\n",
       "      <td>two-sided</td>\n",
       "      <td>277</td>\n",
       "      <td>-0.062</td>\n",
       "      <td>[-0.18, 0.06]</td>\n",
       "      <td>0.004</td>\n",
       "      <td>-0.003</td>\n",
       "      <td>-0.062</td>\n",
       "      <td>0.306</td>\n",
       "      <td>0.367</td>\n",
       "      <td>fdr_bh</td>\n",
       "      <td>0.176</td>\n",
       "    </tr>\n",
       "    <tr>\n",
       "      <th>3</th>\n",
       "      <td>duration</td>\n",
       "      <td>age</td>\n",
       "      <td>spearman</td>\n",
       "      <td>two-sided</td>\n",
       "      <td>274</td>\n",
       "      <td>-0.146</td>\n",
       "      <td>[-0.26, -0.03]</td>\n",
       "      <td>0.021</td>\n",
       "      <td>0.014</td>\n",
       "      <td>-0.147</td>\n",
       "      <td>0.016</td>\n",
       "      <td>0.031</td>\n",
       "      <td>fdr_bh</td>\n",
       "      <td>0.680</td>\n",
       "    </tr>\n",
       "    <tr>\n",
       "      <th>4</th>\n",
       "      <td>duration</td>\n",
       "      <td>gender</td>\n",
       "      <td>spearman</td>\n",
       "      <td>two-sided</td>\n",
       "      <td>274</td>\n",
       "      <td>-0.164</td>\n",
       "      <td>[-0.28, -0.05]</td>\n",
       "      <td>0.027</td>\n",
       "      <td>0.020</td>\n",
       "      <td>-0.165</td>\n",
       "      <td>0.006</td>\n",
       "      <td>0.019</td>\n",
       "      <td>fdr_bh</td>\n",
       "      <td>0.780</td>\n",
       "    </tr>\n",
       "    <tr>\n",
       "      <th>5</th>\n",
       "      <td>age</td>\n",
       "      <td>gender</td>\n",
       "      <td>spearman</td>\n",
       "      <td>two-sided</td>\n",
       "      <td>281</td>\n",
       "      <td>0.015</td>\n",
       "      <td>[-0.1, 0.13]</td>\n",
       "      <td>0.000</td>\n",
       "      <td>-0.007</td>\n",
       "      <td>0.015</td>\n",
       "      <td>0.801</td>\n",
       "      <td>0.801</td>\n",
       "      <td>fdr_bh</td>\n",
       "      <td>0.057</td>\n",
       "    </tr>\n",
       "  </tbody>\n",
       "</table>\n",
       "</div>"
      ],
      "text/plain": [
       "            X         Y    method       tail    n      r           CI95%  \\\n",
       "0  use_katana  duration  spearman  two-sided  275  0.220     [0.1, 0.33]   \n",
       "1  use_katana       age  spearman  two-sided  277  0.065   [-0.05, 0.18]   \n",
       "2  use_katana    gender  spearman  two-sided  277 -0.062   [-0.18, 0.06]   \n",
       "3    duration       age  spearman  two-sided  274 -0.146  [-0.26, -0.03]   \n",
       "4    duration    gender  spearman  two-sided  274 -0.164  [-0.28, -0.05]   \n",
       "5         age    gender  spearman  two-sided  281  0.015    [-0.1, 0.13]   \n",
       "\n",
       "     r2  adj_r2      z  p-unc  p-corr p-adjust  power  \n",
       "0 0.048   0.041  0.224  0.000   0.001   fdr_bh  0.959  \n",
       "1 0.004  -0.003  0.065  0.283   0.367   fdr_bh  0.189  \n",
       "2 0.004  -0.003 -0.062  0.306   0.367   fdr_bh  0.176  \n",
       "3 0.021   0.014 -0.147  0.016   0.031   fdr_bh  0.680  \n",
       "4 0.027   0.020 -0.165  0.006   0.019   fdr_bh  0.780  \n",
       "5 0.000  -0.007  0.015  0.801   0.801   fdr_bh  0.057  "
      ]
     },
     "execution_count": 233,
     "metadata": {},
     "output_type": "execute_result"
    }
   ],
   "source": [
    "print(\"Pairwise correlations with using katana\")\n",
    "pg.pairwise_corr(data=corr_df, columns=['use_katana', 'duration', 'age', 'gender'], method='spearman', padjust='fdr_bh')"
   ]
  },
  {
   "cell_type": "code",
   "execution_count": 235,
   "metadata": {
    "scrolled": true
   },
   "outputs": [
    {
     "name": "stdout",
     "output_type": "stream",
     "text": [
      "Partial correlations with use_katana: dx_eating\n"
     ]
    },
    {
     "data": {
      "text/html": [
       "<div>\n",
       "<style scoped>\n",
       "    .dataframe tbody tr th:only-of-type {\n",
       "        vertical-align: middle;\n",
       "    }\n",
       "\n",
       "    .dataframe tbody tr th {\n",
       "        vertical-align: top;\n",
       "    }\n",
       "\n",
       "    .dataframe thead th {\n",
       "        text-align: right;\n",
       "    }\n",
       "</style>\n",
       "<table border=\"1\" class=\"dataframe\">\n",
       "  <thead>\n",
       "    <tr style=\"text-align: right;\">\n",
       "      <th></th>\n",
       "      <th>n</th>\n",
       "      <th>r</th>\n",
       "      <th>CI95%</th>\n",
       "      <th>r2</th>\n",
       "      <th>adj_r2</th>\n",
       "      <th>p-val</th>\n",
       "      <th>power</th>\n",
       "    </tr>\n",
       "  </thead>\n",
       "  <tbody>\n",
       "    <tr>\n",
       "      <th>spearman</th>\n",
       "      <td>274</td>\n",
       "      <td>0.193</td>\n",
       "      <td>[0.08, 0.3]</td>\n",
       "      <td>0.037</td>\n",
       "      <td>0.030</td>\n",
       "      <td>0.001</td>\n",
       "      <td>0.896</td>\n",
       "    </tr>\n",
       "  </tbody>\n",
       "</table>\n",
       "</div>"
      ],
      "text/plain": [
       "            n     r        CI95%    r2  adj_r2  p-val  power\n",
       "spearman  274 0.193  [0.08, 0.3] 0.037   0.030  0.001  0.896"
      ]
     },
     "execution_count": 235,
     "metadata": {},
     "output_type": "execute_result"
    }
   ],
   "source": [
    "print(\"Partial correlations with use_katana: dx_eating\")\n",
    "pg.partial_corr(data=corr_df, x='use_katana', y='duration', covar=['age', 'gender'], method='spearman')"
   ]
  },
  {
   "cell_type": "markdown",
   "metadata": {},
   "source": [
    "## Within katana users"
   ]
  },
  {
   "cell_type": "code",
   "execution_count": 236,
   "metadata": {
    "scrolled": true
   },
   "outputs": [
    {
     "name": "stdout",
     "output_type": "stream",
     "text": [
      "Significant correlations within katana users\n"
     ]
    },
    {
     "data": {
      "text/html": [
       "<div>\n",
       "<style scoped>\n",
       "    .dataframe tbody tr th:only-of-type {\n",
       "        vertical-align: middle;\n",
       "    }\n",
       "\n",
       "    .dataframe tbody tr th {\n",
       "        vertical-align: top;\n",
       "    }\n",
       "\n",
       "    .dataframe thead th {\n",
       "        text-align: right;\n",
       "    }\n",
       "</style>\n",
       "<table border=\"1\" class=\"dataframe\">\n",
       "  <thead>\n",
       "    <tr style=\"text-align: right;\">\n",
       "      <th></th>\n",
       "      <th>corr</th>\n",
       "      <th>p</th>\n",
       "    </tr>\n",
       "  </thead>\n",
       "  <tbody>\n",
       "    <tr>\n",
       "      <th>orca</th>\n",
       "      <td>0.256</td>\n",
       "      <td>0.003</td>\n",
       "    </tr>\n",
       "    <tr>\n",
       "      <th>duration</th>\n",
       "      <td>0.213</td>\n",
       "      <td>0.020</td>\n",
       "    </tr>\n",
       "  </tbody>\n",
       "</table>\n",
       "</div>"
      ],
      "text/plain": [
       "          corr     p\n",
       "orca     0.256 0.003\n",
       "duration 0.213 0.020"
      ]
     },
     "execution_count": 236,
     "metadata": {},
     "output_type": "execute_result"
    }
   ],
   "source": [
    "corr_df = init_df.copy()\n",
    "corr_df = corr_df.merge(fga_mean, on='pid', how='left')\n",
    "corr_df = corr_df.merge(demo_df[['pid', 'age', 'gender']], on='pid', how='left')\n",
    "\n",
    "corr_df = corr_df.loc[corr_df['use_katana'] == 1]\n",
    "corr_df = corr_df.drop(['pid', 'study_id', 'use_katana'], axis='columns')\n",
    "corrs, _, p_vals = run_r_corr(corr_df)\n",
    "\n",
    "print(\"Significant correlations within katana users\")\n",
    "filter_sig_corrs(corrs, p_vals, corr_df.columns.values, 'katana')\n",
    "#plt = build_corr_mat(corrs, p_vals, corr_df.columns.values, 'Across katana user correlations at FDR < 0.05', 0.05, figsize=[22,12])\n",
    "#plt.show()"
   ]
  },
  {
   "cell_type": "markdown",
   "metadata": {},
   "source": [
    "# Facebook (Messenger)"
   ]
  },
  {
   "cell_type": "markdown",
   "metadata": {},
   "source": [
    "## Users vs Non-Users"
   ]
  },
  {
   "cell_type": "code",
   "execution_count": 248,
   "metadata": {},
   "outputs": [],
   "source": [
    "fga_mean['use_orca'] = (fga_mean['orca'] > 0).astype(int)"
   ]
  },
  {
   "cell_type": "code",
   "execution_count": 249,
   "metadata": {},
   "outputs": [],
   "source": [
    "orca_users = fga_mean.loc[fga_mean['orca'] > 0]['pid']\n",
    "orca_nonusers = fga_mean.loc[fga_mean['orca'] <= 0]['pid']"
   ]
  },
  {
   "cell_type": "code",
   "execution_count": 250,
   "metadata": {},
   "outputs": [
    {
     "name": "stdout",
     "output_type": "stream",
     "text": [
      "orca users\n"
     ]
    },
    {
     "data": {
      "text/plain": [
       "count   175.000\n",
       "mean     38.640\n",
       "std      12.119\n",
       "min      19.000\n",
       "25%      29.000\n",
       "50%      36.000\n",
       "75%      46.500\n",
       "max      69.000\n",
       "Name: age, dtype: float64"
      ]
     },
     "metadata": {},
     "output_type": "display_data"
    },
    {
     "data": {
      "text/plain": [
       "0    145\n",
       "1     30\n",
       "Name: gender, dtype: int64"
      ]
     },
     "metadata": {},
     "output_type": "display_data"
    },
    {
     "data": {
      "text/plain": [
       "bachelors                60\n",
       "masters                  42\n",
       "some_college             29\n",
       "associates_vocational    11\n",
       "doctoral_degree          10\n",
       "associates_academic       8\n",
       "high_school               6\n",
       "ged                       4\n",
       "professional_degree       3\n",
       "11th_grade                1\n",
       "12th_grade_no_diploma     1\n",
       "Name: education, dtype: int64"
      ]
     },
     "metadata": {},
     "output_type": "display_data"
    }
   ],
   "source": [
    "print(\"orca users\")\n",
    "display(demo_df.loc[demo_df['pid'].isin(orca_users)]['age'].describe())\n",
    "display(demo_df.loc[demo_df['pid'].isin(orca_users)]['gender'].value_counts())\n",
    "display(demo_df.loc[demo_df['pid'].isin(orca_users)]['education'].value_counts())"
   ]
  },
  {
   "cell_type": "code",
   "execution_count": 272,
   "metadata": {},
   "outputs": [
    {
     "name": "stdout",
     "output_type": "stream",
     "text": [
      "orca non-users\n"
     ]
    },
    {
     "data": {
      "text/plain": [
       "count   102.000\n",
       "mean     39.480\n",
       "std      11.806\n",
       "min      20.000\n",
       "25%      30.000\n",
       "50%      37.000\n",
       "75%      46.000\n",
       "max      65.000\n",
       "Name: age, dtype: float64"
      ]
     },
     "metadata": {},
     "output_type": "display_data"
    },
    {
     "data": {
      "text/plain": [
       "0    73\n",
       "1    29\n",
       "Name: gender, dtype: int64"
      ]
     },
     "metadata": {},
     "output_type": "display_data"
    },
    {
     "data": {
      "text/plain": [
       "bachelors                36\n",
       "masters                  20\n",
       "some_college             17\n",
       "associates_vocational    15\n",
       "professional_degree       4\n",
       "associates_academic       4\n",
       "ged                       2\n",
       "doctoral_degree           2\n",
       "high_school               1\n",
       "10th_grade                1\n",
       "Name: education, dtype: int64"
      ]
     },
     "metadata": {},
     "output_type": "display_data"
    }
   ],
   "source": [
    "print(\"orca non-users\")\n",
    "display(demo_df.loc[demo_df['pid'].isin(orca_nonusers)]['age'].describe())\n",
    "display(demo_df.loc[demo_df['pid'].isin(orca_nonusers)]['gender'].value_counts())\n",
    "display(demo_df.loc[demo_df['pid'].isin(orca_nonusers)]['education'].value_counts())"
   ]
  },
  {
   "cell_type": "markdown",
   "metadata": {},
   "source": [
    "### Correlations"
   ]
  },
  {
   "cell_type": "code",
   "execution_count": 252,
   "metadata": {},
   "outputs": [
    {
     "name": "stdout",
     "output_type": "stream",
     "text": [
      "Significant correlations with using orca\n"
     ]
    },
    {
     "data": {
      "text/html": [
       "<div>\n",
       "<style scoped>\n",
       "    .dataframe tbody tr th:only-of-type {\n",
       "        vertical-align: middle;\n",
       "    }\n",
       "\n",
       "    .dataframe tbody tr th {\n",
       "        vertical-align: top;\n",
       "    }\n",
       "\n",
       "    .dataframe thead th {\n",
       "        text-align: right;\n",
       "    }\n",
       "</style>\n",
       "<table border=\"1\" class=\"dataframe\">\n",
       "  <thead>\n",
       "    <tr style=\"text-align: right;\">\n",
       "      <th></th>\n",
       "      <th>corr</th>\n",
       "      <th>p</th>\n",
       "    </tr>\n",
       "  </thead>\n",
       "  <tbody>\n",
       "    <tr>\n",
       "      <th>katana</th>\n",
       "      <td>0.523</td>\n",
       "      <td>0.000</td>\n",
       "    </tr>\n",
       "    <tr>\n",
       "      <th>orca</th>\n",
       "      <td>0.856</td>\n",
       "      <td>0.000</td>\n",
       "    </tr>\n",
       "    <tr>\n",
       "      <th>use_katana</th>\n",
       "      <td>0.516</td>\n",
       "      <td>0.000</td>\n",
       "    </tr>\n",
       "    <tr>\n",
       "      <th>launcher</th>\n",
       "      <td>0.246</td>\n",
       "      <td>0.000</td>\n",
       "    </tr>\n",
       "    <tr>\n",
       "      <th>duration</th>\n",
       "      <td>0.237</td>\n",
       "      <td>0.000</td>\n",
       "    </tr>\n",
       "    <tr>\n",
       "      <th>use_instagram</th>\n",
       "      <td>0.200</td>\n",
       "      <td>0.004</td>\n",
       "    </tr>\n",
       "    <tr>\n",
       "      <th>instagram</th>\n",
       "      <td>0.198</td>\n",
       "      <td>0.004</td>\n",
       "    </tr>\n",
       "    <tr>\n",
       "      <th>spin_avoid</th>\n",
       "      <td>-0.154</td>\n",
       "      <td>0.036</td>\n",
       "    </tr>\n",
       "    <tr>\n",
       "      <th>spin_phys</th>\n",
       "      <td>-0.154</td>\n",
       "      <td>0.036</td>\n",
       "    </tr>\n",
       "  </tbody>\n",
       "</table>\n",
       "</div>"
      ],
      "text/plain": [
       "                corr     p\n",
       "katana         0.523 0.000\n",
       "orca           0.856 0.000\n",
       "use_katana     0.516 0.000\n",
       "launcher       0.246 0.000\n",
       "duration       0.237 0.000\n",
       "use_instagram  0.200 0.004\n",
       "instagram      0.198 0.004\n",
       "spin_avoid    -0.154 0.036\n",
       "spin_phys     -0.154 0.036"
      ]
     },
     "execution_count": 252,
     "metadata": {},
     "output_type": "execute_result"
    }
   ],
   "source": [
    "corr_df = init_df.copy()\n",
    "corr_df = corr_df.merge(fga_mean, on='pid', how='left')\n",
    "#corr_df = corr_df.merge(fga_mean[['pid', 'orca', 'use_orca']], on='pid', how='left')\n",
    "corr_df = corr_df.merge(demo_df[['pid', 'age', 'gender']], on='pid', how='left')\n",
    "\n",
    "#corr_df = corr_df.dropna()\n",
    "corr_df = corr_df.drop(['pid', 'study_id'], axis='columns')\n",
    "corrs, _, p_vals = run_r_corr(corr_df)\n",
    "print(\"Significant correlations with using orca\")\n",
    "filter_sig_corrs(corrs, p_vals, corr_df.columns.values, 'use_orca')"
   ]
  },
  {
   "cell_type": "code",
   "execution_count": 253,
   "metadata": {},
   "outputs": [
    {
     "name": "stdout",
     "output_type": "stream",
     "text": [
      "Pairwise correlations with using orca\n"
     ]
    },
    {
     "data": {
      "text/html": [
       "<div>\n",
       "<style scoped>\n",
       "    .dataframe tbody tr th:only-of-type {\n",
       "        vertical-align: middle;\n",
       "    }\n",
       "\n",
       "    .dataframe tbody tr th {\n",
       "        vertical-align: top;\n",
       "    }\n",
       "\n",
       "    .dataframe thead th {\n",
       "        text-align: right;\n",
       "    }\n",
       "</style>\n",
       "<table border=\"1\" class=\"dataframe\">\n",
       "  <thead>\n",
       "    <tr style=\"text-align: right;\">\n",
       "      <th></th>\n",
       "      <th>X</th>\n",
       "      <th>Y</th>\n",
       "      <th>method</th>\n",
       "      <th>tail</th>\n",
       "      <th>n</th>\n",
       "      <th>r</th>\n",
       "      <th>CI95%</th>\n",
       "      <th>r2</th>\n",
       "      <th>adj_r2</th>\n",
       "      <th>z</th>\n",
       "      <th>p-unc</th>\n",
       "      <th>p-corr</th>\n",
       "      <th>p-adjust</th>\n",
       "      <th>power</th>\n",
       "    </tr>\n",
       "  </thead>\n",
       "  <tbody>\n",
       "    <tr>\n",
       "      <th>0</th>\n",
       "      <td>use_orca</td>\n",
       "      <td>spin_avoid</td>\n",
       "      <td>spearman</td>\n",
       "      <td>two-sided</td>\n",
       "      <td>278</td>\n",
       "      <td>-0.154</td>\n",
       "      <td>[-0.27, -0.04]</td>\n",
       "      <td>0.024</td>\n",
       "      <td>0.017</td>\n",
       "      <td>-0.155</td>\n",
       "      <td>0.010</td>\n",
       "      <td>0.060</td>\n",
       "      <td>fdr_bh</td>\n",
       "      <td>0.734</td>\n",
       "    </tr>\n",
       "    <tr>\n",
       "      <th>1</th>\n",
       "      <td>use_orca</td>\n",
       "      <td>age</td>\n",
       "      <td>spearman</td>\n",
       "      <td>two-sided</td>\n",
       "      <td>277</td>\n",
       "      <td>-0.042</td>\n",
       "      <td>[-0.16, 0.08]</td>\n",
       "      <td>0.002</td>\n",
       "      <td>-0.006</td>\n",
       "      <td>-0.042</td>\n",
       "      <td>0.491</td>\n",
       "      <td>0.736</td>\n",
       "      <td>fdr_bh</td>\n",
       "      <td>0.106</td>\n",
       "    </tr>\n",
       "    <tr>\n",
       "      <th>2</th>\n",
       "      <td>use_orca</td>\n",
       "      <td>gender</td>\n",
       "      <td>spearman</td>\n",
       "      <td>two-sided</td>\n",
       "      <td>277</td>\n",
       "      <td>-0.133</td>\n",
       "      <td>[-0.25, -0.02]</td>\n",
       "      <td>0.018</td>\n",
       "      <td>0.011</td>\n",
       "      <td>-0.134</td>\n",
       "      <td>0.027</td>\n",
       "      <td>0.081</td>\n",
       "      <td>fdr_bh</td>\n",
       "      <td>0.602</td>\n",
       "    </tr>\n",
       "    <tr>\n",
       "      <th>3</th>\n",
       "      <td>spin_avoid</td>\n",
       "      <td>age</td>\n",
       "      <td>spearman</td>\n",
       "      <td>two-sided</td>\n",
       "      <td>281</td>\n",
       "      <td>-0.087</td>\n",
       "      <td>[-0.2, 0.03]</td>\n",
       "      <td>0.008</td>\n",
       "      <td>0.000</td>\n",
       "      <td>-0.087</td>\n",
       "      <td>0.146</td>\n",
       "      <td>0.293</td>\n",
       "      <td>fdr_bh</td>\n",
       "      <td>0.307</td>\n",
       "    </tr>\n",
       "    <tr>\n",
       "      <th>4</th>\n",
       "      <td>spin_avoid</td>\n",
       "      <td>gender</td>\n",
       "      <td>spearman</td>\n",
       "      <td>two-sided</td>\n",
       "      <td>281</td>\n",
       "      <td>-0.029</td>\n",
       "      <td>[-0.15, 0.09]</td>\n",
       "      <td>0.001</td>\n",
       "      <td>-0.006</td>\n",
       "      <td>-0.029</td>\n",
       "      <td>0.634</td>\n",
       "      <td>0.761</td>\n",
       "      <td>fdr_bh</td>\n",
       "      <td>0.076</td>\n",
       "    </tr>\n",
       "    <tr>\n",
       "      <th>5</th>\n",
       "      <td>age</td>\n",
       "      <td>gender</td>\n",
       "      <td>spearman</td>\n",
       "      <td>two-sided</td>\n",
       "      <td>281</td>\n",
       "      <td>0.015</td>\n",
       "      <td>[-0.1, 0.13]</td>\n",
       "      <td>0.000</td>\n",
       "      <td>-0.007</td>\n",
       "      <td>0.015</td>\n",
       "      <td>0.801</td>\n",
       "      <td>0.801</td>\n",
       "      <td>fdr_bh</td>\n",
       "      <td>0.057</td>\n",
       "    </tr>\n",
       "  </tbody>\n",
       "</table>\n",
       "</div>"
      ],
      "text/plain": [
       "            X           Y    method       tail    n      r           CI95%  \\\n",
       "0    use_orca  spin_avoid  spearman  two-sided  278 -0.154  [-0.27, -0.04]   \n",
       "1    use_orca         age  spearman  two-sided  277 -0.042   [-0.16, 0.08]   \n",
       "2    use_orca      gender  spearman  two-sided  277 -0.133  [-0.25, -0.02]   \n",
       "3  spin_avoid         age  spearman  two-sided  281 -0.087    [-0.2, 0.03]   \n",
       "4  spin_avoid      gender  spearman  two-sided  281 -0.029   [-0.15, 0.09]   \n",
       "5         age      gender  spearman  two-sided  281  0.015    [-0.1, 0.13]   \n",
       "\n",
       "     r2  adj_r2      z  p-unc  p-corr p-adjust  power  \n",
       "0 0.024   0.017 -0.155  0.010   0.060   fdr_bh  0.734  \n",
       "1 0.002  -0.006 -0.042  0.491   0.736   fdr_bh  0.106  \n",
       "2 0.018   0.011 -0.134  0.027   0.081   fdr_bh  0.602  \n",
       "3 0.008   0.000 -0.087  0.146   0.293   fdr_bh  0.307  \n",
       "4 0.001  -0.006 -0.029  0.634   0.761   fdr_bh  0.076  \n",
       "5 0.000  -0.007  0.015  0.801   0.801   fdr_bh  0.057  "
      ]
     },
     "execution_count": 253,
     "metadata": {},
     "output_type": "execute_result"
    }
   ],
   "source": [
    "print(\"Pairwise correlations with using orca\")\n",
    "pg.pairwise_corr(data=corr_df, columns=['use_orca', 'spin_avoid', 'age', 'gender'], method='spearman', padjust='fdr_bh')"
   ]
  },
  {
   "cell_type": "code",
   "execution_count": 255,
   "metadata": {
    "scrolled": true
   },
   "outputs": [
    {
     "name": "stdout",
     "output_type": "stream",
     "text": [
      "Partial correlations with use_orca: spin_avoid\n"
     ]
    },
    {
     "data": {
      "text/html": [
       "<div>\n",
       "<style scoped>\n",
       "    .dataframe tbody tr th:only-of-type {\n",
       "        vertical-align: middle;\n",
       "    }\n",
       "\n",
       "    .dataframe tbody tr th {\n",
       "        vertical-align: top;\n",
       "    }\n",
       "\n",
       "    .dataframe thead th {\n",
       "        text-align: right;\n",
       "    }\n",
       "</style>\n",
       "<table border=\"1\" class=\"dataframe\">\n",
       "  <thead>\n",
       "    <tr style=\"text-align: right;\">\n",
       "      <th></th>\n",
       "      <th>n</th>\n",
       "      <th>r</th>\n",
       "      <th>CI95%</th>\n",
       "      <th>r2</th>\n",
       "      <th>adj_r2</th>\n",
       "      <th>p-val</th>\n",
       "      <th>power</th>\n",
       "    </tr>\n",
       "  </thead>\n",
       "  <tbody>\n",
       "    <tr>\n",
       "      <th>spearman</th>\n",
       "      <td>277</td>\n",
       "      <td>-0.154</td>\n",
       "      <td>[-0.27, -0.04]</td>\n",
       "      <td>0.024</td>\n",
       "      <td>0.016</td>\n",
       "      <td>0.010</td>\n",
       "      <td>0.728</td>\n",
       "    </tr>\n",
       "  </tbody>\n",
       "</table>\n",
       "</div>"
      ],
      "text/plain": [
       "            n      r           CI95%    r2  adj_r2  p-val  power\n",
       "spearman  277 -0.154  [-0.27, -0.04] 0.024   0.016  0.010  0.728"
      ]
     },
     "execution_count": 255,
     "metadata": {},
     "output_type": "execute_result"
    }
   ],
   "source": [
    "print(\"Partial correlations with use_orca: spin_avoid\")\n",
    "pg.partial_corr(data=corr_df, x='use_orca', y='spin_avoid', covar=['age', 'gender'], method='spearman')"
   ]
  },
  {
   "cell_type": "markdown",
   "metadata": {},
   "source": [
    "## Within orca users"
   ]
  },
  {
   "cell_type": "code",
   "execution_count": 256,
   "metadata": {
    "scrolled": true
   },
   "outputs": [
    {
     "name": "stdout",
     "output_type": "stream",
     "text": [
      "Significant correlations within orca users\n"
     ]
    },
    {
     "data": {
      "text/html": [
       "<div>\n",
       "<style scoped>\n",
       "    .dataframe tbody tr th:only-of-type {\n",
       "        vertical-align: middle;\n",
       "    }\n",
       "\n",
       "    .dataframe tbody tr th {\n",
       "        vertical-align: top;\n",
       "    }\n",
       "\n",
       "    .dataframe thead th {\n",
       "        text-align: right;\n",
       "    }\n",
       "</style>\n",
       "<table border=\"1\" class=\"dataframe\">\n",
       "  <thead>\n",
       "    <tr style=\"text-align: right;\">\n",
       "      <th></th>\n",
       "      <th>corr</th>\n",
       "      <th>p</th>\n",
       "    </tr>\n",
       "  </thead>\n",
       "  <tbody>\n",
       "    <tr>\n",
       "      <th>youtube</th>\n",
       "      <td>0.273</td>\n",
       "      <td>0.002</td>\n",
       "    </tr>\n",
       "    <tr>\n",
       "      <th>gad_q8</th>\n",
       "      <td>0.235</td>\n",
       "      <td>0.011</td>\n",
       "    </tr>\n",
       "    <tr>\n",
       "      <th>duration</th>\n",
       "      <td>0.223</td>\n",
       "      <td>0.017</td>\n",
       "    </tr>\n",
       "  </tbody>\n",
       "</table>\n",
       "</div>"
      ],
      "text/plain": [
       "          corr     p\n",
       "youtube  0.273 0.002\n",
       "gad_q8   0.235 0.011\n",
       "duration 0.223 0.017"
      ]
     },
     "execution_count": 256,
     "metadata": {},
     "output_type": "execute_result"
    }
   ],
   "source": [
    "corr_df = init_df.copy()\n",
    "corr_df = corr_df.merge(fga_mean, on='pid', how='left')\n",
    "corr_df = corr_df.merge(demo_df[['pid', 'age', 'gender']], on='pid', how='left')\n",
    "\n",
    "corr_df = corr_df.loc[corr_df['use_orca'] == 1]\n",
    "corr_df = corr_df.drop(['pid', 'study_id', 'use_orca'], axis='columns')\n",
    "corrs, _, p_vals = run_r_corr(corr_df)\n",
    "\n",
    "print(\"Significant correlations within orca users\")\n",
    "filter_sig_corrs(corrs, p_vals, corr_df.columns.values, 'orca')\n",
    "#plt = build_corr_mat(corrs, p_vals, corr_df.columns.values, 'Across orca user correlations at FDR < 0.05', 0.05, figsize=[22,12])\n",
    "#plt.show()"
   ]
  },
  {
   "cell_type": "code",
   "execution_count": 258,
   "metadata": {},
   "outputs": [
    {
     "name": "stdout",
     "output_type": "stream",
     "text": [
      "Pairwise correlations within orca users\n"
     ]
    },
    {
     "data": {
      "text/html": [
       "<div>\n",
       "<style scoped>\n",
       "    .dataframe tbody tr th:only-of-type {\n",
       "        vertical-align: middle;\n",
       "    }\n",
       "\n",
       "    .dataframe tbody tr th {\n",
       "        vertical-align: top;\n",
       "    }\n",
       "\n",
       "    .dataframe thead th {\n",
       "        text-align: right;\n",
       "    }\n",
       "</style>\n",
       "<table border=\"1\" class=\"dataframe\">\n",
       "  <thead>\n",
       "    <tr style=\"text-align: right;\">\n",
       "      <th></th>\n",
       "      <th>X</th>\n",
       "      <th>Y</th>\n",
       "      <th>method</th>\n",
       "      <th>tail</th>\n",
       "      <th>n</th>\n",
       "      <th>r</th>\n",
       "      <th>CI95%</th>\n",
       "      <th>r2</th>\n",
       "      <th>adj_r2</th>\n",
       "      <th>z</th>\n",
       "      <th>p-unc</th>\n",
       "      <th>p-corr</th>\n",
       "      <th>p-adjust</th>\n",
       "      <th>power</th>\n",
       "    </tr>\n",
       "  </thead>\n",
       "  <tbody>\n",
       "    <tr>\n",
       "      <th>0</th>\n",
       "      <td>orca</td>\n",
       "      <td>gad_q8</td>\n",
       "      <td>spearman</td>\n",
       "      <td>two-sided</td>\n",
       "      <td>176</td>\n",
       "      <td>0.235</td>\n",
       "      <td>[0.09, 0.37]</td>\n",
       "      <td>0.055</td>\n",
       "      <td>0.044</td>\n",
       "      <td>0.239</td>\n",
       "      <td>0.002</td>\n",
       "      <td>0.010</td>\n",
       "      <td>fdr_bh</td>\n",
       "      <td>0.883</td>\n",
       "    </tr>\n",
       "    <tr>\n",
       "      <th>1</th>\n",
       "      <td>orca</td>\n",
       "      <td>age</td>\n",
       "      <td>spearman</td>\n",
       "      <td>two-sided</td>\n",
       "      <td>175</td>\n",
       "      <td>-0.181</td>\n",
       "      <td>[-0.32, -0.03]</td>\n",
       "      <td>0.033</td>\n",
       "      <td>0.022</td>\n",
       "      <td>-0.183</td>\n",
       "      <td>0.016</td>\n",
       "      <td>0.049</td>\n",
       "      <td>fdr_bh</td>\n",
       "      <td>0.674</td>\n",
       "    </tr>\n",
       "    <tr>\n",
       "      <th>2</th>\n",
       "      <td>orca</td>\n",
       "      <td>gender</td>\n",
       "      <td>spearman</td>\n",
       "      <td>two-sided</td>\n",
       "      <td>175</td>\n",
       "      <td>-0.032</td>\n",
       "      <td>[-0.18, 0.12]</td>\n",
       "      <td>0.001</td>\n",
       "      <td>-0.011</td>\n",
       "      <td>-0.032</td>\n",
       "      <td>0.675</td>\n",
       "      <td>0.809</td>\n",
       "      <td>fdr_bh</td>\n",
       "      <td>0.070</td>\n",
       "    </tr>\n",
       "    <tr>\n",
       "      <th>3</th>\n",
       "      <td>gad_q8</td>\n",
       "      <td>age</td>\n",
       "      <td>spearman</td>\n",
       "      <td>two-sided</td>\n",
       "      <td>175</td>\n",
       "      <td>-0.150</td>\n",
       "      <td>[-0.29, -0.0]</td>\n",
       "      <td>0.022</td>\n",
       "      <td>0.011</td>\n",
       "      <td>-0.151</td>\n",
       "      <td>0.048</td>\n",
       "      <td>0.079</td>\n",
       "      <td>fdr_bh</td>\n",
       "      <td>0.510</td>\n",
       "    </tr>\n",
       "    <tr>\n",
       "      <th>4</th>\n",
       "      <td>gad_q8</td>\n",
       "      <td>gender</td>\n",
       "      <td>spearman</td>\n",
       "      <td>two-sided</td>\n",
       "      <td>175</td>\n",
       "      <td>-0.147</td>\n",
       "      <td>[-0.29, 0.0]</td>\n",
       "      <td>0.022</td>\n",
       "      <td>0.010</td>\n",
       "      <td>-0.148</td>\n",
       "      <td>0.053</td>\n",
       "      <td>0.079</td>\n",
       "      <td>fdr_bh</td>\n",
       "      <td>0.494</td>\n",
       "    </tr>\n",
       "    <tr>\n",
       "      <th>5</th>\n",
       "      <td>age</td>\n",
       "      <td>gender</td>\n",
       "      <td>spearman</td>\n",
       "      <td>two-sided</td>\n",
       "      <td>175</td>\n",
       "      <td>-0.017</td>\n",
       "      <td>[-0.17, 0.13]</td>\n",
       "      <td>0.000</td>\n",
       "      <td>-0.011</td>\n",
       "      <td>-0.017</td>\n",
       "      <td>0.819</td>\n",
       "      <td>0.819</td>\n",
       "      <td>fdr_bh</td>\n",
       "      <td>0.056</td>\n",
       "    </tr>\n",
       "  </tbody>\n",
       "</table>\n",
       "</div>"
      ],
      "text/plain": [
       "        X       Y    method       tail    n      r           CI95%    r2  \\\n",
       "0    orca  gad_q8  spearman  two-sided  176  0.235    [0.09, 0.37] 0.055   \n",
       "1    orca     age  spearman  two-sided  175 -0.181  [-0.32, -0.03] 0.033   \n",
       "2    orca  gender  spearman  two-sided  175 -0.032   [-0.18, 0.12] 0.001   \n",
       "3  gad_q8     age  spearman  two-sided  175 -0.150   [-0.29, -0.0] 0.022   \n",
       "4  gad_q8  gender  spearman  two-sided  175 -0.147    [-0.29, 0.0] 0.022   \n",
       "5     age  gender  spearman  two-sided  175 -0.017   [-0.17, 0.13] 0.000   \n",
       "\n",
       "   adj_r2      z  p-unc  p-corr p-adjust  power  \n",
       "0   0.044  0.239  0.002   0.010   fdr_bh  0.883  \n",
       "1   0.022 -0.183  0.016   0.049   fdr_bh  0.674  \n",
       "2  -0.011 -0.032  0.675   0.809   fdr_bh  0.070  \n",
       "3   0.011 -0.151  0.048   0.079   fdr_bh  0.510  \n",
       "4   0.010 -0.148  0.053   0.079   fdr_bh  0.494  \n",
       "5  -0.011 -0.017  0.819   0.819   fdr_bh  0.056  "
      ]
     },
     "execution_count": 258,
     "metadata": {},
     "output_type": "execute_result"
    }
   ],
   "source": [
    "print(\"Pairwise correlations within orca users\")\n",
    "pg.pairwise_corr(data=corr_df, columns=['orca', 'gad_q8', 'age', 'gender'], method='spearman', padjust='fdr_bh')"
   ]
  },
  {
   "cell_type": "code",
   "execution_count": 260,
   "metadata": {},
   "outputs": [
    {
     "name": "stdout",
     "output_type": "stream",
     "text": [
      "Partial correlations within orca users: gad q8\n"
     ]
    },
    {
     "data": {
      "text/html": [
       "<div>\n",
       "<style scoped>\n",
       "    .dataframe tbody tr th:only-of-type {\n",
       "        vertical-align: middle;\n",
       "    }\n",
       "\n",
       "    .dataframe tbody tr th {\n",
       "        vertical-align: top;\n",
       "    }\n",
       "\n",
       "    .dataframe thead th {\n",
       "        text-align: right;\n",
       "    }\n",
       "</style>\n",
       "<table border=\"1\" class=\"dataframe\">\n",
       "  <thead>\n",
       "    <tr style=\"text-align: right;\">\n",
       "      <th></th>\n",
       "      <th>n</th>\n",
       "      <th>r</th>\n",
       "      <th>CI95%</th>\n",
       "      <th>r2</th>\n",
       "      <th>adj_r2</th>\n",
       "      <th>p-val</th>\n",
       "      <th>power</th>\n",
       "    </tr>\n",
       "  </thead>\n",
       "  <tbody>\n",
       "    <tr>\n",
       "      <th>spearman</th>\n",
       "      <td>175</td>\n",
       "      <td>0.228</td>\n",
       "      <td>[0.08, 0.36]</td>\n",
       "      <td>0.052</td>\n",
       "      <td>0.041</td>\n",
       "      <td>0.002</td>\n",
       "      <td>0.862</td>\n",
       "    </tr>\n",
       "  </tbody>\n",
       "</table>\n",
       "</div>"
      ],
      "text/plain": [
       "            n     r         CI95%    r2  adj_r2  p-val  power\n",
       "spearman  175 0.228  [0.08, 0.36] 0.052   0.041  0.002  0.862"
      ]
     },
     "execution_count": 260,
     "metadata": {},
     "output_type": "execute_result"
    }
   ],
   "source": [
    "print(\"Partial correlations within orca users: gad q8\")\n",
    "pg.partial_corr(data=corr_df, x='orca', y='gad_q8', covar=['age', 'gender'], method='spearman')"
   ]
  },
  {
   "cell_type": "markdown",
   "metadata": {},
   "source": [
    "# Messaging "
   ]
  },
  {
   "cell_type": "markdown",
   "metadata": {},
   "source": [
    "## Users vs Non-Users"
   ]
  },
  {
   "cell_type": "code",
   "execution_count": 274,
   "metadata": {},
   "outputs": [],
   "source": [
    "fga_mean['use_messaging'] = (fga_mean['messaging'] > 0).astype(int)"
   ]
  },
  {
   "cell_type": "code",
   "execution_count": 275,
   "metadata": {},
   "outputs": [],
   "source": [
    "messaging_users = fga_mean.loc[fga_mean['messaging'] > 0]['pid']\n",
    "messaging_nonusers = fga_mean.loc[fga_mean['messaging'] <= 0]['pid']"
   ]
  },
  {
   "cell_type": "code",
   "execution_count": 276,
   "metadata": {},
   "outputs": [
    {
     "name": "stdout",
     "output_type": "stream",
     "text": [
      "messaging users\n"
     ]
    },
    {
     "data": {
      "text/plain": [
       "count   219.000\n",
       "mean     38.932\n",
       "std      11.613\n",
       "min      19.000\n",
       "25%      30.000\n",
       "50%      36.000\n",
       "75%      46.000\n",
       "max      69.000\n",
       "Name: age, dtype: float64"
      ]
     },
     "metadata": {},
     "output_type": "display_data"
    },
    {
     "data": {
      "text/plain": [
       "0    171\n",
       "1     48\n",
       "Name: gender, dtype: int64"
      ]
     },
     "metadata": {},
     "output_type": "display_data"
    },
    {
     "data": {
      "text/plain": [
       "bachelors                78\n",
       "masters                  53\n",
       "some_college             31\n",
       "associates_vocational    20\n",
       "doctoral_degree          11\n",
       "associates_academic       9\n",
       "professional_degree       7\n",
       "ged                       5\n",
       "high_school               3\n",
       "11th_grade                1\n",
       "12th_grade_no_diploma     1\n",
       "Name: education, dtype: int64"
      ]
     },
     "metadata": {},
     "output_type": "display_data"
    }
   ],
   "source": [
    "print(\"messaging users\")\n",
    "display(demo_df.loc[demo_df['pid'].isin(messaging_users)]['age'].describe())\n",
    "display(demo_df.loc[demo_df['pid'].isin(messaging_users)]['gender'].value_counts())\n",
    "display(demo_df.loc[demo_df['pid'].isin(messaging_users)]['education'].value_counts())"
   ]
  },
  {
   "cell_type": "code",
   "execution_count": 277,
   "metadata": {},
   "outputs": [
    {
     "name": "stdout",
     "output_type": "stream",
     "text": [
      "messaging non-users\n"
     ]
    },
    {
     "data": {
      "text/plain": [
       "count   58.000\n",
       "mean    39.017\n",
       "std     13.429\n",
       "min     20.000\n",
       "25%     28.000\n",
       "50%     39.500\n",
       "75%     49.750\n",
       "max     65.000\n",
       "Name: age, dtype: float64"
      ]
     },
     "metadata": {},
     "output_type": "display_data"
    },
    {
     "data": {
      "text/plain": [
       "0    47\n",
       "1    11\n",
       "Name: gender, dtype: int64"
      ]
     },
     "metadata": {},
     "output_type": "display_data"
    },
    {
     "data": {
      "text/plain": [
       "bachelors                18\n",
       "some_college             15\n",
       "masters                   9\n",
       "associates_vocational     6\n",
       "high_school               4\n",
       "associates_academic       3\n",
       "10th_grade                1\n",
       "ged                       1\n",
       "doctoral_degree           1\n",
       "Name: education, dtype: int64"
      ]
     },
     "metadata": {},
     "output_type": "display_data"
    }
   ],
   "source": [
    "print(\"messaging non-users\")\n",
    "display(demo_df.loc[demo_df['pid'].isin(messaging_nonusers)]['age'].describe())\n",
    "display(demo_df.loc[demo_df['pid'].isin(messaging_nonusers)]['gender'].value_counts())\n",
    "display(demo_df.loc[demo_df['pid'].isin(messaging_nonusers)]['education'].value_counts())"
   ]
  },
  {
   "cell_type": "markdown",
   "metadata": {},
   "source": [
    "### Correlations"
   ]
  },
  {
   "cell_type": "code",
   "execution_count": 278,
   "metadata": {},
   "outputs": [
    {
     "name": "stdout",
     "output_type": "stream",
     "text": [
      "Significant correlations with using messaging\n"
     ]
    },
    {
     "data": {
      "text/html": [
       "<div>\n",
       "<style scoped>\n",
       "    .dataframe tbody tr th:only-of-type {\n",
       "        vertical-align: middle;\n",
       "    }\n",
       "\n",
       "    .dataframe tbody tr th {\n",
       "        vertical-align: top;\n",
       "    }\n",
       "\n",
       "    .dataframe thead th {\n",
       "        text-align: right;\n",
       "    }\n",
       "</style>\n",
       "<table border=\"1\" class=\"dataframe\">\n",
       "  <thead>\n",
       "    <tr style=\"text-align: right;\">\n",
       "      <th></th>\n",
       "      <th>corr</th>\n",
       "      <th>p</th>\n",
       "    </tr>\n",
       "  </thead>\n",
       "  <tbody>\n",
       "    <tr>\n",
       "      <th>messaging</th>\n",
       "      <td>0.707</td>\n",
       "      <td>0.000</td>\n",
       "    </tr>\n",
       "    <tr>\n",
       "      <th>gad7</th>\n",
       "      <td>-0.158</td>\n",
       "      <td>0.033</td>\n",
       "    </tr>\n",
       "    <tr>\n",
       "      <th>maps</th>\n",
       "      <td>0.149</td>\n",
       "      <td>0.047</td>\n",
       "    </tr>\n",
       "  </tbody>\n",
       "</table>\n",
       "</div>"
      ],
      "text/plain": [
       "            corr     p\n",
       "messaging  0.707 0.000\n",
       "gad7      -0.158 0.033\n",
       "maps       0.149 0.047"
      ]
     },
     "execution_count": 278,
     "metadata": {},
     "output_type": "execute_result"
    }
   ],
   "source": [
    "corr_df = init_df.copy()\n",
    "corr_df = corr_df.merge(fga_mean, on='pid', how='left')\n",
    "#corr_df = corr_df.merge(fga_mean[['pid', 'messaging', 'use_messaging']], on='pid', how='left')\n",
    "corr_df = corr_df.merge(demo_df[['pid', 'age', 'gender']], on='pid', how='left')\n",
    "\n",
    "#corr_df = corr_df.dropna()\n",
    "corr_df = corr_df.drop(['pid', 'study_id'], axis='columns')\n",
    "corrs, _, p_vals = run_r_corr(corr_df)\n",
    "print(\"Significant correlations with using messaging\")\n",
    "filter_sig_corrs(corrs, p_vals, corr_df.columns.values, 'use_messaging')"
   ]
  },
  {
   "cell_type": "code",
   "execution_count": 280,
   "metadata": {},
   "outputs": [
    {
     "name": "stdout",
     "output_type": "stream",
     "text": [
      "Pairwise correlations with using messaging\n"
     ]
    },
    {
     "data": {
      "text/html": [
       "<div>\n",
       "<style scoped>\n",
       "    .dataframe tbody tr th:only-of-type {\n",
       "        vertical-align: middle;\n",
       "    }\n",
       "\n",
       "    .dataframe tbody tr th {\n",
       "        vertical-align: top;\n",
       "    }\n",
       "\n",
       "    .dataframe thead th {\n",
       "        text-align: right;\n",
       "    }\n",
       "</style>\n",
       "<table border=\"1\" class=\"dataframe\">\n",
       "  <thead>\n",
       "    <tr style=\"text-align: right;\">\n",
       "      <th></th>\n",
       "      <th>X</th>\n",
       "      <th>Y</th>\n",
       "      <th>method</th>\n",
       "      <th>tail</th>\n",
       "      <th>n</th>\n",
       "      <th>r</th>\n",
       "      <th>CI95%</th>\n",
       "      <th>r2</th>\n",
       "      <th>adj_r2</th>\n",
       "      <th>z</th>\n",
       "      <th>p-unc</th>\n",
       "      <th>p-corr</th>\n",
       "      <th>p-adjust</th>\n",
       "      <th>power</th>\n",
       "    </tr>\n",
       "  </thead>\n",
       "  <tbody>\n",
       "    <tr>\n",
       "      <th>0</th>\n",
       "      <td>use_messaging</td>\n",
       "      <td>gad7</td>\n",
       "      <td>spearman</td>\n",
       "      <td>two-sided</td>\n",
       "      <td>278</td>\n",
       "      <td>-0.158</td>\n",
       "      <td>[-0.27, -0.04]</td>\n",
       "      <td>0.025</td>\n",
       "      <td>0.018</td>\n",
       "      <td>-0.159</td>\n",
       "      <td>0.008</td>\n",
       "      <td>0.050</td>\n",
       "      <td>fdr_bh</td>\n",
       "      <td>0.753</td>\n",
       "    </tr>\n",
       "    <tr>\n",
       "      <th>1</th>\n",
       "      <td>use_messaging</td>\n",
       "      <td>age</td>\n",
       "      <td>spearman</td>\n",
       "      <td>two-sided</td>\n",
       "      <td>277</td>\n",
       "      <td>0.012</td>\n",
       "      <td>[-0.11, 0.13]</td>\n",
       "      <td>0.000</td>\n",
       "      <td>-0.007</td>\n",
       "      <td>0.012</td>\n",
       "      <td>0.846</td>\n",
       "      <td>0.846</td>\n",
       "      <td>fdr_bh</td>\n",
       "      <td>0.054</td>\n",
       "    </tr>\n",
       "    <tr>\n",
       "      <th>2</th>\n",
       "      <td>use_messaging</td>\n",
       "      <td>gender</td>\n",
       "      <td>spearman</td>\n",
       "      <td>two-sided</td>\n",
       "      <td>277</td>\n",
       "      <td>0.029</td>\n",
       "      <td>[-0.09, 0.15]</td>\n",
       "      <td>0.001</td>\n",
       "      <td>-0.006</td>\n",
       "      <td>0.029</td>\n",
       "      <td>0.627</td>\n",
       "      <td>0.846</td>\n",
       "      <td>fdr_bh</td>\n",
       "      <td>0.077</td>\n",
       "    </tr>\n",
       "    <tr>\n",
       "      <th>3</th>\n",
       "      <td>gad7</td>\n",
       "      <td>age</td>\n",
       "      <td>spearman</td>\n",
       "      <td>two-sided</td>\n",
       "      <td>281</td>\n",
       "      <td>-0.136</td>\n",
       "      <td>[-0.25, -0.02]</td>\n",
       "      <td>0.018</td>\n",
       "      <td>0.011</td>\n",
       "      <td>-0.137</td>\n",
       "      <td>0.023</td>\n",
       "      <td>0.069</td>\n",
       "      <td>fdr_bh</td>\n",
       "      <td>0.624</td>\n",
       "    </tr>\n",
       "    <tr>\n",
       "      <th>4</th>\n",
       "      <td>gad7</td>\n",
       "      <td>gender</td>\n",
       "      <td>spearman</td>\n",
       "      <td>two-sided</td>\n",
       "      <td>281</td>\n",
       "      <td>-0.046</td>\n",
       "      <td>[-0.16, 0.07]</td>\n",
       "      <td>0.002</td>\n",
       "      <td>-0.005</td>\n",
       "      <td>-0.046</td>\n",
       "      <td>0.446</td>\n",
       "      <td>0.846</td>\n",
       "      <td>fdr_bh</td>\n",
       "      <td>0.119</td>\n",
       "    </tr>\n",
       "    <tr>\n",
       "      <th>5</th>\n",
       "      <td>age</td>\n",
       "      <td>gender</td>\n",
       "      <td>spearman</td>\n",
       "      <td>two-sided</td>\n",
       "      <td>281</td>\n",
       "      <td>0.015</td>\n",
       "      <td>[-0.1, 0.13]</td>\n",
       "      <td>0.000</td>\n",
       "      <td>-0.007</td>\n",
       "      <td>0.015</td>\n",
       "      <td>0.801</td>\n",
       "      <td>0.846</td>\n",
       "      <td>fdr_bh</td>\n",
       "      <td>0.057</td>\n",
       "    </tr>\n",
       "  </tbody>\n",
       "</table>\n",
       "</div>"
      ],
      "text/plain": [
       "               X       Y    method       tail    n      r           CI95%  \\\n",
       "0  use_messaging    gad7  spearman  two-sided  278 -0.158  [-0.27, -0.04]   \n",
       "1  use_messaging     age  spearman  two-sided  277  0.012   [-0.11, 0.13]   \n",
       "2  use_messaging  gender  spearman  two-sided  277  0.029   [-0.09, 0.15]   \n",
       "3           gad7     age  spearman  two-sided  281 -0.136  [-0.25, -0.02]   \n",
       "4           gad7  gender  spearman  two-sided  281 -0.046   [-0.16, 0.07]   \n",
       "5            age  gender  spearman  two-sided  281  0.015    [-0.1, 0.13]   \n",
       "\n",
       "     r2  adj_r2      z  p-unc  p-corr p-adjust  power  \n",
       "0 0.025   0.018 -0.159  0.008   0.050   fdr_bh  0.753  \n",
       "1 0.000  -0.007  0.012  0.846   0.846   fdr_bh  0.054  \n",
       "2 0.001  -0.006  0.029  0.627   0.846   fdr_bh  0.077  \n",
       "3 0.018   0.011 -0.137  0.023   0.069   fdr_bh  0.624  \n",
       "4 0.002  -0.005 -0.046  0.446   0.846   fdr_bh  0.119  \n",
       "5 0.000  -0.007  0.015  0.801   0.846   fdr_bh  0.057  "
      ]
     },
     "execution_count": 280,
     "metadata": {},
     "output_type": "execute_result"
    }
   ],
   "source": [
    "print(\"Pairwise correlations with using messaging\")\n",
    "pg.pairwise_corr(data=corr_df, columns=['use_messaging', 'gad7', 'age', 'gender'], method='spearman', padjust='fdr_bh')"
   ]
  },
  {
   "cell_type": "code",
   "execution_count": 281,
   "metadata": {
    "scrolled": true
   },
   "outputs": [
    {
     "name": "stdout",
     "output_type": "stream",
     "text": [
      "Partial correlations with use_messaging: gad7\n"
     ]
    },
    {
     "data": {
      "text/html": [
       "<div>\n",
       "<style scoped>\n",
       "    .dataframe tbody tr th:only-of-type {\n",
       "        vertical-align: middle;\n",
       "    }\n",
       "\n",
       "    .dataframe tbody tr th {\n",
       "        vertical-align: top;\n",
       "    }\n",
       "\n",
       "    .dataframe thead th {\n",
       "        text-align: right;\n",
       "    }\n",
       "</style>\n",
       "<table border=\"1\" class=\"dataframe\">\n",
       "  <thead>\n",
       "    <tr style=\"text-align: right;\">\n",
       "      <th></th>\n",
       "      <th>n</th>\n",
       "      <th>r</th>\n",
       "      <th>CI95%</th>\n",
       "      <th>r2</th>\n",
       "      <th>adj_r2</th>\n",
       "      <th>p-val</th>\n",
       "      <th>power</th>\n",
       "    </tr>\n",
       "  </thead>\n",
       "  <tbody>\n",
       "    <tr>\n",
       "      <th>spearman</th>\n",
       "      <td>277</td>\n",
       "      <td>-0.092</td>\n",
       "      <td>[-0.21, 0.03]</td>\n",
       "      <td>0.008</td>\n",
       "      <td>0.001</td>\n",
       "      <td>0.128</td>\n",
       "      <td>0.332</td>\n",
       "    </tr>\n",
       "  </tbody>\n",
       "</table>\n",
       "</div>"
      ],
      "text/plain": [
       "            n      r          CI95%    r2  adj_r2  p-val  power\n",
       "spearman  277 -0.092  [-0.21, 0.03] 0.008   0.001  0.128  0.332"
      ]
     },
     "execution_count": 281,
     "metadata": {},
     "output_type": "execute_result"
    }
   ],
   "source": [
    "print(\"Partial correlations with use_messaging: gad7\")\n",
    "pg.partial_corr(data=corr_df, x='use_messaging', y='gad7', covar=['age', 'gender'], method='spearman')"
   ]
  },
  {
   "cell_type": "markdown",
   "metadata": {},
   "source": [
    "## Within messaging users"
   ]
  },
  {
   "cell_type": "code",
   "execution_count": 282,
   "metadata": {
    "scrolled": true
   },
   "outputs": [
    {
     "name": "stdout",
     "output_type": "stream",
     "text": [
      "Significant correlations within messaging users\n"
     ]
    },
    {
     "data": {
      "text/html": [
       "<div>\n",
       "<style scoped>\n",
       "    .dataframe tbody tr th:only-of-type {\n",
       "        vertical-align: middle;\n",
       "    }\n",
       "\n",
       "    .dataframe tbody tr th {\n",
       "        vertical-align: top;\n",
       "    }\n",
       "\n",
       "    .dataframe thead th {\n",
       "        text-align: right;\n",
       "    }\n",
       "</style>\n",
       "<table border=\"1\" class=\"dataframe\">\n",
       "  <thead>\n",
       "    <tr style=\"text-align: right;\">\n",
       "      <th></th>\n",
       "      <th>corr</th>\n",
       "      <th>p</th>\n",
       "    </tr>\n",
       "  </thead>\n",
       "  <tbody>\n",
       "    <tr>\n",
       "      <th>launcher</th>\n",
       "      <td>0.350</td>\n",
       "      <td>0.000</td>\n",
       "    </tr>\n",
       "    <tr>\n",
       "      <th>transitions</th>\n",
       "      <td>0.224</td>\n",
       "      <td>0.005</td>\n",
       "    </tr>\n",
       "    <tr>\n",
       "      <th>phq8</th>\n",
       "      <td>-0.208</td>\n",
       "      <td>0.011</td>\n",
       "    </tr>\n",
       "    <tr>\n",
       "      <th>spin_avoid</th>\n",
       "      <td>-0.195</td>\n",
       "      <td>0.021</td>\n",
       "    </tr>\n",
       "    <tr>\n",
       "      <th>spin_phys</th>\n",
       "      <td>-0.195</td>\n",
       "      <td>0.021</td>\n",
       "    </tr>\n",
       "    <tr>\n",
       "      <th>spin_total</th>\n",
       "      <td>-0.194</td>\n",
       "      <td>0.021</td>\n",
       "    </tr>\n",
       "    <tr>\n",
       "      <th>spin_fear</th>\n",
       "      <td>-0.174</td>\n",
       "      <td>0.047</td>\n",
       "    </tr>\n",
       "    <tr>\n",
       "      <th>browser</th>\n",
       "      <td>0.174</td>\n",
       "      <td>0.047</td>\n",
       "    </tr>\n",
       "  </tbody>\n",
       "</table>\n",
       "</div>"
      ],
      "text/plain": [
       "              corr     p\n",
       "launcher     0.350 0.000\n",
       "transitions  0.224 0.005\n",
       "phq8        -0.208 0.011\n",
       "spin_avoid  -0.195 0.021\n",
       "spin_phys   -0.195 0.021\n",
       "spin_total  -0.194 0.021\n",
       "spin_fear   -0.174 0.047\n",
       "browser      0.174 0.047"
      ]
     },
     "execution_count": 282,
     "metadata": {},
     "output_type": "execute_result"
    }
   ],
   "source": [
    "corr_df = init_df.copy()\n",
    "corr_df = corr_df.merge(fga_mean, on='pid', how='left')\n",
    "corr_df = corr_df.merge(demo_df[['pid', 'age', 'gender']], on='pid', how='left')\n",
    "\n",
    "corr_df = corr_df.loc[corr_df['use_messaging'] == 1]\n",
    "corr_df = corr_df.drop(['pid', 'study_id', 'use_messaging'], axis='columns')\n",
    "corrs, _, p_vals = run_r_corr(corr_df)\n",
    "\n",
    "print(\"Significant correlations within messaging users\")\n",
    "filter_sig_corrs(corrs, p_vals, corr_df.columns.values, 'messaging')\n",
    "#plt = build_corr_mat(corrs, p_vals, corr_df.columns.values, 'Across messaging user correlations at FDR < 0.05', 0.05, figsize=[22,12])\n",
    "#plt.show()"
   ]
  },
  {
   "cell_type": "code",
   "execution_count": 283,
   "metadata": {},
   "outputs": [
    {
     "name": "stdout",
     "output_type": "stream",
     "text": [
      "Pairwise correlations within messaging users\n"
     ]
    },
    {
     "data": {
      "text/html": [
       "<div>\n",
       "<style scoped>\n",
       "    .dataframe tbody tr th:only-of-type {\n",
       "        vertical-align: middle;\n",
       "    }\n",
       "\n",
       "    .dataframe tbody tr th {\n",
       "        vertical-align: top;\n",
       "    }\n",
       "\n",
       "    .dataframe thead th {\n",
       "        text-align: right;\n",
       "    }\n",
       "</style>\n",
       "<table border=\"1\" class=\"dataframe\">\n",
       "  <thead>\n",
       "    <tr style=\"text-align: right;\">\n",
       "      <th></th>\n",
       "      <th>X</th>\n",
       "      <th>Y</th>\n",
       "      <th>method</th>\n",
       "      <th>tail</th>\n",
       "      <th>n</th>\n",
       "      <th>r</th>\n",
       "      <th>CI95%</th>\n",
       "      <th>r2</th>\n",
       "      <th>adj_r2</th>\n",
       "      <th>z</th>\n",
       "      <th>p-unc</th>\n",
       "      <th>p-corr</th>\n",
       "      <th>p-adjust</th>\n",
       "      <th>power</th>\n",
       "    </tr>\n",
       "  </thead>\n",
       "  <tbody>\n",
       "    <tr>\n",
       "      <th>0</th>\n",
       "      <td>messaging</td>\n",
       "      <td>phq8</td>\n",
       "      <td>spearman</td>\n",
       "      <td>two-sided</td>\n",
       "      <td>220</td>\n",
       "      <td>-0.208</td>\n",
       "      <td>[-0.33, -0.08]</td>\n",
       "      <td>0.043</td>\n",
       "      <td>0.034</td>\n",
       "      <td>-0.211</td>\n",
       "      <td>0.002</td>\n",
       "      <td>0.010</td>\n",
       "      <td>fdr_bh</td>\n",
       "      <td>0.875</td>\n",
       "    </tr>\n",
       "    <tr>\n",
       "      <th>1</th>\n",
       "      <td>messaging</td>\n",
       "      <td>spin_total</td>\n",
       "      <td>spearman</td>\n",
       "      <td>two-sided</td>\n",
       "      <td>220</td>\n",
       "      <td>-0.194</td>\n",
       "      <td>[-0.32, -0.06]</td>\n",
       "      <td>0.038</td>\n",
       "      <td>0.029</td>\n",
       "      <td>-0.196</td>\n",
       "      <td>0.004</td>\n",
       "      <td>0.013</td>\n",
       "      <td>fdr_bh</td>\n",
       "      <td>0.826</td>\n",
       "    </tr>\n",
       "    <tr>\n",
       "      <th>2</th>\n",
       "      <td>messaging</td>\n",
       "      <td>age</td>\n",
       "      <td>spearman</td>\n",
       "      <td>two-sided</td>\n",
       "      <td>219</td>\n",
       "      <td>0.038</td>\n",
       "      <td>[-0.09, 0.17]</td>\n",
       "      <td>0.001</td>\n",
       "      <td>-0.008</td>\n",
       "      <td>0.038</td>\n",
       "      <td>0.571</td>\n",
       "      <td>0.602</td>\n",
       "      <td>fdr_bh</td>\n",
       "      <td>0.087</td>\n",
       "    </tr>\n",
       "    <tr>\n",
       "      <th>3</th>\n",
       "      <td>messaging</td>\n",
       "      <td>gender</td>\n",
       "      <td>spearman</td>\n",
       "      <td>two-sided</td>\n",
       "      <td>219</td>\n",
       "      <td>-0.112</td>\n",
       "      <td>[-0.24, 0.02]</td>\n",
       "      <td>0.013</td>\n",
       "      <td>0.003</td>\n",
       "      <td>-0.112</td>\n",
       "      <td>0.098</td>\n",
       "      <td>0.246</td>\n",
       "      <td>fdr_bh</td>\n",
       "      <td>0.381</td>\n",
       "    </tr>\n",
       "    <tr>\n",
       "      <th>4</th>\n",
       "      <td>phq8</td>\n",
       "      <td>spin_total</td>\n",
       "      <td>spearman</td>\n",
       "      <td>two-sided</td>\n",
       "      <td>220</td>\n",
       "      <td>0.517</td>\n",
       "      <td>[0.41, 0.61]</td>\n",
       "      <td>0.267</td>\n",
       "      <td>0.260</td>\n",
       "      <td>0.572</td>\n",
       "      <td>0.000</td>\n",
       "      <td>0.000</td>\n",
       "      <td>fdr_bh</td>\n",
       "      <td>1.000</td>\n",
       "    </tr>\n",
       "    <tr>\n",
       "      <th>5</th>\n",
       "      <td>phq8</td>\n",
       "      <td>age</td>\n",
       "      <td>spearman</td>\n",
       "      <td>two-sided</td>\n",
       "      <td>219</td>\n",
       "      <td>0.069</td>\n",
       "      <td>[-0.06, 0.2]</td>\n",
       "      <td>0.005</td>\n",
       "      <td>-0.004</td>\n",
       "      <td>0.069</td>\n",
       "      <td>0.310</td>\n",
       "      <td>0.442</td>\n",
       "      <td>fdr_bh</td>\n",
       "      <td>0.174</td>\n",
       "    </tr>\n",
       "    <tr>\n",
       "      <th>6</th>\n",
       "      <td>phq8</td>\n",
       "      <td>gender</td>\n",
       "      <td>spearman</td>\n",
       "      <td>two-sided</td>\n",
       "      <td>219</td>\n",
       "      <td>-0.078</td>\n",
       "      <td>[-0.21, 0.06]</td>\n",
       "      <td>0.006</td>\n",
       "      <td>-0.003</td>\n",
       "      <td>-0.078</td>\n",
       "      <td>0.252</td>\n",
       "      <td>0.419</td>\n",
       "      <td>fdr_bh</td>\n",
       "      <td>0.209</td>\n",
       "    </tr>\n",
       "    <tr>\n",
       "      <th>7</th>\n",
       "      <td>spin_total</td>\n",
       "      <td>age</td>\n",
       "      <td>spearman</td>\n",
       "      <td>two-sided</td>\n",
       "      <td>219</td>\n",
       "      <td>-0.062</td>\n",
       "      <td>[-0.19, 0.07]</td>\n",
       "      <td>0.004</td>\n",
       "      <td>-0.005</td>\n",
       "      <td>-0.062</td>\n",
       "      <td>0.359</td>\n",
       "      <td>0.449</td>\n",
       "      <td>fdr_bh</td>\n",
       "      <td>0.151</td>\n",
       "    </tr>\n",
       "    <tr>\n",
       "      <th>8</th>\n",
       "      <td>spin_total</td>\n",
       "      <td>gender</td>\n",
       "      <td>spearman</td>\n",
       "      <td>two-sided</td>\n",
       "      <td>219</td>\n",
       "      <td>-0.079</td>\n",
       "      <td>[-0.21, 0.05]</td>\n",
       "      <td>0.006</td>\n",
       "      <td>-0.003</td>\n",
       "      <td>-0.079</td>\n",
       "      <td>0.246</td>\n",
       "      <td>0.419</td>\n",
       "      <td>fdr_bh</td>\n",
       "      <td>0.213</td>\n",
       "    </tr>\n",
       "    <tr>\n",
       "      <th>9</th>\n",
       "      <td>age</td>\n",
       "      <td>gender</td>\n",
       "      <td>spearman</td>\n",
       "      <td>two-sided</td>\n",
       "      <td>219</td>\n",
       "      <td>-0.035</td>\n",
       "      <td>[-0.17, 0.1]</td>\n",
       "      <td>0.001</td>\n",
       "      <td>-0.008</td>\n",
       "      <td>-0.035</td>\n",
       "      <td>0.602</td>\n",
       "      <td>0.602</td>\n",
       "      <td>fdr_bh</td>\n",
       "      <td>0.082</td>\n",
       "    </tr>\n",
       "  </tbody>\n",
       "</table>\n",
       "</div>"
      ],
      "text/plain": [
       "            X           Y    method       tail    n      r           CI95%  \\\n",
       "0   messaging        phq8  spearman  two-sided  220 -0.208  [-0.33, -0.08]   \n",
       "1   messaging  spin_total  spearman  two-sided  220 -0.194  [-0.32, -0.06]   \n",
       "2   messaging         age  spearman  two-sided  219  0.038   [-0.09, 0.17]   \n",
       "3   messaging      gender  spearman  two-sided  219 -0.112   [-0.24, 0.02]   \n",
       "4        phq8  spin_total  spearman  two-sided  220  0.517    [0.41, 0.61]   \n",
       "5        phq8         age  spearman  two-sided  219  0.069    [-0.06, 0.2]   \n",
       "6        phq8      gender  spearman  two-sided  219 -0.078   [-0.21, 0.06]   \n",
       "7  spin_total         age  spearman  two-sided  219 -0.062   [-0.19, 0.07]   \n",
       "8  spin_total      gender  spearman  two-sided  219 -0.079   [-0.21, 0.05]   \n",
       "9         age      gender  spearman  two-sided  219 -0.035    [-0.17, 0.1]   \n",
       "\n",
       "     r2  adj_r2      z  p-unc  p-corr p-adjust  power  \n",
       "0 0.043   0.034 -0.211  0.002   0.010   fdr_bh  0.875  \n",
       "1 0.038   0.029 -0.196  0.004   0.013   fdr_bh  0.826  \n",
       "2 0.001  -0.008  0.038  0.571   0.602   fdr_bh  0.087  \n",
       "3 0.013   0.003 -0.112  0.098   0.246   fdr_bh  0.381  \n",
       "4 0.267   0.260  0.572  0.000   0.000   fdr_bh  1.000  \n",
       "5 0.005  -0.004  0.069  0.310   0.442   fdr_bh  0.174  \n",
       "6 0.006  -0.003 -0.078  0.252   0.419   fdr_bh  0.209  \n",
       "7 0.004  -0.005 -0.062  0.359   0.449   fdr_bh  0.151  \n",
       "8 0.006  -0.003 -0.079  0.246   0.419   fdr_bh  0.213  \n",
       "9 0.001  -0.008 -0.035  0.602   0.602   fdr_bh  0.082  "
      ]
     },
     "execution_count": 283,
     "metadata": {},
     "output_type": "execute_result"
    }
   ],
   "source": [
    "print(\"Pairwise correlations within messaging users\")\n",
    "pg.pairwise_corr(data=corr_df, columns=['messaging', 'phq8', 'spin_total', 'age', 'gender'], method='spearman', padjust='fdr_bh')"
   ]
  },
  {
   "cell_type": "code",
   "execution_count": 284,
   "metadata": {},
   "outputs": [
    {
     "name": "stdout",
     "output_type": "stream",
     "text": [
      "Partial correlations within messaging users: spin_total\n"
     ]
    },
    {
     "data": {
      "text/html": [
       "<div>\n",
       "<style scoped>\n",
       "    .dataframe tbody tr th:only-of-type {\n",
       "        vertical-align: middle;\n",
       "    }\n",
       "\n",
       "    .dataframe tbody tr th {\n",
       "        vertical-align: top;\n",
       "    }\n",
       "\n",
       "    .dataframe thead th {\n",
       "        text-align: right;\n",
       "    }\n",
       "</style>\n",
       "<table border=\"1\" class=\"dataframe\">\n",
       "  <thead>\n",
       "    <tr style=\"text-align: right;\">\n",
       "      <th></th>\n",
       "      <th>n</th>\n",
       "      <th>r</th>\n",
       "      <th>CI95%</th>\n",
       "      <th>r2</th>\n",
       "      <th>adj_r2</th>\n",
       "      <th>p-val</th>\n",
       "      <th>power</th>\n",
       "    </tr>\n",
       "  </thead>\n",
       "  <tbody>\n",
       "    <tr>\n",
       "      <th>spearman</th>\n",
       "      <td>219</td>\n",
       "      <td>-0.200</td>\n",
       "      <td>[-0.32, -0.07]</td>\n",
       "      <td>0.040</td>\n",
       "      <td>0.031</td>\n",
       "      <td>0.003</td>\n",
       "      <td>0.846</td>\n",
       "    </tr>\n",
       "  </tbody>\n",
       "</table>\n",
       "</div>"
      ],
      "text/plain": [
       "            n      r           CI95%    r2  adj_r2  p-val  power\n",
       "spearman  219 -0.200  [-0.32, -0.07] 0.040   0.031  0.003  0.846"
      ]
     },
     "execution_count": 284,
     "metadata": {},
     "output_type": "execute_result"
    }
   ],
   "source": [
    "print(\"Partial correlations within messaging users: spin_total\")\n",
    "pg.partial_corr(data=corr_df, x='messaging', y='spin_total', covar=['age', 'gender'], method='spearman')"
   ]
  },
  {
   "cell_type": "code",
   "execution_count": 285,
   "metadata": {},
   "outputs": [
    {
     "name": "stdout",
     "output_type": "stream",
     "text": [
      "Partial correlations within messaging users: phq8\n"
     ]
    },
    {
     "data": {
      "text/html": [
       "<div>\n",
       "<style scoped>\n",
       "    .dataframe tbody tr th:only-of-type {\n",
       "        vertical-align: middle;\n",
       "    }\n",
       "\n",
       "    .dataframe tbody tr th {\n",
       "        vertical-align: top;\n",
       "    }\n",
       "\n",
       "    .dataframe thead th {\n",
       "        text-align: right;\n",
       "    }\n",
       "</style>\n",
       "<table border=\"1\" class=\"dataframe\">\n",
       "  <thead>\n",
       "    <tr style=\"text-align: right;\">\n",
       "      <th></th>\n",
       "      <th>n</th>\n",
       "      <th>r</th>\n",
       "      <th>CI95%</th>\n",
       "      <th>r2</th>\n",
       "      <th>adj_r2</th>\n",
       "      <th>p-val</th>\n",
       "      <th>power</th>\n",
       "    </tr>\n",
       "  </thead>\n",
       "  <tbody>\n",
       "    <tr>\n",
       "      <th>spearman</th>\n",
       "      <td>219</td>\n",
       "      <td>-0.203</td>\n",
       "      <td>[-0.33, -0.07]</td>\n",
       "      <td>0.041</td>\n",
       "      <td>0.033</td>\n",
       "      <td>0.002</td>\n",
       "      <td>0.860</td>\n",
       "    </tr>\n",
       "  </tbody>\n",
       "</table>\n",
       "</div>"
      ],
      "text/plain": [
       "            n      r           CI95%    r2  adj_r2  p-val  power\n",
       "spearman  219 -0.203  [-0.33, -0.07] 0.041   0.033  0.002  0.860"
      ]
     },
     "execution_count": 285,
     "metadata": {},
     "output_type": "execute_result"
    }
   ],
   "source": [
    "print(\"Partial correlations within messaging users: phq8\")\n",
    "pg.partial_corr(data=corr_df, x='messaging', y='phq8', covar=['age', 'gender'], method='spearman')"
   ]
  }
 ],
 "metadata": {
  "hide_input": false,
  "kernelspec": {
   "display_name": "Python 3",
   "language": "python",
   "name": "python3"
  },
  "language_info": {
   "codemirror_mode": {
    "name": "ipython",
    "version": 3
   },
   "file_extension": ".py",
   "mimetype": "text/x-python",
   "name": "python",
   "nbconvert_exporter": "python",
   "pygments_lexer": "ipython3",
   "version": "3.7.3"
  }
 },
 "nbformat": 4,
 "nbformat_minor": 2
}
