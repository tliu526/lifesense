{
 "cells": [
  {
   "cell_type": "markdown",
   "metadata": {},
   "source": [
    "<h1 id=\"tocheading\">Table of Contents</h1>\n",
    "<div id=\"toc\"></div>"
   ]
  },
  {
   "cell_type": "markdown",
   "metadata": {},
   "source": [
    "# Imports and Scripts"
   ]
  },
  {
   "cell_type": "code",
   "execution_count": 3,
   "metadata": {},
   "outputs": [
    {
     "data": {
      "application/javascript": [
       "// ToC script\n",
       "$.getScript('https://kmahelona.github.io/ipython_notebook_goodies/ipython_notebook_toc.js')\n"
      ],
      "text/plain": [
       "<IPython.core.display.Javascript object>"
      ]
     },
     "metadata": {},
     "output_type": "display_data"
    }
   ],
   "source": [
    "%%javascript\n",
    "// ToC script\n",
    "$.getScript('https://kmahelona.github.io/ipython_notebook_goodies/ipython_notebook_toc.js')"
   ]
  },
  {
   "cell_type": "code",
   "execution_count": 4,
   "metadata": {},
   "outputs": [
    {
     "data": {
      "text/html": [
       "\n",
       "<script>\n",
       "  function code_toggle() {\n",
       "    if (code_shown){\n",
       "      $('div.input').hide('500');\n",
       "      $('#toggleButton').val('Show Code')\n",
       "    } else {\n",
       "      $('div.input').show('500');\n",
       "      $('#toggleButton').val('Hide Code')\n",
       "    }\n",
       "    code_shown = !code_shown\n",
       "  }\n",
       "\n",
       "  $( document ).ready(function(){\n",
       "    code_shown=false;\n",
       "    $('div.input').hide()\n",
       "  });\n",
       "</script>\n",
       "<form action=\"javascript:code_toggle()\"><input type=\"submit\" id=\"toggleButton\" value=\"Show Code\"></form>\n"
      ],
      "text/plain": [
       "<IPython.core.display.HTML object>"
      ]
     },
     "execution_count": 4,
     "metadata": {},
     "output_type": "execute_result"
    }
   ],
   "source": [
    "# Code hider, source: http://chris-said.io/2016/02/13/how-to-make-polished-jupyter-presentations-with-optional-code-visibility/\n",
    "from IPython.display import HTML\n",
    "\n",
    "HTML('''\n",
    "<script>\n",
    "  function code_toggle() {\n",
    "    if (code_shown){\n",
    "      $('div.input').hide('500');\n",
    "      $('#toggleButton').val('Show Code')\n",
    "    } else {\n",
    "      $('div.input').show('500');\n",
    "      $('#toggleButton').val('Hide Code')\n",
    "    }\n",
    "    code_shown = !code_shown\n",
    "  }\n",
    "\n",
    "  $( document ).ready(function(){\n",
    "    code_shown=false;\n",
    "    $('div.input').hide()\n",
    "  });\n",
    "</script>\n",
    "<form action=\"javascript:code_toggle()\"><input type=\"submit\" id=\"toggleButton\" value=\"Show Code\"></form>\n",
    "''')\n",
    "\n"
   ]
  },
  {
   "cell_type": "code",
   "execution_count": 1,
   "metadata": {},
   "outputs": [
    {
     "data": {
      "text/html": [
       "<div>\n",
       "<style scoped>\n",
       "    .dataframe tbody tr th:only-of-type {\n",
       "        vertical-align: middle;\n",
       "    }\n",
       "\n",
       "    .dataframe tbody tr th {\n",
       "        vertical-align: top;\n",
       "    }\n",
       "\n",
       "    .dataframe thead th {\n",
       "        text-align: right;\n",
       "    }\n",
       "</style>\n",
       "<table border=\"1\" class=\"dataframe\">\n",
       "  <thead>\n",
       "    <tr style=\"text-align: right;\">\n",
       "      <th></th>\n",
       "      <th>baseline_cluster</th>\n",
       "      <th>cluster</th>\n",
       "      <th>diff</th>\n",
       "      <th>gad01</th>\n",
       "      <th>gad02</th>\n",
       "      <th>gad03</th>\n",
       "      <th>gad04</th>\n",
       "      <th>gad05</th>\n",
       "      <th>gad06</th>\n",
       "      <th>gad07</th>\n",
       "      <th>...</th>\n",
       "      <th>entropy_wkend</th>\n",
       "      <th>loc_var_total</th>\n",
       "      <th>loc_var_wkday</th>\n",
       "      <th>loc_var_wkend</th>\n",
       "      <th>norm_entropy_total</th>\n",
       "      <th>norm_entropy_wkday</th>\n",
       "      <th>norm_entropy_wkend</th>\n",
       "      <th>velocity_total</th>\n",
       "      <th>velocity_wkday</th>\n",
       "      <th>velocity_wkend</th>\n",
       "    </tr>\n",
       "  </thead>\n",
       "  <tbody>\n",
       "    <tr>\n",
       "      <th>0</th>\n",
       "      <td>dep_anx</td>\n",
       "      <td>dep_anx</td>\n",
       "      <td>NaT</td>\n",
       "      <td>3.0</td>\n",
       "      <td>3.0</td>\n",
       "      <td>3.0</td>\n",
       "      <td>3.0</td>\n",
       "      <td>3.0</td>\n",
       "      <td>3.0</td>\n",
       "      <td>2.0</td>\n",
       "      <td>...</td>\n",
       "      <td>0.126300</td>\n",
       "      <td>-3.758927</td>\n",
       "      <td>-3.494088</td>\n",
       "      <td>-6.734655</td>\n",
       "      <td>0.172164</td>\n",
       "      <td>0.196291</td>\n",
       "      <td>0.114963</td>\n",
       "      <td>4.403619</td>\n",
       "      <td>5.896776</td>\n",
       "      <td>1.040765</td>\n",
       "    </tr>\n",
       "    <tr>\n",
       "      <th>1</th>\n",
       "      <td>dep_anx</td>\n",
       "      <td>dep_anx</td>\n",
       "      <td>21 days 20:34:41</td>\n",
       "      <td>2.0</td>\n",
       "      <td>2.0</td>\n",
       "      <td>2.0</td>\n",
       "      <td>2.0</td>\n",
       "      <td>2.0</td>\n",
       "      <td>2.0</td>\n",
       "      <td>2.0</td>\n",
       "      <td>...</td>\n",
       "      <td>0.805508</td>\n",
       "      <td>-1.785284</td>\n",
       "      <td>-4.420466</td>\n",
       "      <td>-0.527020</td>\n",
       "      <td>0.180287</td>\n",
       "      <td>0.152578</td>\n",
       "      <td>0.260594</td>\n",
       "      <td>6.999583</td>\n",
       "      <td>4.347594</td>\n",
       "      <td>13.629558</td>\n",
       "    </tr>\n",
       "    <tr>\n",
       "      <th>2</th>\n",
       "      <td>dep_anx</td>\n",
       "      <td>dep_anx</td>\n",
       "      <td>20 days 00:45:49</td>\n",
       "      <td>3.0</td>\n",
       "      <td>3.0</td>\n",
       "      <td>3.0</td>\n",
       "      <td>3.0</td>\n",
       "      <td>3.0</td>\n",
       "      <td>3.0</td>\n",
       "      <td>3.0</td>\n",
       "      <td>...</td>\n",
       "      <td>0.549133</td>\n",
       "      <td>-4.591384</td>\n",
       "      <td>-4.414591</td>\n",
       "      <td>-5.370500</td>\n",
       "      <td>0.198368</td>\n",
       "      <td>0.211625</td>\n",
       "      <td>0.214091</td>\n",
       "      <td>5.126712</td>\n",
       "      <td>4.901078</td>\n",
       "      <td>5.647615</td>\n",
       "    </tr>\n",
       "    <tr>\n",
       "      <th>3</th>\n",
       "      <td>dep_anx</td>\n",
       "      <td>dep_anx</td>\n",
       "      <td>21 days 06:12:55</td>\n",
       "      <td>3.0</td>\n",
       "      <td>2.0</td>\n",
       "      <td>2.0</td>\n",
       "      <td>2.0</td>\n",
       "      <td>2.0</td>\n",
       "      <td>3.0</td>\n",
       "      <td>3.0</td>\n",
       "      <td>...</td>\n",
       "      <td>0.642235</td>\n",
       "      <td>-3.616418</td>\n",
       "      <td>-4.349368</td>\n",
       "      <td>-3.050339</td>\n",
       "      <td>0.221663</td>\n",
       "      <td>0.197513</td>\n",
       "      <td>0.278919</td>\n",
       "      <td>4.690188</td>\n",
       "      <td>4.792503</td>\n",
       "      <td>4.439534</td>\n",
       "    </tr>\n",
       "    <tr>\n",
       "      <th>4</th>\n",
       "      <td>dep_anx</td>\n",
       "      <td>dep_anx</td>\n",
       "      <td>20 days 12:00:43</td>\n",
       "      <td>1.0</td>\n",
       "      <td>2.0</td>\n",
       "      <td>2.0</td>\n",
       "      <td>3.0</td>\n",
       "      <td>2.0</td>\n",
       "      <td>3.0</td>\n",
       "      <td>2.0</td>\n",
       "      <td>...</td>\n",
       "      <td>0.851023</td>\n",
       "      <td>-3.288352</td>\n",
       "      <td>-3.095763</td>\n",
       "      <td>-4.142046</td>\n",
       "      <td>0.206789</td>\n",
       "      <td>0.178505</td>\n",
       "      <td>0.294434</td>\n",
       "      <td>7.050477</td>\n",
       "      <td>7.132282</td>\n",
       "      <td>6.853812</td>\n",
       "    </tr>\n",
       "  </tbody>\n",
       "</table>\n",
       "<p>5 rows × 294 columns</p>\n",
       "</div>"
      ],
      "text/plain": [
       "  baseline_cluster  cluster              diff  gad01  gad02  gad03  gad04  \\\n",
       "0          dep_anx  dep_anx               NaT    3.0    3.0    3.0    3.0   \n",
       "1          dep_anx  dep_anx  21 days 20:34:41    2.0    2.0    2.0    2.0   \n",
       "2          dep_anx  dep_anx  20 days 00:45:49    3.0    3.0    3.0    3.0   \n",
       "3          dep_anx  dep_anx  21 days 06:12:55    3.0    2.0    2.0    2.0   \n",
       "4          dep_anx  dep_anx  20 days 12:00:43    1.0    2.0    2.0    3.0   \n",
       "\n",
       "   gad05  gad06  gad07  ...  entropy_wkend loc_var_total  loc_var_wkday  \\\n",
       "0    3.0    3.0    2.0  ...       0.126300     -3.758927      -3.494088   \n",
       "1    2.0    2.0    2.0  ...       0.805508     -1.785284      -4.420466   \n",
       "2    3.0    3.0    3.0  ...       0.549133     -4.591384      -4.414591   \n",
       "3    2.0    3.0    3.0  ...       0.642235     -3.616418      -4.349368   \n",
       "4    2.0    3.0    2.0  ...       0.851023     -3.288352      -3.095763   \n",
       "\n",
       "  loc_var_wkend  norm_entropy_total  norm_entropy_wkday  norm_entropy_wkend  \\\n",
       "0     -6.734655            0.172164            0.196291            0.114963   \n",
       "1     -0.527020            0.180287            0.152578            0.260594   \n",
       "2     -5.370500            0.198368            0.211625            0.214091   \n",
       "3     -3.050339            0.221663            0.197513            0.278919   \n",
       "4     -4.142046            0.206789            0.178505            0.294434   \n",
       "\n",
       "   velocity_total  velocity_wkday  velocity_wkend  \n",
       "0        4.403619        5.896776        1.040765  \n",
       "1        6.999583        4.347594       13.629558  \n",
       "2        5.126712        4.901078        5.647615  \n",
       "3        4.690188        4.792503        4.439534  \n",
       "4        7.050477        7.132282        6.853812  \n",
       "\n",
       "[5 rows x 294 columns]"
      ]
     },
     "metadata": {},
     "output_type": "display_data"
    },
    {
     "data": {
      "text/html": [
       "<div>\n",
       "<style scoped>\n",
       "    .dataframe tbody tr th:only-of-type {\n",
       "        vertical-align: middle;\n",
       "    }\n",
       "\n",
       "    .dataframe tbody tr th {\n",
       "        vertical-align: top;\n",
       "    }\n",
       "\n",
       "    .dataframe thead th {\n",
       "        text-align: right;\n",
       "    }\n",
       "</style>\n",
       "<table border=\"1\" class=\"dataframe\">\n",
       "  <thead>\n",
       "    <tr style=\"text-align: right;\">\n",
       "      <th></th>\n",
       "      <th>pid</th>\n",
       "      <th>study_wk</th>\n",
       "      <th>fga_factor1_agg</th>\n",
       "      <th>fga_factor2_agg</th>\n",
       "      <th>fga_factor3_agg</th>\n",
       "      <th>fga_factor4_agg</th>\n",
       "      <th>fga_factor5_agg</th>\n",
       "    </tr>\n",
       "  </thead>\n",
       "  <tbody>\n",
       "    <tr>\n",
       "      <th>0</th>\n",
       "      <td>00746649</td>\n",
       "      <td>4.0</td>\n",
       "      <td>2.460662</td>\n",
       "      <td>0.570217</td>\n",
       "      <td>-0.764438</td>\n",
       "      <td>0.238423</td>\n",
       "      <td>0.422445</td>\n",
       "    </tr>\n",
       "    <tr>\n",
       "      <th>1</th>\n",
       "      <td>00746649</td>\n",
       "      <td>7.0</td>\n",
       "      <td>1.931026</td>\n",
       "      <td>1.080773</td>\n",
       "      <td>-1.217253</td>\n",
       "      <td>0.885970</td>\n",
       "      <td>0.883004</td>\n",
       "    </tr>\n",
       "    <tr>\n",
       "      <th>2</th>\n",
       "      <td>00746649</td>\n",
       "      <td>10.0</td>\n",
       "      <td>1.473713</td>\n",
       "      <td>1.085189</td>\n",
       "      <td>-0.945762</td>\n",
       "      <td>1.261351</td>\n",
       "      <td>0.583782</td>\n",
       "    </tr>\n",
       "    <tr>\n",
       "      <th>3</th>\n",
       "      <td>00746649</td>\n",
       "      <td>13.0</td>\n",
       "      <td>1.358061</td>\n",
       "      <td>1.609506</td>\n",
       "      <td>-1.306715</td>\n",
       "      <td>0.709605</td>\n",
       "      <td>0.619392</td>\n",
       "    </tr>\n",
       "    <tr>\n",
       "      <th>4</th>\n",
       "      <td>00746649</td>\n",
       "      <td>16.0</td>\n",
       "      <td>2.060474</td>\n",
       "      <td>1.361615</td>\n",
       "      <td>-1.025838</td>\n",
       "      <td>0.781939</td>\n",
       "      <td>0.510771</td>\n",
       "    </tr>\n",
       "  </tbody>\n",
       "</table>\n",
       "</div>"
      ],
      "text/plain": [
       "        pid  study_wk  fga_factor1_agg  fga_factor2_agg  fga_factor3_agg  \\\n",
       "0  00746649       4.0         2.460662         0.570217        -0.764438   \n",
       "1  00746649       7.0         1.931026         1.080773        -1.217253   \n",
       "2  00746649      10.0         1.473713         1.085189        -0.945762   \n",
       "3  00746649      13.0         1.358061         1.609506        -1.306715   \n",
       "4  00746649      16.0         2.060474         1.361615        -1.025838   \n",
       "\n",
       "   fga_factor4_agg  fga_factor5_agg  \n",
       "0         0.238423         0.422445  \n",
       "1         0.885970         0.883004  \n",
       "2         1.261351         0.583782  \n",
       "3         0.709605         0.619392  \n",
       "4         0.781939         0.510771  "
      ]
     },
     "metadata": {},
     "output_type": "display_data"
    },
    {
     "name": "stdout",
     "output_type": "stream",
     "text": [
      "(976, 7)\n"
     ]
    },
    {
     "data": {
      "text/plain": [
       "<Figure size 640x480 with 2 Axes>"
      ]
     },
     "metadata": {},
     "output_type": "display_data"
    },
    {
     "data": {
      "text/html": [
       "<div>\n",
       "<style scoped>\n",
       "    .dataframe tbody tr th:only-of-type {\n",
       "        vertical-align: middle;\n",
       "    }\n",
       "\n",
       "    .dataframe tbody tr th {\n",
       "        vertical-align: top;\n",
       "    }\n",
       "\n",
       "    .dataframe thead th {\n",
       "        text-align: right;\n",
       "    }\n",
       "</style>\n",
       "<table border=\"1\" class=\"dataframe\">\n",
       "  <thead>\n",
       "    <tr style=\"text-align: right;\">\n",
       "      <th></th>\n",
       "      <th>pid</th>\n",
       "      <th>study_wk</th>\n",
       "      <th>fga_factor1_agg</th>\n",
       "      <th>fga_factor2_agg</th>\n",
       "      <th>fga_factor3_agg</th>\n",
       "      <th>fga_factor4_agg</th>\n",
       "      <th>fga_factor5_agg</th>\n",
       "    </tr>\n",
       "  </thead>\n",
       "  <tbody>\n",
       "    <tr>\n",
       "      <th>971</th>\n",
       "      <td>99338619</td>\n",
       "      <td>4.0</td>\n",
       "      <td>-0.278616</td>\n",
       "      <td>-0.374250</td>\n",
       "      <td>0.051163</td>\n",
       "      <td>-0.183525</td>\n",
       "      <td>-0.040398</td>\n",
       "    </tr>\n",
       "    <tr>\n",
       "      <th>972</th>\n",
       "      <td>99338619</td>\n",
       "      <td>7.0</td>\n",
       "      <td>-0.160015</td>\n",
       "      <td>-0.326489</td>\n",
       "      <td>0.131822</td>\n",
       "      <td>0.055936</td>\n",
       "      <td>-0.279439</td>\n",
       "    </tr>\n",
       "    <tr>\n",
       "      <th>973</th>\n",
       "      <td>99338619</td>\n",
       "      <td>10.0</td>\n",
       "      <td>-0.215069</td>\n",
       "      <td>-0.373783</td>\n",
       "      <td>0.076851</td>\n",
       "      <td>-0.072024</td>\n",
       "      <td>-0.170123</td>\n",
       "    </tr>\n",
       "    <tr>\n",
       "      <th>974</th>\n",
       "      <td>99338619</td>\n",
       "      <td>13.0</td>\n",
       "      <td>-0.250782</td>\n",
       "      <td>-0.380933</td>\n",
       "      <td>-0.046691</td>\n",
       "      <td>-0.155999</td>\n",
       "      <td>-0.090260</td>\n",
       "    </tr>\n",
       "    <tr>\n",
       "      <th>975</th>\n",
       "      <td>99338619</td>\n",
       "      <td>16.0</td>\n",
       "      <td>-0.269152</td>\n",
       "      <td>-0.339850</td>\n",
       "      <td>-0.085117</td>\n",
       "      <td>-0.191245</td>\n",
       "      <td>-0.056511</td>\n",
       "    </tr>\n",
       "  </tbody>\n",
       "</table>\n",
       "</div>"
      ],
      "text/plain": [
       "          pid  study_wk  fga_factor1_agg  fga_factor2_agg  fga_factor3_agg  \\\n",
       "971  99338619       4.0        -0.278616        -0.374250         0.051163   \n",
       "972  99338619       7.0        -0.160015        -0.326489         0.131822   \n",
       "973  99338619      10.0        -0.215069        -0.373783         0.076851   \n",
       "974  99338619      13.0        -0.250782        -0.380933        -0.046691   \n",
       "975  99338619      16.0        -0.269152        -0.339850        -0.085117   \n",
       "\n",
       "     fga_factor4_agg  fga_factor5_agg  \n",
       "971        -0.183525        -0.040398  \n",
       "972         0.055936        -0.279439  \n",
       "973        -0.072024        -0.170123  \n",
       "974        -0.155999        -0.090260  \n",
       "975        -0.191245        -0.056511  "
      ]
     },
     "metadata": {},
     "output_type": "display_data"
    }
   ],
   "source": [
    "# imports and constants\n",
    "import json\n",
    "import pickle\n",
    "import datetime as dt\n",
    "\n",
    "import gmaps\n",
    "import matplotlib.pyplot as plt\n",
    "import matplotlib.dates as mdates\n",
    "import multiprocessing\n",
    "import numpy as np\n",
    "import pandas as pd\n",
    "import pingouin as pg\n",
    "import seaborn as sns\n",
    "\n",
    "from IPython.display import display, HTML\n",
    "import ipywidgets as widgets\n",
    "\n",
    "# user imports\n",
    "import data_processing.analysis_utils as ls_utils\n",
    "\n",
    "%matplotlib inline\n",
    "\n",
    "import matplotlib as mpl\n",
    "mpl.rcParams['figure.dpi'] = 300"
   ]
  },
  {
   "cell_type": "markdown",
   "metadata": {},
   "source": [
    "# Load Data"
   ]
  },
  {
   "cell_type": "code",
   "execution_count": 2,
   "metadata": {},
   "outputs": [],
   "source": [
    "spin_fill_df = pd.read_pickle(\"ls_data/state_cluster_shift.df\")\n",
    "shift_df = pd.read_pickle(\"ls_data/phq_cluster_shift.df\")"
   ]
  },
  {
   "cell_type": "markdown",
   "metadata": {},
   "source": [
    "**note**: sourced originally from lifesense_cluster_change_over_time, under \"Correlates Over Time\" heading"
   ]
  },
  {
   "cell_type": "code",
   "execution_count": 3,
   "metadata": {},
   "outputs": [
    {
     "data": {
      "text/html": [
       "<div>\n",
       "<style scoped>\n",
       "    .dataframe tbody tr th:only-of-type {\n",
       "        vertical-align: middle;\n",
       "    }\n",
       "\n",
       "    .dataframe tbody tr th {\n",
       "        vertical-align: top;\n",
       "    }\n",
       "\n",
       "    .dataframe thead th {\n",
       "        text-align: right;\n",
       "    }\n",
       "</style>\n",
       "<table border=\"1\" class=\"dataframe\">\n",
       "  <thead>\n",
       "    <tr style=\"text-align: right;\">\n",
       "      <th></th>\n",
       "      <th>pid</th>\n",
       "      <th>date</th>\n",
       "      <th>tot_call_count</th>\n",
       "      <th>tot_call_duration</th>\n",
       "      <th>is_wkday</th>\n",
       "    </tr>\n",
       "  </thead>\n",
       "  <tbody>\n",
       "    <tr>\n",
       "      <th>0</th>\n",
       "      <td>00746649</td>\n",
       "      <td>2019-07-23</td>\n",
       "      <td>12</td>\n",
       "      <td>1814</td>\n",
       "      <td>1.0</td>\n",
       "    </tr>\n",
       "    <tr>\n",
       "      <th>1</th>\n",
       "      <td>00746649</td>\n",
       "      <td>2019-07-24</td>\n",
       "      <td>15</td>\n",
       "      <td>4572</td>\n",
       "      <td>1.0</td>\n",
       "    </tr>\n",
       "    <tr>\n",
       "      <th>2</th>\n",
       "      <td>00746649</td>\n",
       "      <td>2019-07-25</td>\n",
       "      <td>20</td>\n",
       "      <td>2363</td>\n",
       "      <td>1.0</td>\n",
       "    </tr>\n",
       "    <tr>\n",
       "      <th>3</th>\n",
       "      <td>00746649</td>\n",
       "      <td>2019-07-26</td>\n",
       "      <td>15</td>\n",
       "      <td>8063</td>\n",
       "      <td>1.0</td>\n",
       "    </tr>\n",
       "    <tr>\n",
       "      <th>4</th>\n",
       "      <td>00746649</td>\n",
       "      <td>2019-07-27</td>\n",
       "      <td>10</td>\n",
       "      <td>1748</td>\n",
       "      <td>0.0</td>\n",
       "    </tr>\n",
       "  </tbody>\n",
       "</table>\n",
       "</div>"
      ],
      "text/plain": [
       "        pid       date  tot_call_count  tot_call_duration  is_wkday\n",
       "0  00746649 2019-07-23              12               1814       1.0\n",
       "1  00746649 2019-07-24              15               4572       1.0\n",
       "2  00746649 2019-07-25              20               2363       1.0\n",
       "3  00746649 2019-07-26              15               8063       1.0\n",
       "4  00746649 2019-07-27              10               1748       0.0"
      ]
     },
     "metadata": {},
     "output_type": "display_data"
    }
   ],
   "source": [
    "# build cal_daily\n",
    "all_cal = pd.read_pickle(\"wave1_features/cal_hr.df\")\n",
    "all_cal['date'] = all_cal['hour'].dt.floor('d')\n",
    "cal_daily = all_cal.groupby(['pid', 'date']).sum()\n",
    "cal_daily = cal_daily.reset_index()\n",
    "cal_daily[\"is_wkday\"] = (pd.to_datetime(cal_daily['date']).dt.dayofweek < 5).astype(float)\n",
    "\n",
    "display(cal_daily.head())"
   ]
  },
  {
   "cell_type": "code",
   "execution_count": 4,
   "metadata": {},
   "outputs": [
    {
     "data": {
      "text/html": [
       "<div>\n",
       "<style scoped>\n",
       "    .dataframe tbody tr th:only-of-type {\n",
       "        vertical-align: middle;\n",
       "    }\n",
       "\n",
       "    .dataframe tbody tr th {\n",
       "        vertical-align: top;\n",
       "    }\n",
       "\n",
       "    .dataframe thead th {\n",
       "        text-align: right;\n",
       "    }\n",
       "</style>\n",
       "<table border=\"1\" class=\"dataframe\">\n",
       "  <thead>\n",
       "    <tr style=\"text-align: right;\">\n",
       "      <th></th>\n",
       "      <th>pid</th>\n",
       "      <th>date</th>\n",
       "      <th>tot_sms_count</th>\n",
       "      <th>tot_sms_length</th>\n",
       "      <th>in_sms_count</th>\n",
       "      <th>in_sms_length</th>\n",
       "      <th>out_sms_count</th>\n",
       "      <th>out_sms_length</th>\n",
       "      <th>is_wkday</th>\n",
       "    </tr>\n",
       "  </thead>\n",
       "  <tbody>\n",
       "    <tr>\n",
       "      <th>0</th>\n",
       "      <td>00746649</td>\n",
       "      <td>2019-07-23</td>\n",
       "      <td>22</td>\n",
       "      <td>1738</td>\n",
       "      <td>22.0</td>\n",
       "      <td>1738.0</td>\n",
       "      <td>0.0</td>\n",
       "      <td>0.0</td>\n",
       "      <td>1.0</td>\n",
       "    </tr>\n",
       "    <tr>\n",
       "      <th>1</th>\n",
       "      <td>00746649</td>\n",
       "      <td>2019-07-24</td>\n",
       "      <td>24</td>\n",
       "      <td>1464</td>\n",
       "      <td>24.0</td>\n",
       "      <td>1464.0</td>\n",
       "      <td>0.0</td>\n",
       "      <td>0.0</td>\n",
       "      <td>1.0</td>\n",
       "    </tr>\n",
       "    <tr>\n",
       "      <th>2</th>\n",
       "      <td>00746649</td>\n",
       "      <td>2019-07-25</td>\n",
       "      <td>14</td>\n",
       "      <td>936</td>\n",
       "      <td>14.0</td>\n",
       "      <td>936.0</td>\n",
       "      <td>0.0</td>\n",
       "      <td>0.0</td>\n",
       "      <td>1.0</td>\n",
       "    </tr>\n",
       "    <tr>\n",
       "      <th>3</th>\n",
       "      <td>00746649</td>\n",
       "      <td>2019-07-26</td>\n",
       "      <td>23</td>\n",
       "      <td>2135</td>\n",
       "      <td>23.0</td>\n",
       "      <td>2135.0</td>\n",
       "      <td>0.0</td>\n",
       "      <td>0.0</td>\n",
       "      <td>1.0</td>\n",
       "    </tr>\n",
       "    <tr>\n",
       "      <th>4</th>\n",
       "      <td>00746649</td>\n",
       "      <td>2019-07-27</td>\n",
       "      <td>21</td>\n",
       "      <td>990</td>\n",
       "      <td>21.0</td>\n",
       "      <td>990.0</td>\n",
       "      <td>0.0</td>\n",
       "      <td>0.0</td>\n",
       "      <td>0.0</td>\n",
       "    </tr>\n",
       "  </tbody>\n",
       "</table>\n",
       "</div>"
      ],
      "text/plain": [
       "        pid       date  tot_sms_count  tot_sms_length  in_sms_count  \\\n",
       "0  00746649 2019-07-23             22            1738          22.0   \n",
       "1  00746649 2019-07-24             24            1464          24.0   \n",
       "2  00746649 2019-07-25             14             936          14.0   \n",
       "3  00746649 2019-07-26             23            2135          23.0   \n",
       "4  00746649 2019-07-27             21             990          21.0   \n",
       "\n",
       "   in_sms_length  out_sms_count  out_sms_length  is_wkday  \n",
       "0         1738.0            0.0             0.0       1.0  \n",
       "1         1464.0            0.0             0.0       1.0  \n",
       "2          936.0            0.0             0.0       1.0  \n",
       "3         2135.0            0.0             0.0       1.0  \n",
       "4          990.0            0.0             0.0       0.0  "
      ]
     },
     "metadata": {},
     "output_type": "display_data"
    }
   ],
   "source": [
    "# build sms_daily\n",
    "all_sms = pd.read_pickle(\"wave1_features/sms_hr.df\")\n",
    "all_sms['date'] = all_sms['hour'].dt.floor('d')\n",
    "sms_daily = all_sms.groupby(['pid', 'date']).sum()\n",
    "sms_daily = sms_daily.reset_index()\n",
    "sms_daily[\"is_wkday\"] = (pd.to_datetime(sms_daily['date']).dt.dayofweek < 5).astype(float)\n",
    "\n",
    "display(sms_daily.head())"
   ]
  },
  {
   "cell_type": "code",
   "execution_count": 5,
   "metadata": {},
   "outputs": [
    {
     "data": {
      "text/html": [
       "<div>\n",
       "<style scoped>\n",
       "    .dataframe tbody tr th:only-of-type {\n",
       "        vertical-align: middle;\n",
       "    }\n",
       "\n",
       "    .dataframe tbody tr th {\n",
       "        vertical-align: top;\n",
       "    }\n",
       "\n",
       "    .dataframe thead th {\n",
       "        text-align: right;\n",
       "    }\n",
       "</style>\n",
       "<table border=\"1\" class=\"dataframe\">\n",
       "  <thead>\n",
       "    <tr style=\"text-align: right;\">\n",
       "      <th></th>\n",
       "      <th>pid</th>\n",
       "      <th>date</th>\n",
       "      <th>katana</th>\n",
       "      <th>orca</th>\n",
       "      <th>messaging</th>\n",
       "      <th>launcher</th>\n",
       "      <th>chrome</th>\n",
       "      <th>email</th>\n",
       "      <th>instagram</th>\n",
       "      <th>youtube</th>\n",
       "      <th>maps</th>\n",
       "      <th>snapchat</th>\n",
       "      <th>browser</th>\n",
       "      <th>all_browser</th>\n",
       "      <th>is_wkday</th>\n",
       "    </tr>\n",
       "  </thead>\n",
       "  <tbody>\n",
       "    <tr>\n",
       "      <th>0</th>\n",
       "      <td>00746649</td>\n",
       "      <td>2019-07-23</td>\n",
       "      <td>0.0</td>\n",
       "      <td>0.0</td>\n",
       "      <td>3380.0</td>\n",
       "      <td>1753.0</td>\n",
       "      <td>1490.0</td>\n",
       "      <td>1113.0</td>\n",
       "      <td>211.0</td>\n",
       "      <td>1080.0</td>\n",
       "      <td>240.0</td>\n",
       "      <td>0.0</td>\n",
       "      <td>165.0</td>\n",
       "      <td>1655.0</td>\n",
       "      <td>1.0</td>\n",
       "    </tr>\n",
       "    <tr>\n",
       "      <th>1</th>\n",
       "      <td>00746649</td>\n",
       "      <td>2019-07-24</td>\n",
       "      <td>0.0</td>\n",
       "      <td>105.0</td>\n",
       "      <td>1888.0</td>\n",
       "      <td>2831.0</td>\n",
       "      <td>965.0</td>\n",
       "      <td>713.0</td>\n",
       "      <td>1203.0</td>\n",
       "      <td>0.0</td>\n",
       "      <td>0.0</td>\n",
       "      <td>0.0</td>\n",
       "      <td>931.0</td>\n",
       "      <td>1896.0</td>\n",
       "      <td>1.0</td>\n",
       "    </tr>\n",
       "    <tr>\n",
       "      <th>2</th>\n",
       "      <td>00746649</td>\n",
       "      <td>2019-07-25</td>\n",
       "      <td>0.0</td>\n",
       "      <td>135.0</td>\n",
       "      <td>5835.0</td>\n",
       "      <td>1826.0</td>\n",
       "      <td>98.0</td>\n",
       "      <td>770.0</td>\n",
       "      <td>368.0</td>\n",
       "      <td>0.0</td>\n",
       "      <td>73.0</td>\n",
       "      <td>0.0</td>\n",
       "      <td>509.0</td>\n",
       "      <td>607.0</td>\n",
       "      <td>1.0</td>\n",
       "    </tr>\n",
       "    <tr>\n",
       "      <th>3</th>\n",
       "      <td>00746649</td>\n",
       "      <td>2019-07-26</td>\n",
       "      <td>0.0</td>\n",
       "      <td>301.0</td>\n",
       "      <td>5288.0</td>\n",
       "      <td>1986.0</td>\n",
       "      <td>195.0</td>\n",
       "      <td>1362.0</td>\n",
       "      <td>842.0</td>\n",
       "      <td>0.0</td>\n",
       "      <td>1410.0</td>\n",
       "      <td>0.0</td>\n",
       "      <td>1065.0</td>\n",
       "      <td>1260.0</td>\n",
       "      <td>1.0</td>\n",
       "    </tr>\n",
       "    <tr>\n",
       "      <th>4</th>\n",
       "      <td>00746649</td>\n",
       "      <td>2019-07-27</td>\n",
       "      <td>0.0</td>\n",
       "      <td>0.0</td>\n",
       "      <td>3166.0</td>\n",
       "      <td>686.0</td>\n",
       "      <td>0.0</td>\n",
       "      <td>110.0</td>\n",
       "      <td>3310.0</td>\n",
       "      <td>0.0</td>\n",
       "      <td>847.0</td>\n",
       "      <td>0.0</td>\n",
       "      <td>0.0</td>\n",
       "      <td>0.0</td>\n",
       "      <td>0.0</td>\n",
       "    </tr>\n",
       "  </tbody>\n",
       "</table>\n",
       "</div>"
      ],
      "text/plain": [
       "        pid       date  katana   orca  messaging  launcher  chrome   email  \\\n",
       "0  00746649 2019-07-23     0.0    0.0     3380.0    1753.0  1490.0  1113.0   \n",
       "1  00746649 2019-07-24     0.0  105.0     1888.0    2831.0   965.0   713.0   \n",
       "2  00746649 2019-07-25     0.0  135.0     5835.0    1826.0    98.0   770.0   \n",
       "3  00746649 2019-07-26     0.0  301.0     5288.0    1986.0   195.0  1362.0   \n",
       "4  00746649 2019-07-27     0.0    0.0     3166.0     686.0     0.0   110.0   \n",
       "\n",
       "   instagram  youtube    maps  snapchat  browser  all_browser  is_wkday  \n",
       "0      211.0   1080.0   240.0       0.0    165.0       1655.0       1.0  \n",
       "1     1203.0      0.0     0.0       0.0    931.0       1896.0       1.0  \n",
       "2      368.0      0.0    73.0       0.0    509.0        607.0       1.0  \n",
       "3      842.0      0.0  1410.0       0.0   1065.0       1260.0       1.0  \n",
       "4     3310.0      0.0   847.0       0.0      0.0          0.0       0.0  "
      ]
     },
     "metadata": {},
     "output_type": "display_data"
    }
   ],
   "source": [
    "# build fga_daily\n",
    "all_fga = pd.read_pickle(\"wave1_features/fga_hr.df\")\n",
    "all_fga['all_browser'] = all_fga['browser'] + all_fga['chrome']\n",
    "all_fga['date'] = all_fga['hr'].dt.floor('d')\n",
    "fga_daily = all_fga.groupby(['pid', 'date']).sum()\n",
    "fga_daily = fga_daily.reset_index()\n",
    "fga_daily[\"is_wkday\"] = (pd.to_datetime(fga_daily['date']).dt.dayofweek < 5).astype(float)\n",
    "\n",
    "display(fga_daily.head())"
   ]
  },
  {
   "cell_type": "code",
   "execution_count": 6,
   "metadata": {},
   "outputs": [
    {
     "name": "stdout",
     "output_type": "stream",
     "text": [
      "CPU times: user 279 ms, sys: 2.23 s, total: 2.51 s\n",
      "Wall time: 4.31 s\n"
     ]
    }
   ],
   "source": [
    "%%time\n",
    "# build sloc_daily\n",
    "all_sloc = pd.read_pickle(\"wave1_features/sloc_hr.df\")\n",
    "all_sloc['date'] = all_sloc['hr'].dt.floor('d')"
   ]
  },
  {
   "cell_type": "code",
   "execution_count": 7,
   "metadata": {},
   "outputs": [
    {
     "data": {
      "text/html": [
       "<div>\n",
       "<style scoped>\n",
       "    .dataframe tbody tr th:only-of-type {\n",
       "        vertical-align: middle;\n",
       "    }\n",
       "\n",
       "    .dataframe tbody tr th {\n",
       "        vertical-align: top;\n",
       "    }\n",
       "\n",
       "    .dataframe thead th {\n",
       "        text-align: right;\n",
       "    }\n",
       "</style>\n",
       "<table border=\"1\" class=\"dataframe\">\n",
       "  <thead>\n",
       "    <tr style=\"text-align: right;\">\n",
       "      <th></th>\n",
       "      <th>pid</th>\n",
       "      <th>date</th>\n",
       "      <th>food_dur</th>\n",
       "      <th>home_dur</th>\n",
       "      <th>work_dur</th>\n",
       "      <th>exercise_dur</th>\n",
       "      <th>anothers_home_dur</th>\n",
       "      <th>religion_dur</th>\n",
       "      <th>travel_dur</th>\n",
       "      <th>shopping_dur</th>\n",
       "      <th>...</th>\n",
       "      <th>n/a_religion</th>\n",
       "      <th>n/a_travel</th>\n",
       "      <th>n/a_shopping</th>\n",
       "      <th>n/a_errand</th>\n",
       "      <th>n/a_health</th>\n",
       "      <th>n/a_education</th>\n",
       "      <th>n/a_entertainment</th>\n",
       "      <th>n/a_other</th>\n",
       "      <th>tot_tansitions</th>\n",
       "      <th>is_wkday</th>\n",
       "    </tr>\n",
       "  </thead>\n",
       "  <tbody>\n",
       "    <tr>\n",
       "      <th>0</th>\n",
       "      <td>00746649</td>\n",
       "      <td>2019-07-23</td>\n",
       "      <td>0.0</td>\n",
       "      <td>21869.0</td>\n",
       "      <td>0.0</td>\n",
       "      <td>0.0</td>\n",
       "      <td>0.0</td>\n",
       "      <td>0.0</td>\n",
       "      <td>0.0</td>\n",
       "      <td>0.0</td>\n",
       "      <td>...</td>\n",
       "      <td>0</td>\n",
       "      <td>0</td>\n",
       "      <td>0</td>\n",
       "      <td>1</td>\n",
       "      <td>2</td>\n",
       "      <td>0</td>\n",
       "      <td>0</td>\n",
       "      <td>0</td>\n",
       "      <td>9</td>\n",
       "      <td>1.0</td>\n",
       "    </tr>\n",
       "    <tr>\n",
       "      <th>1</th>\n",
       "      <td>00746649</td>\n",
       "      <td>2019-07-24</td>\n",
       "      <td>0.0</td>\n",
       "      <td>54305.0</td>\n",
       "      <td>7379.0</td>\n",
       "      <td>0.0</td>\n",
       "      <td>0.0</td>\n",
       "      <td>0.0</td>\n",
       "      <td>0.0</td>\n",
       "      <td>0.0</td>\n",
       "      <td>...</td>\n",
       "      <td>0</td>\n",
       "      <td>0</td>\n",
       "      <td>0</td>\n",
       "      <td>0</td>\n",
       "      <td>1</td>\n",
       "      <td>0</td>\n",
       "      <td>0</td>\n",
       "      <td>1</td>\n",
       "      <td>13</td>\n",
       "      <td>1.0</td>\n",
       "    </tr>\n",
       "    <tr>\n",
       "      <th>2</th>\n",
       "      <td>00746649</td>\n",
       "      <td>2019-07-25</td>\n",
       "      <td>0.0</td>\n",
       "      <td>48121.0</td>\n",
       "      <td>0.0</td>\n",
       "      <td>0.0</td>\n",
       "      <td>0.0</td>\n",
       "      <td>753.0</td>\n",
       "      <td>0.0</td>\n",
       "      <td>0.0</td>\n",
       "      <td>...</td>\n",
       "      <td>1</td>\n",
       "      <td>0</td>\n",
       "      <td>0</td>\n",
       "      <td>0</td>\n",
       "      <td>1</td>\n",
       "      <td>0</td>\n",
       "      <td>1</td>\n",
       "      <td>1</td>\n",
       "      <td>10</td>\n",
       "      <td>1.0</td>\n",
       "    </tr>\n",
       "    <tr>\n",
       "      <th>3</th>\n",
       "      <td>00746649</td>\n",
       "      <td>2019-07-26</td>\n",
       "      <td>0.0</td>\n",
       "      <td>49696.0</td>\n",
       "      <td>0.0</td>\n",
       "      <td>3824.0</td>\n",
       "      <td>3726.0</td>\n",
       "      <td>0.0</td>\n",
       "      <td>0.0</td>\n",
       "      <td>3790.0</td>\n",
       "      <td>...</td>\n",
       "      <td>0</td>\n",
       "      <td>0</td>\n",
       "      <td>2</td>\n",
       "      <td>0</td>\n",
       "      <td>1</td>\n",
       "      <td>0</td>\n",
       "      <td>1</td>\n",
       "      <td>1</td>\n",
       "      <td>17</td>\n",
       "      <td>1.0</td>\n",
       "    </tr>\n",
       "    <tr>\n",
       "      <th>4</th>\n",
       "      <td>00746649</td>\n",
       "      <td>2019-07-27</td>\n",
       "      <td>0.0</td>\n",
       "      <td>28339.0</td>\n",
       "      <td>0.0</td>\n",
       "      <td>536.0</td>\n",
       "      <td>0.0</td>\n",
       "      <td>0.0</td>\n",
       "      <td>0.0</td>\n",
       "      <td>0.0</td>\n",
       "      <td>...</td>\n",
       "      <td>0</td>\n",
       "      <td>0</td>\n",
       "      <td>0</td>\n",
       "      <td>0</td>\n",
       "      <td>0</td>\n",
       "      <td>0</td>\n",
       "      <td>0</td>\n",
       "      <td>0</td>\n",
       "      <td>6</td>\n",
       "      <td>0.0</td>\n",
       "    </tr>\n",
       "  </tbody>\n",
       "</table>\n",
       "<p>5 rows × 200 columns</p>\n",
       "</div>"
      ],
      "text/plain": [
       "        pid       date  food_dur  home_dur  work_dur  exercise_dur  \\\n",
       "0  00746649 2019-07-23       0.0   21869.0       0.0           0.0   \n",
       "1  00746649 2019-07-24       0.0   54305.0    7379.0           0.0   \n",
       "2  00746649 2019-07-25       0.0   48121.0       0.0           0.0   \n",
       "3  00746649 2019-07-26       0.0   49696.0       0.0        3824.0   \n",
       "4  00746649 2019-07-27       0.0   28339.0       0.0         536.0   \n",
       "\n",
       "   anothers_home_dur  religion_dur  travel_dur  shopping_dur  ...  \\\n",
       "0                0.0           0.0         0.0           0.0  ...   \n",
       "1                0.0           0.0         0.0           0.0  ...   \n",
       "2                0.0         753.0         0.0           0.0  ...   \n",
       "3             3726.0           0.0         0.0        3790.0  ...   \n",
       "4                0.0           0.0         0.0           0.0  ...   \n",
       "\n",
       "   n/a_religion  n/a_travel  n/a_shopping  n/a_errand  n/a_health  \\\n",
       "0             0           0             0           1           2   \n",
       "1             0           0             0           0           1   \n",
       "2             1           0             0           0           1   \n",
       "3             0           0             2           0           1   \n",
       "4             0           0             0           0           0   \n",
       "\n",
       "   n/a_education  n/a_entertainment  n/a_other  tot_tansitions  is_wkday  \n",
       "0              0                  0          0               9       1.0  \n",
       "1              0                  0          1              13       1.0  \n",
       "2              0                  1          1              10       1.0  \n",
       "3              0                  1          1              17       1.0  \n",
       "4              0                  0          0               6       0.0  \n",
       "\n",
       "[5 rows x 200 columns]"
      ]
     },
     "metadata": {},
     "output_type": "display_data"
    },
    {
     "name": "stdout",
     "output_type": "stream",
     "text": [
      "CPU times: user 1.18 s, sys: 3.34 s, total: 4.52 s\n",
      "Wall time: 4.53 s\n"
     ]
    }
   ],
   "source": [
    "%%time\n",
    "\n",
    "sloc_cols = list(all_sloc.columns[all_sloc.columns.str.endswith('dur')])\n",
    "all_sloc[sloc_cols] = all_sloc[sloc_cols].clip(0, 100000000)\n",
    "sloc_daily = all_sloc.groupby(['pid', 'date']).sum()\n",
    "sloc_daily = sloc_daily.reset_index()\n",
    "sloc_daily[\"is_wkday\"] = (pd.to_datetime(sloc_daily['date']).dt.dayofweek < 5).astype(float)\n",
    "\n",
    "display(sloc_daily.head())"
   ]
  },
  {
   "cell_type": "code",
   "execution_count": 8,
   "metadata": {},
   "outputs": [],
   "source": [
    "drop_cols = sloc_daily.columns[sloc_daily.columns.str.contains('n/a')]\n",
    "sloc_daily = sloc_daily.drop(drop_cols, axis='columns')"
   ]
  },
  {
   "cell_type": "markdown",
   "metadata": {},
   "source": [
    "## Build SPIN/GAD Sequence DF"
   ]
  },
  {
   "cell_type": "code",
   "execution_count": 9,
   "metadata": {},
   "outputs": [],
   "source": [
    "# load fus and circ data\n",
    "fus_daily = pd.read_pickle(\"wave1_features/fus_gad_start_14_-1.df\")\n",
    "circ_dict = pickle.load(open(\"wave1_features/circ_gad_start_14_-1.dict\", \"rb\"))"
   ]
  },
  {
   "cell_type": "code",
   "execution_count": 10,
   "metadata": {},
   "outputs": [],
   "source": [
    "# correction for Series values in list, though it doesn't seem to have affected anything??\n",
    "new_dict = {}\n",
    "for col, vals in circ_dict.items():\n",
    "    new_vals = []\n",
    "    for v in vals:\n",
    "        if isinstance(v, pd.Series):\n",
    "            new_vals.append(v[0])\n",
    "        else:\n",
    "            new_vals.append(v)\n",
    "    new_dict[col] = new_vals\n",
    "circ_dict = new_dict"
   ]
  },
  {
   "cell_type": "code",
   "execution_count": 11,
   "metadata": {},
   "outputs": [],
   "source": [
    "# columns\n",
    "sms_cols = ['tot_sms_count', 'tot_sms_length', 'in_sms_count', 'in_sms_length', 'out_sms_count', 'out_sms_length']\n",
    "cal_cols = ['tot_call_count', 'tot_call_duration']\n",
    "fga_cols = ['katana', 'orca', 'messaging', 'email', 'instagram', 'youtube', 'maps', 'snapchat', 'browser', 'chrome']\n",
    "\n",
    "circ_cols = ['circ_movt_tot', 'circ_movt_wkday', 'circ_movt_wkend']\n",
    "fus_cols = list(fus_daily.columns[(fus_daily.columns.str.endswith('total') | fus_daily.columns.str.endswith('wkend') | fus_daily.columns.str.endswith('wkday')) & ~fus_daily.columns.str.startswith('date')])\n",
    "sloc_cols = list(sloc_daily.columns.drop(['pid', 'date', 'is_wkday']))\n",
    "#sloc_cols = list(sloc_daily.columns[sloc_daily.columns.str.endswith('dur')])"
   ]
  },
  {
   "cell_type": "markdown",
   "metadata": {},
   "source": [
    "### Calculate shifted change"
   ]
  },
  {
   "cell_type": "code",
   "execution_count": 12,
   "metadata": {},
   "outputs": [],
   "source": [
    "spin_fill_df['date'] = spin_fill_df['spin_start'].dt.normalize()"
   ]
  },
  {
   "cell_type": "code",
   "execution_count": 13,
   "metadata": {},
   "outputs": [],
   "source": [
    "spin_fill_df['spin_total_shift'] = spin_fill_df.groupby('pid')['spin_total'].shift(1)\n",
    "spin_fill_df['spin_diff'] = spin_fill_df['spin_total'] - spin_fill_df['spin_total_shift']"
   ]
  },
  {
   "cell_type": "code",
   "execution_count": 14,
   "metadata": {},
   "outputs": [],
   "source": [
    "spin_fill_df['gad_total_shift'] = spin_fill_df.groupby('pid')['gad_total'].shift(1)\n",
    "spin_fill_df['gad_diff'] = spin_fill_df['gad_total'] - spin_fill_df['gad_total_shift']"
   ]
  },
  {
   "cell_type": "code",
   "execution_count": 15,
   "metadata": {},
   "outputs": [
    {
     "name": "stdout",
     "output_type": "stream",
     "text": [
      "CPU times: user 40.4 s, sys: 0 ns, total: 40.4 s\n",
      "Wall time: 40.4 s\n"
     ]
    }
   ],
   "source": [
    "%%time\n",
    "\n",
    "sms_dict = ls_utils.build_col_dict(sms_cols, sms_daily, spin_fill_df, 'spin_start', pre_days=14, post_days=-1)\n",
    "cal_dict = ls_utils.build_col_dict(cal_cols, cal_daily, spin_fill_df, 'spin_start', pre_days=14, post_days=-1)\n",
    "fga_dict = ls_utils.build_col_dict(fga_cols, fga_daily, spin_fill_df, 'spin_start', pre_days=14, post_days=-1)\n",
    "sloc_dict = ls_utils.build_col_dict(sloc_cols, sloc_daily, spin_fill_df, 'spin_start', pre_days=14, post_days=-1)"
   ]
  },
  {
   "cell_type": "code",
   "execution_count": 16,
   "metadata": {},
   "outputs": [],
   "source": [
    "dig_state_df = spin_fill_df.copy()\n",
    "\n",
    "sensor_dicts = [sms_dict, cal_dict, fga_dict, sloc_dict, circ_dict]\n",
    "sensor_cols = sms_cols + cal_cols + fga_cols + sloc_cols + circ_cols\n",
    "\n",
    "for sensor_dict in sensor_dicts:\n",
    "    for col, vals in sensor_dict.items():\n",
    "        dig_state_df[col] = vals\n",
    "\n",
    "# merge fused location       \n",
    "dig_state_df = dig_state_df.merge(fus_daily, how='left', on=['pid', 'study_wk'])\n",
    "dig_state_df = dig_state_df.replace([np.inf, -np.inf], np.nan)"
   ]
  },
  {
   "cell_type": "markdown",
   "metadata": {},
   "source": [
    "# SPIN/GAD Feature Aggregation"
   ]
  },
  {
   "cell_type": "code",
   "execution_count": 32,
   "metadata": {},
   "outputs": [],
   "source": [
    "id_cols = ['pid', 'study_wk']"
   ]
  },
  {
   "cell_type": "markdown",
   "metadata": {},
   "source": [
    "## Foreground Application Aggregation"
   ]
  },
  {
   "cell_type": "code",
   "execution_count": 33,
   "metadata": {},
   "outputs": [],
   "source": [
    "active_apps = ['messaging', 'email', 'maps']\n",
    "passive_apps = ['chrome', 'youtube', 'browser']\n",
    "social_apps = ['orca','katana', 'instagram', 'snapchat']\n",
    "\n",
    "agg_df = dig_state_df.copy()\n",
    "agg_df[fga_cols] = (agg_df[fga_cols] - agg_df[fga_cols].mean()) / agg_df[fga_cols].std()\n",
    "agg_df['active_apps_agg'] = agg_df[active_apps].mean(axis=1)\n",
    "agg_df['passive_apps_agg'] = agg_df[passive_apps].mean(axis=1)\n",
    "agg_df['social_apps_agg'] = agg_df[social_apps].mean(axis=1)"
   ]
  },
  {
   "cell_type": "markdown",
   "metadata": {},
   "source": [
    "## Semantic Location"
   ]
  },
  {
   "cell_type": "code",
   "execution_count": 31,
   "metadata": {},
   "outputs": [],
   "source": [
    "sloc_dur_cols = sloc_daily.columns[sloc_daily.columns.str.endswith('dur')]\n",
    "work_places = ['work_dur']\n",
    "home_places = ['home_dur']\n",
    "other_places = ['other_dur', 'health_dur', 'errand_dur', 'education_dur']\n",
    "religion_exercise_places = ['exercise_dur', 'religion_dur']\n",
    "social_places = ['food_dur', 'anothers_home_dur', 'entertainment_dur', 'shopping_dur']"
   ]
  },
  {
   "cell_type": "code",
   "execution_count": 39,
   "metadata": {},
   "outputs": [],
   "source": [
    "agg_df[sloc_dur_cols] = (agg_df[sloc_dur_cols] - agg_df[sloc_dur_cols].mean()) / agg_df[sloc_dur_cols].std()\n",
    "agg_df['work_dur_agg'] = agg_df[work_places]\n",
    "agg_df['home_dur_agg'] = agg_df[home_places]\n",
    "agg_df['religion_exercise_dur_agg'] = agg_df[religion_exercise_places].mean(axis=1)\n",
    "agg_df['other_dur_agg'] = agg_df[other_places].mean(axis=1)\n",
    "agg_df['social_place_dur_agg'] = agg_df[social_places].mean(axis=1)"
   ]
  },
  {
   "cell_type": "markdown",
   "metadata": {},
   "source": [
    "## Communication"
   ]
  },
  {
   "cell_type": "code",
   "execution_count": 40,
   "metadata": {},
   "outputs": [],
   "source": [
    "agg_df[sms_cols] = (agg_df[sms_cols] - agg_df[sms_cols].mean()) / agg_df[sms_cols].std()\n",
    "agg_df[cal_cols] = (agg_df[cal_cols] - agg_df[cal_cols].mean()) / agg_df[cal_cols].std()\n",
    "agg_df['sms_agg'] = agg_df[sms_cols].mean(axis=1)\n",
    "agg_df['cal_agg'] = agg_df[cal_cols].mean(axis=1)"
   ]
  },
  {
   "cell_type": "markdown",
   "metadata": {},
   "source": [
    "## Fused Location"
   ]
  },
  {
   "cell_type": "code",
   "execution_count": 42,
   "metadata": {},
   "outputs": [
    {
     "data": {
      "text/plain": [
       "['circ_movt_tot',\n",
       " 'circ_movt_wkday',\n",
       " 'circ_movt_wkend',\n",
       " 'cluster_total',\n",
       " 'cluster_wkday',\n",
       " 'cluster_wkend',\n",
       " 'dist_total',\n",
       " 'dist_wkday',\n",
       " 'dist_wkend',\n",
       " 'entropy_total',\n",
       " 'entropy_wkday',\n",
       " 'entropy_wkend',\n",
       " 'loc_var_total',\n",
       " 'loc_var_wkday',\n",
       " 'loc_var_wkend',\n",
       " 'norm_entropy_total',\n",
       " 'norm_entropy_wkday',\n",
       " 'norm_entropy_wkend',\n",
       " 'velocity_total',\n",
       " 'velocity_wkday',\n",
       " 'velocity_wkend']"
      ]
     },
     "execution_count": 42,
     "metadata": {},
     "output_type": "execute_result"
    }
   ],
   "source": [
    "loc_cols = circ_cols + fus_cols"
   ]
  },
  {
   "cell_type": "code",
   "execution_count": 43,
   "metadata": {},
   "outputs": [],
   "source": [
    "movt_cols = ['circ_movt_tot',\n",
    " 'circ_movt_wkday',\n",
    " 'circ_movt_wkend',\n",
    " 'cluster_total',\n",
    " 'cluster_wkday',\n",
    " 'cluster_wkend',\n",
    " 'dist_total',\n",
    " 'dist_wkday',\n",
    " 'dist_wkend',\n",
    " 'loc_var_total',\n",
    " 'loc_var_wkday',\n",
    " 'loc_var_wkend',\n",
    "\n",
    " 'velocity_total',\n",
    " 'velocity_wkday',\n",
    " 'velocity_wkend']\n",
    "\n",
    "weekday_entropy = [\n",
    " 'norm_entropy_total',\n",
    " 'norm_entropy_wkday',\n",
    " 'entropy_total',\n",
    " 'entropy_wkday'\n",
    "]\n",
    "\n",
    "weekend_entropy = [\n",
    "'norm_entropy_wkend',\n",
    "'entropy_wkend'    \n",
    "]"
   ]
  },
  {
   "cell_type": "code",
   "execution_count": 44,
   "metadata": {},
   "outputs": [],
   "source": [
    "agg_df[loc_cols] = (agg_df[loc_cols] - agg_df[loc_cols].mean()) / agg_df[loc_cols].std()\n",
    "agg_df['movt_agg'] = agg_df[movt_cols].mean(axis=1)\n",
    "agg_df['wkday_total_entropy_agg'] = agg_df[weekday_entropy].mean(axis=1)\n",
    "agg_df['wkend_entropy_agg'] = agg_df[weekend_entropy].mean(axis=1)"
   ]
  },
  {
   "cell_type": "markdown",
   "metadata": {},
   "source": [
    "## Shift columns"
   ]
  },
  {
   "cell_type": "code",
   "execution_count": 45,
   "metadata": {},
   "outputs": [],
   "source": [
    "agg_cols = agg_df.columns[agg_df.columns.str.endswith(\"agg\")]\n",
    "agg_cols_shift = [s + '_shift' for s in agg_cols]\n",
    "agg_cols_change = [s + '_change' for s in agg_cols]"
   ]
  },
  {
   "cell_type": "code",
   "execution_count": 46,
   "metadata": {},
   "outputs": [],
   "source": [
    "agg_df[agg_cols_shift] = agg_df.groupby('pid')[agg_cols].shift(1)"
   ]
  },
  {
   "cell_type": "code",
   "execution_count": 47,
   "metadata": {},
   "outputs": [],
   "source": [
    "for cur, prev, change in zip(agg_cols, agg_cols_shift, agg_cols_change):\n",
    "    agg_df[change] = agg_df[cur] - agg_df[prev]"
   ]
  },
  {
   "cell_type": "code",
   "execution_count": 48,
   "metadata": {},
   "outputs": [
    {
     "data": {
      "text/plain": [
       "count    772.000000\n",
       "mean      -0.107513\n",
       "std        3.695631\n",
       "min      -14.000000\n",
       "25%       -2.000000\n",
       "50%        0.000000\n",
       "75%        2.000000\n",
       "max       15.000000\n",
       "Name: gad_diff, dtype: float64"
      ]
     },
     "execution_count": 48,
     "metadata": {},
     "output_type": "execute_result"
    }
   ],
   "source": [
    "agg_df['gad_diff'].describe()"
   ]
  },
  {
   "cell_type": "code",
   "execution_count": 49,
   "metadata": {},
   "outputs": [
    {
     "data": {
      "text/plain": [
       "count    771.000000\n",
       "mean      -0.155642\n",
       "std        6.563112\n",
       "min      -30.000000\n",
       "25%       -3.000000\n",
       "50%        0.000000\n",
       "75%        3.000000\n",
       "max       36.000000\n",
       "Name: spin_diff, dtype: float64"
      ]
     },
     "execution_count": 49,
     "metadata": {},
     "output_type": "execute_result"
    }
   ],
   "source": [
    "agg_df['spin_diff'].describe()"
   ]
  },
  {
   "cell_type": "markdown",
   "metadata": {
    "heading_collapsed": true
   },
   "source": [
    "# SPIN"
   ]
  },
  {
   "cell_type": "markdown",
   "metadata": {
    "hidden": true
   },
   "source": [
    "### Simple Correlation"
   ]
  },
  {
   "cell_type": "markdown",
   "metadata": {
    "hidden": true
   },
   "source": [
    "#### Full population"
   ]
  },
  {
   "cell_type": "code",
   "execution_count": 50,
   "metadata": {
    "hidden": true
   },
   "outputs": [
    {
     "name": "stdout",
     "output_type": "stream",
     "text": [
      "Pearson\n"
     ]
    },
    {
     "data": {
      "text/html": [
       "<div>\n",
       "<style scoped>\n",
       "    .dataframe tbody tr th:only-of-type {\n",
       "        vertical-align: middle;\n",
       "    }\n",
       "\n",
       "    .dataframe tbody tr th {\n",
       "        vertical-align: top;\n",
       "    }\n",
       "\n",
       "    .dataframe thead th {\n",
       "        text-align: right;\n",
       "    }\n",
       "</style>\n",
       "<table border=\"1\" class=\"dataframe\">\n",
       "  <thead>\n",
       "    <tr style=\"text-align: right;\">\n",
       "      <th></th>\n",
       "      <th>X</th>\n",
       "      <th>Y</th>\n",
       "      <th>n</th>\n",
       "      <th>r</th>\n",
       "      <th>p-corr</th>\n",
       "      <th>p-adjust</th>\n",
       "    </tr>\n",
       "  </thead>\n",
       "  <tbody>\n",
       "    <tr>\n",
       "      <th>7</th>\n",
       "      <td>social_place_dur_agg_change</td>\n",
       "      <td>spin_diff</td>\n",
       "      <td>763</td>\n",
       "      <td>-0.117</td>\n",
       "      <td>0.015945</td>\n",
       "      <td>fdr_bh</td>\n",
       "    </tr>\n",
       "    <tr>\n",
       "      <th>1</th>\n",
       "      <td>passive_apps_agg_change</td>\n",
       "      <td>spin_diff</td>\n",
       "      <td>767</td>\n",
       "      <td>0.104</td>\n",
       "      <td>0.024538</td>\n",
       "      <td>fdr_bh</td>\n",
       "    </tr>\n",
       "  </tbody>\n",
       "</table>\n",
       "</div>"
      ],
      "text/plain": [
       "                             X          Y    n      r    p-corr p-adjust\n",
       "7  social_place_dur_agg_change  spin_diff  763 -0.117  0.015945   fdr_bh\n",
       "1      passive_apps_agg_change  spin_diff  767  0.104  0.024538   fdr_bh"
      ]
     },
     "metadata": {},
     "output_type": "display_data"
    },
    {
     "name": "stdout",
     "output_type": "stream",
     "text": [
      "Spearman\n"
     ]
    },
    {
     "data": {
      "text/html": [
       "<div>\n",
       "<style scoped>\n",
       "    .dataframe tbody tr th:only-of-type {\n",
       "        vertical-align: middle;\n",
       "    }\n",
       "\n",
       "    .dataframe tbody tr th {\n",
       "        vertical-align: top;\n",
       "    }\n",
       "\n",
       "    .dataframe thead th {\n",
       "        text-align: right;\n",
       "    }\n",
       "</style>\n",
       "<table border=\"1\" class=\"dataframe\">\n",
       "  <thead>\n",
       "    <tr style=\"text-align: right;\">\n",
       "      <th></th>\n",
       "      <th>X</th>\n",
       "      <th>Y</th>\n",
       "      <th>n</th>\n",
       "      <th>r</th>\n",
       "      <th>p-corr</th>\n",
       "      <th>p-adjust</th>\n",
       "    </tr>\n",
       "  </thead>\n",
       "  <tbody>\n",
       "    <tr>\n",
       "      <th>1</th>\n",
       "      <td>passive_apps_agg_change</td>\n",
       "      <td>spin_diff</td>\n",
       "      <td>767</td>\n",
       "      <td>0.115</td>\n",
       "      <td>0.01872</td>\n",
       "      <td>fdr_bh</td>\n",
       "    </tr>\n",
       "  </tbody>\n",
       "</table>\n",
       "</div>"
      ],
      "text/plain": [
       "                         X          Y    n      r   p-corr p-adjust\n",
       "1  passive_apps_agg_change  spin_diff  767  0.115  0.01872   fdr_bh"
      ]
     },
     "metadata": {},
     "output_type": "display_data"
    }
   ],
   "source": [
    "print(\"Pearson\")\n",
    "pair_corr_df = pg.pairwise_corr(agg_df, columns=[agg_cols_change, ['spin_diff']], padjust=\"fdr_bh\")\n",
    "display(pair_corr_df[pair_corr_df['p-corr'] < 0.1].sort_values(by='p-corr')[['X', 'Y', 'n', 'r', 'p-corr', 'p-adjust']])\n",
    "print(\"Spearman\")\n",
    "pair_corr_df = pg.pairwise_corr(agg_df, columns=[agg_cols_change, ['spin_diff']], method='spearman', padjust=\"fdr_bh\")\n",
    "display(pair_corr_df[pair_corr_df['p-corr'] < 0.1].sort_values(by='p-corr')[['X', 'Y', 'n', 'r', 'p-corr', 'p-adjust']])"
   ]
  },
  {
   "cell_type": "markdown",
   "metadata": {
    "hidden": true
   },
   "source": [
    "#### no_symp"
   ]
  },
  {
   "cell_type": "code",
   "execution_count": 51,
   "metadata": {
    "hidden": true
   },
   "outputs": [
    {
     "name": "stdout",
     "output_type": "stream",
     "text": [
      "Pearson\n"
     ]
    },
    {
     "data": {
      "text/html": [
       "<div>\n",
       "<style scoped>\n",
       "    .dataframe tbody tr th:only-of-type {\n",
       "        vertical-align: middle;\n",
       "    }\n",
       "\n",
       "    .dataframe tbody tr th {\n",
       "        vertical-align: top;\n",
       "    }\n",
       "\n",
       "    .dataframe thead th {\n",
       "        text-align: right;\n",
       "    }\n",
       "</style>\n",
       "<table border=\"1\" class=\"dataframe\">\n",
       "  <thead>\n",
       "    <tr style=\"text-align: right;\">\n",
       "      <th></th>\n",
       "      <th>X</th>\n",
       "      <th>Y</th>\n",
       "      <th>n</th>\n",
       "      <th>r</th>\n",
       "      <th>p-corr</th>\n",
       "      <th>p-adjust</th>\n",
       "    </tr>\n",
       "  </thead>\n",
       "  <tbody>\n",
       "  </tbody>\n",
       "</table>\n",
       "</div>"
      ],
      "text/plain": [
       "Empty DataFrame\n",
       "Columns: [X, Y, n, r, p-corr, p-adjust]\n",
       "Index: []"
      ]
     },
     "metadata": {},
     "output_type": "display_data"
    },
    {
     "name": "stdout",
     "output_type": "stream",
     "text": [
      "Spearman\n"
     ]
    },
    {
     "data": {
      "text/html": [
       "<div>\n",
       "<style scoped>\n",
       "    .dataframe tbody tr th:only-of-type {\n",
       "        vertical-align: middle;\n",
       "    }\n",
       "\n",
       "    .dataframe tbody tr th {\n",
       "        vertical-align: top;\n",
       "    }\n",
       "\n",
       "    .dataframe thead th {\n",
       "        text-align: right;\n",
       "    }\n",
       "</style>\n",
       "<table border=\"1\" class=\"dataframe\">\n",
       "  <thead>\n",
       "    <tr style=\"text-align: right;\">\n",
       "      <th></th>\n",
       "      <th>X</th>\n",
       "      <th>Y</th>\n",
       "      <th>n</th>\n",
       "      <th>r</th>\n",
       "      <th>p-corr</th>\n",
       "      <th>p-adjust</th>\n",
       "    </tr>\n",
       "  </thead>\n",
       "  <tbody>\n",
       "  </tbody>\n",
       "</table>\n",
       "</div>"
      ],
      "text/plain": [
       "Empty DataFrame\n",
       "Columns: [X, Y, n, r, p-corr, p-adjust]\n",
       "Index: []"
      ]
     },
     "metadata": {},
     "output_type": "display_data"
    }
   ],
   "source": [
    "sel_state_df = agg_df[agg_df['baseline_cluster'] == 'no_symp']\n",
    "print(\"Pearson\")\n",
    "pair_corr_df = pg.pairwise_corr(sel_state_df, columns=[agg_cols_change, ['spin_diff']], nan_policy='pairwise', padjust=\"fdr_bh\")\n",
    "display(pair_corr_df[(pair_corr_df['p-corr'] < 0.1)].sort_values(by='p-corr')[['X', 'Y', 'n', 'r', 'p-corr', 'p-adjust']])\n",
    "\n",
    "print(\"Spearman\")\n",
    "pair_corr_df = pg.pairwise_corr(sel_state_df, columns=[agg_cols_change, ['spin_diff']], nan_policy='pairwise', method='spearman', padjust=\"fdr_bh\")\n",
    "display(pair_corr_df[(pair_corr_df['p-corr'] < 0.1)].sort_values(by='p-corr')[['X', 'Y', 'n', 'r', 'p-corr', 'p-adjust']])"
   ]
  },
  {
   "cell_type": "markdown",
   "metadata": {
    "hidden": true
   },
   "source": [
    "#### soc_anx"
   ]
  },
  {
   "cell_type": "code",
   "execution_count": 52,
   "metadata": {
    "hidden": true,
    "scrolled": true
   },
   "outputs": [
    {
     "name": "stdout",
     "output_type": "stream",
     "text": [
      "Pearson\n"
     ]
    },
    {
     "data": {
      "text/html": [
       "<div>\n",
       "<style scoped>\n",
       "    .dataframe tbody tr th:only-of-type {\n",
       "        vertical-align: middle;\n",
       "    }\n",
       "\n",
       "    .dataframe tbody tr th {\n",
       "        vertical-align: top;\n",
       "    }\n",
       "\n",
       "    .dataframe thead th {\n",
       "        text-align: right;\n",
       "    }\n",
       "</style>\n",
       "<table border=\"1\" class=\"dataframe\">\n",
       "  <thead>\n",
       "    <tr style=\"text-align: right;\">\n",
       "      <th></th>\n",
       "      <th>X</th>\n",
       "      <th>Y</th>\n",
       "      <th>n</th>\n",
       "      <th>r</th>\n",
       "      <th>p-corr</th>\n",
       "      <th>p-adjust</th>\n",
       "    </tr>\n",
       "  </thead>\n",
       "  <tbody>\n",
       "    <tr>\n",
       "      <th>7</th>\n",
       "      <td>social_place_dur_agg_change</td>\n",
       "      <td>spin_diff</td>\n",
       "      <td>202</td>\n",
       "      <td>-0.263</td>\n",
       "      <td>0.002047</td>\n",
       "      <td>fdr_bh</td>\n",
       "    </tr>\n",
       "    <tr>\n",
       "      <th>1</th>\n",
       "      <td>passive_apps_agg_change</td>\n",
       "      <td>spin_diff</td>\n",
       "      <td>202</td>\n",
       "      <td>0.224</td>\n",
       "      <td>0.008988</td>\n",
       "      <td>fdr_bh</td>\n",
       "    </tr>\n",
       "  </tbody>\n",
       "</table>\n",
       "</div>"
      ],
      "text/plain": [
       "                             X          Y    n      r    p-corr p-adjust\n",
       "7  social_place_dur_agg_change  spin_diff  202 -0.263  0.002047   fdr_bh\n",
       "1      passive_apps_agg_change  spin_diff  202  0.224  0.008988   fdr_bh"
      ]
     },
     "metadata": {},
     "output_type": "display_data"
    },
    {
     "name": "stdout",
     "output_type": "stream",
     "text": [
      "Spearman\n"
     ]
    },
    {
     "data": {
      "text/html": [
       "<div>\n",
       "<style scoped>\n",
       "    .dataframe tbody tr th:only-of-type {\n",
       "        vertical-align: middle;\n",
       "    }\n",
       "\n",
       "    .dataframe tbody tr th {\n",
       "        vertical-align: top;\n",
       "    }\n",
       "\n",
       "    .dataframe thead th {\n",
       "        text-align: right;\n",
       "    }\n",
       "</style>\n",
       "<table border=\"1\" class=\"dataframe\">\n",
       "  <thead>\n",
       "    <tr style=\"text-align: right;\">\n",
       "      <th></th>\n",
       "      <th>X</th>\n",
       "      <th>Y</th>\n",
       "      <th>n</th>\n",
       "      <th>r</th>\n",
       "      <th>p-corr</th>\n",
       "      <th>p-adjust</th>\n",
       "    </tr>\n",
       "  </thead>\n",
       "  <tbody>\n",
       "    <tr>\n",
       "      <th>1</th>\n",
       "      <td>passive_apps_agg_change</td>\n",
       "      <td>spin_diff</td>\n",
       "      <td>202</td>\n",
       "      <td>0.195</td>\n",
       "      <td>0.070704</td>\n",
       "      <td>fdr_bh</td>\n",
       "    </tr>\n",
       "    <tr>\n",
       "      <th>6</th>\n",
       "      <td>other_dur_agg_change</td>\n",
       "      <td>spin_diff</td>\n",
       "      <td>202</td>\n",
       "      <td>0.174</td>\n",
       "      <td>0.086603</td>\n",
       "      <td>fdr_bh</td>\n",
       "    </tr>\n",
       "  </tbody>\n",
       "</table>\n",
       "</div>"
      ],
      "text/plain": [
       "                         X          Y    n      r    p-corr p-adjust\n",
       "1  passive_apps_agg_change  spin_diff  202  0.195  0.070704   fdr_bh\n",
       "6     other_dur_agg_change  spin_diff  202  0.174  0.086603   fdr_bh"
      ]
     },
     "metadata": {},
     "output_type": "display_data"
    }
   ],
   "source": [
    "sel_state_df = agg_df[agg_df['baseline_cluster'] == 'soc_anx']\n",
    "\n",
    "print(\"Pearson\")\n",
    "pair_corr_df = pg.pairwise_corr(sel_state_df, columns=[agg_cols_change, ['spin_diff']], nan_policy='pairwise', padjust=\"fdr_bh\")\n",
    "display(pair_corr_df[(pair_corr_df['p-corr'] < 0.1)].sort_values(by='p-corr')[['X', 'Y', 'n', 'r', 'p-corr', 'p-adjust']])\n",
    "\n",
    "print(\"Spearman\")\n",
    "pair_corr_df = pg.pairwise_corr(sel_state_df, columns=[agg_cols_change, ['spin_diff']], nan_policy='pairwise', method='spearman', padjust=\"fdr_bh\")\n",
    "display(pair_corr_df[(pair_corr_df['p-corr'] < 0.1)].sort_values(by='p-corr')[['X', 'Y', 'n', 'r', 'p-corr', 'p-adjust']])"
   ]
  },
  {
   "cell_type": "code",
   "execution_count": 53,
   "metadata": {
    "hidden": true
   },
   "outputs": [
    {
     "data": {
      "image/png": "[encoded data removed]",
      "text/plain": [
       "<Figure size 576x432 with 1 Axes>"
      ]
     },
     "metadata": {
      "needs_background": "light"
     },
     "output_type": "display_data"
    }
   ],
   "source": [
    "ls_utils.plot_cluster_scatter('passive_apps_agg_change', 'spin_diff', sel_state_df, 'soc_anx', (8,6))"
   ]
  },
  {
   "cell_type": "markdown",
   "metadata": {
    "hidden": true
   },
   "source": [
    "#### gen_anx"
   ]
  },
  {
   "cell_type": "code",
   "execution_count": 54,
   "metadata": {
    "hidden": true
   },
   "outputs": [
    {
     "name": "stdout",
     "output_type": "stream",
     "text": [
      "Pearson\n"
     ]
    },
    {
     "data": {
      "text/html": [
       "<div>\n",
       "<style scoped>\n",
       "    .dataframe tbody tr th:only-of-type {\n",
       "        vertical-align: middle;\n",
       "    }\n",
       "\n",
       "    .dataframe tbody tr th {\n",
       "        vertical-align: top;\n",
       "    }\n",
       "\n",
       "    .dataframe thead th {\n",
       "        text-align: right;\n",
       "    }\n",
       "</style>\n",
       "<table border=\"1\" class=\"dataframe\">\n",
       "  <thead>\n",
       "    <tr style=\"text-align: right;\">\n",
       "      <th></th>\n",
       "      <th>X</th>\n",
       "      <th>Y</th>\n",
       "      <th>n</th>\n",
       "      <th>r</th>\n",
       "      <th>p-corr</th>\n",
       "      <th>p-adjust</th>\n",
       "    </tr>\n",
       "  </thead>\n",
       "  <tbody>\n",
       "  </tbody>\n",
       "</table>\n",
       "</div>"
      ],
      "text/plain": [
       "Empty DataFrame\n",
       "Columns: [X, Y, n, r, p-corr, p-adjust]\n",
       "Index: []"
      ]
     },
     "metadata": {},
     "output_type": "display_data"
    },
    {
     "name": "stdout",
     "output_type": "stream",
     "text": [
      "Spearman\n"
     ]
    },
    {
     "data": {
      "text/html": [
       "<div>\n",
       "<style scoped>\n",
       "    .dataframe tbody tr th:only-of-type {\n",
       "        vertical-align: middle;\n",
       "    }\n",
       "\n",
       "    .dataframe tbody tr th {\n",
       "        vertical-align: top;\n",
       "    }\n",
       "\n",
       "    .dataframe thead th {\n",
       "        text-align: right;\n",
       "    }\n",
       "</style>\n",
       "<table border=\"1\" class=\"dataframe\">\n",
       "  <thead>\n",
       "    <tr style=\"text-align: right;\">\n",
       "      <th></th>\n",
       "      <th>X</th>\n",
       "      <th>Y</th>\n",
       "      <th>n</th>\n",
       "      <th>r</th>\n",
       "      <th>p-corr</th>\n",
       "      <th>p-adjust</th>\n",
       "    </tr>\n",
       "  </thead>\n",
       "  <tbody>\n",
       "  </tbody>\n",
       "</table>\n",
       "</div>"
      ],
      "text/plain": [
       "Empty DataFrame\n",
       "Columns: [X, Y, n, r, p-corr, p-adjust]\n",
       "Index: []"
      ]
     },
     "metadata": {},
     "output_type": "display_data"
    }
   ],
   "source": [
    "sel_state_df = agg_df[agg_df['baseline_cluster'] == 'gen_anx']\n",
    "print(\"Pearson\")\n",
    "pair_corr_df = pg.pairwise_corr(sel_state_df, columns=[agg_cols_change, ['spin_diff']], nan_policy='pairwise', method='pearson', padjust=\"fdr_bh\")\n",
    "display(pair_corr_df[(pair_corr_df['p-corr'] < 0.1)].sort_values(by='p-corr')[['X', 'Y', 'n', 'r', 'p-corr', 'p-adjust']])\n",
    "\n",
    "print(\"Spearman\")\n",
    "pair_corr_df = pg.pairwise_corr(sel_state_df, columns=[agg_cols_change, ['spin_diff']], method='spearman', padjust=\"fdr_bh\")\n",
    "display(pair_corr_df[(pair_corr_df['p-corr'] < 0.1)].sort_values(by='p-corr')[['X', 'Y', 'n', 'r', 'p-corr', 'p-adjust']])"
   ]
  },
  {
   "cell_type": "markdown",
   "metadata": {
    "hidden": true
   },
   "source": [
    "#### dep_anx"
   ]
  },
  {
   "cell_type": "code",
   "execution_count": 56,
   "metadata": {
    "hidden": true
   },
   "outputs": [
    {
     "name": "stdout",
     "output_type": "stream",
     "text": [
      "Pearson\n"
     ]
    },
    {
     "data": {
      "text/html": [
       "<div>\n",
       "<style scoped>\n",
       "    .dataframe tbody tr th:only-of-type {\n",
       "        vertical-align: middle;\n",
       "    }\n",
       "\n",
       "    .dataframe tbody tr th {\n",
       "        vertical-align: top;\n",
       "    }\n",
       "\n",
       "    .dataframe thead th {\n",
       "        text-align: right;\n",
       "    }\n",
       "</style>\n",
       "<table border=\"1\" class=\"dataframe\">\n",
       "  <thead>\n",
       "    <tr style=\"text-align: right;\">\n",
       "      <th></th>\n",
       "      <th>X</th>\n",
       "      <th>Y</th>\n",
       "      <th>n</th>\n",
       "      <th>r</th>\n",
       "      <th>p-corr</th>\n",
       "      <th>p-adjust</th>\n",
       "    </tr>\n",
       "  </thead>\n",
       "  <tbody>\n",
       "  </tbody>\n",
       "</table>\n",
       "</div>"
      ],
      "text/plain": [
       "Empty DataFrame\n",
       "Columns: [X, Y, n, r, p-corr, p-adjust]\n",
       "Index: []"
      ]
     },
     "metadata": {},
     "output_type": "display_data"
    },
    {
     "name": "stdout",
     "output_type": "stream",
     "text": [
      "Spearman\n"
     ]
    },
    {
     "data": {
      "text/html": [
       "<div>\n",
       "<style scoped>\n",
       "    .dataframe tbody tr th:only-of-type {\n",
       "        vertical-align: middle;\n",
       "    }\n",
       "\n",
       "    .dataframe tbody tr th {\n",
       "        vertical-align: top;\n",
       "    }\n",
       "\n",
       "    .dataframe thead th {\n",
       "        text-align: right;\n",
       "    }\n",
       "</style>\n",
       "<table border=\"1\" class=\"dataframe\">\n",
       "  <thead>\n",
       "    <tr style=\"text-align: right;\">\n",
       "      <th></th>\n",
       "      <th>X</th>\n",
       "      <th>Y</th>\n",
       "      <th>method</th>\n",
       "      <th>tail</th>\n",
       "      <th>n</th>\n",
       "      <th>r</th>\n",
       "      <th>CI95%</th>\n",
       "      <th>r2</th>\n",
       "      <th>adj_r2</th>\n",
       "      <th>z</th>\n",
       "      <th>p-unc</th>\n",
       "      <th>p-corr</th>\n",
       "      <th>p-adjust</th>\n",
       "      <th>power</th>\n",
       "    </tr>\n",
       "  </thead>\n",
       "  <tbody>\n",
       "  </tbody>\n",
       "</table>\n",
       "</div>"
      ],
      "text/plain": [
       "Empty DataFrame\n",
       "Columns: [X, Y, method, tail, n, r, CI95%, r2, adj_r2, z, p-unc, p-corr, p-adjust, power]\n",
       "Index: []"
      ]
     },
     "metadata": {},
     "output_type": "display_data"
    }
   ],
   "source": [
    "sel_state_df = agg_df[agg_df['baseline_cluster'] == 'dep_anx']\n",
    "print(\"Pearson\")\n",
    "pair_corr_df = pg.pairwise_corr(sel_state_df, columns=[agg_cols_change, ['spin_diff']], nan_policy='pairwise', padjust=\"fdr_bh\")\n",
    "display(pair_corr_df[(pair_corr_df['p-corr'] < 0.1)].sort_values(by='p-corr')[['X', 'Y', 'n', 'r', 'p-corr', 'p-adjust']])\n",
    "\n",
    "print(\"Spearman\")\n",
    "pair_corr_df = pg.pairwise_corr(sel_state_df, columns=[agg_cols_change, ['spin_diff']], method='spearman', padjust=\"fdr_bh\")\n",
    "display(pair_corr_df[(pair_corr_df['p-corr'] < 0.1)].sort_values(by='p-corr'))"
   ]
  },
  {
   "cell_type": "markdown",
   "metadata": {
    "heading_collapsed": true
   },
   "source": [
    "# GAD"
   ]
  },
  {
   "cell_type": "markdown",
   "metadata": {
    "hidden": true
   },
   "source": [
    "### Simple Correlation"
   ]
  },
  {
   "cell_type": "markdown",
   "metadata": {
    "hidden": true
   },
   "source": [
    "#### Full population"
   ]
  },
  {
   "cell_type": "code",
   "execution_count": 57,
   "metadata": {
    "hidden": true
   },
   "outputs": [
    {
     "name": "stdout",
     "output_type": "stream",
     "text": [
      "Pearson\n"
     ]
    },
    {
     "data": {
      "text/html": [
       "<div>\n",
       "<style scoped>\n",
       "    .dataframe tbody tr th:only-of-type {\n",
       "        vertical-align: middle;\n",
       "    }\n",
       "\n",
       "    .dataframe tbody tr th {\n",
       "        vertical-align: top;\n",
       "    }\n",
       "\n",
       "    .dataframe thead th {\n",
       "        text-align: right;\n",
       "    }\n",
       "</style>\n",
       "<table border=\"1\" class=\"dataframe\">\n",
       "  <thead>\n",
       "    <tr style=\"text-align: right;\">\n",
       "      <th></th>\n",
       "      <th>X</th>\n",
       "      <th>Y</th>\n",
       "      <th>n</th>\n",
       "      <th>r</th>\n",
       "      <th>p-corr</th>\n",
       "      <th>p-adjust</th>\n",
       "    </tr>\n",
       "  </thead>\n",
       "  <tbody>\n",
       "  </tbody>\n",
       "</table>\n",
       "</div>"
      ],
      "text/plain": [
       "Empty DataFrame\n",
       "Columns: [X, Y, n, r, p-corr, p-adjust]\n",
       "Index: []"
      ]
     },
     "metadata": {},
     "output_type": "display_data"
    },
    {
     "name": "stdout",
     "output_type": "stream",
     "text": [
      "Spearman\n"
     ]
    },
    {
     "data": {
      "text/html": [
       "<div>\n",
       "<style scoped>\n",
       "    .dataframe tbody tr th:only-of-type {\n",
       "        vertical-align: middle;\n",
       "    }\n",
       "\n",
       "    .dataframe tbody tr th {\n",
       "        vertical-align: top;\n",
       "    }\n",
       "\n",
       "    .dataframe thead th {\n",
       "        text-align: right;\n",
       "    }\n",
       "</style>\n",
       "<table border=\"1\" class=\"dataframe\">\n",
       "  <thead>\n",
       "    <tr style=\"text-align: right;\">\n",
       "      <th></th>\n",
       "      <th>X</th>\n",
       "      <th>Y</th>\n",
       "      <th>n</th>\n",
       "      <th>r</th>\n",
       "      <th>p-corr</th>\n",
       "      <th>p-adjust</th>\n",
       "    </tr>\n",
       "  </thead>\n",
       "  <tbody>\n",
       "    <tr>\n",
       "      <th>9</th>\n",
       "      <td>cal_agg_change</td>\n",
       "      <td>gad_diff</td>\n",
       "      <td>758</td>\n",
       "      <td>0.114</td>\n",
       "      <td>0.022510</td>\n",
       "      <td>fdr_bh</td>\n",
       "    </tr>\n",
       "    <tr>\n",
       "      <th>0</th>\n",
       "      <td>active_apps_agg_change</td>\n",
       "      <td>gad_diff</td>\n",
       "      <td>768</td>\n",
       "      <td>0.100</td>\n",
       "      <td>0.034962</td>\n",
       "      <td>fdr_bh</td>\n",
       "    </tr>\n",
       "    <tr>\n",
       "      <th>8</th>\n",
       "      <td>sms_agg_change</td>\n",
       "      <td>gad_diff</td>\n",
       "      <td>745</td>\n",
       "      <td>0.081</td>\n",
       "      <td>0.086909</td>\n",
       "      <td>fdr_bh</td>\n",
       "    </tr>\n",
       "    <tr>\n",
       "      <th>12</th>\n",
       "      <td>wkend_entropy_agg_change</td>\n",
       "      <td>gad_diff</td>\n",
       "      <td>719</td>\n",
       "      <td>-0.083</td>\n",
       "      <td>0.086909</td>\n",
       "      <td>fdr_bh</td>\n",
       "    </tr>\n",
       "  </tbody>\n",
       "</table>\n",
       "</div>"
      ],
      "text/plain": [
       "                           X         Y    n      r    p-corr p-adjust\n",
       "9             cal_agg_change  gad_diff  758  0.114  0.022510   fdr_bh\n",
       "0     active_apps_agg_change  gad_diff  768  0.100  0.034962   fdr_bh\n",
       "8             sms_agg_change  gad_diff  745  0.081  0.086909   fdr_bh\n",
       "12  wkend_entropy_agg_change  gad_diff  719 -0.083  0.086909   fdr_bh"
      ]
     },
     "metadata": {},
     "output_type": "display_data"
    }
   ],
   "source": [
    "print(\"Pearson\")\n",
    "pair_corr_df = pg.pairwise_corr(agg_df, columns=[agg_cols_change, ['gad_diff']], padjust=\"fdr_bh\")\n",
    "display(pair_corr_df[pair_corr_df['p-corr'] < 0.1].sort_values(by='p-corr')[['X', 'Y', 'n', 'r', 'p-corr', 'p-adjust']])\n",
    "print(\"Spearman\")\n",
    "pair_corr_df = pg.pairwise_corr(agg_df, columns=[agg_cols_change, ['gad_diff']], method='spearman', padjust=\"fdr_bh\")\n",
    "display(pair_corr_df[pair_corr_df['p-corr'] < 0.1].sort_values(by='p-corr')[['X', 'Y', 'n', 'r', 'p-corr', 'p-adjust']])"
   ]
  },
  {
   "cell_type": "markdown",
   "metadata": {
    "hidden": true
   },
   "source": [
    "#### no_symp"
   ]
  },
  {
   "cell_type": "code",
   "execution_count": 58,
   "metadata": {
    "hidden": true
   },
   "outputs": [
    {
     "name": "stdout",
     "output_type": "stream",
     "text": [
      "Pearson\n"
     ]
    },
    {
     "data": {
      "text/html": [
       "<div>\n",
       "<style scoped>\n",
       "    .dataframe tbody tr th:only-of-type {\n",
       "        vertical-align: middle;\n",
       "    }\n",
       "\n",
       "    .dataframe tbody tr th {\n",
       "        vertical-align: top;\n",
       "    }\n",
       "\n",
       "    .dataframe thead th {\n",
       "        text-align: right;\n",
       "    }\n",
       "</style>\n",
       "<table border=\"1\" class=\"dataframe\">\n",
       "  <thead>\n",
       "    <tr style=\"text-align: right;\">\n",
       "      <th></th>\n",
       "      <th>X</th>\n",
       "      <th>Y</th>\n",
       "      <th>n</th>\n",
       "      <th>r</th>\n",
       "      <th>p-corr</th>\n",
       "      <th>p-adjust</th>\n",
       "    </tr>\n",
       "  </thead>\n",
       "  <tbody>\n",
       "  </tbody>\n",
       "</table>\n",
       "</div>"
      ],
      "text/plain": [
       "Empty DataFrame\n",
       "Columns: [X, Y, n, r, p-corr, p-adjust]\n",
       "Index: []"
      ]
     },
     "metadata": {},
     "output_type": "display_data"
    },
    {
     "name": "stdout",
     "output_type": "stream",
     "text": [
      "Spearman\n"
     ]
    },
    {
     "data": {
      "text/html": [
       "<div>\n",
       "<style scoped>\n",
       "    .dataframe tbody tr th:only-of-type {\n",
       "        vertical-align: middle;\n",
       "    }\n",
       "\n",
       "    .dataframe tbody tr th {\n",
       "        vertical-align: top;\n",
       "    }\n",
       "\n",
       "    .dataframe thead th {\n",
       "        text-align: right;\n",
       "    }\n",
       "</style>\n",
       "<table border=\"1\" class=\"dataframe\">\n",
       "  <thead>\n",
       "    <tr style=\"text-align: right;\">\n",
       "      <th></th>\n",
       "      <th>X</th>\n",
       "      <th>Y</th>\n",
       "      <th>n</th>\n",
       "      <th>r</th>\n",
       "      <th>p-corr</th>\n",
       "      <th>p-adjust</th>\n",
       "    </tr>\n",
       "  </thead>\n",
       "  <tbody>\n",
       "  </tbody>\n",
       "</table>\n",
       "</div>"
      ],
      "text/plain": [
       "Empty DataFrame\n",
       "Columns: [X, Y, n, r, p-corr, p-adjust]\n",
       "Index: []"
      ]
     },
     "metadata": {},
     "output_type": "display_data"
    }
   ],
   "source": [
    "sel_state_df = agg_df[agg_df['baseline_cluster'] == 'no_symp']\n",
    "print(\"Pearson\")\n",
    "pair_corr_df = pg.pairwise_corr(sel_state_df, columns=[agg_cols_change, ['gad_diff']], nan_policy='pairwise', padjust=\"fdr_bh\")\n",
    "display(pair_corr_df[(pair_corr_df['p-corr'] < 0.1)].sort_values(by='p-corr')[['X', 'Y', 'n', 'r', 'p-corr', 'p-adjust']])\n",
    "\n",
    "print(\"Spearman\")\n",
    "pair_corr_df = pg.pairwise_corr(sel_state_df, columns=[agg_cols_change, ['gad_diff']], nan_policy='pairwise', method='spearman', padjust=\"fdr_bh\")\n",
    "display(pair_corr_df[(pair_corr_df['p-corr'] < 0.1)].sort_values(by='p-corr')[['X', 'Y', 'n', 'r', 'p-corr', 'p-adjust']])"
   ]
  },
  {
   "cell_type": "markdown",
   "metadata": {
    "hidden": true
   },
   "source": [
    "#### soc_anx"
   ]
  },
  {
   "cell_type": "code",
   "execution_count": 59,
   "metadata": {
    "hidden": true
   },
   "outputs": [
    {
     "name": "stdout",
     "output_type": "stream",
     "text": [
      "Pearson\n"
     ]
    },
    {
     "data": {
      "text/html": [
       "<div>\n",
       "<style scoped>\n",
       "    .dataframe tbody tr th:only-of-type {\n",
       "        vertical-align: middle;\n",
       "    }\n",
       "\n",
       "    .dataframe tbody tr th {\n",
       "        vertical-align: top;\n",
       "    }\n",
       "\n",
       "    .dataframe thead th {\n",
       "        text-align: right;\n",
       "    }\n",
       "</style>\n",
       "<table border=\"1\" class=\"dataframe\">\n",
       "  <thead>\n",
       "    <tr style=\"text-align: right;\">\n",
       "      <th></th>\n",
       "      <th>X</th>\n",
       "      <th>Y</th>\n",
       "      <th>n</th>\n",
       "      <th>r</th>\n",
       "      <th>p-corr</th>\n",
       "      <th>p-adjust</th>\n",
       "    </tr>\n",
       "  </thead>\n",
       "  <tbody>\n",
       "  </tbody>\n",
       "</table>\n",
       "</div>"
      ],
      "text/plain": [
       "Empty DataFrame\n",
       "Columns: [X, Y, n, r, p-corr, p-adjust]\n",
       "Index: []"
      ]
     },
     "metadata": {},
     "output_type": "display_data"
    },
    {
     "name": "stdout",
     "output_type": "stream",
     "text": [
      "Spearman\n"
     ]
    },
    {
     "data": {
      "text/html": [
       "<div>\n",
       "<style scoped>\n",
       "    .dataframe tbody tr th:only-of-type {\n",
       "        vertical-align: middle;\n",
       "    }\n",
       "\n",
       "    .dataframe tbody tr th {\n",
       "        vertical-align: top;\n",
       "    }\n",
       "\n",
       "    .dataframe thead th {\n",
       "        text-align: right;\n",
       "    }\n",
       "</style>\n",
       "<table border=\"1\" class=\"dataframe\">\n",
       "  <thead>\n",
       "    <tr style=\"text-align: right;\">\n",
       "      <th></th>\n",
       "      <th>X</th>\n",
       "      <th>Y</th>\n",
       "      <th>n</th>\n",
       "      <th>r</th>\n",
       "      <th>p-corr</th>\n",
       "      <th>p-adjust</th>\n",
       "    </tr>\n",
       "  </thead>\n",
       "  <tbody>\n",
       "    <tr>\n",
       "      <th>0</th>\n",
       "      <td>active_apps_agg_change</td>\n",
       "      <td>gad_diff</td>\n",
       "      <td>202</td>\n",
       "      <td>0.199</td>\n",
       "      <td>0.058627</td>\n",
       "      <td>fdr_bh</td>\n",
       "    </tr>\n",
       "  </tbody>\n",
       "</table>\n",
       "</div>"
      ],
      "text/plain": [
       "                        X         Y    n      r    p-corr p-adjust\n",
       "0  active_apps_agg_change  gad_diff  202  0.199  0.058627   fdr_bh"
      ]
     },
     "metadata": {},
     "output_type": "display_data"
    }
   ],
   "source": [
    "sel_state_df = agg_df[agg_df['baseline_cluster'] == 'soc_anx']\n",
    "\n",
    "print(\"Pearson\")\n",
    "pair_corr_df = pg.pairwise_corr(sel_state_df, columns=[agg_cols_change, ['gad_diff']], nan_policy='pairwise', padjust=\"fdr_bh\")\n",
    "display(pair_corr_df[(pair_corr_df['p-corr'] < 0.1)].sort_values(by='p-corr')[['X', 'Y', 'n', 'r', 'p-corr', 'p-adjust']])\n",
    "\n",
    "print(\"Spearman\")\n",
    "pair_corr_df = pg.pairwise_corr(sel_state_df, columns=[agg_cols_change, ['gad_diff']], nan_policy='pairwise', method='spearman', padjust=\"fdr_bh\")\n",
    "display(pair_corr_df[(pair_corr_df['p-corr'] < 0.1)].sort_values(by='p-corr')[['X', 'Y', 'n', 'r', 'p-corr', 'p-adjust']])"
   ]
  },
  {
   "cell_type": "markdown",
   "metadata": {
    "hidden": true
   },
   "source": [
    "#### gen_anx"
   ]
  },
  {
   "cell_type": "code",
   "execution_count": 60,
   "metadata": {
    "hidden": true,
    "scrolled": false
   },
   "outputs": [
    {
     "name": "stdout",
     "output_type": "stream",
     "text": [
      "Pearson\n"
     ]
    },
    {
     "data": {
      "text/html": [
       "<div>\n",
       "<style scoped>\n",
       "    .dataframe tbody tr th:only-of-type {\n",
       "        vertical-align: middle;\n",
       "    }\n",
       "\n",
       "    .dataframe tbody tr th {\n",
       "        vertical-align: top;\n",
       "    }\n",
       "\n",
       "    .dataframe thead th {\n",
       "        text-align: right;\n",
       "    }\n",
       "</style>\n",
       "<table border=\"1\" class=\"dataframe\">\n",
       "  <thead>\n",
       "    <tr style=\"text-align: right;\">\n",
       "      <th></th>\n",
       "      <th>X</th>\n",
       "      <th>Y</th>\n",
       "      <th>n</th>\n",
       "      <th>r</th>\n",
       "      <th>p-corr</th>\n",
       "      <th>p-adjust</th>\n",
       "    </tr>\n",
       "  </thead>\n",
       "  <tbody>\n",
       "  </tbody>\n",
       "</table>\n",
       "</div>"
      ],
      "text/plain": [
       "Empty DataFrame\n",
       "Columns: [X, Y, n, r, p-corr, p-adjust]\n",
       "Index: []"
      ]
     },
     "metadata": {},
     "output_type": "display_data"
    },
    {
     "name": "stdout",
     "output_type": "stream",
     "text": [
      "Spearman\n"
     ]
    },
    {
     "data": {
      "text/html": [
       "<div>\n",
       "<style scoped>\n",
       "    .dataframe tbody tr th:only-of-type {\n",
       "        vertical-align: middle;\n",
       "    }\n",
       "\n",
       "    .dataframe tbody tr th {\n",
       "        vertical-align: top;\n",
       "    }\n",
       "\n",
       "    .dataframe thead th {\n",
       "        text-align: right;\n",
       "    }\n",
       "</style>\n",
       "<table border=\"1\" class=\"dataframe\">\n",
       "  <thead>\n",
       "    <tr style=\"text-align: right;\">\n",
       "      <th></th>\n",
       "      <th>X</th>\n",
       "      <th>Y</th>\n",
       "      <th>n</th>\n",
       "      <th>r</th>\n",
       "      <th>p-corr</th>\n",
       "      <th>p-adjust</th>\n",
       "    </tr>\n",
       "  </thead>\n",
       "  <tbody>\n",
       "    <tr>\n",
       "      <th>0</th>\n",
       "      <td>active_apps_agg_change</td>\n",
       "      <td>gad_diff</td>\n",
       "      <td>176</td>\n",
       "      <td>0.24</td>\n",
       "      <td>0.017024</td>\n",
       "      <td>fdr_bh</td>\n",
       "    </tr>\n",
       "  </tbody>\n",
       "</table>\n",
       "</div>"
      ],
      "text/plain": [
       "                        X         Y    n     r    p-corr p-adjust\n",
       "0  active_apps_agg_change  gad_diff  176  0.24  0.017024   fdr_bh"
      ]
     },
     "metadata": {},
     "output_type": "display_data"
    }
   ],
   "source": [
    "sel_state_df = agg_df[agg_df['baseline_cluster'] == 'gen_anx']\n",
    "print(\"Pearson\")\n",
    "pair_corr_df = pg.pairwise_corr(sel_state_df, columns=[agg_cols_change, ['gad_diff']], nan_policy='pairwise', method='pearson', padjust=\"fdr_bh\")\n",
    "display(pair_corr_df[(pair_corr_df['p-corr'] < 0.1)].sort_values(by='p-corr')[['X', 'Y', 'n', 'r', 'p-corr', 'p-adjust']])\n",
    "\n",
    "print(\"Spearman\")\n",
    "pair_corr_df = pg.pairwise_corr(sel_state_df, columns=[agg_cols_change, ['gad_diff']], method='spearman', padjust=\"fdr_bh\")\n",
    "display(pair_corr_df[(pair_corr_df['p-corr'] < 0.1)].sort_values(by='p-corr')[['X', 'Y', 'n', 'r', 'p-corr', 'p-adjust']])"
   ]
  },
  {
   "cell_type": "markdown",
   "metadata": {
    "hidden": true
   },
   "source": [
    "#### dep_anx"
   ]
  },
  {
   "cell_type": "code",
   "execution_count": 61,
   "metadata": {
    "hidden": true,
    "scrolled": true
   },
   "outputs": [
    {
     "name": "stdout",
     "output_type": "stream",
     "text": [
      "Pearson\n"
     ]
    },
    {
     "data": {
      "text/html": [
       "<div>\n",
       "<style scoped>\n",
       "    .dataframe tbody tr th:only-of-type {\n",
       "        vertical-align: middle;\n",
       "    }\n",
       "\n",
       "    .dataframe tbody tr th {\n",
       "        vertical-align: top;\n",
       "    }\n",
       "\n",
       "    .dataframe thead th {\n",
       "        text-align: right;\n",
       "    }\n",
       "</style>\n",
       "<table border=\"1\" class=\"dataframe\">\n",
       "  <thead>\n",
       "    <tr style=\"text-align: right;\">\n",
       "      <th></th>\n",
       "      <th>X</th>\n",
       "      <th>Y</th>\n",
       "      <th>n</th>\n",
       "      <th>r</th>\n",
       "      <th>p-corr</th>\n",
       "      <th>p-adjust</th>\n",
       "    </tr>\n",
       "  </thead>\n",
       "  <tbody>\n",
       "  </tbody>\n",
       "</table>\n",
       "</div>"
      ],
      "text/plain": [
       "Empty DataFrame\n",
       "Columns: [X, Y, n, r, p-corr, p-adjust]\n",
       "Index: []"
      ]
     },
     "metadata": {},
     "output_type": "display_data"
    },
    {
     "name": "stdout",
     "output_type": "stream",
     "text": [
      "Spearman\n"
     ]
    },
    {
     "data": {
      "text/html": [
       "<div>\n",
       "<style scoped>\n",
       "    .dataframe tbody tr th:only-of-type {\n",
       "        vertical-align: middle;\n",
       "    }\n",
       "\n",
       "    .dataframe tbody tr th {\n",
       "        vertical-align: top;\n",
       "    }\n",
       "\n",
       "    .dataframe thead th {\n",
       "        text-align: right;\n",
       "    }\n",
       "</style>\n",
       "<table border=\"1\" class=\"dataframe\">\n",
       "  <thead>\n",
       "    <tr style=\"text-align: right;\">\n",
       "      <th></th>\n",
       "      <th>X</th>\n",
       "      <th>Y</th>\n",
       "      <th>n</th>\n",
       "      <th>r</th>\n",
       "      <th>p-corr</th>\n",
       "      <th>p-adjust</th>\n",
       "    </tr>\n",
       "  </thead>\n",
       "  <tbody>\n",
       "    <tr>\n",
       "      <th>2</th>\n",
       "      <td>social_apps_agg_change</td>\n",
       "      <td>gad_diff</td>\n",
       "      <td>138</td>\n",
       "      <td>-0.259</td>\n",
       "      <td>0.028261</td>\n",
       "      <td>fdr_bh</td>\n",
       "    </tr>\n",
       "  </tbody>\n",
       "</table>\n",
       "</div>"
      ],
      "text/plain": [
       "                        X         Y    n      r    p-corr p-adjust\n",
       "2  social_apps_agg_change  gad_diff  138 -0.259  0.028261   fdr_bh"
      ]
     },
     "metadata": {},
     "output_type": "display_data"
    }
   ],
   "source": [
    "sel_state_df = agg_df[agg_df['baseline_cluster'] == 'dep_anx']\n",
    "print(\"Pearson\")\n",
    "pair_corr_df = pg.pairwise_corr(sel_state_df, columns=[agg_cols_change, ['gad_diff']], nan_policy='pairwise', padjust=\"fdr_bh\")\n",
    "display(pair_corr_df[(pair_corr_df['p-corr'] < 0.1)].sort_values(by='p-corr')[['X', 'Y', 'n', 'r', 'p-corr', 'p-adjust']])\n",
    "\n",
    "print(\"Spearman\")\n",
    "pair_corr_df = pg.pairwise_corr(sel_state_df, columns=[agg_cols_change, ['gad_diff']], method='spearman', padjust=\"fdr_bh\")\n",
    "display(pair_corr_df[(pair_corr_df['p-corr'] < 0.1)].sort_values(by='p-corr')[['X', 'Y', 'n', 'r', 'p-corr', 'p-adjust']])"
   ]
  },
  {
   "cell_type": "code",
   "execution_count": 62,
   "metadata": {
    "hidden": true
   },
   "outputs": [
    {
     "data": {
      "image/png": "[encoded data removed]",
      "text/plain": [
       "<Figure size 576x432 with 1 Axes>"
      ]
     },
     "metadata": {
      "needs_background": "light"
     },
     "output_type": "display_data"
    }
   ],
   "source": [
    "ls_utils.plot_cluster_scatter('social_apps_agg_change', 'gad_diff', agg_df, 'dep_anx', (8,6))"
   ]
  },
  {
   "cell_type": "markdown",
   "metadata": {},
   "source": [
    "# Reverse SPIN/GAD"
   ]
  },
  {
   "cell_type": "markdown",
   "metadata": {},
   "source": [
    "## Build reversed df"
   ]
  },
  {
   "cell_type": "code",
   "execution_count": 84,
   "metadata": {},
   "outputs": [],
   "source": [
    "# load fus and circ data\n",
    "rev_fus_daily = pd.read_pickle(\"wave1_features/fus_gad_start_0_14.df\")\n",
    "rev_circ_dict = pickle.load(open(\"wave1_features/circ_gad_start_0_14.dict\", \"rb\"))"
   ]
  },
  {
   "cell_type": "code",
   "execution_count": 85,
   "metadata": {},
   "outputs": [],
   "source": [
    "# correction for Series values in list, though it doesn't seem to have affected anything??\n",
    "rev_new_dict = {}\n",
    "for col, vals in rev_circ_dict.items():\n",
    "    new_vals = []\n",
    "    for v in vals:\n",
    "        if isinstance(v, pd.Series):\n",
    "            new_vals.append(v[0])\n",
    "        else:\n",
    "            new_vals.append(v)\n",
    "    rev_new_dict[col] = new_vals\n",
    "rev_circ_dict = rev_new_dict"
   ]
  },
  {
   "cell_type": "markdown",
   "metadata": {},
   "source": [
    "### Calculate shifted change"
   ]
  },
  {
   "cell_type": "code",
   "execution_count": 86,
   "metadata": {},
   "outputs": [],
   "source": [
    "spin_fill_df['date'] = spin_fill_df['spin_start'].dt.normalize()"
   ]
  },
  {
   "cell_type": "code",
   "execution_count": 87,
   "metadata": {},
   "outputs": [],
   "source": [
    "spin_fill_df['spin_total_shift'] = spin_fill_df.groupby('pid')['spin_total'].shift(1)\n",
    "spin_fill_df['spin_diff'] = spin_fill_df['spin_total'] - spin_fill_df['spin_total_shift']"
   ]
  },
  {
   "cell_type": "code",
   "execution_count": 88,
   "metadata": {},
   "outputs": [],
   "source": [
    "spin_fill_df['gad_total_shift'] = spin_fill_df.groupby('pid')['gad_total'].shift(1)\n",
    "spin_fill_df['gad_diff'] = spin_fill_df['gad_total'] - spin_fill_df['gad_total_shift']"
   ]
  },
  {
   "cell_type": "code",
   "execution_count": 89,
   "metadata": {},
   "outputs": [
    {
     "name": "stdout",
     "output_type": "stream",
     "text": [
      "CPU times: user 58.8 s, sys: 193 ms, total: 59 s\n",
      "Wall time: 1min\n"
     ]
    }
   ],
   "source": [
    "%%time\n",
    "\n",
    "sms_dict = ls_utils.build_col_dict(sms_cols, sms_daily, spin_fill_df, 'spin_start', pre_days=0, post_days=14)\n",
    "cal_dict = ls_utils.build_col_dict(cal_cols, cal_daily, spin_fill_df, 'spin_start', pre_days=0, post_days=14)\n",
    "fga_dict = ls_utils.build_col_dict(fga_cols, fga_daily, spin_fill_df, 'spin_start', pre_days=0, post_days=14)\n",
    "sloc_dict = ls_utils.build_col_dict(sloc_cols, sloc_daily, spin_fill_df, 'spin_start', pre_days=0, post_days=14)"
   ]
  },
  {
   "cell_type": "code",
   "execution_count": 90,
   "metadata": {},
   "outputs": [],
   "source": [
    "rev_dig_state_df = spin_fill_df.copy()\n",
    "\n",
    "sensor_dicts = [sms_dict, cal_dict, fga_dict, sloc_dict, rev_circ_dict]\n",
    "sensor_cols = sms_cols + cal_cols + fga_cols + sloc_cols + circ_cols\n",
    "\n",
    "for sensor_dict in sensor_dicts:\n",
    "    for col, vals in sensor_dict.items():\n",
    "        rev_dig_state_df[col] = vals\n",
    "\n",
    "# merge fused location       \n",
    "rev_dig_state_df = rev_dig_state_df.merge(fus_daily, how='left', on=['pid', 'study_wk'])\n",
    "rev_dig_state_df = rev_dig_state_df.replace([np.inf, -np.inf], np.nan)"
   ]
  },
  {
   "cell_type": "markdown",
   "metadata": {},
   "source": [
    "## Aggregate features"
   ]
  },
  {
   "cell_type": "markdown",
   "metadata": {},
   "source": [
    "### fga"
   ]
  },
  {
   "cell_type": "code",
   "execution_count": 91,
   "metadata": {},
   "outputs": [],
   "source": [
    "rev_agg_df = rev_dig_state_df.copy()\n",
    "rev_agg_df[fga_cols] = (rev_agg_df[fga_cols] - rev_agg_df[fga_cols].mean()) / rev_agg_df[fga_cols].std()\n",
    "rev_agg_df['active_apps_agg'] = rev_agg_df[active_apps].mean(axis=1)\n",
    "rev_agg_df['passive_apps_agg'] = rev_agg_df[passive_apps].mean(axis=1)\n",
    "rev_agg_df['social_apps_agg'] = rev_agg_df[social_apps].mean(axis=1)"
   ]
  },
  {
   "cell_type": "markdown",
   "metadata": {},
   "source": [
    "### sloc"
   ]
  },
  {
   "cell_type": "code",
   "execution_count": 92,
   "metadata": {},
   "outputs": [],
   "source": [
    "rev_agg_df[sloc_dur_cols] = (rev_agg_df[sloc_dur_cols] - rev_agg_df[sloc_dur_cols].mean()) / rev_agg_df[sloc_dur_cols].std()\n",
    "rev_agg_df['work_dur_agg'] = rev_agg_df[work_places]\n",
    "rev_agg_df['home_dur_agg'] = rev_agg_df[home_places]\n",
    "rev_agg_df['religion_exercise_dur_agg'] = rev_agg_df[religion_exercise_places].mean(axis=1)\n",
    "rev_agg_df['other_dur_agg'] = rev_agg_df[other_places].mean(axis=1)\n",
    "rev_agg_df['social_place_dur_agg'] = rev_agg_df[social_places].mean(axis=1)"
   ]
  },
  {
   "cell_type": "markdown",
   "metadata": {},
   "source": [
    "### comm"
   ]
  },
  {
   "cell_type": "code",
   "execution_count": 93,
   "metadata": {},
   "outputs": [],
   "source": [
    "rev_agg_df[sms_cols] = (rev_agg_df[sms_cols] - rev_agg_df[sms_cols].mean()) / rev_agg_df[sms_cols].std()\n",
    "rev_agg_df[cal_cols] = (rev_agg_df[cal_cols] - rev_agg_df[cal_cols].mean()) / rev_agg_df[cal_cols].std()\n",
    "rev_agg_df['sms_agg'] = rev_agg_df[sms_cols].mean(axis=1)\n",
    "rev_agg_df['cal_agg'] = rev_agg_df[cal_cols].mean(axis=1)"
   ]
  },
  {
   "cell_type": "markdown",
   "metadata": {},
   "source": [
    "### fus"
   ]
  },
  {
   "cell_type": "code",
   "execution_count": 94,
   "metadata": {},
   "outputs": [],
   "source": [
    "rev_agg_df[loc_cols] = (rev_agg_df[loc_cols] - rev_agg_df[loc_cols].mean()) / rev_agg_df[loc_cols].std()\n",
    "rev_agg_df['movt_agg'] = rev_agg_df[movt_cols].mean(axis=1)\n",
    "rev_agg_df['wkday_total_entropy_agg'] = rev_agg_df[weekday_entropy].mean(axis=1)\n",
    "rev_agg_df['wkend_entropy_agg'] = rev_agg_df[weekend_entropy].mean(axis=1)"
   ]
  },
  {
   "cell_type": "markdown",
   "metadata": {},
   "source": [
    "## Shift columns"
   ]
  },
  {
   "cell_type": "code",
   "execution_count": 95,
   "metadata": {},
   "outputs": [],
   "source": [
    "agg_cols = rev_agg_df.columns[rev_agg_df.columns.str.endswith(\"agg\")]\n",
    "agg_cols_shift = [s + '_shift' for s in agg_cols]\n",
    "agg_cols_change = [s + '_change' for s in agg_cols]"
   ]
  },
  {
   "cell_type": "code",
   "execution_count": 96,
   "metadata": {},
   "outputs": [],
   "source": [
    "rev_agg_df[agg_cols_shift] = rev_agg_df.groupby('pid')[agg_cols].shift(1)"
   ]
  },
  {
   "cell_type": "code",
   "execution_count": 97,
   "metadata": {},
   "outputs": [],
   "source": [
    "for cur, prev, change in zip(agg_cols, agg_cols_shift, agg_cols_change):\n",
    "    rev_agg_df[change] = rev_agg_df[cur] - rev_agg_df[prev]"
   ]
  },
  {
   "cell_type": "code",
   "execution_count": 98,
   "metadata": {},
   "outputs": [
    {
     "data": {
      "text/plain": [
       "count    772.000000\n",
       "mean      -0.107513\n",
       "std        3.695631\n",
       "min      -14.000000\n",
       "25%       -2.000000\n",
       "50%        0.000000\n",
       "75%        2.000000\n",
       "max       15.000000\n",
       "Name: gad_diff, dtype: float64"
      ]
     },
     "execution_count": 98,
     "metadata": {},
     "output_type": "execute_result"
    }
   ],
   "source": [
    "rev_agg_df['gad_diff'].describe()"
   ]
  },
  {
   "cell_type": "code",
   "execution_count": 99,
   "metadata": {},
   "outputs": [
    {
     "data": {
      "text/plain": [
       "count    771.000000\n",
       "mean      -0.155642\n",
       "std        6.563112\n",
       "min      -30.000000\n",
       "25%       -3.000000\n",
       "50%        0.000000\n",
       "75%        3.000000\n",
       "max       36.000000\n",
       "Name: spin_diff, dtype: float64"
      ]
     },
     "execution_count": 99,
     "metadata": {},
     "output_type": "execute_result"
    }
   ],
   "source": [
    "rev_agg_df['spin_diff'].describe()"
   ]
  },
  {
   "cell_type": "markdown",
   "metadata": {
    "heading_collapsed": true
   },
   "source": [
    "# PHQ: 14 day lookback"
   ]
  },
  {
   "cell_type": "code",
   "execution_count": 63,
   "metadata": {
    "hidden": true
   },
   "outputs": [],
   "source": [
    "shift_df = pd.read_pickle(\"ls_data/phq_cluster_shift.df\")"
   ]
  },
  {
   "cell_type": "code",
   "execution_count": 64,
   "metadata": {
    "hidden": true
   },
   "outputs": [],
   "source": [
    "# load fus and circ data\n",
    "fus_daily = pd.read_pickle(\"wave1_features/fus_phq_start_14_-1.df\")\n",
    "circ_dict = pickle.load(open(\"wave1_features/circ_phq_start_14_-1.dict\", \"rb\"))"
   ]
  },
  {
   "cell_type": "code",
   "execution_count": 65,
   "metadata": {
    "hidden": true
   },
   "outputs": [],
   "source": [
    "# correction for Series values in list, though it doesn't seem to have affected anything??\n",
    "new_dict = {}\n",
    "for col, vals in circ_dict.items():\n",
    "    new_vals = []\n",
    "    for v in vals:\n",
    "        if isinstance(v, pd.Series):\n",
    "            new_vals.append(v[0])\n",
    "        else:\n",
    "            new_vals.append(v)\n",
    "    new_dict[col] = new_vals\n",
    "circ_dict = new_dict"
   ]
  },
  {
   "cell_type": "code",
   "execution_count": 66,
   "metadata": {
    "hidden": true
   },
   "outputs": [],
   "source": [
    "shift_df['date'] = shift_df['phq_start'].dt.normalize()"
   ]
  },
  {
   "cell_type": "code",
   "execution_count": 67,
   "metadata": {
    "hidden": true
   },
   "outputs": [
    {
     "name": "stdout",
     "output_type": "stream",
     "text": [
      "CPU times: user 45.4 s, sys: 40.3 ms, total: 45.5 s\n",
      "Wall time: 45.5 s\n"
     ]
    }
   ],
   "source": [
    "%%time\n",
    "\n",
    "sms_dict = ls_utils.build_col_dict(sms_cols, sms_daily, shift_df, 'phq_start', pre_days=14, post_days=-1)\n",
    "cal_dict = ls_utils.build_col_dict(cal_cols, cal_daily, shift_df, 'phq_start', pre_days=14, post_days=-1)\n",
    "fga_dict = ls_utils.build_col_dict(fga_cols, fga_daily, shift_df, 'phq_start', pre_days=14, post_days=-1)\n",
    "sloc_dict = ls_utils.build_col_dict(sloc_cols, sloc_daily, shift_df, 'phq_start', pre_days=14, post_days=-1)"
   ]
  },
  {
   "cell_type": "code",
   "execution_count": 68,
   "metadata": {
    "hidden": true
   },
   "outputs": [
    {
     "data": {
      "text/html": [
       "<div>\n",
       "<style scoped>\n",
       "    .dataframe tbody tr th:only-of-type {\n",
       "        vertical-align: middle;\n",
       "    }\n",
       "\n",
       "    .dataframe tbody tr th {\n",
       "        vertical-align: top;\n",
       "    }\n",
       "\n",
       "    .dataframe thead th {\n",
       "        text-align: right;\n",
       "    }\n",
       "</style>\n",
       "<table border=\"1\" class=\"dataframe\">\n",
       "  <thead>\n",
       "    <tr style=\"text-align: right;\">\n",
       "      <th></th>\n",
       "      <th>cluster</th>\n",
       "      <th>diff</th>\n",
       "      <th>mean_phq</th>\n",
       "      <th>phq01_sc</th>\n",
       "      <th>phq02_sc</th>\n",
       "      <th>phq03_sc</th>\n",
       "      <th>phq04_sc</th>\n",
       "      <th>phq05_sc</th>\n",
       "      <th>phq06_sc</th>\n",
       "      <th>phq07_sc</th>\n",
       "      <th>...</th>\n",
       "      <th>entropy_wkend</th>\n",
       "      <th>loc_var_total</th>\n",
       "      <th>loc_var_wkday</th>\n",
       "      <th>loc_var_wkend</th>\n",
       "      <th>norm_entropy_total</th>\n",
       "      <th>norm_entropy_wkday</th>\n",
       "      <th>norm_entropy_wkend</th>\n",
       "      <th>velocity_total</th>\n",
       "      <th>velocity_wkday</th>\n",
       "      <th>velocity_wkend</th>\n",
       "    </tr>\n",
       "  </thead>\n",
       "  <tbody>\n",
       "    <tr>\n",
       "      <th>0</th>\n",
       "      <td>3.0</td>\n",
       "      <td>NaT</td>\n",
       "      <td>9.714286</td>\n",
       "      <td>1</td>\n",
       "      <td>2</td>\n",
       "      <td>1</td>\n",
       "      <td>2</td>\n",
       "      <td>0</td>\n",
       "      <td>1</td>\n",
       "      <td>0</td>\n",
       "      <td>...</td>\n",
       "      <td>0.504176</td>\n",
       "      <td>-3.270545</td>\n",
       "      <td>-2.933953</td>\n",
       "      <td>-5.241677</td>\n",
       "      <td>0.230989</td>\n",
       "      <td>0.267115</td>\n",
       "      <td>0.191044</td>\n",
       "      <td>7.228884</td>\n",
       "      <td>8.305369</td>\n",
       "      <td>4.826638</td>\n",
       "    </tr>\n",
       "    <tr>\n",
       "      <th>1</th>\n",
       "      <td>3.0</td>\n",
       "      <td>20 days 19:32:10</td>\n",
       "      <td>9.714286</td>\n",
       "      <td>1</td>\n",
       "      <td>2</td>\n",
       "      <td>2</td>\n",
       "      <td>2</td>\n",
       "      <td>0</td>\n",
       "      <td>1</td>\n",
       "      <td>1</td>\n",
       "      <td>...</td>\n",
       "      <td>0.318589</td>\n",
       "      <td>-3.992103</td>\n",
       "      <td>-3.525627</td>\n",
       "      <td>-6.091229</td>\n",
       "      <td>0.182382</td>\n",
       "      <td>0.191694</td>\n",
       "      <td>0.177808</td>\n",
       "      <td>5.144077</td>\n",
       "      <td>6.141039</td>\n",
       "      <td>2.649001</td>\n",
       "    </tr>\n",
       "    <tr>\n",
       "      <th>2</th>\n",
       "      <td>3.0</td>\n",
       "      <td>21 days 00:04:12</td>\n",
       "      <td>9.714286</td>\n",
       "      <td>1</td>\n",
       "      <td>1</td>\n",
       "      <td>2</td>\n",
       "      <td>1</td>\n",
       "      <td>0</td>\n",
       "      <td>1</td>\n",
       "      <td>1</td>\n",
       "      <td>...</td>\n",
       "      <td>0.661245</td>\n",
       "      <td>-4.514528</td>\n",
       "      <td>-4.420466</td>\n",
       "      <td>-4.855950</td>\n",
       "      <td>0.175378</td>\n",
       "      <td>0.152578</td>\n",
       "      <td>0.228775</td>\n",
       "      <td>5.056099</td>\n",
       "      <td>4.347594</td>\n",
       "      <td>6.839301</td>\n",
       "    </tr>\n",
       "    <tr>\n",
       "      <th>3</th>\n",
       "      <td>3.0</td>\n",
       "      <td>21 days 02:46:57</td>\n",
       "      <td>9.714286</td>\n",
       "      <td>1</td>\n",
       "      <td>1</td>\n",
       "      <td>3</td>\n",
       "      <td>2</td>\n",
       "      <td>0</td>\n",
       "      <td>1</td>\n",
       "      <td>1</td>\n",
       "      <td>...</td>\n",
       "      <td>0.340592</td>\n",
       "      <td>-4.964505</td>\n",
       "      <td>-4.796124</td>\n",
       "      <td>-5.919636</td>\n",
       "      <td>0.180256</td>\n",
       "      <td>0.204614</td>\n",
       "      <td>0.147917</td>\n",
       "      <td>3.989529</td>\n",
       "      <td>4.033579</td>\n",
       "      <td>3.825982</td>\n",
       "    </tr>\n",
       "    <tr>\n",
       "      <th>4</th>\n",
       "      <td>3.0</td>\n",
       "      <td>20 days 21:08:34</td>\n",
       "      <td>9.714286</td>\n",
       "      <td>1</td>\n",
       "      <td>1</td>\n",
       "      <td>3</td>\n",
       "      <td>3</td>\n",
       "      <td>1</td>\n",
       "      <td>2</td>\n",
       "      <td>2</td>\n",
       "      <td>...</td>\n",
       "      <td>0.687668</td>\n",
       "      <td>-3.686849</td>\n",
       "      <td>-4.510184</td>\n",
       "      <td>-3.103347</td>\n",
       "      <td>0.219800</td>\n",
       "      <td>0.216094</td>\n",
       "      <td>0.268102</td>\n",
       "      <td>4.790311</td>\n",
       "      <td>4.550216</td>\n",
       "      <td>5.398051</td>\n",
       "    </tr>\n",
       "  </tbody>\n",
       "</table>\n",
       "<p>5 rows × 236 columns</p>\n",
       "</div>"
      ],
      "text/plain": [
       "   cluster              diff  mean_phq phq01_sc phq02_sc phq03_sc phq04_sc  \\\n",
       "0      3.0               NaT  9.714286        1        2        1        2   \n",
       "1      3.0  20 days 19:32:10  9.714286        1        2        2        2   \n",
       "2      3.0  21 days 00:04:12  9.714286        1        1        2        1   \n",
       "3      3.0  21 days 02:46:57  9.714286        1        1        3        2   \n",
       "4      3.0  20 days 21:08:34  9.714286        1        1        3        3   \n",
       "\n",
       "  phq05_sc phq06_sc phq07_sc  ... entropy_wkend loc_var_total loc_var_wkday  \\\n",
       "0        0        1        0  ...      0.504176     -3.270545     -2.933953   \n",
       "1        0        1        1  ...      0.318589     -3.992103     -3.525627   \n",
       "2        0        1        1  ...      0.661245     -4.514528     -4.420466   \n",
       "3        0        1        1  ...      0.340592     -4.964505     -4.796124   \n",
       "4        1        2        2  ...      0.687668     -3.686849     -4.510184   \n",
       "\n",
       "  loc_var_wkend  norm_entropy_total norm_entropy_wkday norm_entropy_wkend  \\\n",
       "0     -5.241677            0.230989           0.267115           0.191044   \n",
       "1     -6.091229            0.182382           0.191694           0.177808   \n",
       "2     -4.855950            0.175378           0.152578           0.228775   \n",
       "3     -5.919636            0.180256           0.204614           0.147917   \n",
       "4     -3.103347            0.219800           0.216094           0.268102   \n",
       "\n",
       "   velocity_total  velocity_wkday velocity_wkend  \n",
       "0        7.228884        8.305369       4.826638  \n",
       "1        5.144077        6.141039       2.649001  \n",
       "2        5.056099        4.347594       6.839301  \n",
       "3        3.989529        4.033579       3.825982  \n",
       "4        4.790311        4.550216       5.398051  \n",
       "\n",
       "[5 rows x 236 columns]"
      ]
     },
     "execution_count": 68,
     "metadata": {},
     "output_type": "execute_result"
    }
   ],
   "source": [
    "phq_state_df = shift_df.copy()\n",
    "\n",
    "sensor_dicts = [sms_dict, cal_dict, fga_dict, sloc_dict, circ_dict]\n",
    "sensor_cols = sms_cols + cal_cols + fga_cols + sloc_cols + circ_cols\n",
    "\n",
    "for sensor_dict in sensor_dicts:\n",
    "    for col, vals in sensor_dict.items():\n",
    "        phq_state_df[col] = vals\n",
    "phq_state_df = phq_state_df.merge(fus_daily, how='left', on=['pid', 'study_wk'])\n",
    "phq_state_df = phq_state_df.replace([np.inf, -np.inf], np.nan)\n",
    "\n",
    "phq_state_df.head()"
   ]
  },
  {
   "cell_type": "markdown",
   "metadata": {
    "hidden": true
   },
   "source": [
    "## Feature Aggregation"
   ]
  },
  {
   "cell_type": "markdown",
   "metadata": {
    "hidden": true
   },
   "source": [
    "### fga"
   ]
  },
  {
   "cell_type": "code",
   "execution_count": 69,
   "metadata": {
    "hidden": true
   },
   "outputs": [],
   "source": [
    "phq_agg_df = phq_state_df.copy()\n",
    "phq_agg_df[fga_cols] = (phq_agg_df[fga_cols] - phq_agg_df[fga_cols].mean()) / phq_agg_df[fga_cols].std()\n",
    "phq_agg_df['active_apps_agg'] = phq_agg_df[active_apps].mean(axis=1)\n",
    "phq_agg_df['passive_apps_agg'] = phq_agg_df[passive_apps].mean(axis=1)\n",
    "phq_agg_df['social_apps_agg'] = phq_agg_df[social_apps].mean(axis=1)"
   ]
  },
  {
   "cell_type": "markdown",
   "metadata": {
    "hidden": true
   },
   "source": [
    "### sloc"
   ]
  },
  {
   "cell_type": "code",
   "execution_count": 70,
   "metadata": {
    "hidden": true
   },
   "outputs": [],
   "source": [
    "phq_agg_df[sloc_dur_cols] = (phq_agg_df[sloc_dur_cols] - phq_agg_df[sloc_dur_cols].mean()) / phq_agg_df[sloc_dur_cols].std()\n",
    "phq_agg_df['work_dur_agg'] = phq_agg_df[work_places]\n",
    "phq_agg_df['home_dur_agg'] = phq_agg_df[home_places]\n",
    "phq_agg_df['religion_exercise_dur_agg'] = phq_agg_df[religion_exercise_places].mean(axis=1)\n",
    "phq_agg_df['other_dur_agg'] = phq_agg_df[other_places].mean(axis=1)\n",
    "phq_agg_df['social_place_dur_agg'] = phq_agg_df[social_places].mean(axis=1)"
   ]
  },
  {
   "cell_type": "markdown",
   "metadata": {
    "hidden": true
   },
   "source": [
    "### comm"
   ]
  },
  {
   "cell_type": "code",
   "execution_count": 71,
   "metadata": {
    "hidden": true
   },
   "outputs": [],
   "source": [
    "phq_agg_df[sms_cols] = (phq_agg_df[sms_cols] - phq_agg_df[sms_cols].mean()) / phq_agg_df[sms_cols].std()\n",
    "phq_agg_df[cal_cols] = (phq_agg_df[cal_cols] - phq_agg_df[cal_cols].mean()) / phq_agg_df[cal_cols].std()\n",
    "phq_agg_df['sms_agg'] = phq_agg_df[sms_cols].mean(axis=1)\n",
    "phq_agg_df['cal_agg'] = phq_agg_df[cal_cols].mean(axis=1)"
   ]
  },
  {
   "cell_type": "markdown",
   "metadata": {
    "hidden": true
   },
   "source": [
    "### fus"
   ]
  },
  {
   "cell_type": "code",
   "execution_count": 72,
   "metadata": {
    "hidden": true
   },
   "outputs": [],
   "source": [
    "phq_agg_df[loc_cols] = (phq_agg_df[loc_cols] - phq_agg_df[loc_cols].mean()) / phq_agg_df[loc_cols].std()\n",
    "phq_agg_df['movt_agg'] = phq_agg_df[movt_cols].mean(axis=1)\n",
    "phq_agg_df['wkday_total_entropy_agg'] = phq_agg_df[weekday_entropy].mean(axis=1)\n",
    "phq_agg_df['wkend_entropy_agg'] = phq_agg_df[weekend_entropy].mean(axis=1)"
   ]
  },
  {
   "cell_type": "markdown",
   "metadata": {
    "hidden": true
   },
   "source": [
    "## Shift feature columns"
   ]
  },
  {
   "cell_type": "code",
   "execution_count": 73,
   "metadata": {
    "hidden": true
   },
   "outputs": [],
   "source": [
    "agg_cols = phq_agg_df.columns[phq_agg_df.columns.str.endswith(\"agg\")]\n",
    "agg_cols_shift = [s + '_shift' for s in agg_cols]\n",
    "agg_cols_change = [s + '_change' for s in agg_cols]"
   ]
  },
  {
   "cell_type": "code",
   "execution_count": 74,
   "metadata": {
    "hidden": true
   },
   "outputs": [],
   "source": [
    "phq_agg_df[agg_cols_shift] = phq_agg_df.groupby('pid')[agg_cols].shift(1)"
   ]
  },
  {
   "cell_type": "code",
   "execution_count": 75,
   "metadata": {
    "hidden": true
   },
   "outputs": [],
   "source": [
    "for cur, prev, change in zip(agg_cols, agg_cols_shift, agg_cols_change):\n",
    "    phq_agg_df[change] = phq_agg_df[cur] - phq_agg_df[prev]"
   ]
  },
  {
   "cell_type": "markdown",
   "metadata": {
    "hidden": true
   },
   "source": [
    "## Correlations"
   ]
  },
  {
   "cell_type": "markdown",
   "metadata": {
    "hidden": true
   },
   "source": [
    "### Simple Correlation"
   ]
  },
  {
   "cell_type": "markdown",
   "metadata": {
    "hidden": true
   },
   "source": [
    "#### Entire population"
   ]
  },
  {
   "cell_type": "code",
   "execution_count": 76,
   "metadata": {
    "hidden": true
   },
   "outputs": [
    {
     "data": {
      "text/plain": [
       "count    1025.000000\n",
       "mean        0.008618\n",
       "std         2.880980\n",
       "min       -15.000000\n",
       "25%        -1.000000\n",
       "50%         0.000000\n",
       "75%         1.000000\n",
       "max        16.000000\n",
       "Name: phq_diff, dtype: float64"
      ]
     },
     "execution_count": 76,
     "metadata": {},
     "output_type": "execute_result"
    }
   ],
   "source": [
    "phq_agg_df['phq_diff'].describe()"
   ]
  },
  {
   "cell_type": "code",
   "execution_count": 77,
   "metadata": {
    "hidden": true
   },
   "outputs": [
    {
     "name": "stdout",
     "output_type": "stream",
     "text": [
      "Pearson\n"
     ]
    },
    {
     "data": {
      "text/html": [
       "<div>\n",
       "<style scoped>\n",
       "    .dataframe tbody tr th:only-of-type {\n",
       "        vertical-align: middle;\n",
       "    }\n",
       "\n",
       "    .dataframe tbody tr th {\n",
       "        vertical-align: top;\n",
       "    }\n",
       "\n",
       "    .dataframe thead th {\n",
       "        text-align: right;\n",
       "    }\n",
       "</style>\n",
       "<table border=\"1\" class=\"dataframe\">\n",
       "  <thead>\n",
       "    <tr style=\"text-align: right;\">\n",
       "      <th></th>\n",
       "      <th>X</th>\n",
       "      <th>Y</th>\n",
       "      <th>n</th>\n",
       "      <th>r</th>\n",
       "      <th>p-corr</th>\n",
       "      <th>p-adjust</th>\n",
       "    </tr>\n",
       "  </thead>\n",
       "  <tbody>\n",
       "    <tr>\n",
       "      <th>10</th>\n",
       "      <td>movt_agg_change</td>\n",
       "      <td>phq_diff</td>\n",
       "      <td>810</td>\n",
       "      <td>-0.130</td>\n",
       "      <td>0.002752</td>\n",
       "      <td>fdr_bh</td>\n",
       "    </tr>\n",
       "    <tr>\n",
       "      <th>7</th>\n",
       "      <td>social_place_dur_agg_change</td>\n",
       "      <td>phq_diff</td>\n",
       "      <td>814</td>\n",
       "      <td>-0.106</td>\n",
       "      <td>0.016697</td>\n",
       "      <td>fdr_bh</td>\n",
       "    </tr>\n",
       "    <tr>\n",
       "      <th>11</th>\n",
       "      <td>wkday_total_entropy_agg_change</td>\n",
       "      <td>phq_diff</td>\n",
       "      <td>810</td>\n",
       "      <td>-0.092</td>\n",
       "      <td>0.037129</td>\n",
       "      <td>fdr_bh</td>\n",
       "    </tr>\n",
       "    <tr>\n",
       "      <th>12</th>\n",
       "      <td>wkend_entropy_agg_change</td>\n",
       "      <td>phq_diff</td>\n",
       "      <td>794</td>\n",
       "      <td>-0.077</td>\n",
       "      <td>0.094485</td>\n",
       "      <td>fdr_bh</td>\n",
       "    </tr>\n",
       "  </tbody>\n",
       "</table>\n",
       "</div>"
      ],
      "text/plain": [
       "                                 X         Y    n      r    p-corr p-adjust\n",
       "10                 movt_agg_change  phq_diff  810 -0.130  0.002752   fdr_bh\n",
       "7      social_place_dur_agg_change  phq_diff  814 -0.106  0.016697   fdr_bh\n",
       "11  wkday_total_entropy_agg_change  phq_diff  810 -0.092  0.037129   fdr_bh\n",
       "12        wkend_entropy_agg_change  phq_diff  794 -0.077  0.094485   fdr_bh"
      ]
     },
     "metadata": {},
     "output_type": "display_data"
    },
    {
     "name": "stdout",
     "output_type": "stream",
     "text": [
      "Spearman\n"
     ]
    },
    {
     "data": {
      "text/html": [
       "<div>\n",
       "<style scoped>\n",
       "    .dataframe tbody tr th:only-of-type {\n",
       "        vertical-align: middle;\n",
       "    }\n",
       "\n",
       "    .dataframe tbody tr th {\n",
       "        vertical-align: top;\n",
       "    }\n",
       "\n",
       "    .dataframe thead th {\n",
       "        text-align: right;\n",
       "    }\n",
       "</style>\n",
       "<table border=\"1\" class=\"dataframe\">\n",
       "  <thead>\n",
       "    <tr style=\"text-align: right;\">\n",
       "      <th></th>\n",
       "      <th>X</th>\n",
       "      <th>Y</th>\n",
       "      <th>n</th>\n",
       "      <th>r</th>\n",
       "      <th>p-corr</th>\n",
       "      <th>p-adjust</th>\n",
       "    </tr>\n",
       "  </thead>\n",
       "  <tbody>\n",
       "    <tr>\n",
       "      <th>10</th>\n",
       "      <td>movt_agg_change</td>\n",
       "      <td>phq_diff</td>\n",
       "      <td>810</td>\n",
       "      <td>-0.131</td>\n",
       "      <td>0.002370</td>\n",
       "      <td>fdr_bh</td>\n",
       "    </tr>\n",
       "    <tr>\n",
       "      <th>2</th>\n",
       "      <td>social_apps_agg_change</td>\n",
       "      <td>phq_diff</td>\n",
       "      <td>814</td>\n",
       "      <td>0.086</td>\n",
       "      <td>0.071545</td>\n",
       "      <td>fdr_bh</td>\n",
       "    </tr>\n",
       "    <tr>\n",
       "      <th>9</th>\n",
       "      <td>cal_agg_change</td>\n",
       "      <td>phq_diff</td>\n",
       "      <td>807</td>\n",
       "      <td>0.082</td>\n",
       "      <td>0.071545</td>\n",
       "      <td>fdr_bh</td>\n",
       "    </tr>\n",
       "    <tr>\n",
       "      <th>11</th>\n",
       "      <td>wkday_total_entropy_agg_change</td>\n",
       "      <td>phq_diff</td>\n",
       "      <td>810</td>\n",
       "      <td>-0.080</td>\n",
       "      <td>0.071545</td>\n",
       "      <td>fdr_bh</td>\n",
       "    </tr>\n",
       "    <tr>\n",
       "      <th>6</th>\n",
       "      <td>other_dur_agg_change</td>\n",
       "      <td>phq_diff</td>\n",
       "      <td>814</td>\n",
       "      <td>-0.074</td>\n",
       "      <td>0.085420</td>\n",
       "      <td>fdr_bh</td>\n",
       "    </tr>\n",
       "    <tr>\n",
       "      <th>12</th>\n",
       "      <td>wkend_entropy_agg_change</td>\n",
       "      <td>phq_diff</td>\n",
       "      <td>794</td>\n",
       "      <td>-0.073</td>\n",
       "      <td>0.085420</td>\n",
       "      <td>fdr_bh</td>\n",
       "    </tr>\n",
       "  </tbody>\n",
       "</table>\n",
       "</div>"
      ],
      "text/plain": [
       "                                 X         Y    n      r    p-corr p-adjust\n",
       "10                 movt_agg_change  phq_diff  810 -0.131  0.002370   fdr_bh\n",
       "2           social_apps_agg_change  phq_diff  814  0.086  0.071545   fdr_bh\n",
       "9                   cal_agg_change  phq_diff  807  0.082  0.071545   fdr_bh\n",
       "11  wkday_total_entropy_agg_change  phq_diff  810 -0.080  0.071545   fdr_bh\n",
       "6             other_dur_agg_change  phq_diff  814 -0.074  0.085420   fdr_bh\n",
       "12        wkend_entropy_agg_change  phq_diff  794 -0.073  0.085420   fdr_bh"
      ]
     },
     "metadata": {},
     "output_type": "display_data"
    }
   ],
   "source": [
    "print(\"Pearson\")\n",
    "pair_corr_df = pg.pairwise_corr(phq_agg_df, columns=[agg_cols_change, ['phq_diff']], padjust=\"fdr_bh\")\n",
    "display(pair_corr_df[pair_corr_df['p-corr'] < 0.1].sort_values(by='p-corr')[['X', 'Y', 'n', 'r', 'p-corr', 'p-adjust']])\n",
    "print(\"Spearman\")\n",
    "pair_corr_df = pg.pairwise_corr(phq_agg_df, columns=[agg_cols_change, ['phq_diff']], method='spearman', padjust=\"fdr_bh\")\n",
    "display(pair_corr_df[pair_corr_df['p-corr'] < 0.1].sort_values(by='p-corr')[['X', 'Y', 'n', 'r', 'p-corr', 'p-adjust']])"
   ]
  },
  {
   "cell_type": "markdown",
   "metadata": {
    "hidden": true
   },
   "source": [
    "#### no_symp"
   ]
  },
  {
   "cell_type": "code",
   "execution_count": 78,
   "metadata": {
    "hidden": true
   },
   "outputs": [
    {
     "name": "stdout",
     "output_type": "stream",
     "text": [
      "Pearson\n"
     ]
    },
    {
     "data": {
      "text/html": [
       "<div>\n",
       "<style scoped>\n",
       "    .dataframe tbody tr th:only-of-type {\n",
       "        vertical-align: middle;\n",
       "    }\n",
       "\n",
       "    .dataframe tbody tr th {\n",
       "        vertical-align: top;\n",
       "    }\n",
       "\n",
       "    .dataframe thead th {\n",
       "        text-align: right;\n",
       "    }\n",
       "</style>\n",
       "<table border=\"1\" class=\"dataframe\">\n",
       "  <thead>\n",
       "    <tr style=\"text-align: right;\">\n",
       "      <th></th>\n",
       "      <th>X</th>\n",
       "      <th>Y</th>\n",
       "      <th>n</th>\n",
       "      <th>r</th>\n",
       "      <th>p-corr</th>\n",
       "      <th>p-adjust</th>\n",
       "    </tr>\n",
       "  </thead>\n",
       "  <tbody>\n",
       "    <tr>\n",
       "      <th>4</th>\n",
       "      <td>home_dur_agg_change</td>\n",
       "      <td>phq_diff</td>\n",
       "      <td>255</td>\n",
       "      <td>-0.147</td>\n",
       "      <td>0.080920</td>\n",
       "      <td>fdr_bh</td>\n",
       "    </tr>\n",
       "    <tr>\n",
       "      <th>5</th>\n",
       "      <td>religion_exercise_dur_agg_change</td>\n",
       "      <td>phq_diff</td>\n",
       "      <td>255</td>\n",
       "      <td>-0.147</td>\n",
       "      <td>0.080920</td>\n",
       "      <td>fdr_bh</td>\n",
       "    </tr>\n",
       "    <tr>\n",
       "      <th>11</th>\n",
       "      <td>wkday_total_entropy_agg_change</td>\n",
       "      <td>phq_diff</td>\n",
       "      <td>254</td>\n",
       "      <td>-0.166</td>\n",
       "      <td>0.080920</td>\n",
       "      <td>fdr_bh</td>\n",
       "    </tr>\n",
       "    <tr>\n",
       "      <th>12</th>\n",
       "      <td>wkend_entropy_agg_change</td>\n",
       "      <td>phq_diff</td>\n",
       "      <td>250</td>\n",
       "      <td>-0.142</td>\n",
       "      <td>0.080920</td>\n",
       "      <td>fdr_bh</td>\n",
       "    </tr>\n",
       "    <tr>\n",
       "      <th>9</th>\n",
       "      <td>cal_agg_change</td>\n",
       "      <td>phq_diff</td>\n",
       "      <td>255</td>\n",
       "      <td>0.135</td>\n",
       "      <td>0.081549</td>\n",
       "      <td>fdr_bh</td>\n",
       "    </tr>\n",
       "  </tbody>\n",
       "</table>\n",
       "</div>"
      ],
      "text/plain": [
       "                                   X         Y    n      r    p-corr p-adjust\n",
       "4                home_dur_agg_change  phq_diff  255 -0.147  0.080920   fdr_bh\n",
       "5   religion_exercise_dur_agg_change  phq_diff  255 -0.147  0.080920   fdr_bh\n",
       "11    wkday_total_entropy_agg_change  phq_diff  254 -0.166  0.080920   fdr_bh\n",
       "12          wkend_entropy_agg_change  phq_diff  250 -0.142  0.080920   fdr_bh\n",
       "9                     cal_agg_change  phq_diff  255  0.135  0.081549   fdr_bh"
      ]
     },
     "metadata": {},
     "output_type": "display_data"
    },
    {
     "name": "stdout",
     "output_type": "stream",
     "text": [
      "Spearman\n"
     ]
    },
    {
     "data": {
      "text/html": [
       "<div>\n",
       "<style scoped>\n",
       "    .dataframe tbody tr th:only-of-type {\n",
       "        vertical-align: middle;\n",
       "    }\n",
       "\n",
       "    .dataframe tbody tr th {\n",
       "        vertical-align: top;\n",
       "    }\n",
       "\n",
       "    .dataframe thead th {\n",
       "        text-align: right;\n",
       "    }\n",
       "</style>\n",
       "<table border=\"1\" class=\"dataframe\">\n",
       "  <thead>\n",
       "    <tr style=\"text-align: right;\">\n",
       "      <th></th>\n",
       "      <th>X</th>\n",
       "      <th>Y</th>\n",
       "      <th>n</th>\n",
       "      <th>r</th>\n",
       "      <th>p-corr</th>\n",
       "      <th>p-adjust</th>\n",
       "    </tr>\n",
       "  </thead>\n",
       "  <tbody>\n",
       "    <tr>\n",
       "      <th>6</th>\n",
       "      <td>other_dur_agg_change</td>\n",
       "      <td>phq_diff</td>\n",
       "      <td>255</td>\n",
       "      <td>-0.201</td>\n",
       "      <td>0.016423</td>\n",
       "      <td>fdr_bh</td>\n",
       "    </tr>\n",
       "  </tbody>\n",
       "</table>\n",
       "</div>"
      ],
      "text/plain": [
       "                      X         Y    n      r    p-corr p-adjust\n",
       "6  other_dur_agg_change  phq_diff  255 -0.201  0.016423   fdr_bh"
      ]
     },
     "metadata": {},
     "output_type": "display_data"
    }
   ],
   "source": [
    "sel_state_df = phq_agg_df[phq_agg_df['baseline_cluster'] == 'no_symp']\n",
    "print(\"Pearson\")\n",
    "pair_corr_df = pg.pairwise_corr(sel_state_df, columns=[agg_cols_change, ['phq_diff']], nan_policy='pairwise', padjust=\"fdr_bh\")\n",
    "display(pair_corr_df[(pair_corr_df['p-corr'] < 0.1)].sort_values(by='p-corr')[['X', 'Y', 'n', 'r', 'p-corr', 'p-adjust']])\n",
    "\n",
    "print(\"Spearman\")\n",
    "pair_corr_df = pg.pairwise_corr(sel_state_df, columns=[agg_cols_change, ['phq_diff']], nan_policy='pairwise', method='spearman', padjust=\"fdr_bh\")\n",
    "display(pair_corr_df[(pair_corr_df['p-corr'] < 0.1)].sort_values(by='p-corr')[['X', 'Y', 'n', 'r', 'p-corr', 'p-adjust']])"
   ]
  },
  {
   "cell_type": "markdown",
   "metadata": {
    "hidden": true
   },
   "source": [
    "#### soc_anx"
   ]
  },
  {
   "cell_type": "code",
   "execution_count": 79,
   "metadata": {
    "hidden": true
   },
   "outputs": [
    {
     "name": "stdout",
     "output_type": "stream",
     "text": [
      "Pearson\n"
     ]
    },
    {
     "data": {
      "text/html": [
       "<div>\n",
       "<style scoped>\n",
       "    .dataframe tbody tr th:only-of-type {\n",
       "        vertical-align: middle;\n",
       "    }\n",
       "\n",
       "    .dataframe tbody tr th {\n",
       "        vertical-align: top;\n",
       "    }\n",
       "\n",
       "    .dataframe thead th {\n",
       "        text-align: right;\n",
       "    }\n",
       "</style>\n",
       "<table border=\"1\" class=\"dataframe\">\n",
       "  <thead>\n",
       "    <tr style=\"text-align: right;\">\n",
       "      <th></th>\n",
       "      <th>X</th>\n",
       "      <th>Y</th>\n",
       "      <th>n</th>\n",
       "      <th>r</th>\n",
       "      <th>p-corr</th>\n",
       "      <th>p-adjust</th>\n",
       "    </tr>\n",
       "  </thead>\n",
       "  <tbody>\n",
       "  </tbody>\n",
       "</table>\n",
       "</div>"
      ],
      "text/plain": [
       "Empty DataFrame\n",
       "Columns: [X, Y, n, r, p-corr, p-adjust]\n",
       "Index: []"
      ]
     },
     "metadata": {},
     "output_type": "display_data"
    },
    {
     "name": "stdout",
     "output_type": "stream",
     "text": [
      "Spearman\n"
     ]
    },
    {
     "data": {
      "text/html": [
       "<div>\n",
       "<style scoped>\n",
       "    .dataframe tbody tr th:only-of-type {\n",
       "        vertical-align: middle;\n",
       "    }\n",
       "\n",
       "    .dataframe tbody tr th {\n",
       "        vertical-align: top;\n",
       "    }\n",
       "\n",
       "    .dataframe thead th {\n",
       "        text-align: right;\n",
       "    }\n",
       "</style>\n",
       "<table border=\"1\" class=\"dataframe\">\n",
       "  <thead>\n",
       "    <tr style=\"text-align: right;\">\n",
       "      <th></th>\n",
       "      <th>X</th>\n",
       "      <th>Y</th>\n",
       "      <th>n</th>\n",
       "      <th>r</th>\n",
       "      <th>p-corr</th>\n",
       "      <th>p-adjust</th>\n",
       "    </tr>\n",
       "  </thead>\n",
       "  <tbody>\n",
       "    <tr>\n",
       "      <th>4</th>\n",
       "      <td>home_dur_agg_change</td>\n",
       "      <td>phq_diff</td>\n",
       "      <td>223</td>\n",
       "      <td>0.179</td>\n",
       "      <td>0.095669</td>\n",
       "      <td>fdr_bh</td>\n",
       "    </tr>\n",
       "  </tbody>\n",
       "</table>\n",
       "</div>"
      ],
      "text/plain": [
       "                     X         Y    n      r    p-corr p-adjust\n",
       "4  home_dur_agg_change  phq_diff  223  0.179  0.095669   fdr_bh"
      ]
     },
     "metadata": {},
     "output_type": "display_data"
    }
   ],
   "source": [
    "sel_state_df = phq_agg_df[phq_agg_df['baseline_cluster'] == 'soc_anx']\n",
    "\n",
    "print(\"Pearson\")\n",
    "pair_corr_df = pg.pairwise_corr(sel_state_df, columns=[agg_cols_change, ['phq_diff']], nan_policy='pairwise', padjust=\"fdr_bh\")\n",
    "display(pair_corr_df[(pair_corr_df['p-corr'] < 0.1)].sort_values(by='p-corr')[['X', 'Y', 'n', 'r', 'p-corr', 'p-adjust']])\n",
    "\n",
    "print(\"Spearman\")\n",
    "pair_corr_df = pg.pairwise_corr(sel_state_df, columns=[agg_cols_change, ['phq_diff']], nan_policy='pairwise', method='spearman', padjust=\"fdr_bh\")\n",
    "display(pair_corr_df[(pair_corr_df['p-corr'] < 0.1)].sort_values(by='p-corr')[['X', 'Y', 'n', 'r', 'p-corr', 'p-adjust']])"
   ]
  },
  {
   "cell_type": "markdown",
   "metadata": {
    "hidden": true
   },
   "source": [
    "#### gen_anx"
   ]
  },
  {
   "cell_type": "code",
   "execution_count": 80,
   "metadata": {
    "hidden": true
   },
   "outputs": [
    {
     "name": "stdout",
     "output_type": "stream",
     "text": [
      "Pearson\n"
     ]
    },
    {
     "data": {
      "text/html": [
       "<div>\n",
       "<style scoped>\n",
       "    .dataframe tbody tr th:only-of-type {\n",
       "        vertical-align: middle;\n",
       "    }\n",
       "\n",
       "    .dataframe tbody tr th {\n",
       "        vertical-align: top;\n",
       "    }\n",
       "\n",
       "    .dataframe thead th {\n",
       "        text-align: right;\n",
       "    }\n",
       "</style>\n",
       "<table border=\"1\" class=\"dataframe\">\n",
       "  <thead>\n",
       "    <tr style=\"text-align: right;\">\n",
       "      <th></th>\n",
       "      <th>X</th>\n",
       "      <th>Y</th>\n",
       "      <th>n</th>\n",
       "      <th>r</th>\n",
       "      <th>p-corr</th>\n",
       "      <th>p-adjust</th>\n",
       "    </tr>\n",
       "  </thead>\n",
       "  <tbody>\n",
       "  </tbody>\n",
       "</table>\n",
       "</div>"
      ],
      "text/plain": [
       "Empty DataFrame\n",
       "Columns: [X, Y, n, r, p-corr, p-adjust]\n",
       "Index: []"
      ]
     },
     "metadata": {},
     "output_type": "display_data"
    },
    {
     "name": "stdout",
     "output_type": "stream",
     "text": [
      "Spearman\n"
     ]
    },
    {
     "data": {
      "text/html": [
       "<div>\n",
       "<style scoped>\n",
       "    .dataframe tbody tr th:only-of-type {\n",
       "        vertical-align: middle;\n",
       "    }\n",
       "\n",
       "    .dataframe tbody tr th {\n",
       "        vertical-align: top;\n",
       "    }\n",
       "\n",
       "    .dataframe thead th {\n",
       "        text-align: right;\n",
       "    }\n",
       "</style>\n",
       "<table border=\"1\" class=\"dataframe\">\n",
       "  <thead>\n",
       "    <tr style=\"text-align: right;\">\n",
       "      <th></th>\n",
       "      <th>X</th>\n",
       "      <th>Y</th>\n",
       "      <th>n</th>\n",
       "      <th>r</th>\n",
       "      <th>p-corr</th>\n",
       "      <th>p-adjust</th>\n",
       "    </tr>\n",
       "  </thead>\n",
       "  <tbody>\n",
       "    <tr>\n",
       "      <th>10</th>\n",
       "      <td>movt_agg_change</td>\n",
       "      <td>phq_diff</td>\n",
       "      <td>187</td>\n",
       "      <td>-0.206</td>\n",
       "      <td>0.059731</td>\n",
       "      <td>fdr_bh</td>\n",
       "    </tr>\n",
       "  </tbody>\n",
       "</table>\n",
       "</div>"
      ],
      "text/plain": [
       "                  X         Y    n      r    p-corr p-adjust\n",
       "10  movt_agg_change  phq_diff  187 -0.206  0.059731   fdr_bh"
      ]
     },
     "metadata": {},
     "output_type": "display_data"
    }
   ],
   "source": [
    "sel_state_df = phq_agg_df[phq_agg_df['baseline_cluster'] == 'gen_anx']\n",
    "print(\"Pearson\")\n",
    "pair_corr_df = pg.pairwise_corr(sel_state_df, columns=[agg_cols_change, ['phq_diff']], nan_policy='pairwise', method='pearson', padjust=\"fdr_bh\")\n",
    "display(pair_corr_df[(pair_corr_df['p-corr'] < 0.1)].sort_values(by='p-corr')[['X', 'Y', 'n', 'r', 'p-corr', 'p-adjust']])\n",
    "\n",
    "print(\"Spearman\")\n",
    "pair_corr_df = pg.pairwise_corr(sel_state_df, columns=[agg_cols_change, ['phq_diff']], method='spearman', padjust=\"fdr_bh\")\n",
    "display(pair_corr_df[(pair_corr_df['p-corr'] < 0.1)].sort_values(by='p-corr')[['X', 'Y', 'n', 'r', 'p-corr', 'p-adjust']])"
   ]
  },
  {
   "cell_type": "markdown",
   "metadata": {
    "hidden": true
   },
   "source": [
    "#### dep_anx"
   ]
  },
  {
   "cell_type": "code",
   "execution_count": 81,
   "metadata": {
    "hidden": true
   },
   "outputs": [
    {
     "name": "stdout",
     "output_type": "stream",
     "text": [
      "Pearson\n"
     ]
    },
    {
     "data": {
      "text/html": [
       "<div>\n",
       "<style scoped>\n",
       "    .dataframe tbody tr th:only-of-type {\n",
       "        vertical-align: middle;\n",
       "    }\n",
       "\n",
       "    .dataframe tbody tr th {\n",
       "        vertical-align: top;\n",
       "    }\n",
       "\n",
       "    .dataframe thead th {\n",
       "        text-align: right;\n",
       "    }\n",
       "</style>\n",
       "<table border=\"1\" class=\"dataframe\">\n",
       "  <thead>\n",
       "    <tr style=\"text-align: right;\">\n",
       "      <th></th>\n",
       "      <th>X</th>\n",
       "      <th>Y</th>\n",
       "      <th>n</th>\n",
       "      <th>r</th>\n",
       "      <th>p-corr</th>\n",
       "      <th>p-adjust</th>\n",
       "    </tr>\n",
       "  </thead>\n",
       "  <tbody>\n",
       "    <tr>\n",
       "      <th>10</th>\n",
       "      <td>movt_agg_change</td>\n",
       "      <td>phq_diff</td>\n",
       "      <td>147</td>\n",
       "      <td>-0.376</td>\n",
       "      <td>0.000034</td>\n",
       "      <td>fdr_bh</td>\n",
       "    </tr>\n",
       "    <tr>\n",
       "      <th>0</th>\n",
       "      <td>active_apps_agg_change</td>\n",
       "      <td>phq_diff</td>\n",
       "      <td>149</td>\n",
       "      <td>-0.335</td>\n",
       "      <td>0.000194</td>\n",
       "      <td>fdr_bh</td>\n",
       "    </tr>\n",
       "    <tr>\n",
       "      <th>7</th>\n",
       "      <td>social_place_dur_agg_change</td>\n",
       "      <td>phq_diff</td>\n",
       "      <td>149</td>\n",
       "      <td>-0.240</td>\n",
       "      <td>0.013732</td>\n",
       "      <td>fdr_bh</td>\n",
       "    </tr>\n",
       "    <tr>\n",
       "      <th>6</th>\n",
       "      <td>other_dur_agg_change</td>\n",
       "      <td>phq_diff</td>\n",
       "      <td>149</td>\n",
       "      <td>-0.232</td>\n",
       "      <td>0.014155</td>\n",
       "      <td>fdr_bh</td>\n",
       "    </tr>\n",
       "  </tbody>\n",
       "</table>\n",
       "</div>"
      ],
      "text/plain": [
       "                              X         Y    n      r    p-corr p-adjust\n",
       "10              movt_agg_change  phq_diff  147 -0.376  0.000034   fdr_bh\n",
       "0        active_apps_agg_change  phq_diff  149 -0.335  0.000194   fdr_bh\n",
       "7   social_place_dur_agg_change  phq_diff  149 -0.240  0.013732   fdr_bh\n",
       "6          other_dur_agg_change  phq_diff  149 -0.232  0.014155   fdr_bh"
      ]
     },
     "metadata": {},
     "output_type": "display_data"
    },
    {
     "name": "stdout",
     "output_type": "stream",
     "text": [
      "Spearman\n"
     ]
    },
    {
     "data": {
      "text/html": [
       "<div>\n",
       "<style scoped>\n",
       "    .dataframe tbody tr th:only-of-type {\n",
       "        vertical-align: middle;\n",
       "    }\n",
       "\n",
       "    .dataframe tbody tr th {\n",
       "        vertical-align: top;\n",
       "    }\n",
       "\n",
       "    .dataframe thead th {\n",
       "        text-align: right;\n",
       "    }\n",
       "</style>\n",
       "<table border=\"1\" class=\"dataframe\">\n",
       "  <thead>\n",
       "    <tr style=\"text-align: right;\">\n",
       "      <th></th>\n",
       "      <th>X</th>\n",
       "      <th>Y</th>\n",
       "      <th>n</th>\n",
       "      <th>r</th>\n",
       "      <th>p-corr</th>\n",
       "      <th>p-adjust</th>\n",
       "    </tr>\n",
       "  </thead>\n",
       "  <tbody>\n",
       "    <tr>\n",
       "      <th>6</th>\n",
       "      <td>other_dur_agg_change</td>\n",
       "      <td>phq_diff</td>\n",
       "      <td>149</td>\n",
       "      <td>-0.249</td>\n",
       "      <td>0.028624</td>\n",
       "      <td>fdr_bh</td>\n",
       "    </tr>\n",
       "    <tr>\n",
       "      <th>10</th>\n",
       "      <td>movt_agg_change</td>\n",
       "      <td>phq_diff</td>\n",
       "      <td>147</td>\n",
       "      <td>-0.234</td>\n",
       "      <td>0.028624</td>\n",
       "      <td>fdr_bh</td>\n",
       "    </tr>\n",
       "    <tr>\n",
       "      <th>7</th>\n",
       "      <td>social_place_dur_agg_change</td>\n",
       "      <td>phq_diff</td>\n",
       "      <td>149</td>\n",
       "      <td>-0.192</td>\n",
       "      <td>0.081440</td>\n",
       "      <td>fdr_bh</td>\n",
       "    </tr>\n",
       "  </tbody>\n",
       "</table>\n",
       "</div>"
      ],
      "text/plain": [
       "                              X         Y    n      r    p-corr p-adjust\n",
       "6          other_dur_agg_change  phq_diff  149 -0.249  0.028624   fdr_bh\n",
       "10              movt_agg_change  phq_diff  147 -0.234  0.028624   fdr_bh\n",
       "7   social_place_dur_agg_change  phq_diff  149 -0.192  0.081440   fdr_bh"
      ]
     },
     "metadata": {},
     "output_type": "display_data"
    }
   ],
   "source": [
    "sel_state_df = phq_agg_df[phq_agg_df['baseline_cluster'] == 'dep_anx']\n",
    "print(\"Pearson\")\n",
    "pair_corr_df = pg.pairwise_corr(sel_state_df, columns=[agg_cols_change, ['phq_diff']], nan_policy='pairwise', padjust=\"fdr_bh\")\n",
    "display(pair_corr_df[(pair_corr_df['p-corr'] < 0.1)].sort_values(by='p-corr')[['X', 'Y', 'n', 'r', 'p-corr', 'p-adjust']])\n",
    "\n",
    "print(\"Spearman\")\n",
    "pair_corr_df = pg.pairwise_corr(sel_state_df, columns=[agg_cols_change, ['phq_diff']], method='spearman', padjust=\"fdr_bh\")\n",
    "display(pair_corr_df[(pair_corr_df['p-corr'] < 0.1)].sort_values(by='p-corr')[['X', 'Y', 'n', 'r', 'p-corr', 'p-adjust']])"
   ]
  },
  {
   "cell_type": "code",
   "execution_count": 82,
   "metadata": {
    "hidden": true
   },
   "outputs": [
    {
     "data": {
      "image/png": "[encoded data removed]",
      "text/plain": [
       "<Figure size 576x432 with 1 Axes>"
      ]
     },
     "metadata": {
      "needs_background": "light"
     },
     "output_type": "display_data"
    }
   ],
   "source": [
    "ls_utils.plot_cluster_scatter('movt_agg_change', 'phq_diff', phq_agg_df, 'dep_anx', (8,6))"
   ]
  },
  {
   "cell_type": "code",
   "execution_count": 83,
   "metadata": {
    "hidden": true
   },
   "outputs": [
    {
     "data": {
      "image/png": "[encoded data removed]",
      "text/plain": [
       "<Figure size 576x432 with 1 Axes>"
      ]
     },
     "metadata": {
      "needs_background": "light"
     },
     "output_type": "display_data"
    }
   ],
   "source": [
    "ls_utils.plot_cluster_scatter('active_apps_agg_change', 'phq_diff', phq_agg_df, 'dep_anx', (8,6))"
   ]
  },
  {
   "cell_type": "code",
   "execution_count": 166,
   "metadata": {
    "hidden": true
   },
   "outputs": [
    {
     "data": {
      "text/plain": [
       "active_apps_agg_change     416\n",
       "passive_apps_agg_change    416\n",
       "social_apps_agg_change     416\n",
       "fga_pca1_agg_change        416\n",
       "fga_pca2_agg_change        416\n",
       "fga_pca3_agg_change        416\n",
       "fga_pca4_agg_change        416\n",
       "fga_pca5_agg_change        416\n",
       "sloc_pca1_agg_change       416\n",
       "sloc_pca2_agg_change       416\n",
       "sloc_pca3_agg_change       416\n",
       "sloc_pca4_agg_change       416\n",
       "sms_agg_change             432\n",
       "cal_agg_change             423\n",
       "fus_pca1_agg_change        469\n",
       "fus_pca2_agg_change        469\n",
       "fus_pca3_agg_change        469\n",
       "dtype: int64"
      ]
     },
     "execution_count": 166,
     "metadata": {},
     "output_type": "execute_result"
    }
   ],
   "source": [
    "phq_agg_df[agg_cols_change].isna().sum()"
   ]
  },
  {
   "cell_type": "markdown",
   "metadata": {
    "hidden": true
   },
   "source": [
    "### Repeated Measures Correlation"
   ]
  },
  {
   "cell_type": "code",
   "execution_count": 167,
   "metadata": {
    "hidden": true
   },
   "outputs": [
    {
     "name": "stderr",
     "output_type": "stream",
     "text": [
      "/home/tliu/.conda/envs/py37/lib/python3.7/site-packages/numpy/lib/function_base.py:2526: RuntimeWarning: Degrees of freedom <= 0 for slice\n",
      "  c = cov(x, y, rowvar)\n",
      "/home/tliu/.conda/envs/py37/lib/python3.7/site-packages/numpy/lib/function_base.py:2455: RuntimeWarning: divide by zero encountered in true_divide\n",
      "  c *= np.true_divide(1, fact)\n",
      "/home/tliu/.conda/envs/py37/lib/python3.7/site-packages/numpy/lib/function_base.py:2455: RuntimeWarning: invalid value encountered in multiply\n",
      "  c *= np.true_divide(1, fact)\n",
      "/home/tliu/.conda/envs/py37/lib/python3.7/site-packages/numpy/core/_methods.py:217: RuntimeWarning: Degrees of freedom <= 0 for slice\n",
      "  keepdims=keepdims)\n",
      "/home/tliu/.conda/envs/py37/lib/python3.7/site-packages/numpy/core/_methods.py:209: RuntimeWarning: invalid value encountered in double_scalars\n",
      "  ret = ret.dtype.type(ret / rcount)\n",
      "/home/tliu/.conda/envs/py37/lib/python3.7/site-packages/numpy/lib/function_base.py:2534: RuntimeWarning: invalid value encountered in true_divide\n",
      "  c /= stddev[:, None]\n",
      "/home/tliu/.conda/envs/py37/lib/python3.7/site-packages/numpy/lib/function_base.py:2535: RuntimeWarning: invalid value encountered in true_divide\n",
      "  c /= stddev[None, :]\n"
     ]
    },
    {
     "data": {
      "text/html": [
       "<div>\n",
       "<style scoped>\n",
       "    .dataframe tbody tr th:only-of-type {\n",
       "        vertical-align: middle;\n",
       "    }\n",
       "\n",
       "    .dataframe tbody tr th {\n",
       "        vertical-align: top;\n",
       "    }\n",
       "\n",
       "    .dataframe thead th {\n",
       "        text-align: right;\n",
       "    }\n",
       "</style>\n",
       "<table border=\"1\" class=\"dataframe\">\n",
       "  <thead>\n",
       "    <tr style=\"text-align: right;\">\n",
       "      <th></th>\n",
       "      <th>r</th>\n",
       "      <th>dof</th>\n",
       "      <th>pval</th>\n",
       "      <th>CI95%</th>\n",
       "      <th>power</th>\n",
       "    </tr>\n",
       "  </thead>\n",
       "  <tbody>\n",
       "    <tr>\n",
       "      <th>rm_corr</th>\n",
       "      <td>-0.128</td>\n",
       "      <td>576</td>\n",
       "      <td>0.002109</td>\n",
       "      <td>[-0.21, -0.05]</td>\n",
       "      <td>0.869</td>\n",
       "    </tr>\n",
       "  </tbody>\n",
       "</table>\n",
       "</div>"
      ],
      "text/plain": [
       "             r  dof      pval           CI95%  power\n",
       "rm_corr -0.128  576  0.002109  [-0.21, -0.05]  0.869"
      ]
     },
     "execution_count": 167,
     "metadata": {},
     "output_type": "execute_result"
    }
   ],
   "source": [
    "pg.rm_corr(data=phq_agg_df, x='fus_pca1_agg_change', y='phq_diff', subject='pid')"
   ]
  },
  {
   "cell_type": "code",
   "execution_count": 168,
   "metadata": {
    "hidden": true,
    "scrolled": false
   },
   "outputs": [
    {
     "data": {
      "text/html": [
       "<div>\n",
       "<style scoped>\n",
       "    .dataframe tbody tr th:only-of-type {\n",
       "        vertical-align: middle;\n",
       "    }\n",
       "\n",
       "    .dataframe tbody tr th {\n",
       "        vertical-align: top;\n",
       "    }\n",
       "\n",
       "    .dataframe thead th {\n",
       "        text-align: right;\n",
       "    }\n",
       "</style>\n",
       "<table border=\"1\" class=\"dataframe\">\n",
       "  <thead>\n",
       "    <tr style=\"text-align: right;\">\n",
       "      <th></th>\n",
       "      <th>r</th>\n",
       "      <th>dof</th>\n",
       "      <th>pval</th>\n",
       "      <th>CI95%</th>\n",
       "      <th>power</th>\n",
       "    </tr>\n",
       "  </thead>\n",
       "  <tbody>\n",
       "    <tr>\n",
       "      <th>rm_corr</th>\n",
       "      <td>-0.362</td>\n",
       "      <td>108</td>\n",
       "      <td>0.000101</td>\n",
       "      <td>[-0.51, -0.19]</td>\n",
       "      <td>0.976</td>\n",
       "    </tr>\n",
       "  </tbody>\n",
       "</table>\n",
       "</div>"
      ],
      "text/plain": [
       "             r  dof      pval           CI95%  power\n",
       "rm_corr -0.362  108  0.000101  [-0.51, -0.19]  0.976"
      ]
     },
     "metadata": {},
     "output_type": "display_data"
    }
   ],
   "source": [
    "sel_df = phq_agg_df[phq_agg_df['baseline_cluster'] == 'dep_anx']\n",
    "#sel_df = sel_df.dropna(subset=['phq_diff', 'fus_pca1_agg_change'], axis='rows')\n",
    "display(pg.rm_corr(data=sel_df, x='fus_pca1_agg_change', y='phq_diff', subject='pid'))\n",
    "#pg.plot_rm_corr(data=sel_df, x='fus_pca1_agg_change', y='phq_diff', subject='pid')"
   ]
  },
  {
   "cell_type": "code",
   "execution_count": 169,
   "metadata": {
    "hidden": true,
    "scrolled": false
   },
   "outputs": [
    {
     "data": {
      "text/html": [
       "<div>\n",
       "<style scoped>\n",
       "    .dataframe tbody tr th:only-of-type {\n",
       "        vertical-align: middle;\n",
       "    }\n",
       "\n",
       "    .dataframe tbody tr th {\n",
       "        vertical-align: top;\n",
       "    }\n",
       "\n",
       "    .dataframe thead th {\n",
       "        text-align: right;\n",
       "    }\n",
       "</style>\n",
       "<table border=\"1\" class=\"dataframe\">\n",
       "  <thead>\n",
       "    <tr style=\"text-align: right;\">\n",
       "      <th></th>\n",
       "      <th>r</th>\n",
       "      <th>dof</th>\n",
       "      <th>pval</th>\n",
       "      <th>CI95%</th>\n",
       "      <th>power</th>\n",
       "    </tr>\n",
       "  </thead>\n",
       "  <tbody>\n",
       "    <tr>\n",
       "      <th>rm_corr</th>\n",
       "      <td>-0.345</td>\n",
       "      <td>114</td>\n",
       "      <td>0.000147</td>\n",
       "      <td>[-0.5, -0.17]</td>\n",
       "      <td>0.97</td>\n",
       "    </tr>\n",
       "  </tbody>\n",
       "</table>\n",
       "</div>"
      ],
      "text/plain": [
       "             r  dof      pval          CI95%  power\n",
       "rm_corr -0.345  114  0.000147  [-0.5, -0.17]   0.97"
      ]
     },
     "metadata": {},
     "output_type": "display_data"
    }
   ],
   "source": [
    "#sel_df = sel_df.dropna(subset=['phq_diff', 'fus_pca1_agg_change'], axis='rows')\n",
    "display(pg.rm_corr(data=sel_df, x='active_apps_agg_change', y='phq_diff', subject='pid'))"
   ]
  },
  {
   "cell_type": "markdown",
   "metadata": {},
   "source": [
    "# Reverse PHQ"
   ]
  },
  {
   "cell_type": "markdown",
   "metadata": {},
   "source": [
    "## Build reversed df"
   ]
  },
  {
   "cell_type": "code",
   "execution_count": 100,
   "metadata": {},
   "outputs": [],
   "source": [
    "# load fus and circ data\n",
    "rev_fus_daily = pd.read_pickle(\"wave1_features/fus_phq_start_0_14.df\")\n",
    "rev_circ_dict = pickle.load(open(\"wave1_features/circ_phq_start_0_14.dict\", \"rb\"))"
   ]
  },
  {
   "cell_type": "code",
   "execution_count": 101,
   "metadata": {},
   "outputs": [],
   "source": [
    "# correction for Series values in list, though it doesn't seem to have affected anything??\n",
    "rev_new_dict = {}\n",
    "for col, vals in rev_circ_dict.items():\n",
    "    new_vals = []\n",
    "    for v in vals:\n",
    "        if isinstance(v, pd.Series):\n",
    "            new_vals.append(v[0])\n",
    "        else:\n",
    "            new_vals.append(v)\n",
    "    rev_new_dict[col] = new_vals\n",
    "rev_circ_dict = rev_new_dict"
   ]
  },
  {
   "cell_type": "markdown",
   "metadata": {},
   "source": [
    "### Calculate shifted change"
   ]
  },
  {
   "cell_type": "code",
   "execution_count": 102,
   "metadata": {},
   "outputs": [
    {
     "name": "stdout",
     "output_type": "stream",
     "text": [
      "CPU times: user 50 s, sys: 63 ms, total: 50.1 s\n",
      "Wall time: 50.1 s\n"
     ]
    }
   ],
   "source": [
    "%%time\n",
    "\n",
    "sms_dict = ls_utils.build_col_dict(sms_cols, sms_daily, shift_df, 'phq_start', pre_days=0, post_days=14)\n",
    "cal_dict = ls_utils.build_col_dict(cal_cols, cal_daily, shift_df, 'phq_start', pre_days=0, post_days=14)\n",
    "fga_dict = ls_utils.build_col_dict(fga_cols, fga_daily, shift_df, 'phq_start', pre_days=0, post_days=14)\n",
    "sloc_dict = ls_utils.build_col_dict(sloc_cols, sloc_daily, shift_df, 'phq_start', pre_days=0, post_days=14)"
   ]
  },
  {
   "cell_type": "code",
   "execution_count": 103,
   "metadata": {},
   "outputs": [],
   "source": [
    "rev_phq_df = shift_df.copy()\n",
    "\n",
    "sensor_dicts = [sms_dict, cal_dict, fga_dict, sloc_dict, rev_circ_dict]\n",
    "sensor_cols = sms_cols + cal_cols + fga_cols + sloc_cols + circ_cols\n",
    "\n",
    "for sensor_dict in sensor_dicts:\n",
    "    for col, vals in sensor_dict.items():\n",
    "        rev_phq_df[col] = vals\n",
    "\n",
    "# merge fused location       \n",
    "rev_phq_df = rev_phq_df.merge(rev_fus_daily, how='left', on=['pid', 'study_wk'])\n",
    "rev_phq_df = rev_phq_df.replace([np.inf, -np.inf], np.nan)"
   ]
  },
  {
   "cell_type": "markdown",
   "metadata": {},
   "source": [
    "## Aggregate features"
   ]
  },
  {
   "cell_type": "markdown",
   "metadata": {},
   "source": [
    "### fga"
   ]
  },
  {
   "cell_type": "code",
   "execution_count": 104,
   "metadata": {},
   "outputs": [],
   "source": [
    "rev_phq_agg_df = rev_phq_df.copy()\n",
    "rev_phq_agg_df[fga_cols] = (rev_phq_agg_df[fga_cols] - rev_phq_agg_df[fga_cols].mean()) / rev_phq_agg_df[fga_cols].std()\n",
    "rev_phq_agg_df['active_apps_agg'] = rev_phq_agg_df[active_apps].mean(axis=1)\n",
    "rev_phq_agg_df['passive_apps_agg'] = rev_phq_agg_df[passive_apps].mean(axis=1)\n",
    "rev_phq_agg_df['social_apps_agg'] = rev_phq_agg_df[social_apps].mean(axis=1)"
   ]
  },
  {
   "cell_type": "markdown",
   "metadata": {},
   "source": [
    "### sloc"
   ]
  },
  {
   "cell_type": "code",
   "execution_count": 105,
   "metadata": {},
   "outputs": [],
   "source": [
    "rev_phq_agg_df[sloc_dur_cols] = (rev_phq_agg_df[sloc_dur_cols] - rev_phq_agg_df[sloc_dur_cols].mean()) / rev_phq_agg_df[sloc_dur_cols].std()\n",
    "rev_phq_agg_df['work_dur_agg'] = rev_phq_agg_df[work_places]\n",
    "rev_phq_agg_df['home_dur_agg'] = rev_phq_agg_df[home_places]\n",
    "rev_phq_agg_df['religion_exercise_dur_agg'] = rev_phq_agg_df[religion_exercise_places].mean(axis=1)\n",
    "rev_phq_agg_df['other_dur_agg'] = rev_phq_agg_df[other_places].mean(axis=1)\n",
    "rev_phq_agg_df['social_place_dur_agg'] = rev_phq_agg_df[social_places].mean(axis=1)"
   ]
  },
  {
   "cell_type": "markdown",
   "metadata": {},
   "source": [
    "### comm"
   ]
  },
  {
   "cell_type": "code",
   "execution_count": 106,
   "metadata": {},
   "outputs": [],
   "source": [
    "rev_phq_agg_df[sms_cols] = (rev_phq_agg_df[sms_cols] - rev_phq_agg_df[sms_cols].mean()) / rev_phq_agg_df[sms_cols].std()\n",
    "rev_phq_agg_df[cal_cols] = (rev_phq_agg_df[cal_cols] - rev_phq_agg_df[cal_cols].mean()) / rev_phq_agg_df[cal_cols].std()\n",
    "rev_phq_agg_df['sms_agg'] = rev_phq_agg_df[sms_cols].mean(axis=1)\n",
    "rev_phq_agg_df['cal_agg'] = rev_phq_agg_df[cal_cols].mean(axis=1)"
   ]
  },
  {
   "cell_type": "markdown",
   "metadata": {},
   "source": [
    "### fus"
   ]
  },
  {
   "cell_type": "code",
   "execution_count": 107,
   "metadata": {},
   "outputs": [],
   "source": [
    "rev_phq_agg_df[loc_cols] = (rev_phq_agg_df[loc_cols] - rev_phq_agg_df[loc_cols].mean()) / rev_phq_agg_df[loc_cols].std()\n",
    "rev_phq_agg_df['movt_agg'] = rev_phq_agg_df[movt_cols].mean(axis=1)\n",
    "rev_phq_agg_df['wkday_total_entropy_agg'] = rev_phq_agg_df[weekday_entropy].mean(axis=1)\n",
    "rev_phq_agg_df['wkend_entropy_agg'] = rev_phq_agg_df[weekend_entropy].mean(axis=1)"
   ]
  },
  {
   "cell_type": "markdown",
   "metadata": {},
   "source": [
    "## Shift columns"
   ]
  },
  {
   "cell_type": "code",
   "execution_count": 108,
   "metadata": {},
   "outputs": [],
   "source": [
    "agg_cols = rev_phq_agg_df.columns[rev_phq_agg_df.columns.str.endswith(\"agg\")]\n",
    "agg_cols_shift = [s + '_shift' for s in agg_cols]\n",
    "agg_cols_change = [s + '_change' for s in agg_cols]"
   ]
  },
  {
   "cell_type": "code",
   "execution_count": 109,
   "metadata": {},
   "outputs": [],
   "source": [
    "rev_phq_agg_df[agg_cols_shift] = rev_phq_agg_df.groupby('pid')[agg_cols].shift(1)"
   ]
  },
  {
   "cell_type": "code",
   "execution_count": 110,
   "metadata": {},
   "outputs": [],
   "source": [
    "for cur, prev, change in zip(agg_cols, agg_cols_shift, agg_cols_change):\n",
    "    rev_phq_agg_df[change] = rev_phq_agg_df[cur] - rev_phq_agg_df[prev]"
   ]
  },
  {
   "cell_type": "code",
   "execution_count": 111,
   "metadata": {},
   "outputs": [
    {
     "data": {
      "text/plain": [
       "count    1025.000000\n",
       "mean        0.008618\n",
       "std         2.880980\n",
       "min       -15.000000\n",
       "25%        -1.000000\n",
       "50%         0.000000\n",
       "75%         1.000000\n",
       "max        16.000000\n",
       "Name: phq_diff, dtype: float64"
      ]
     },
     "execution_count": 111,
     "metadata": {},
     "output_type": "execute_result"
    }
   ],
   "source": [
    "rev_phq_agg_df['phq_diff'].describe()"
   ]
  },
  {
   "cell_type": "markdown",
   "metadata": {},
   "source": [
    "# Dump final aggregate DataFrames"
   ]
  },
  {
   "cell_type": "code",
   "execution_count": 112,
   "metadata": {},
   "outputs": [],
   "source": [
    "agg_df.to_pickle(\"wave1_features/gad_spin_corr_unit.df\")\n",
    "rev_agg_df.to_pickle(\"wave1_features/rev_gad_spin_corr_unit.df\")"
   ]
  },
  {
   "cell_type": "code",
   "execution_count": 113,
   "metadata": {},
   "outputs": [],
   "source": [
    "phq_agg_df.to_pickle(\"wave1_features/phq_corr_unit.df\")\n",
    "rev_phq_agg_df.to_pickle(\"wave1_features/rev_phq_corr_unit.df\")"
   ]
  },
  {
   "cell_type": "code",
   "execution_count": 114,
   "metadata": {},
   "outputs": [
    {
     "data": {
      "text/plain": [
       "['active_apps_agg_change',\n",
       " 'passive_apps_agg_change',\n",
       " 'social_apps_agg_change',\n",
       " 'work_dur_agg_change',\n",
       " 'home_dur_agg_change',\n",
       " 'religion_exercise_dur_agg_change',\n",
       " 'other_dur_agg_change',\n",
       " 'social_place_dur_agg_change',\n",
       " 'sms_agg_change',\n",
       " 'cal_agg_change',\n",
       " 'movt_agg_change',\n",
       " 'wkday_total_entropy_agg_change',\n",
       " 'wkend_entropy_agg_change']"
      ]
     },
     "execution_count": 114,
     "metadata": {},
     "output_type": "execute_result"
    }
   ],
   "source": [
    "agg_cols_change"
   ]
  },
  {
   "cell_type": "code",
   "execution_count": 115,
   "metadata": {},
   "outputs": [
    {
     "ename": "NameError",
     "evalue": "name 'groups' is not defined",
     "output_type": "error",
     "traceback": [
      "\u001b[0;31m---------------------------------------------------------------------------\u001b[0m",
      "\u001b[0;31mNameError\u001b[0m                                 Traceback (most recent call last)",
      "\u001b[0;32m<ipython-input-115-108dbcb2cd64>\u001b[0m in \u001b[0;36m<module>\u001b[0;34m\u001b[0m\n\u001b[0;32m----> 1\u001b[0;31m \u001b[0mgroups\u001b[0m\u001b[0;34m\u001b[0m\u001b[0;34m\u001b[0m\u001b[0m\n\u001b[0m",
      "\u001b[0;31mNameError\u001b[0m: name 'groups' is not defined"
     ]
    }
   ],
   "source": [
    "groups"
   ]
  }
 ],
 "metadata": {
  "hide_input": false,
  "kernelspec": {
   "display_name": "Python 3.7.3 64-bit ('py37': conda)",
   "language": "python",
   "name": "python37364bitpy37conda7c0da8bc1b024608b52b9553d9c69e7f"
  },
  "language_info": {
   "codemirror_mode": {
    "name": "ipython",
    "version": 3
   },
   "file_extension": ".py",
   "mimetype": "text/x-python",
   "name": "python",
   "nbconvert_exporter": "python",
   "pygments_lexer": "ipython3",
   "version": "3.7.3"
  }
 },
 "nbformat": 4,
 "nbformat_minor": 2
}
