{
 "cells": [
  {
   "cell_type": "markdown",
   "metadata": {},
   "source": [
    "<h1 id=\"tocheading\">Table of Contents</h1>\n",
    "<div id=\"toc\"></div>"
   ]
  },
  {
   "cell_type": "markdown",
   "metadata": {},
   "source": [
    "# Imports and Scripts"
   ]
  },
  {
   "cell_type": "code",
   "execution_count": 1,
   "metadata": {},
   "outputs": [
    {
     "data": {
      "application/javascript": [
       "// ToC script\n",
       "$.getScript('https://kmahelona.github.io/ipython_notebook_goodies/ipython_notebook_toc.js')\n"
      ],
      "text/plain": [
       "<IPython.core.display.Javascript object>"
      ]
     },
     "metadata": {},
     "output_type": "display_data"
    }
   ],
   "source": [
    "%%javascript\n",
    "// ToC script\n",
    "$.getScript('https://kmahelona.github.io/ipython_notebook_goodies/ipython_notebook_toc.js')"
   ]
  },
  {
   "cell_type": "code",
   "execution_count": 2,
   "metadata": {},
   "outputs": [
    {
     "data": {
      "text/html": [
       "\n",
       "<script>\n",
       "  function code_toggle() {\n",
       "    if (code_shown){\n",
       "      $('div.input').hide('500');\n",
       "      $('#toggleButton').val('Show Code')\n",
       "    } else {\n",
       "      $('div.input').show('500');\n",
       "      $('#toggleButton').val('Hide Code')\n",
       "    }\n",
       "    code_shown = !code_shown\n",
       "  }\n",
       "\n",
       "  $( document ).ready(function(){\n",
       "    code_shown=false;\n",
       "    $('div.input').hide()\n",
       "  });\n",
       "</script>\n",
       "<form action=\"javascript:code_toggle()\"><input type=\"submit\" id=\"toggleButton\" value=\"Show Code\"></form>\n"
      ],
      "text/plain": [
       "<IPython.core.display.HTML object>"
      ]
     },
     "execution_count": 2,
     "metadata": {},
     "output_type": "execute_result"
    }
   ],
   "source": [
    "# Code hider, source: http://chris-said.io/2016/02/13/how-to-make-polished-jupyter-presentations-with-optional-code-visibility/\n",
    "from IPython.display import HTML\n",
    "\n",
    "HTML('''\n",
    "<script>\n",
    "  function code_toggle() {\n",
    "    if (code_shown){\n",
    "      $('div.input').hide('500');\n",
    "      $('#toggleButton').val('Show Code')\n",
    "    } else {\n",
    "      $('div.input').show('500');\n",
    "      $('#toggleButton').val('Hide Code')\n",
    "    }\n",
    "    code_shown = !code_shown\n",
    "  }\n",
    "\n",
    "  $( document ).ready(function(){\n",
    "    code_shown=false;\n",
    "    $('div.input').hide()\n",
    "  });\n",
    "</script>\n",
    "<form action=\"javascript:code_toggle()\"><input type=\"submit\" id=\"toggleButton\" value=\"Show Code\"></form>\n",
    "''')\n",
    "\n"
   ]
  },
  {
   "cell_type": "code",
   "execution_count": 3,
   "metadata": {},
   "outputs": [],
   "source": [
    "# imports and constants\n",
    "import json\n",
    "import pickle\n",
    "import datetime as dt\n",
    "\n",
    "import gmaps\n",
    "import matplotlib.pyplot as plt\n",
    "import matplotlib.dates as mdates\n",
    "import multiprocessing\n",
    "import numpy as np\n",
    "import pandas as pd\n",
    "import pingouin as pg\n",
    "import seaborn as sns\n",
    "\n",
    "from IPython.display import display, HTML\n",
    "import ipywidgets as widgets\n",
    "\n",
    "# user imports\n",
    "import data_processing.analysis_utils as ls_utils\n",
    "\n",
    "%matplotlib inline\n",
    "\n",
    "import matplotlib as mpl\n",
    "mpl.rcParams['figure.dpi'] = 300"
   ]
  },
  {
   "cell_type": "markdown",
   "metadata": {},
   "source": [
    "# Load Data"
   ]
  },
  {
   "cell_type": "code",
   "execution_count": 4,
   "metadata": {},
   "outputs": [],
   "source": [
    "spin_fill_df = pd.read_pickle(\"ls_data/jama_data/all_state_shift_no_imp.df\")"
   ]
  },
  {
   "cell_type": "markdown",
   "metadata": {
    "heading_collapsed": true
   },
   "source": [
    "# SPIN/GAD"
   ]
  },
  {
   "cell_type": "code",
   "execution_count": 5,
   "metadata": {
    "hidden": true
   },
   "outputs": [],
   "source": [
    "# load fus and circ data\n",
    "fus_daily = pd.read_pickle(\"ls_data/jama_data/fus_gad_start_14_-1.df\")\n",
    "circ_dict = pickle.load(open(\"ls_data/jama_data/circ_gad_start_14_-1.dict\", \"rb\"))"
   ]
  },
  {
   "cell_type": "code",
   "execution_count": 6,
   "metadata": {
    "hidden": true
   },
   "outputs": [],
   "source": [
    "# correction for Series values in list, though it doesn't seem to have affected anything??\n",
    "new_dict = {}\n",
    "for col, vals in circ_dict.items():\n",
    "    new_vals = []\n",
    "    for v in vals:\n",
    "        if isinstance(v, pd.Series):\n",
    "            new_vals.append(v[0])\n",
    "        else:\n",
    "            new_vals.append(v)\n",
    "    new_dict[col] = new_vals\n",
    "circ_dict = new_dict"
   ]
  },
  {
   "cell_type": "code",
   "execution_count": 7,
   "metadata": {
    "hidden": true
   },
   "outputs": [],
   "source": [
    "circ_cols = ['circ_movt_tot', 'circ_movt_wkday', 'circ_movt_wkend']\n",
    "fus_cols = list(fus_daily.columns[(fus_daily.columns.str.endswith('total') | fus_daily.columns.str.endswith('wkend') | fus_daily.columns.str.endswith('wkday')) & ~fus_daily.columns.str.startswith('date')])\n"
   ]
  },
  {
   "cell_type": "markdown",
   "metadata": {
    "hidden": true
   },
   "source": [
    "### Calculate shifted change"
   ]
  },
  {
   "cell_type": "code",
   "execution_count": 8,
   "metadata": {
    "hidden": true
   },
   "outputs": [],
   "source": [
    "spin_fill_df['date'] = spin_fill_df['spin_start'].dt.normalize()"
   ]
  },
  {
   "cell_type": "code",
   "execution_count": 9,
   "metadata": {
    "hidden": true
   },
   "outputs": [],
   "source": [
    "spin_fill_df['spin_total_shift'] = spin_fill_df.groupby('pid')['spin_total'].shift(1)\n",
    "spin_fill_df['spin_diff'] = spin_fill_df['spin_total'] - spin_fill_df['spin_total_shift']"
   ]
  },
  {
   "cell_type": "code",
   "execution_count": 10,
   "metadata": {
    "hidden": true
   },
   "outputs": [],
   "source": [
    "spin_fill_df['gad_total_shift'] = spin_fill_df.groupby('pid')['gad_total'].shift(1)\n",
    "spin_fill_df['gad_diff'] = spin_fill_df['gad_total'] - spin_fill_df['gad_total_shift']"
   ]
  },
  {
   "cell_type": "code",
   "execution_count": 11,
   "metadata": {
    "hidden": true
   },
   "outputs": [],
   "source": [
    "dig_state_df = spin_fill_df.copy()\n",
    "\n",
    "sensor_dicts = [circ_dict]\n",
    "sensor_cols = circ_cols\n",
    "\n",
    "for sensor_dict in sensor_dicts:\n",
    "    for col, vals in sensor_dict.items():\n",
    "        dig_state_df[col] = vals\n",
    "\n",
    "# merge fused location       \n",
    "dig_state_df = dig_state_df.merge(fus_daily, how='left', on=['pid', 'study_wk'])\n",
    "dig_state_df = dig_state_df.replace([np.inf, -np.inf], np.nan)"
   ]
  },
  {
   "cell_type": "code",
   "execution_count": 12,
   "metadata": {
    "hidden": true
   },
   "outputs": [],
   "source": [
    "id_cols = ['pid', 'study_wk']"
   ]
  },
  {
   "cell_type": "markdown",
   "metadata": {
    "hidden": true
   },
   "source": [
    "## Movement split"
   ]
  },
  {
   "cell_type": "code",
   "execution_count": 13,
   "metadata": {
    "hidden": true
   },
   "outputs": [],
   "source": [
    "loc_cols = fus_cols + circ_cols\n",
    "\n",
    "distance_cols = ['velocity_total', 'dist_total']\n",
    "duration_cols = ['entropy_total', 'norm_entropy_total', 'circ_movt_tot']\n",
    "variance_cols = ['cluster_total', 'loc_var_total']"
   ]
  },
  {
   "cell_type": "code",
   "execution_count": 14,
   "metadata": {
    "hidden": true
   },
   "outputs": [],
   "source": [
    "agg_df = dig_state_df.copy()\n",
    "agg_df[loc_cols] = (agg_df[loc_cols] - agg_df[loc_cols].mean()) / agg_df[loc_cols].std()\n",
    "agg_df['movt_distance_agg'] = agg_df[distance_cols].mean(axis=1)\n",
    "agg_df['movt_variance_agg'] = agg_df[variance_cols].mean(axis=1)\n",
    "agg_df['movt_duration_agg'] = agg_df[duration_cols].mean(axis=1)"
   ]
  },
  {
   "cell_type": "markdown",
   "metadata": {
    "hidden": true
   },
   "source": [
    "## Shift columns"
   ]
  },
  {
   "cell_type": "code",
   "execution_count": 15,
   "metadata": {
    "hidden": true
   },
   "outputs": [],
   "source": [
    "agg_cols = agg_df.columns[agg_df.columns.str.endswith(\"agg\")]\n",
    "agg_cols = list(agg_cols) + loc_cols\n",
    "agg_cols_shift = [s + '_shift' for s in agg_cols]\n",
    "agg_cols_change = [s + '_change' for s in agg_cols]"
   ]
  },
  {
   "cell_type": "code",
   "execution_count": 16,
   "metadata": {
    "hidden": true
   },
   "outputs": [],
   "source": [
    "agg_df[agg_cols_shift] = agg_df.groupby('pid')[agg_cols].shift(1)"
   ]
  },
  {
   "cell_type": "code",
   "execution_count": 17,
   "metadata": {
    "hidden": true
   },
   "outputs": [],
   "source": [
    "for cur, prev, change in zip(agg_cols, agg_cols_shift, agg_cols_change):\n",
    "    agg_df[change] = agg_df[cur] - agg_df[prev]"
   ]
  },
  {
   "cell_type": "code",
   "execution_count": 18,
   "metadata": {
    "hidden": true
   },
   "outputs": [
    {
     "data": {
      "text/plain": [
       "count    1033.000000\n",
       "mean       -0.073572\n",
       "std         3.814295\n",
       "min       -14.000000\n",
       "25%        -2.000000\n",
       "50%         0.000000\n",
       "75%         2.000000\n",
       "max        15.000000\n",
       "Name: gad_diff, dtype: float64"
      ]
     },
     "execution_count": 18,
     "metadata": {},
     "output_type": "execute_result"
    }
   ],
   "source": [
    "agg_df['gad_diff'].describe()"
   ]
  },
  {
   "cell_type": "code",
   "execution_count": 19,
   "metadata": {
    "hidden": true
   },
   "outputs": [
    {
     "data": {
      "text/plain": [
       "count    1032.000000\n",
       "mean        0.005814\n",
       "std         6.628713\n",
       "min       -39.000000\n",
       "25%        -3.000000\n",
       "50%         0.000000\n",
       "75%         3.000000\n",
       "max        36.000000\n",
       "Name: spin_diff, dtype: float64"
      ]
     },
     "execution_count": 19,
     "metadata": {},
     "output_type": "execute_result"
    }
   ],
   "source": [
    "agg_df['spin_diff'].describe()"
   ]
  },
  {
   "cell_type": "markdown",
   "metadata": {},
   "source": [
    "# Reverse SPIN/GAD"
   ]
  },
  {
   "cell_type": "markdown",
   "metadata": {},
   "source": [
    "## Build reversed df"
   ]
  },
  {
   "cell_type": "code",
   "execution_count": 20,
   "metadata": {},
   "outputs": [],
   "source": [
    "# load fus and circ data\n",
    "rev_fus_daily = pd.read_pickle(\"ls_data/jama_data/fus_gad_start_0_14.df\")\n",
    "rev_circ_dict = pickle.load(open(\"ls_data/jama_data/circ_gad_start_0_14.dict\", \"rb\"))"
   ]
  },
  {
   "cell_type": "code",
   "execution_count": 21,
   "metadata": {},
   "outputs": [],
   "source": [
    "# correction for Series values in list, though it doesn't seem to have affected anything??\n",
    "rev_new_dict = {}\n",
    "for col, vals in rev_circ_dict.items():\n",
    "    new_vals = []\n",
    "    for v in vals:\n",
    "        if isinstance(v, pd.Series):\n",
    "            new_vals.append(v[0])\n",
    "        else:\n",
    "            new_vals.append(v)\n",
    "    rev_new_dict[col] = new_vals\n",
    "rev_circ_dict = rev_new_dict"
   ]
  },
  {
   "cell_type": "markdown",
   "metadata": {},
   "source": [
    "### Calculate shifted change"
   ]
  },
  {
   "cell_type": "code",
   "execution_count": 22,
   "metadata": {},
   "outputs": [],
   "source": [
    "spin_fill_df['date'] = spin_fill_df['spin_start'].dt.normalize()"
   ]
  },
  {
   "cell_type": "code",
   "execution_count": 23,
   "metadata": {},
   "outputs": [],
   "source": [
    "spin_fill_df['spin_total_shift'] = spin_fill_df.groupby('pid')['spin_total'].shift(1)\n",
    "spin_fill_df['spin_diff'] = spin_fill_df['spin_total'] - spin_fill_df['spin_total_shift']"
   ]
  },
  {
   "cell_type": "code",
   "execution_count": 24,
   "metadata": {},
   "outputs": [],
   "source": [
    "spin_fill_df['gad_total_shift'] = spin_fill_df.groupby('pid')['gad_total'].shift(1)\n",
    "spin_fill_df['gad_diff'] = spin_fill_df['gad_total'] - spin_fill_df['gad_total_shift']"
   ]
  },
  {
   "cell_type": "code",
   "execution_count": 25,
   "metadata": {},
   "outputs": [],
   "source": [
    "rev_dig_state_df = spin_fill_df.copy()\n",
    "\n",
    "sensor_dicts = [rev_circ_dict]\n",
    "sensor_cols = circ_cols\n",
    "\n",
    "for sensor_dict in sensor_dicts:\n",
    "    for col, vals in sensor_dict.items():\n",
    "        rev_dig_state_df[col] = vals\n",
    "\n",
    "# merge fused location       \n",
    "rev_dig_state_df = rev_dig_state_df.merge(fus_daily, how='left', on=['pid', 'study_wk'])\n",
    "rev_dig_state_df = rev_dig_state_df.replace([np.inf, -np.inf], np.nan)"
   ]
  },
  {
   "cell_type": "markdown",
   "metadata": {},
   "source": [
    "## Aggregate features"
   ]
  },
  {
   "cell_type": "code",
   "execution_count": 26,
   "metadata": {},
   "outputs": [],
   "source": [
    "rev_agg_df = rev_dig_state_df.copy()\n",
    "rev_agg_df[loc_cols] = (rev_agg_df[loc_cols] - rev_agg_df[loc_cols].mean()) / rev_agg_df[loc_cols].std()\n",
    "rev_agg_df['movt_distance_agg'] = rev_agg_df[distance_cols].mean(axis=1)\n",
    "rev_agg_df['movt_variance_agg'] = rev_agg_df[variance_cols].mean(axis=1)\n",
    "rev_agg_df['movt_duration_agg'] = rev_agg_df[duration_cols].mean(axis=1)"
   ]
  },
  {
   "cell_type": "markdown",
   "metadata": {},
   "source": [
    "## Shift columns"
   ]
  },
  {
   "cell_type": "code",
   "execution_count": 27,
   "metadata": {},
   "outputs": [],
   "source": [
    "rev_agg_df[agg_cols_shift] = rev_agg_df.groupby('pid')[agg_cols].shift(1)"
   ]
  },
  {
   "cell_type": "code",
   "execution_count": 28,
   "metadata": {},
   "outputs": [],
   "source": [
    "for cur, prev, change in zip(agg_cols, agg_cols_shift, agg_cols_change):\n",
    "    rev_agg_df[change] = rev_agg_df[cur] - rev_agg_df[prev]"
   ]
  },
  {
   "cell_type": "code",
   "execution_count": 29,
   "metadata": {},
   "outputs": [
    {
     "data": {
      "text/plain": [
       "count    1033.000000\n",
       "mean       -0.073572\n",
       "std         3.814295\n",
       "min       -14.000000\n",
       "25%        -2.000000\n",
       "50%         0.000000\n",
       "75%         2.000000\n",
       "max        15.000000\n",
       "Name: gad_diff, dtype: float64"
      ]
     },
     "execution_count": 29,
     "metadata": {},
     "output_type": "execute_result"
    }
   ],
   "source": [
    "rev_agg_df['gad_diff'].describe()"
   ]
  },
  {
   "cell_type": "code",
   "execution_count": 30,
   "metadata": {},
   "outputs": [
    {
     "data": {
      "text/plain": [
       "count    1032.000000\n",
       "mean        0.005814\n",
       "std         6.628713\n",
       "min       -39.000000\n",
       "25%        -3.000000\n",
       "50%         0.000000\n",
       "75%         3.000000\n",
       "max        36.000000\n",
       "Name: spin_diff, dtype: float64"
      ]
     },
     "execution_count": 30,
     "metadata": {},
     "output_type": "execute_result"
    }
   ],
   "source": [
    "rev_agg_df['spin_diff'].describe()"
   ]
  },
  {
   "cell_type": "markdown",
   "metadata": {
    "heading_collapsed": true
   },
   "source": [
    "# 2 weeks look-back PHQ"
   ]
  },
  {
   "cell_type": "code",
   "execution_count": 31,
   "metadata": {
    "hidden": true
   },
   "outputs": [],
   "source": [
    "shift_df = pd.read_pickle(\"ls_data/jama_data/all_phq_shift_imp.df\")"
   ]
  },
  {
   "cell_type": "code",
   "execution_count": 32,
   "metadata": {
    "hidden": true
   },
   "outputs": [],
   "source": [
    "# load fus and circ data\n",
    "fus_daily = pd.read_pickle(\"ls_data/jama_data/fus_phq_start_14_-1.df\")\n",
    "circ_dict = pickle.load(open(\"ls_data/jama_data/circ_phq_start_14_-1.dict\", \"rb\"))"
   ]
  },
  {
   "cell_type": "code",
   "execution_count": 33,
   "metadata": {
    "hidden": true
   },
   "outputs": [],
   "source": [
    "# correction for Series values in list, though it doesn't seem to have affected anything??\n",
    "new_dict = {}\n",
    "for col, vals in circ_dict.items():\n",
    "    new_vals = []\n",
    "    for v in vals:\n",
    "        if isinstance(v, pd.Series):\n",
    "            new_vals.append(v[0])\n",
    "        else:\n",
    "            new_vals.append(v)\n",
    "    new_dict[col] = new_vals\n",
    "circ_dict = new_dict"
   ]
  },
  {
   "cell_type": "code",
   "execution_count": 34,
   "metadata": {
    "hidden": true
   },
   "outputs": [],
   "source": [
    "shift_df['date'] = shift_df['phq_start'].dt.normalize()"
   ]
  },
  {
   "cell_type": "code",
   "execution_count": 35,
   "metadata": {
    "hidden": true
   },
   "outputs": [
    {
     "data": {
      "text/html": [
       "<div>\n",
       "<style scoped>\n",
       "    .dataframe tbody tr th:only-of-type {\n",
       "        vertical-align: middle;\n",
       "    }\n",
       "\n",
       "    .dataframe tbody tr th {\n",
       "        vertical-align: top;\n",
       "    }\n",
       "\n",
       "    .dataframe thead th {\n",
       "        text-align: right;\n",
       "    }\n",
       "</style>\n",
       "<table border=\"1\" class=\"dataframe\">\n",
       "  <thead>\n",
       "    <tr style=\"text-align: right;\">\n",
       "      <th></th>\n",
       "      <th>cluster</th>\n",
       "      <th>diff</th>\n",
       "      <th>mean_phq</th>\n",
       "      <th>phq01_sc</th>\n",
       "      <th>phq02_sc</th>\n",
       "      <th>phq03_sc</th>\n",
       "      <th>phq04_sc</th>\n",
       "      <th>phq05_sc</th>\n",
       "      <th>phq06_sc</th>\n",
       "      <th>phq07_sc</th>\n",
       "      <th>...</th>\n",
       "      <th>entropy_wkend</th>\n",
       "      <th>loc_var_total</th>\n",
       "      <th>loc_var_wkday</th>\n",
       "      <th>loc_var_wkend</th>\n",
       "      <th>norm_entropy_total</th>\n",
       "      <th>norm_entropy_wkday</th>\n",
       "      <th>norm_entropy_wkend</th>\n",
       "      <th>velocity_total</th>\n",
       "      <th>velocity_wkday</th>\n",
       "      <th>velocity_wkend</th>\n",
       "    </tr>\n",
       "  </thead>\n",
       "  <tbody>\n",
       "    <tr>\n",
       "      <th>0</th>\n",
       "      <td>3.0</td>\n",
       "      <td>NaT</td>\n",
       "      <td>9.714286</td>\n",
       "      <td>1</td>\n",
       "      <td>2</td>\n",
       "      <td>1</td>\n",
       "      <td>2</td>\n",
       "      <td>0</td>\n",
       "      <td>1</td>\n",
       "      <td>0</td>\n",
       "      <td>...</td>\n",
       "      <td>0.516003</td>\n",
       "      <td>-3.270545</td>\n",
       "      <td>-2.933953</td>\n",
       "      <td>-5.241677</td>\n",
       "      <td>0.228997</td>\n",
       "      <td>0.262965</td>\n",
       "      <td>0.190544</td>\n",
       "      <td>7.228884</td>\n",
       "      <td>8.305369</td>\n",
       "      <td>4.826638</td>\n",
       "    </tr>\n",
       "    <tr>\n",
       "      <th>1</th>\n",
       "      <td>3.0</td>\n",
       "      <td>20 days 19:32:10</td>\n",
       "      <td>9.714286</td>\n",
       "      <td>1</td>\n",
       "      <td>2</td>\n",
       "      <td>2</td>\n",
       "      <td>2</td>\n",
       "      <td>0</td>\n",
       "      <td>1</td>\n",
       "      <td>1</td>\n",
       "      <td>...</td>\n",
       "      <td>0.318589</td>\n",
       "      <td>-3.992103</td>\n",
       "      <td>-3.525627</td>\n",
       "      <td>-6.091229</td>\n",
       "      <td>0.180792</td>\n",
       "      <td>0.189827</td>\n",
       "      <td>0.177808</td>\n",
       "      <td>5.144077</td>\n",
       "      <td>6.141039</td>\n",
       "      <td>2.649001</td>\n",
       "    </tr>\n",
       "    <tr>\n",
       "      <th>2</th>\n",
       "      <td>3.0</td>\n",
       "      <td>21 days 00:04:12</td>\n",
       "      <td>9.714286</td>\n",
       "      <td>1</td>\n",
       "      <td>1</td>\n",
       "      <td>2</td>\n",
       "      <td>1</td>\n",
       "      <td>0</td>\n",
       "      <td>1</td>\n",
       "      <td>1</td>\n",
       "      <td>...</td>\n",
       "      <td>0.661245</td>\n",
       "      <td>-4.514528</td>\n",
       "      <td>-4.420466</td>\n",
       "      <td>-4.855950</td>\n",
       "      <td>0.171747</td>\n",
       "      <td>0.149136</td>\n",
       "      <td>0.228775</td>\n",
       "      <td>5.056099</td>\n",
       "      <td>4.347594</td>\n",
       "      <td>6.839301</td>\n",
       "    </tr>\n",
       "    <tr>\n",
       "      <th>3</th>\n",
       "      <td>3.0</td>\n",
       "      <td>21 days 02:46:57</td>\n",
       "      <td>9.714286</td>\n",
       "      <td>1</td>\n",
       "      <td>1</td>\n",
       "      <td>3</td>\n",
       "      <td>2</td>\n",
       "      <td>0</td>\n",
       "      <td>1</td>\n",
       "      <td>1</td>\n",
       "      <td>...</td>\n",
       "      <td>0.357938</td>\n",
       "      <td>-4.964505</td>\n",
       "      <td>-4.796124</td>\n",
       "      <td>-5.919636</td>\n",
       "      <td>0.180790</td>\n",
       "      <td>0.201921</td>\n",
       "      <td>0.149272</td>\n",
       "      <td>3.989529</td>\n",
       "      <td>4.033579</td>\n",
       "      <td>3.825982</td>\n",
       "    </tr>\n",
       "    <tr>\n",
       "      <th>4</th>\n",
       "      <td>3.0</td>\n",
       "      <td>20 days 21:08:34</td>\n",
       "      <td>9.714286</td>\n",
       "      <td>1</td>\n",
       "      <td>1</td>\n",
       "      <td>3</td>\n",
       "      <td>3</td>\n",
       "      <td>1</td>\n",
       "      <td>2</td>\n",
       "      <td>2</td>\n",
       "      <td>...</td>\n",
       "      <td>0.687668</td>\n",
       "      <td>-3.686849</td>\n",
       "      <td>-4.510184</td>\n",
       "      <td>-3.103347</td>\n",
       "      <td>0.213816</td>\n",
       "      <td>0.211217</td>\n",
       "      <td>0.268102</td>\n",
       "      <td>4.790311</td>\n",
       "      <td>4.550216</td>\n",
       "      <td>5.398051</td>\n",
       "    </tr>\n",
       "  </tbody>\n",
       "</table>\n",
       "<p>5 rows × 47 columns</p>\n",
       "</div>"
      ],
      "text/plain": [
       "   cluster              diff  mean_phq phq01_sc phq02_sc phq03_sc phq04_sc  \\\n",
       "0      3.0               NaT  9.714286        1        2        1        2   \n",
       "1      3.0  20 days 19:32:10  9.714286        1        2        2        2   \n",
       "2      3.0  21 days 00:04:12  9.714286        1        1        2        1   \n",
       "3      3.0  21 days 02:46:57  9.714286        1        1        3        2   \n",
       "4      3.0  20 days 21:08:34  9.714286        1        1        3        3   \n",
       "\n",
       "  phq05_sc phq06_sc phq07_sc  ... entropy_wkend loc_var_total loc_var_wkday  \\\n",
       "0        0        1        0  ...      0.516003     -3.270545     -2.933953   \n",
       "1        0        1        1  ...      0.318589     -3.992103     -3.525627   \n",
       "2        0        1        1  ...      0.661245     -4.514528     -4.420466   \n",
       "3        0        1        1  ...      0.357938     -4.964505     -4.796124   \n",
       "4        1        2        2  ...      0.687668     -3.686849     -4.510184   \n",
       "\n",
       "  loc_var_wkend  norm_entropy_total norm_entropy_wkday norm_entropy_wkend  \\\n",
       "0     -5.241677            0.228997           0.262965           0.190544   \n",
       "1     -6.091229            0.180792           0.189827           0.177808   \n",
       "2     -4.855950            0.171747           0.149136           0.228775   \n",
       "3     -5.919636            0.180790           0.201921           0.149272   \n",
       "4     -3.103347            0.213816           0.211217           0.268102   \n",
       "\n",
       "   velocity_total  velocity_wkday  velocity_wkend  \n",
       "0        7.228884        8.305369        4.826638  \n",
       "1        5.144077        6.141039        2.649001  \n",
       "2        5.056099        4.347594        6.839301  \n",
       "3        3.989529        4.033579        3.825982  \n",
       "4        4.790311        4.550216        5.398051  \n",
       "\n",
       "[5 rows x 47 columns]"
      ]
     },
     "execution_count": 35,
     "metadata": {},
     "output_type": "execute_result"
    }
   ],
   "source": [
    "phq_state_df = shift_df.copy()\n",
    "\n",
    "sensor_dicts = [circ_dict]\n",
    "sensor_cols = circ_cols\n",
    "\n",
    "for sensor_dict in sensor_dicts:\n",
    "    for col, vals in sensor_dict.items():\n",
    "        phq_state_df[col] = vals\n",
    "phq_state_df = phq_state_df.merge(fus_daily, how='left', on=['pid', 'study_wk'])\n",
    "phq_state_df = phq_state_df.replace([np.inf, -np.inf], np.nan)\n",
    "\n",
    "phq_state_df.head()"
   ]
  },
  {
   "cell_type": "markdown",
   "metadata": {
    "hidden": true
   },
   "source": [
    "## Aggregate Features"
   ]
  },
  {
   "cell_type": "code",
   "execution_count": 36,
   "metadata": {
    "hidden": true
   },
   "outputs": [],
   "source": [
    "phq_agg_df = phq_state_df.copy()\n",
    "phq_agg_df[loc_cols] = (phq_agg_df[loc_cols] - phq_agg_df[loc_cols].mean()) / phq_agg_df[loc_cols].std()\n",
    "phq_agg_df['movt_distance_agg'] = phq_agg_df[distance_cols].mean(axis=1)\n",
    "phq_agg_df['movt_variance_agg'] = phq_agg_df[variance_cols].mean(axis=1)\n",
    "phq_agg_df['movt_duration_agg'] = phq_agg_df[duration_cols].mean(axis=1)"
   ]
  },
  {
   "cell_type": "markdown",
   "metadata": {
    "hidden": true
   },
   "source": [
    "## Shift feature columns"
   ]
  },
  {
   "cell_type": "code",
   "execution_count": 37,
   "metadata": {
    "hidden": true
   },
   "outputs": [],
   "source": [
    "phq_agg_df[agg_cols_shift] = phq_agg_df.groupby('pid')[agg_cols].shift(1)"
   ]
  },
  {
   "cell_type": "code",
   "execution_count": 38,
   "metadata": {
    "hidden": true
   },
   "outputs": [],
   "source": [
    "for cur, prev, change in zip(agg_cols, agg_cols_shift, agg_cols_change):\n",
    "    phq_agg_df[change] = phq_agg_df[cur] - phq_agg_df[prev]"
   ]
  },
  {
   "cell_type": "code",
   "execution_count": 39,
   "metadata": {
    "hidden": true
   },
   "outputs": [
    {
     "data": {
      "text/plain": [
       "count    1360.000000\n",
       "mean        0.048272\n",
       "std         3.013952\n",
       "min       -15.000000\n",
       "25%        -1.000000\n",
       "50%         0.000000\n",
       "75%         1.000000\n",
       "max        18.000000\n",
       "Name: phq_diff, dtype: float64"
      ]
     },
     "execution_count": 39,
     "metadata": {},
     "output_type": "execute_result"
    }
   ],
   "source": [
    "phq_agg_df['phq_diff'].describe()"
   ]
  },
  {
   "cell_type": "markdown",
   "metadata": {},
   "source": [
    "# Reverse PHQ"
   ]
  },
  {
   "cell_type": "markdown",
   "metadata": {},
   "source": [
    "## Build reversed df"
   ]
  },
  {
   "cell_type": "code",
   "execution_count": 40,
   "metadata": {},
   "outputs": [],
   "source": [
    "# load fus and circ data\n",
    "rev_fus_daily = pd.read_pickle(\"ls_data/jama_data/fus_phq_start_0_14.df\")\n",
    "rev_circ_dict = pickle.load(open(\"ls_data/jama_data/circ_phq_start_0_14.dict\", \"rb\"))"
   ]
  },
  {
   "cell_type": "code",
   "execution_count": 41,
   "metadata": {},
   "outputs": [],
   "source": [
    "# correction for Series values in list, though it doesn't seem to have affected anything?\n",
    "rev_new_dict = {}\n",
    "for col, vals in rev_circ_dict.items():\n",
    "    new_vals = []\n",
    "    for v in vals:\n",
    "        if isinstance(v, pd.Series):\n",
    "            new_vals.append(v[0])\n",
    "        else:\n",
    "            new_vals.append(v)\n",
    "    rev_new_dict[col] = new_vals\n",
    "rev_circ_dict = rev_new_dict"
   ]
  },
  {
   "cell_type": "markdown",
   "metadata": {},
   "source": [
    "### Calculate shifted change"
   ]
  },
  {
   "cell_type": "code",
   "execution_count": 42,
   "metadata": {},
   "outputs": [],
   "source": [
    "rev_phq_df = shift_df.copy()\n",
    "\n",
    "sensor_dicts = [rev_circ_dict]\n",
    "sensor_cols = circ_cols\n",
    "\n",
    "for sensor_dict in sensor_dicts:\n",
    "    for col, vals in sensor_dict.items():\n",
    "        rev_phq_df[col] = vals\n",
    "\n",
    "# merge fused location       \n",
    "rev_phq_df = rev_phq_df.merge(rev_fus_daily, how='left', on=['pid', 'study_wk'])\n",
    "rev_phq_df = rev_phq_df.replace([np.inf, -np.inf], np.nan)"
   ]
  },
  {
   "cell_type": "markdown",
   "metadata": {},
   "source": [
    "## Aggregate features"
   ]
  },
  {
   "cell_type": "code",
   "execution_count": 43,
   "metadata": {},
   "outputs": [],
   "source": [
    "rev_phq_agg_df = rev_phq_df.copy()\n",
    "rev_phq_agg_df[loc_cols] = (rev_phq_agg_df[loc_cols] - rev_phq_agg_df[loc_cols].mean()) / rev_phq_agg_df[loc_cols].std()\n",
    "rev_phq_agg_df['movt_distance_agg'] = rev_phq_agg_df[distance_cols].mean(axis=1)\n",
    "rev_phq_agg_df['movt_variance_agg'] = rev_phq_agg_df[variance_cols].mean(axis=1)\n",
    "rev_phq_agg_df['movt_duration_agg'] = rev_phq_agg_df[duration_cols].mean(axis=1)"
   ]
  },
  {
   "cell_type": "markdown",
   "metadata": {},
   "source": [
    "## Shift columns"
   ]
  },
  {
   "cell_type": "code",
   "execution_count": 44,
   "metadata": {},
   "outputs": [],
   "source": [
    "rev_phq_agg_df[agg_cols_shift] = rev_phq_agg_df.groupby('pid')[agg_cols].shift(1)"
   ]
  },
  {
   "cell_type": "code",
   "execution_count": 45,
   "metadata": {},
   "outputs": [],
   "source": [
    "for cur, prev, change in zip(agg_cols, agg_cols_shift, agg_cols_change):\n",
    "    rev_phq_agg_df[change] = rev_phq_agg_df[cur] - rev_phq_agg_df[prev]"
   ]
  },
  {
   "cell_type": "code",
   "execution_count": 46,
   "metadata": {},
   "outputs": [
    {
     "data": {
      "text/plain": [
       "count    1360.000000\n",
       "mean        0.048272\n",
       "std         3.013952\n",
       "min       -15.000000\n",
       "25%        -1.000000\n",
       "50%         0.000000\n",
       "75%         1.000000\n",
       "max        18.000000\n",
       "Name: phq_diff, dtype: float64"
      ]
     },
     "execution_count": 46,
     "metadata": {},
     "output_type": "execute_result"
    }
   ],
   "source": [
    "rev_phq_agg_df['phq_diff'].describe()"
   ]
  },
  {
   "cell_type": "markdown",
   "metadata": {},
   "source": [
    "# Dump final aggregate DataFrames"
   ]
  },
  {
   "cell_type": "code",
   "execution_count": 47,
   "metadata": {},
   "outputs": [],
   "source": [
    "agg_df.to_pickle(\"wave1_features/all_gad_spin_gps_corr.df\")\n",
    "rev_agg_df.to_pickle(\"wave1_features/all_rev_gad_spin_gps_corr.df\")"
   ]
  },
  {
   "cell_type": "code",
   "execution_count": 48,
   "metadata": {},
   "outputs": [],
   "source": [
    "phq_agg_df.to_pickle(\"wave1_features/all_phq_gps_corr.df\")\n",
    "rev_phq_agg_df.to_pickle(\"wave1_features/all_rev_phq_gps_corr.df\")"
   ]
  }
 ],
 "metadata": {
  "hide_input": false,
  "kernelspec": {
   "display_name": "Python 3.7.3 64-bit ('py37': conda)",
   "language": "python",
   "name": "python37364bitpy37conda7c0da8bc1b024608b52b9553d9c69e7f"
  },
  "language_info": {
   "codemirror_mode": {
    "name": "ipython",
    "version": 3
   },
   "file_extension": ".py",
   "mimetype": "text/x-python",
   "name": "python",
   "nbconvert_exporter": "python",
   "pygments_lexer": "ipython3",
   "version": "3.7.3"
  }
 },
 "nbformat": 4,
 "nbformat_minor": 2
}
